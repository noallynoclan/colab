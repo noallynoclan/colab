{
  "nbformat": 4,
  "nbformat_minor": 0,
  "metadata": {
    "colab": {
      "name": "pytorch_datasets.ipynb",
      "provenance": [],
      "collapsed_sections": [],
      "authorship_tag": "ABX9TyMrG/rmjlxcMdYynn/uHIRI",
      "include_colab_link": true
    },
    "kernelspec": {
      "name": "python3",
      "display_name": "Python 3"
    }
  },
  "cells": [
    {
      "cell_type": "markdown",
      "metadata": {
        "id": "view-in-github",
        "colab_type": "text"
      },
      "source": [
        "<a href=\"https://colab.research.google.com/github/noallynoclan/colab/blob/master/pytorch_datasets.ipynb\" target=\"_parent\"><img src=\"https://colab.research.google.com/assets/colab-badge.svg\" alt=\"Open In Colab\"/></a>"
      ]
    },
    {
      "cell_type": "code",
      "metadata": {
        "id": "1ZkZKuqxvMwe"
      },
      "source": [
        "# https://www.youtube.com/watch?v=KRgq4VnCr7I&ab_channel=AladdinPersson"
      ],
      "execution_count": null,
      "outputs": []
    },
    {
      "cell_type": "code",
      "metadata": {
        "id": "g3OMdpH8rSrl"
      },
      "source": [
        "import torch\r\n",
        "from torchtext.data import Field, TabularDataset, BucketIterator\r\n",
        "import spacy\r\n",
        "\r\n",
        "spacy_en = spacy.load('en')"
      ],
      "execution_count": 30,
      "outputs": []
    },
    {
      "cell_type": "code",
      "metadata": {
        "colab": {
          "base_uri": "https://localhost:8080/"
        },
        "id": "B38EHqlSrbBm",
        "outputId": "1c17d5ed-f9bd-434f-83e4-493d2b02894d"
      },
      "source": [
        "%%writefile train.json\r\n",
        "{\"quote\": \"You rock!\", \"score\": 1}\r\n",
        "{\"quote\": \"No, you don't\", \"score\": 0}\r\n",
        "{\"quote\": \"I love you!\", \"score\": 1}"
      ],
      "execution_count": 23,
      "outputs": [
        {
          "output_type": "stream",
          "text": [
            "Overwriting train.json\n"
          ],
          "name": "stdout"
        }
      ]
    },
    {
      "cell_type": "code",
      "metadata": {
        "colab": {
          "base_uri": "https://localhost:8080/"
        },
        "id": "-rC2JNXztmWz",
        "outputId": "bab38a71-5c1b-4a4d-ab88-a054963dd7f5"
      },
      "source": [
        "%%writefile test.json\r\n",
        "{\"quote\": \"You are the best!\", \"score\": 1}\r\n",
        "{\"quote\": \"I don't like you\", \"score\": 0}"
      ],
      "execution_count": 11,
      "outputs": [
        {
          "output_type": "stream",
          "text": [
            "Writing test.json\n"
          ],
          "name": "stdout"
        }
      ]
    },
    {
      "cell_type": "code",
      "metadata": {
        "id": "rLViXIinr1X9"
      },
      "source": [
        "def tokenize(text):\r\n",
        "    return [tok.text for tok in spacy_en.tokenizer(text)]\r\n",
        "\r\n",
        "quote = Field(sequential=True, use_vocab=True, tokenize=tokenize, lower=True)\r\n",
        "score = Field(sequential=False, use_vocab=False)\r\n",
        "fields = {'quote': ('q', quote), 'score': ('s', score)}\r\n",
        "\r\n",
        "train_data, test_data = TabularDataset.splits(\r\n",
        "    path='',\r\n",
        "    train='train.json',\r\n",
        "    test='test.json',\r\n",
        "    format='json',\r\n",
        "    fields=fields\r\n",
        ")"
      ],
      "execution_count": 31,
      "outputs": []
    },
    {
      "cell_type": "code",
      "metadata": {
        "id": "jgpOcyepsnNe"
      },
      "source": [
        "quote.build_vocab(train_data, max_size=10000, min_freq=1)#, vectors='glove.6B.100d')\r\n",
        "train_iterator, test_iterator = BucketIterator.splits(\r\n",
        "    (train_data, test_data),\r\n",
        "    batch_size=2,\r\n",
        "    device='cpu'\r\n",
        ")"
      ],
      "execution_count": 33,
      "outputs": []
    },
    {
      "cell_type": "code",
      "metadata": {
        "colab": {
          "base_uri": "https://localhost:8080/"
        },
        "id": "B8Ux9yGgthiL",
        "outputId": "6e1e0dbb-e298-4680-a097-465d00043961"
      },
      "source": [
        "for batch in train_iterator:\r\n",
        "    print(batch.q)\r\n",
        "    print(batch.s)"
      ],
      "execution_count": 26,
      "outputs": [
        {
          "output_type": "stream",
          "text": [
            "tensor([[2, 6],\n",
            "        [7, 2],\n",
            "        [1, 3]])\n",
            "tensor([1, 0])\n",
            "tensor([[4],\n",
            "        [5],\n",
            "        [8]])\n",
            "tensor([1])\n"
          ],
          "name": "stdout"
        }
      ]
    },
    {
      "cell_type": "code",
      "metadata": {
        "id": "YqHvwc1yvMbM"
      },
      "source": [
        ""
      ],
      "execution_count": null,
      "outputs": []
    },
    {
      "cell_type": "code",
      "metadata": {
        "colab": {
          "base_uri": "https://localhost:8080/"
        },
        "id": "mDOS-0iHuLcq",
        "outputId": "2fadd0c0-7d4f-4ecc-bebb-b0c533afff08"
      },
      "source": [
        "! cat train.json"
      ],
      "execution_count": 22,
      "outputs": [
        {
          "output_type": "stream",
          "text": [
            "{\"quote\": \"You rock!\", \"score\": 1}\n",
            "{\"quote\": \"No, you don't\", \"score\": 0}"
          ],
          "name": "stdout"
        }
      ]
    },
    {
      "cell_type": "code",
      "metadata": {
        "id": "e5A5A69JuYuE"
      },
      "source": [
        ""
      ],
      "execution_count": null,
      "outputs": []
    }
  ]
}