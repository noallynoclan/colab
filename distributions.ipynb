{
  "nbformat": 4,
  "nbformat_minor": 0,
  "metadata": {
    "colab": {
      "name": "distributions.ipynb",
      "provenance": [],
      "collapsed_sections": [],
      "include_colab_link": true
    },
    "kernelspec": {
      "name": "python3",
      "display_name": "Python 3"
    }
  },
  "cells": [
    {
      "cell_type": "markdown",
      "metadata": {
        "id": "view-in-github",
        "colab_type": "text"
      },
      "source": [
        "<a href=\"https://colab.research.google.com/github/noallynoclan/colab/blob/master/distributions.ipynb\" target=\"_parent\"><img src=\"https://colab.research.google.com/assets/colab-badge.svg\" alt=\"Open In Colab\"/></a>"
      ]
    },
    {
      "cell_type": "markdown",
      "metadata": {
        "id": "B3S6UeOp1z1W",
        "colab_type": "text"
      },
      "source": [
        "[colab](https://colab.research.google.com/drive/163C85NuF09HQWujN3IP22zahZhSsYLNI)"
      ]
    },
    {
      "cell_type": "code",
      "metadata": {
        "id": "NvF1qSJUb8C2",
        "colab_type": "code",
        "colab": {}
      },
      "source": [
        "%matplotlib inline\n",
        "import matplotlib.pyplot as plt, numpy as np\n",
        "from collections import namedtuple\n",
        "from scipy.stats import norm\n",
        "plt.style.use('fivethirtyeight')"
      ],
      "execution_count": 0,
      "outputs": []
    },
    {
      "cell_type": "markdown",
      "metadata": {
        "id": "mNbb9_5w2RMo",
        "colab_type": "text"
      },
      "source": [
        "||replacements|w/o replacements|\n",
        "|-|:-:|:-:|\n",
        "|**Combinations**<br>(order does not matter)|$$\\binom{k+n-1}{k}=\\frac{(k+n-1)!}{k!(n-1)!}$$|$$\\binom{n}{k}=\\frac{n!}{k!(n-k)!}$$|\n",
        "|**Permutations**<br>(order matters)|$$n^k$$|$$\\frac{n!}{(n-k)!}$$|"
      ]
    },
    {
      "cell_type": "markdown",
      "metadata": {
        "id": "nO-00awG4rz0",
        "colab_type": "text"
      },
      "source": [
        "||pars|&nbsp; &nbsp; &nbsp; &nbsp; &nbsp; &nbsp; &nbsp; &nbsp; &nbsp; &nbsp; &nbsp; &nbsp; PMF/PDF &nbsp; &nbsp; &nbsp; &nbsp; &nbsp; &nbsp; &nbsp; &nbsp; &nbsp; &nbsp; &nbsp; &nbsp;|mean|var|med|comments|\n",
        "|-|:-:|:-:|:-:|:-:|:-:|:-:|\n",
        "|**Bernoulli**|$$p$$|$$\\begin{cases} P(X=0)=q=(1-p) \\\\ P(X=1)=p \\end{cases}$$|$$p$$|$$p  (1-p)$$||boolean-valued outcome|\n",
        "|**Grometric**|$$p$$|$$P(X=k)=(1-p)^{k-1}p$$|$$\\frac{1}{p}$$|$$\\frac{1-p}{p^2}$$||# of first success|\n",
        "|**Binomial**|$$n, p$$|$$P(X=k)=\\binom{n}{k}p^k(1-p)^{n-k}$$|$$np$$|$$np(1-p)$$||# successes drawn with replacement|\n",
        "|**Poisson**|$$\\lambda$$|$$P(X=k)=\\frac{e^{-\\lambda}\\lambda^k}{k!}$$|$$\\lambda$$|$$\\lambda$$|| # emails/calls per time period|\n",
        "|**Exponential**|$$\\lambda$$|$$f(x \\mid \\lambda)=\\lambda e^{-\\lambda x}$$|$$\\frac{1}{\\lambda}$$|$$\\frac{1}{\\lambda^2}$$|$$\\frac{\\ln{2}}{\\lambda}$$|time between events|\n",
        "|**Normal**|$$\\mu, \\sigma^2$$|$$f(x \\mid \\mu, \\sigma^2)=\\frac{1}{\\sqrt{2\\pi\\sigma^2}}e^{-\\frac{(x-\\mu)^2}{2\\sigma^2}}$$|$$\\mu$$|$$\\sigma^2$$|$$\\mu$$|measurement errors\n"
      ]
    },
    {
      "cell_type": "markdown",
      "metadata": {
        "id": "4ECx4y4TBgm2",
        "colab_type": "text"
      },
      "source": [
        "||||comments|\n",
        "|-:|:-:|:-:|:-:|\n",
        "|**Law or Large Numbers**|$$\\bar{X}_n \\xrightarrow{\\text{a.s.}} \\mu$$||converges strongly<br>**almost surely**<br>**almost everywhere**<br>**with probability 1**|\n",
        "|**Central Limit Theorem**|$$\\bar{X}_n \\xrightarrow{\\text{d}} N\\Bigl(\\mu, \\frac{\\sigma^2}{n}\\Bigr)$$|$$\\sqrt{n}\\frac{\\bar{X}_n-\\mu}{\\sigma} \\xrightarrow{\\text{d}} N(0,1)$$|converges weakly<br>**in distribution**|"
      ]
    },
    {
      "cell_type": "markdown",
      "metadata": {
        "id": "qpi9g4YEBYWM",
        "colab_type": "text"
      },
      "source": [
        "||$$\\textbf{Pred NO}$$<br>$$\\text{TN}+\\text{FN}$$<br>$$P(\\bar{B})$$|$$\\textbf{Pred YES}$$<br>$$\\text{FP}+\\text{TP}$$<br>$$\\text{Evidence}=P(B)$$|$$\\text{ROC(th)}=\\frac{\\text{TPR(th)}}{\\text{FPR(th)}}$$|\n",
        "|:-:|:-:|:-:|:-:|\n",
        "|$$\\textbf{Actual NO}$$<BR>$$\\text{TN}+\\text{FP}$$<BR>$$P(\\bar{A})$$|$$\\textbf{TN}$$<br>$$\\text{Confidence}$$<BR>$$c=1-\\alpha$$|$$\\textbf{FP}$$<br>$$\\text{Type I}$$<br>$$\\alpha$$|$$\\text{Fall out (FPR)}=\\frac{\\text{FP}}{\\text{FP}+\\text{TN}}$$|\n",
        "|$$\\textbf{Actual YES}$$<BR>$$\\text{FN}+\\text{TP}$$<br>$$\\text{Prior}=P(A)$$|$$\\textbf{FN}$$<br>$$\\text{Type II}$$<br>$$\\beta$$|$$\\textbf{TP}$$<br>$$\\text{Power}$$<br>$$p=1-\\beta$$|$$\\text{Recall (Sensitivity, TPR)}=\\frac{\\text{TP}}{\\text{TP}+\\text{FN}}$$<BR>$$\\text{Likelihood}=P(B \\mid A)$$|\n",
        "|||$$\\text{Precision}=\\frac{\\text{TP}}{\\text{TP}+\\text{FP}}$$<br>$$P(A\\mid B)=\\frac{P(B \\mid A) \\cdot P(A)}{P(B)}$$<BR>$$\\text{Posterior}=\\frac{\\text{Likelihood} \\cdot \\text{Prior}}{\\text{Evidence}}$$|$$F_1=2\\cdot\\frac{\\text{Precision}\\cdot\\text{Recall}}{\\text{Precision}+\\text{Recall}}$$|"
      ]
    },
    {
      "cell_type": "markdown",
      "metadata": {
        "id": "jN8EpyyXArdb",
        "colab_type": "text"
      },
      "source": [
        "||means|proportions|comments\n",
        "|:-|:-:|:-:|:-:|\n",
        "|$$\\textbf{SE}$$|$$\\sqrt{\\frac{\\sigma^2_t}{n_t}+\\frac{\\sigma^2_c}{n_c}}$$|$$\\sqrt{\\hat{p}(1-\\hat{p})\\Bigl(\\frac{1}{n_t}+\\frac{1}{n_c}\\Bigr)}$$\n",
        "|$$\\textbf{z}$$|$$\\frac{\\mu_t-\\mu_c}{\\text{SE}} \\sim N\\Bigl(\\frac{\\mu_t-\\mu_c}{\\text{SE}}, 1\\Bigr)$$|$$\\frac{p_t-p_c}{\\text{SE}} \\sim N\\Bigl(\\frac{p_t-p_c}{\\text{SE}}, 1\\Bigr)$$|\n",
        "|$$\\textbf{CI}$$|$$\\mu_t-\\mu_c \\pm z_{\\alpha/2}\\text{SE}$$|$$p_t-p_c \\pm z_{\\alpha/2} \\cdot \\text{SE}$$|`scipy.stats.norm.ppf`<br>Percent point function<br>Inverse CDF\n",
        "|$$\\textbf{MDE}$$<br>$$p_t-p_c$$||$$(z_{1-\\alpha/2} + z_{1-\\beta})\\cdot \\text{SE}$$|\n",
        "|$$\\textbf{p_val}$$||$$2\\cdot \\min{\\bigl(P(N \\le z \\mid H), P(N \\ge z \\mid H)\\bigr)}$$|`scipy.stats.norm.sf`<br>Survival function<br>1 – CDF|"
      ]
    },
    {
      "cell_type": "code",
      "metadata": {
        "id": "6NZF4oNR07VT",
        "colab_type": "code",
        "colab": {
          "base_uri": "https://localhost:8080/",
          "height": 771
        },
        "outputId": "8b134883-bcde-4bc2-bf2f-8c990b5e7692"
      },
      "source": [
        "def get_n(p_t, p_c, t, conf, power):\n",
        "    p = p_t * t + p_c * (1 - t)\n",
        "    n = p * (1 - p) / (t * (1 - t)) * (norm.ppf([1 - (1 - conf) / 2, power]).sum() / (p_t - p_c)) ** 2\n",
        "    return int(np.ceil(n))\n",
        "\n",
        "def prop_ttest(p_t, p_c, n, t, conf, s=1_000_000):\n",
        "    n_t = np.random.binomial(n, t, s)\n",
        "    n_c = n - n_t\n",
        "    x_t, x_c = np.random.binomial(n_t, p_t, s), np.random.binomial(n_c, p_c, s)\n",
        "    p = (x_t + x_c) / (n_t + n_c)\n",
        "    se = np.sqrt(p * (1 - p) * (1 / n_t + 1 / n_c))\n",
        "    delta = (x_t / n_t - x_c / n_c)\n",
        "    z = delta / se\n",
        "    p_val = norm.sf(np.abs(z)) * 2\n",
        "    alpha = 1 - conf\n",
        "    df = pd.DataFrame({\n",
        "        'n_t': n_t, 'x_t': x_t, 'n_c': n_c, 'x_c': x_c, \n",
        "        'p': p, 'se': se, 'z': z, \n",
        "        'p_val': p_val, 'sig': p_val < alpha, 'test': '='\n",
        "    })\n",
        "    df.loc[delta + se * norm.ppf(1 - alpha / 2) < 0, 'test'] = '<'\n",
        "    df.loc[delta + se * norm.ppf(alpha / 2) > 0, 'test'] = '>'\n",
        "    display(df.head(2))\n",
        "    display(df.pivot_table('p_val', 'sig', 'test', 'count', 0))\n",
        "    df['z'].hist(bins=100, alpha=0.5)\n",
        "    return (p_val > alpha).sum(), (p_val < alpha).sum()\n",
        "\n",
        "def run_tests(p_t, p_c, t, conf, power):\n",
        "    n = get_n(p_t, p_c, t, conf, power)\n",
        "    print(n)\n",
        "    cm = np.array([\n",
        "        prop_ttest(p_c, p_c, n, t, conf), \n",
        "        prop_ttest(p_t, p_c, n, t, conf)\n",
        "    ])\n",
        "    return cm\n",
        "\n",
        "run_tests(p_t=0.5, p_c=0.3, t=0.05, conf=.9, power=.5)"
      ],
      "execution_count": 383,
      "outputs": [
        {
          "output_type": "stream",
          "text": [
            "305\n"
          ],
          "name": "stdout"
        },
        {
          "output_type": "display_data",
          "data": {
            "text/html": [
              "<div>\n",
              "<style scoped>\n",
              "    .dataframe tbody tr th:only-of-type {\n",
              "        vertical-align: middle;\n",
              "    }\n",
              "\n",
              "    .dataframe tbody tr th {\n",
              "        vertical-align: top;\n",
              "    }\n",
              "\n",
              "    .dataframe thead th {\n",
              "        text-align: right;\n",
              "    }\n",
              "</style>\n",
              "<table border=\"1\" class=\"dataframe\">\n",
              "  <thead>\n",
              "    <tr style=\"text-align: right;\">\n",
              "      <th></th>\n",
              "      <th>n_t</th>\n",
              "      <th>x_t</th>\n",
              "      <th>n_c</th>\n",
              "      <th>x_c</th>\n",
              "      <th>p</th>\n",
              "      <th>se</th>\n",
              "      <th>z</th>\n",
              "      <th>p_val</th>\n",
              "      <th>sig</th>\n",
              "      <th>test</th>\n",
              "    </tr>\n",
              "  </thead>\n",
              "  <tbody>\n",
              "    <tr>\n",
              "      <th>0</th>\n",
              "      <td>17</td>\n",
              "      <td>6</td>\n",
              "      <td>288</td>\n",
              "      <td>74</td>\n",
              "      <td>0.262295</td>\n",
              "      <td>0.109791</td>\n",
              "      <td>0.874361</td>\n",
              "      <td>0.381922</td>\n",
              "      <td>False</td>\n",
              "      <td>=</td>\n",
              "    </tr>\n",
              "    <tr>\n",
              "      <th>1</th>\n",
              "      <td>14</td>\n",
              "      <td>4</td>\n",
              "      <td>291</td>\n",
              "      <td>105</td>\n",
              "      <td>0.357377</td>\n",
              "      <td>0.131124</td>\n",
              "      <td>-0.572822</td>\n",
              "      <td>0.566765</td>\n",
              "      <td>False</td>\n",
              "      <td>=</td>\n",
              "    </tr>\n",
              "  </tbody>\n",
              "</table>\n",
              "</div>"
            ],
            "text/plain": [
              "   n_t  x_t  n_c  x_c         p        se         z     p_val    sig test\n",
              "0   17    6  288   74  0.262295  0.109791  0.874361  0.381922  False    =\n",
              "1   14    4  291  105  0.357377  0.131124 -0.572822  0.566765  False    ="
            ]
          },
          "metadata": {
            "tags": []
          }
        },
        {
          "output_type": "display_data",
          "data": {
            "text/html": [
              "<div>\n",
              "<style scoped>\n",
              "    .dataframe tbody tr th:only-of-type {\n",
              "        vertical-align: middle;\n",
              "    }\n",
              "\n",
              "    .dataframe tbody tr th {\n",
              "        vertical-align: top;\n",
              "    }\n",
              "\n",
              "    .dataframe thead th {\n",
              "        text-align: right;\n",
              "    }\n",
              "</style>\n",
              "<table border=\"1\" class=\"dataframe\">\n",
              "  <thead>\n",
              "    <tr style=\"text-align: right;\">\n",
              "      <th>test</th>\n",
              "      <th>&lt;</th>\n",
              "      <th>=</th>\n",
              "      <th>&gt;</th>\n",
              "    </tr>\n",
              "    <tr>\n",
              "      <th>sig</th>\n",
              "      <th></th>\n",
              "      <th></th>\n",
              "      <th></th>\n",
              "    </tr>\n",
              "  </thead>\n",
              "  <tbody>\n",
              "    <tr>\n",
              "      <th>False</th>\n",
              "      <td>0</td>\n",
              "      <td>899871</td>\n",
              "      <td>0</td>\n",
              "    </tr>\n",
              "    <tr>\n",
              "      <th>True</th>\n",
              "      <td>43692</td>\n",
              "      <td>0</td>\n",
              "      <td>56437</td>\n",
              "    </tr>\n",
              "  </tbody>\n",
              "</table>\n",
              "</div>"
            ],
            "text/plain": [
              "test       <       =      >\n",
              "sig                        \n",
              "False      0  899871      0\n",
              "True   43692       0  56437"
            ]
          },
          "metadata": {
            "tags": []
          }
        },
        {
          "output_type": "display_data",
          "data": {
            "text/html": [
              "<div>\n",
              "<style scoped>\n",
              "    .dataframe tbody tr th:only-of-type {\n",
              "        vertical-align: middle;\n",
              "    }\n",
              "\n",
              "    .dataframe tbody tr th {\n",
              "        vertical-align: top;\n",
              "    }\n",
              "\n",
              "    .dataframe thead th {\n",
              "        text-align: right;\n",
              "    }\n",
              "</style>\n",
              "<table border=\"1\" class=\"dataframe\">\n",
              "  <thead>\n",
              "    <tr style=\"text-align: right;\">\n",
              "      <th></th>\n",
              "      <th>n_t</th>\n",
              "      <th>x_t</th>\n",
              "      <th>n_c</th>\n",
              "      <th>x_c</th>\n",
              "      <th>p</th>\n",
              "      <th>se</th>\n",
              "      <th>z</th>\n",
              "      <th>p_val</th>\n",
              "      <th>sig</th>\n",
              "      <th>test</th>\n",
              "    </tr>\n",
              "  </thead>\n",
              "  <tbody>\n",
              "    <tr>\n",
              "      <th>0</th>\n",
              "      <td>15</td>\n",
              "      <td>11</td>\n",
              "      <td>290</td>\n",
              "      <td>86</td>\n",
              "      <td>0.318033</td>\n",
              "      <td>0.123317</td>\n",
              "      <td>3.541941</td>\n",
              "      <td>0.000397</td>\n",
              "      <td>True</td>\n",
              "      <td>&gt;</td>\n",
              "    </tr>\n",
              "    <tr>\n",
              "      <th>1</th>\n",
              "      <td>20</td>\n",
              "      <td>9</td>\n",
              "      <td>285</td>\n",
              "      <td>95</td>\n",
              "      <td>0.340984</td>\n",
              "      <td>0.109655</td>\n",
              "      <td>1.063946</td>\n",
              "      <td>0.287353</td>\n",
              "      <td>False</td>\n",
              "      <td>=</td>\n",
              "    </tr>\n",
              "  </tbody>\n",
              "</table>\n",
              "</div>"
            ],
            "text/plain": [
              "   n_t  x_t  n_c  x_c         p        se         z     p_val    sig test\n",
              "0   15   11  290   86  0.318033  0.123317  3.541941  0.000397   True    >\n",
              "1   20    9  285   95  0.340984  0.109655  1.063946  0.287353  False    ="
            ]
          },
          "metadata": {
            "tags": []
          }
        },
        {
          "output_type": "display_data",
          "data": {
            "text/html": [
              "<div>\n",
              "<style scoped>\n",
              "    .dataframe tbody tr th:only-of-type {\n",
              "        vertical-align: middle;\n",
              "    }\n",
              "\n",
              "    .dataframe tbody tr th {\n",
              "        vertical-align: top;\n",
              "    }\n",
              "\n",
              "    .dataframe thead th {\n",
              "        text-align: right;\n",
              "    }\n",
              "</style>\n",
              "<table border=\"1\" class=\"dataframe\">\n",
              "  <thead>\n",
              "    <tr style=\"text-align: right;\">\n",
              "      <th>test</th>\n",
              "      <th>&lt;</th>\n",
              "      <th>=</th>\n",
              "      <th>&gt;</th>\n",
              "    </tr>\n",
              "    <tr>\n",
              "      <th>sig</th>\n",
              "      <th></th>\n",
              "      <th></th>\n",
              "      <th></th>\n",
              "    </tr>\n",
              "  </thead>\n",
              "  <tbody>\n",
              "    <tr>\n",
              "      <th>False</th>\n",
              "      <td>0</td>\n",
              "      <td>501975</td>\n",
              "      <td>0</td>\n",
              "    </tr>\n",
              "    <tr>\n",
              "      <th>True</th>\n",
              "      <td>927</td>\n",
              "      <td>0</td>\n",
              "      <td>497098</td>\n",
              "    </tr>\n",
              "  </tbody>\n",
              "</table>\n",
              "</div>"
            ],
            "text/plain": [
              "test     <       =       >\n",
              "sig                       \n",
              "False    0  501975       0\n",
              "True   927       0  497098"
            ]
          },
          "metadata": {
            "tags": []
          }
        },
        {
          "output_type": "execute_result",
          "data": {
            "text/plain": [
              "array([[899871, 100129],\n",
              "       [501975, 498025]])"
            ]
          },
          "metadata": {
            "tags": []
          },
          "execution_count": 383
        },
        {
          "output_type": "display_data",
          "data": {
            "image/png": "[encoded data removed]",
            "text/plain": [
              "<Figure size 432x288 with 1 Axes>"
            ]
          },
          "metadata": {
            "tags": []
          }
        }
      ]
    },
    {
      "cell_type": "code",
      "metadata": {
        "id": "eMN1NF0lb6XK",
        "colab_type": "code",
        "colab": {
          "base_uri": "https://localhost:8080/",
          "height": 34
        },
        "outputId": "61791da1-ad62-4147-86f3-fe2bd3ba7bb1"
      },
      "source": [
        "def get_n(p_c, p_t, conf=0.9, power=0.8):\n",
        "    p = (p_c + p_t) / 2\n",
        "    n = 2 * p * (1 - p) / (p_t - p_c) ** 2 * norm.ppf([1 - (1 - conf) / 2, power]).sum() ** 2\n",
        "    return int(np.ceil(n))\n",
        "\n",
        "\n",
        "S = namedtuple('Sample', ['mu', 'std', 'n'])\n",
        "\n",
        "def t_test(c: S, t: S):\n",
        "    se = np.sqrt(t.std ** 2 / t.n + c.std ** 2 / c.n)\n",
        "    z = (t.mu - c.mu) / se\n",
        "    p_val = norm.sf(np.abs(z)) * 2\n",
        "    return t.mu - c.mu, p_val\n",
        "\n",
        "\n",
        "\n",
        "\n",
        "\n",
        "def run_tests(p_c, p_t, n, conf, s=100):\n",
        "    x_c = np.random.binomial(n, p_c, s)\n",
        "    x_t = np.random.binomial(n, p_t, s)\n",
        "    p = (x_c + x_t) / 2 / n\n",
        "    se = np.sqrt(p * (1 - p) * 2 / n)\n",
        "    z = (p_t - p_c) / se\n",
        "    p_val = norm.sf(z)\n",
        "    return (p_val > (1 - conf) / 2).mean()\n",
        "\n",
        "p_c, p_t = 0.1, 0.11\n",
        "conf, power = 0.9, 0.8\n",
        "n = get_n(p_c, p_t, conf, power)\n",
        "\n",
        "run_tests(p_c, p_c, n, conf)"
      ],
      "execution_count": 149,
      "outputs": [
        {
          "output_type": "execute_result",
          "data": {
            "text/plain": [
              "1.0"
            ]
          },
          "metadata": {
            "tags": []
          },
          "execution_count": 149
        }
      ]
    },
    {
      "cell_type": "code",
      "metadata": {
        "id": "F8eaKdo5uRdq",
        "colab_type": "code",
        "colab": {
          "base_uri": "https://localhost:8080/",
          "height": 68
        },
        "outputId": "00090338-45a5-4bb3-b519-6532fed5ba02"
      },
      "source": [
        "print(proportions_ztest([5, 12], [83, 99]))\n",
        "p = (5 + 12) / (83 + 99)\n",
        "se = np.sqrt(p * (1 - p) * (1 / 83 + 1 / 99))\n",
        "z = (5 / 83 - 12 / 99) / se\n",
        "print(z)\n",
        "norm.sf(abs(z)) * 2"
      ],
      "execution_count": 148,
      "outputs": [
        {
          "output_type": "stream",
          "text": [
            "(-1.4078304151258787, 0.15918129181156992)\n",
            "-1.4078304151258787\n"
          ],
          "name": "stdout"
        },
        {
          "output_type": "execute_result",
          "data": {
            "text/plain": [
              "0.15918129181156992"
            ]
          },
          "metadata": {
            "tags": []
          },
          "execution_count": 148
        }
      ]
    },
    {
      "cell_type": "code",
      "metadata": {
        "id": "t8wf2S7PUV6M",
        "colab_type": "code",
        "colab": {
          "base_uri": "https://localhost:8080/",
          "height": 51
        },
        "outputId": "e22ea174-57d7-41ef-e246-94ef9f83d2ca"
      },
      "source": [
        "def get_mde(p_c, n_c, n_t, conf, power):\n",
        "    mde = 0\n",
        "    for i in range(10):\n",
        "        p = (p_c * n_c + (p_c + mde) * n_t) / (n_c + n_t)\n",
        "        se = np.sqrt(p * (1 - p) * (1 / n_t + 1 / n_c))\n",
        "        mde = se * norm.ppf([1 - (1 - conf) / 2, power]).sum()\n",
        "    print(1 - (1 - conf) / 2)\n",
        "    return mde\n",
        "\n",
        "\n",
        "\n",
        "\n",
        "get_mde(0.01, 1000, 1000, 0.9, 0.8)"
      ],
      "execution_count": 104,
      "outputs": [
        {
          "output_type": "stream",
          "text": [
            "0.95\n"
          ],
          "name": "stdout"
        },
        {
          "output_type": "execute_result",
          "data": {
            "text/plain": [
              "0.014472559290741123"
            ]
          },
          "metadata": {
            "tags": []
          },
          "execution_count": 104
        }
      ]
    },
    {
      "cell_type": "code",
      "metadata": {
        "id": "aWzg7xavEzNw",
        "colab_type": "code",
        "colab": {}
      },
      "source": [
        "import numpy as np\n",
        "import pandas as pd\n",
        "from statsmodels.stats.proportion import proportions_ztest"
      ],
      "execution_count": 0,
      "outputs": []
    },
    {
      "cell_type": "code",
      "metadata": {
        "id": "1HcK-k_ZE36L",
        "colab_type": "code",
        "colab": {
          "base_uri": "https://localhost:8080/",
          "height": 34
        },
        "outputId": "e03374e4-1ba0-4c81-bd28-167d7e7caba8"
      },
      "source": [
        "def ztests(count, nobs):\n",
        "    p_vals = []\n",
        "    for c, n in zip(count, nobs):\n",
        "        stat, p_val = proportions_ztest(c, n)\n",
        "        p_vals.append(p_val)\n",
        "    return p_vals\n",
        "\n",
        "ztests([[5, 12], [5, 12]], [[83, 99], [83, 99]])"
      ],
      "execution_count": 11,
      "outputs": [
        {
          "output_type": "execute_result",
          "data": {
            "text/plain": [
              "[0.15918129181156992, 0.15918129181156992]"
            ]
          },
          "metadata": {
            "tags": []
          },
          "execution_count": 11
        }
      ]
    },
    {
      "cell_type": "code",
      "metadata": {
        "id": "0_I51Zv1ERjP",
        "colab_type": "code",
        "colab": {
          "base_uri": "https://localhost:8080/",
          "height": 333
        },
        "outputId": "be3785ec-8032-45f9-be97-f550840a1158"
      },
      "source": [
        "n_1 = 10000\n",
        "n_2 = 20000\n",
        "p_1 = 0.15\n",
        "p_2 = 0.17\n",
        "N = 1000000\n",
        "\n",
        "p = (p_1 * n_1 + p_2 * n_2) / (n_1 + n_2)\n",
        "print(p)\n",
        "SE = np.sqrt(p * (1 - p) * (1 / n_1 + 1 / n_2))\n",
        "\n",
        "df = pd.DataFrame({\n",
        "    'n_1': n_1,\n",
        "    'n_2': n_2,\n",
        "    's_1': np.random.binomial(n_1, p_1, N),\n",
        "    's_2': np.random.binomial(n_2, p_2, N),\n",
        "    })\n",
        "df['p_1'] = df['s_1'] / df['n_1']\n",
        "df['p_2'] = df['s_2'] / df['n_2']\n",
        "df['D'] = df['p_1'] - df['p_2']\n",
        "print('mean:', df['D'].mean())\n",
        "print('std:', df['D'].std(), SE)\n",
        "print('var:', df['D'].var())\n",
        "df['D'].hist(bins=100);"
      ],
      "execution_count": 45,
      "outputs": [
        {
          "output_type": "stream",
          "text": [
            "0.16333333333333333\n",
            "mean: -0.019991286550004317\n",
            "std: 0.004452784847777237 0.004527508512784193\n",
            "var: 1.982729290059455e-05\n"
          ],
          "name": "stdout"
        },
        {
          "output_type": "display_data",
          "data": {
            "image/png": "[encoded data removed]",
            "text/plain": [
              "<Figure size 432x288 with 1 Axes>"
            ]
          },
          "metadata": {
            "tags": []
          }
        }
      ]
    },
    {
      "cell_type": "code",
      "metadata": {
        "id": "53Y8fVHpEwno",
        "colab_type": "code",
        "colab": {
          "base_uri": "https://localhost:8080/",
          "height": 204
        },
        "outputId": "57764e3b-ce6b-41d4-fd28-57df5686ddf0"
      },
      "source": [
        "def generate_dataset(n_samples=100, uplift=0):\n",
        "    x = np.random.uniform(low=0, high=1, size=n_samples*2)\n",
        "    y = (\n",
        "        + 10 * np.abs(x - 0.25)  \n",
        "        + 2 * np.sin((x * 5) * 2 * np.pi)\n",
        "        + np.random.normal(size=n_samples*2)\n",
        "    )\n",
        "    \n",
        "    assignment = [1] * n_samples + [0] * n_samples\n",
        "    np.random.shuffle(assignment)\n",
        "    \n",
        "    samples = pd.DataFrame({\n",
        "        \"x\": x,\n",
        "        \"y\": y,\n",
        "        \"group\": assignment\n",
        "    })\n",
        "    \n",
        "    samples.loc[lambda df: df.group == 1, \"y\"] += uplift\n",
        "    \n",
        "    return samples\n",
        "\n",
        "ds = generate_dataset(n_samples=1000, uplift=1)\n",
        "ds.head()"
      ],
      "execution_count": 47,
      "outputs": [
        {
          "output_type": "execute_result",
          "data": {
            "text/html": [
              "<div>\n",
              "<style scoped>\n",
              "    .dataframe tbody tr th:only-of-type {\n",
              "        vertical-align: middle;\n",
              "    }\n",
              "\n",
              "    .dataframe tbody tr th {\n",
              "        vertical-align: top;\n",
              "    }\n",
              "\n",
              "    .dataframe thead th {\n",
              "        text-align: right;\n",
              "    }\n",
              "</style>\n",
              "<table border=\"1\" class=\"dataframe\">\n",
              "  <thead>\n",
              "    <tr style=\"text-align: right;\">\n",
              "      <th></th>\n",
              "      <th>x</th>\n",
              "      <th>y</th>\n",
              "      <th>group</th>\n",
              "    </tr>\n",
              "  </thead>\n",
              "  <tbody>\n",
              "    <tr>\n",
              "      <th>0</th>\n",
              "      <td>0.113969</td>\n",
              "      <td>2.158366</td>\n",
              "      <td>1</td>\n",
              "    </tr>\n",
              "    <tr>\n",
              "      <th>1</th>\n",
              "      <td>0.739943</td>\n",
              "      <td>4.530411</td>\n",
              "      <td>1</td>\n",
              "    </tr>\n",
              "    <tr>\n",
              "      <th>2</th>\n",
              "      <td>0.273111</td>\n",
              "      <td>2.607211</td>\n",
              "      <td>1</td>\n",
              "    </tr>\n",
              "    <tr>\n",
              "      <th>3</th>\n",
              "      <td>0.608017</td>\n",
              "      <td>6.459661</td>\n",
              "      <td>1</td>\n",
              "    </tr>\n",
              "    <tr>\n",
              "      <th>4</th>\n",
              "      <td>0.831177</td>\n",
              "      <td>8.103104</td>\n",
              "      <td>1</td>\n",
              "    </tr>\n",
              "  </tbody>\n",
              "</table>\n",
              "</div>"
            ],
            "text/plain": [
              "          x         y  group\n",
              "0  0.113969  2.158366      1\n",
              "1  0.739943  4.530411      1\n",
              "2  0.273111  2.607211      1\n",
              "3  0.608017  6.459661      1\n",
              "4  0.831177  8.103104      1"
            ]
          },
          "metadata": {
            "tags": []
          },
          "execution_count": 47
        }
      ]
    },
    {
      "cell_type": "code",
      "metadata": {
        "id": "N8mrD_tBS20O",
        "colab_type": "code",
        "colab": {
          "base_uri": "https://localhost:8080/",
          "height": 282
        },
        "outputId": "e92f1e4b-ff0d-4a1b-9412-810a3f78f9f4"
      },
      "source": [
        "import seaborn as sns\n",
        "sns.kdeplot(ds.y)"
      ],
      "execution_count": 49,
      "outputs": [
        {
          "output_type": "execute_result",
          "data": {
            "text/plain": [
              "<matplotlib.axes._subplots.AxesSubplot at 0x7f5e9bd3cf98>"
            ]
          },
          "metadata": {
            "tags": []
          },
          "execution_count": 49
        },
        {
          "output_type": "display_data",
          "data": {
            "image/png": "[encoded data removed]",
            "text/plain": [
              "<Figure size 432x288 with 1 Axes>"
            ]
          },
          "metadata": {
            "tags": []
          }
        }
      ]
    },
    {
      "cell_type": "code",
      "metadata": {
        "id": "12Fv9Q2-S8DO",
        "colab_type": "code",
        "colab": {
          "base_uri": "https://localhost:8080/",
          "height": 34
        },
        "outputId": "7e8eb430-86fd-4eab-d989-2367c1856fca"
      },
      "source": [
        "from scipy.stats import norm\n",
        "\n",
        "sample_size = 1000\n",
        "alpha = 0.05\n",
        "z = norm.isf(alpha / 2)\n",
        "estimated_variance = ds.y.var()\n",
        "\n",
        "detectable_effect_size = z * np.sqrt(2 * estimated_variance / sample_size)\n",
        "detectable_effect_size"
      ],
      "execution_count": 50,
      "outputs": [
        {
          "output_type": "execute_result",
          "data": {
            "text/plain": [
              "0.23512092675202018"
            ]
          },
          "metadata": {
            "tags": []
          },
          "execution_count": 50
        }
      ]
    },
    {
      "cell_type": "code",
      "metadata": {
        "id": "HaiUlHnuS-oC",
        "colab_type": "code",
        "colab": {}
      },
      "source": [
        ""
      ],
      "execution_count": 0,
      "outputs": []
    }
  ]
}