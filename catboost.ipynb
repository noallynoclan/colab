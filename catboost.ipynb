{
  "nbformat": 4,
  "nbformat_minor": 0,
  "metadata": {
    "colab": {
      "name": "catboost.ipynb",
      "provenance": [],
      "authorship_tag": "ABX9TyOLkLD/Zs2ctYUdZLXcSfgb",
      "include_colab_link": true
    },
    "kernelspec": {
      "name": "python3",
      "display_name": "Python 3"
    }
  },
  "cells": [
    {
      "cell_type": "markdown",
      "metadata": {
        "id": "view-in-github",
        "colab_type": "text"
      },
      "source": [
        "<a href=\"https://colab.research.google.com/github/noallynoclan/colab/blob/master/catboost.ipynb\" target=\"_parent\"><img src=\"https://colab.research.google.com/assets/colab-badge.svg\" alt=\"Open In Colab\"/></a>"
      ]
    },
    {
      "cell_type": "code",
      "metadata": {
        "id": "pWYdXDY2Vxba",
        "colab_type": "code",
        "colab": {
          "base_uri": "https://localhost:8080/",
          "height": 34
        },
        "outputId": "c92c2022-8b44-4c7a-fab1-8e10ad49dbb7"
      },
      "source": [
        "! pip install catboost -q"
      ],
      "execution_count": 6,
      "outputs": [
        {
          "output_type": "stream",
          "text": [
            "\u001b[K     |████████████████████████████████| 63.9MB 60kB/s \n",
            "\u001b[?25h"
          ],
          "name": "stdout"
        }
      ]
    },
    {
      "cell_type": "code",
      "metadata": {
        "id": "IIqZd6d4WcZq",
        "colab_type": "code",
        "colab": {
          "base_uri": "https://localhost:8080/",
          "height": 445
        },
        "outputId": "1b15a0ce-044d-4b80-8fab-232a7f0cff9e"
      },
      "source": [
        "import numpy as np\n",
        "import pandas as pd\n",
        "from catboost import CatBoostClassifier\n",
        "\n",
        "df = pd.DataFrame({\n",
        "    'x1': [np.NaN, 'A', 'B', 'B'],\n",
        "    'x2': [1, 2, 1, 2],\n",
        "    'y': [1, 0, 0, 1]\n",
        "})\n",
        "print(df)\n",
        "\n",
        "FEATURES = ['x1', 'x2']\n",
        "CAT_FEATURES = ['x1']\n",
        "TARGET = 'y'\n",
        "\n",
        "cat_features = [i for i, f in enumerate(FEATURES) if f in CAT_FEATURES]\n",
        "model = CatBoostClassifier(iterations=1000, learning_rate=1, depth=3)\n",
        "model.fit(df[FEATURES].fillna('_'), df[TARGET], cat_features, verbose=100)\n",
        "\n",
        "df['y_pred'] = model.predict_proba(df[FEATURES].fillna('_'))[:, 0]\n",
        "df"
      ],
      "execution_count": 36,
      "outputs": [
        {
          "output_type": "stream",
          "text": [
            "    x1  x2  y\n",
            "0  NaN   1  1\n",
            "1    A   2  0\n",
            "2    B   1  0\n",
            "3    B   2  1\n",
            "0:\tlearn: 0.6931472\ttotal: 546us\tremaining: 546ms\n",
            "100:\tlearn: 0.0030782\ttotal: 32.8ms\tremaining: 292ms\n",
            "200:\tlearn: 0.0019538\ttotal: 58.9ms\tremaining: 234ms\n",
            "300:\tlearn: 0.0019538\ttotal: 82.5ms\tremaining: 191ms\n",
            "400:\tlearn: 0.0019538\ttotal: 105ms\tremaining: 157ms\n",
            "500:\tlearn: 0.0019538\ttotal: 127ms\tremaining: 126ms\n",
            "600:\tlearn: 0.0019538\ttotal: 149ms\tremaining: 98.7ms\n",
            "700:\tlearn: 0.0019538\ttotal: 173ms\tremaining: 73.7ms\n",
            "800:\tlearn: 0.0019538\ttotal: 195ms\tremaining: 48.6ms\n",
            "900:\tlearn: 0.0019538\ttotal: 217ms\tremaining: 23.9ms\n",
            "999:\tlearn: 0.0019538\ttotal: 237ms\tremaining: 0us\n"
          ],
          "name": "stdout"
        },
        {
          "output_type": "execute_result",
          "data": {
            "text/html": [
              "<div>\n",
              "<style scoped>\n",
              "    .dataframe tbody tr th:only-of-type {\n",
              "        vertical-align: middle;\n",
              "    }\n",
              "\n",
              "    .dataframe tbody tr th {\n",
              "        vertical-align: top;\n",
              "    }\n",
              "\n",
              "    .dataframe thead th {\n",
              "        text-align: right;\n",
              "    }\n",
              "</style>\n",
              "<table border=\"1\" class=\"dataframe\">\n",
              "  <thead>\n",
              "    <tr style=\"text-align: right;\">\n",
              "      <th></th>\n",
              "      <th>x1</th>\n",
              "      <th>x2</th>\n",
              "      <th>y</th>\n",
              "      <th>y_pred</th>\n",
              "    </tr>\n",
              "  </thead>\n",
              "  <tbody>\n",
              "    <tr>\n",
              "      <th>0</th>\n",
              "      <td>NaN</td>\n",
              "      <td>1</td>\n",
              "      <td>1</td>\n",
              "      <td>0.001952</td>\n",
              "    </tr>\n",
              "    <tr>\n",
              "      <th>1</th>\n",
              "      <td>A</td>\n",
              "      <td>2</td>\n",
              "      <td>0</td>\n",
              "      <td>0.998048</td>\n",
              "    </tr>\n",
              "    <tr>\n",
              "      <th>2</th>\n",
              "      <td>B</td>\n",
              "      <td>1</td>\n",
              "      <td>0</td>\n",
              "      <td>0.998048</td>\n",
              "    </tr>\n",
              "    <tr>\n",
              "      <th>3</th>\n",
              "      <td>B</td>\n",
              "      <td>2</td>\n",
              "      <td>1</td>\n",
              "      <td>0.001952</td>\n",
              "    </tr>\n",
              "  </tbody>\n",
              "</table>\n",
              "</div>"
            ],
            "text/plain": [
              "    x1  x2  y    y_pred\n",
              "0  NaN   1  1  0.001952\n",
              "1    A   2  0  0.998048\n",
              "2    B   1  0  0.998048\n",
              "3    B   2  1  0.001952"
            ]
          },
          "metadata": {
            "tags": []
          },
          "execution_count": 36
        }
      ]
    },
    {
      "cell_type": "code",
      "metadata": {
        "id": "sPcaDUZOVuyD",
        "colab_type": "code",
        "colab": {}
      },
      "source": [
        ""
      ],
      "execution_count": 0,
      "outputs": []
    }
  ]
}