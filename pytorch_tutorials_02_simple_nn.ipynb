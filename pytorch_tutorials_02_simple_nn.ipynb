{
  "nbformat": 4,
  "nbformat_minor": 0,
  "metadata": {
    "colab": {
      "name": "pytorch_tutorials_02_simple_nn.ipynb",
      "provenance": [],
      "authorship_tag": "ABX9TyMg3YWE2mwokhb2rQo5AFKZ",
      "include_colab_link": true
    },
    "kernelspec": {
      "name": "python3",
      "display_name": "Python 3"
    },
    "accelerator": "GPU",
    "widgets": {
      "application/vnd.jupyter.widget-state+json": {
        "ad55fcf3b22a461b8210a70d3c0c5a02": {
          "model_module": "@jupyter-widgets/controls",
          "model_name": "HBoxModel",
          "state": {
            "_view_name": "HBoxView",
            "_dom_classes": [],
            "_model_name": "HBoxModel",
            "_view_module": "@jupyter-widgets/controls",
            "_model_module_version": "1.5.0",
            "_view_count": null,
            "_view_module_version": "1.5.0",
            "box_style": "",
            "layout": "IPY_MODEL_8d36c2ae4f2f4a4e83c4cf30013067df",
            "_model_module": "@jupyter-widgets/controls",
            "children": [
              "IPY_MODEL_c77a4b584ef74b288774fee218354435",
              "IPY_MODEL_3a57a9ec0f37485ca8eeb9ac4727974f"
            ]
          }
        },
        "8d36c2ae4f2f4a4e83c4cf30013067df": {
          "model_module": "@jupyter-widgets/base",
          "model_name": "LayoutModel",
          "state": {
            "_view_name": "LayoutView",
            "grid_template_rows": null,
            "right": null,
            "justify_content": null,
            "_view_module": "@jupyter-widgets/base",
            "overflow": null,
            "_model_module_version": "1.2.0",
            "_view_count": null,
            "flex_flow": null,
            "width": null,
            "min_width": null,
            "border": null,
            "align_items": null,
            "bottom": null,
            "_model_module": "@jupyter-widgets/base",
            "top": null,
            "grid_column": null,
            "overflow_y": null,
            "overflow_x": null,
            "grid_auto_flow": null,
            "grid_area": null,
            "grid_template_columns": null,
            "flex": null,
            "_model_name": "LayoutModel",
            "justify_items": null,
            "grid_row": null,
            "max_height": null,
            "align_content": null,
            "visibility": null,
            "align_self": null,
            "height": null,
            "min_height": null,
            "padding": null,
            "grid_auto_rows": null,
            "grid_gap": null,
            "max_width": null,
            "order": null,
            "_view_module_version": "1.2.0",
            "grid_template_areas": null,
            "object_position": null,
            "object_fit": null,
            "grid_auto_columns": null,
            "margin": null,
            "display": null,
            "left": null
          }
        },
        "c77a4b584ef74b288774fee218354435": {
          "model_module": "@jupyter-widgets/controls",
          "model_name": "FloatProgressModel",
          "state": {
            "_view_name": "ProgressView",
            "style": "IPY_MODEL_b2a60d110a4842478fb446fc704c614c",
            "_dom_classes": [],
            "description": "",
            "_model_name": "FloatProgressModel",
            "bar_style": "info",
            "max": 1,
            "_view_module": "@jupyter-widgets/controls",
            "_model_module_version": "1.5.0",
            "value": 1,
            "_view_count": null,
            "_view_module_version": "1.5.0",
            "orientation": "horizontal",
            "min": 0,
            "description_tooltip": null,
            "_model_module": "@jupyter-widgets/controls",
            "layout": "IPY_MODEL_0da2ad6caccc4d6caf85d93f2c63ba53"
          }
        },
        "3a57a9ec0f37485ca8eeb9ac4727974f": {
          "model_module": "@jupyter-widgets/controls",
          "model_name": "HTMLModel",
          "state": {
            "_view_name": "HTMLView",
            "style": "IPY_MODEL_977f7dabdfb540f3959a0a0d18fc38e1",
            "_dom_classes": [],
            "description": "",
            "_model_name": "HTMLModel",
            "placeholder": "​",
            "_view_module": "@jupyter-widgets/controls",
            "_model_module_version": "1.5.0",
            "value": " 9920512/? [00:20&lt;00:00, 1047846.62it/s]",
            "_view_count": null,
            "_view_module_version": "1.5.0",
            "description_tooltip": null,
            "_model_module": "@jupyter-widgets/controls",
            "layout": "IPY_MODEL_8cf80c14ac984a5797708def00438ce5"
          }
        },
        "b2a60d110a4842478fb446fc704c614c": {
          "model_module": "@jupyter-widgets/controls",
          "model_name": "ProgressStyleModel",
          "state": {
            "_view_name": "StyleView",
            "_model_name": "ProgressStyleModel",
            "description_width": "initial",
            "_view_module": "@jupyter-widgets/base",
            "_model_module_version": "1.5.0",
            "_view_count": null,
            "_view_module_version": "1.2.0",
            "bar_color": null,
            "_model_module": "@jupyter-widgets/controls"
          }
        },
        "0da2ad6caccc4d6caf85d93f2c63ba53": {
          "model_module": "@jupyter-widgets/base",
          "model_name": "LayoutModel",
          "state": {
            "_view_name": "LayoutView",
            "grid_template_rows": null,
            "right": null,
            "justify_content": null,
            "_view_module": "@jupyter-widgets/base",
            "overflow": null,
            "_model_module_version": "1.2.0",
            "_view_count": null,
            "flex_flow": null,
            "width": null,
            "min_width": null,
            "border": null,
            "align_items": null,
            "bottom": null,
            "_model_module": "@jupyter-widgets/base",
            "top": null,
            "grid_column": null,
            "overflow_y": null,
            "overflow_x": null,
            "grid_auto_flow": null,
            "grid_area": null,
            "grid_template_columns": null,
            "flex": null,
            "_model_name": "LayoutModel",
            "justify_items": null,
            "grid_row": null,
            "max_height": null,
            "align_content": null,
            "visibility": null,
            "align_self": null,
            "height": null,
            "min_height": null,
            "padding": null,
            "grid_auto_rows": null,
            "grid_gap": null,
            "max_width": null,
            "order": null,
            "_view_module_version": "1.2.0",
            "grid_template_areas": null,
            "object_position": null,
            "object_fit": null,
            "grid_auto_columns": null,
            "margin": null,
            "display": null,
            "left": null
          }
        },
        "977f7dabdfb540f3959a0a0d18fc38e1": {
          "model_module": "@jupyter-widgets/controls",
          "model_name": "DescriptionStyleModel",
          "state": {
            "_view_name": "StyleView",
            "_model_name": "DescriptionStyleModel",
            "description_width": "",
            "_view_module": "@jupyter-widgets/base",
            "_model_module_version": "1.5.0",
            "_view_count": null,
            "_view_module_version": "1.2.0",
            "_model_module": "@jupyter-widgets/controls"
          }
        },
        "8cf80c14ac984a5797708def00438ce5": {
          "model_module": "@jupyter-widgets/base",
          "model_name": "LayoutModel",
          "state": {
            "_view_name": "LayoutView",
            "grid_template_rows": null,
            "right": null,
            "justify_content": null,
            "_view_module": "@jupyter-widgets/base",
            "overflow": null,
            "_model_module_version": "1.2.0",
            "_view_count": null,
            "flex_flow": null,
            "width": null,
            "min_width": null,
            "border": null,
            "align_items": null,
            "bottom": null,
            "_model_module": "@jupyter-widgets/base",
            "top": null,
            "grid_column": null,
            "overflow_y": null,
            "overflow_x": null,
            "grid_auto_flow": null,
            "grid_area": null,
            "grid_template_columns": null,
            "flex": null,
            "_model_name": "LayoutModel",
            "justify_items": null,
            "grid_row": null,
            "max_height": null,
            "align_content": null,
            "visibility": null,
            "align_self": null,
            "height": null,
            "min_height": null,
            "padding": null,
            "grid_auto_rows": null,
            "grid_gap": null,
            "max_width": null,
            "order": null,
            "_view_module_version": "1.2.0",
            "grid_template_areas": null,
            "object_position": null,
            "object_fit": null,
            "grid_auto_columns": null,
            "margin": null,
            "display": null,
            "left": null
          }
        },
        "eab36d385b80401487491cb15470f641": {
          "model_module": "@jupyter-widgets/controls",
          "model_name": "HBoxModel",
          "state": {
            "_view_name": "HBoxView",
            "_dom_classes": [],
            "_model_name": "HBoxModel",
            "_view_module": "@jupyter-widgets/controls",
            "_model_module_version": "1.5.0",
            "_view_count": null,
            "_view_module_version": "1.5.0",
            "box_style": "",
            "layout": "IPY_MODEL_6efe4359e7ee4e32a9c7248bd5beb931",
            "_model_module": "@jupyter-widgets/controls",
            "children": [
              "IPY_MODEL_3c395213dd4947d99b7ff1c3a066b730",
              "IPY_MODEL_a81f2e1f14324bf0946487dd29095063"
            ]
          }
        },
        "6efe4359e7ee4e32a9c7248bd5beb931": {
          "model_module": "@jupyter-widgets/base",
          "model_name": "LayoutModel",
          "state": {
            "_view_name": "LayoutView",
            "grid_template_rows": null,
            "right": null,
            "justify_content": null,
            "_view_module": "@jupyter-widgets/base",
            "overflow": null,
            "_model_module_version": "1.2.0",
            "_view_count": null,
            "flex_flow": null,
            "width": null,
            "min_width": null,
            "border": null,
            "align_items": null,
            "bottom": null,
            "_model_module": "@jupyter-widgets/base",
            "top": null,
            "grid_column": null,
            "overflow_y": null,
            "overflow_x": null,
            "grid_auto_flow": null,
            "grid_area": null,
            "grid_template_columns": null,
            "flex": null,
            "_model_name": "LayoutModel",
            "justify_items": null,
            "grid_row": null,
            "max_height": null,
            "align_content": null,
            "visibility": null,
            "align_self": null,
            "height": null,
            "min_height": null,
            "padding": null,
            "grid_auto_rows": null,
            "grid_gap": null,
            "max_width": null,
            "order": null,
            "_view_module_version": "1.2.0",
            "grid_template_areas": null,
            "object_position": null,
            "object_fit": null,
            "grid_auto_columns": null,
            "margin": null,
            "display": null,
            "left": null
          }
        },
        "3c395213dd4947d99b7ff1c3a066b730": {
          "model_module": "@jupyter-widgets/controls",
          "model_name": "FloatProgressModel",
          "state": {
            "_view_name": "ProgressView",
            "style": "IPY_MODEL_2a64ecd614694129bba90f92cd0970ac",
            "_dom_classes": [],
            "description": "",
            "_model_name": "FloatProgressModel",
            "bar_style": "success",
            "max": 1,
            "_view_module": "@jupyter-widgets/controls",
            "_model_module_version": "1.5.0",
            "value": 1,
            "_view_count": null,
            "_view_module_version": "1.5.0",
            "orientation": "horizontal",
            "min": 0,
            "description_tooltip": null,
            "_model_module": "@jupyter-widgets/controls",
            "layout": "IPY_MODEL_2f83c35dd4b14cc6afef3e6574dd94c3"
          }
        },
        "a81f2e1f14324bf0946487dd29095063": {
          "model_module": "@jupyter-widgets/controls",
          "model_name": "HTMLModel",
          "state": {
            "_view_name": "HTMLView",
            "style": "IPY_MODEL_17bd8ca480054b7aa399a2ed0866221e",
            "_dom_classes": [],
            "description": "",
            "_model_name": "HTMLModel",
            "placeholder": "​",
            "_view_module": "@jupyter-widgets/controls",
            "_model_module_version": "1.5.0",
            "value": " 32768/? [00:00&lt;00:00, 33597.11it/s]",
            "_view_count": null,
            "_view_module_version": "1.5.0",
            "description_tooltip": null,
            "_model_module": "@jupyter-widgets/controls",
            "layout": "IPY_MODEL_43e80bfea81b4b038cf1b22b6343edd1"
          }
        },
        "2a64ecd614694129bba90f92cd0970ac": {
          "model_module": "@jupyter-widgets/controls",
          "model_name": "ProgressStyleModel",
          "state": {
            "_view_name": "StyleView",
            "_model_name": "ProgressStyleModel",
            "description_width": "initial",
            "_view_module": "@jupyter-widgets/base",
            "_model_module_version": "1.5.0",
            "_view_count": null,
            "_view_module_version": "1.2.0",
            "bar_color": null,
            "_model_module": "@jupyter-widgets/controls"
          }
        },
        "2f83c35dd4b14cc6afef3e6574dd94c3": {
          "model_module": "@jupyter-widgets/base",
          "model_name": "LayoutModel",
          "state": {
            "_view_name": "LayoutView",
            "grid_template_rows": null,
            "right": null,
            "justify_content": null,
            "_view_module": "@jupyter-widgets/base",
            "overflow": null,
            "_model_module_version": "1.2.0",
            "_view_count": null,
            "flex_flow": null,
            "width": null,
            "min_width": null,
            "border": null,
            "align_items": null,
            "bottom": null,
            "_model_module": "@jupyter-widgets/base",
            "top": null,
            "grid_column": null,
            "overflow_y": null,
            "overflow_x": null,
            "grid_auto_flow": null,
            "grid_area": null,
            "grid_template_columns": null,
            "flex": null,
            "_model_name": "LayoutModel",
            "justify_items": null,
            "grid_row": null,
            "max_height": null,
            "align_content": null,
            "visibility": null,
            "align_self": null,
            "height": null,
            "min_height": null,
            "padding": null,
            "grid_auto_rows": null,
            "grid_gap": null,
            "max_width": null,
            "order": null,
            "_view_module_version": "1.2.0",
            "grid_template_areas": null,
            "object_position": null,
            "object_fit": null,
            "grid_auto_columns": null,
            "margin": null,
            "display": null,
            "left": null
          }
        },
        "17bd8ca480054b7aa399a2ed0866221e": {
          "model_module": "@jupyter-widgets/controls",
          "model_name": "DescriptionStyleModel",
          "state": {
            "_view_name": "StyleView",
            "_model_name": "DescriptionStyleModel",
            "description_width": "",
            "_view_module": "@jupyter-widgets/base",
            "_model_module_version": "1.5.0",
            "_view_count": null,
            "_view_module_version": "1.2.0",
            "_model_module": "@jupyter-widgets/controls"
          }
        },
        "43e80bfea81b4b038cf1b22b6343edd1": {
          "model_module": "@jupyter-widgets/base",
          "model_name": "LayoutModel",
          "state": {
            "_view_name": "LayoutView",
            "grid_template_rows": null,
            "right": null,
            "justify_content": null,
            "_view_module": "@jupyter-widgets/base",
            "overflow": null,
            "_model_module_version": "1.2.0",
            "_view_count": null,
            "flex_flow": null,
            "width": null,
            "min_width": null,
            "border": null,
            "align_items": null,
            "bottom": null,
            "_model_module": "@jupyter-widgets/base",
            "top": null,
            "grid_column": null,
            "overflow_y": null,
            "overflow_x": null,
            "grid_auto_flow": null,
            "grid_area": null,
            "grid_template_columns": null,
            "flex": null,
            "_model_name": "LayoutModel",
            "justify_items": null,
            "grid_row": null,
            "max_height": null,
            "align_content": null,
            "visibility": null,
            "align_self": null,
            "height": null,
            "min_height": null,
            "padding": null,
            "grid_auto_rows": null,
            "grid_gap": null,
            "max_width": null,
            "order": null,
            "_view_module_version": "1.2.0",
            "grid_template_areas": null,
            "object_position": null,
            "object_fit": null,
            "grid_auto_columns": null,
            "margin": null,
            "display": null,
            "left": null
          }
        },
        "301d6be543e44f138d1e459cd7cda3cf": {
          "model_module": "@jupyter-widgets/controls",
          "model_name": "HBoxModel",
          "state": {
            "_view_name": "HBoxView",
            "_dom_classes": [],
            "_model_name": "HBoxModel",
            "_view_module": "@jupyter-widgets/controls",
            "_model_module_version": "1.5.0",
            "_view_count": null,
            "_view_module_version": "1.5.0",
            "box_style": "",
            "layout": "IPY_MODEL_d0e7ed80a8be4d4688cce394eb18f8d6",
            "_model_module": "@jupyter-widgets/controls",
            "children": [
              "IPY_MODEL_c1eedb04658d49a3a7bf2b91c6f856be",
              "IPY_MODEL_402a1c56f82e4f82b58a0f6661cd3a30"
            ]
          }
        },
        "d0e7ed80a8be4d4688cce394eb18f8d6": {
          "model_module": "@jupyter-widgets/base",
          "model_name": "LayoutModel",
          "state": {
            "_view_name": "LayoutView",
            "grid_template_rows": null,
            "right": null,
            "justify_content": null,
            "_view_module": "@jupyter-widgets/base",
            "overflow": null,
            "_model_module_version": "1.2.0",
            "_view_count": null,
            "flex_flow": null,
            "width": null,
            "min_width": null,
            "border": null,
            "align_items": null,
            "bottom": null,
            "_model_module": "@jupyter-widgets/base",
            "top": null,
            "grid_column": null,
            "overflow_y": null,
            "overflow_x": null,
            "grid_auto_flow": null,
            "grid_area": null,
            "grid_template_columns": null,
            "flex": null,
            "_model_name": "LayoutModel",
            "justify_items": null,
            "grid_row": null,
            "max_height": null,
            "align_content": null,
            "visibility": null,
            "align_self": null,
            "height": null,
            "min_height": null,
            "padding": null,
            "grid_auto_rows": null,
            "grid_gap": null,
            "max_width": null,
            "order": null,
            "_view_module_version": "1.2.0",
            "grid_template_areas": null,
            "object_position": null,
            "object_fit": null,
            "grid_auto_columns": null,
            "margin": null,
            "display": null,
            "left": null
          }
        },
        "c1eedb04658d49a3a7bf2b91c6f856be": {
          "model_module": "@jupyter-widgets/controls",
          "model_name": "FloatProgressModel",
          "state": {
            "_view_name": "ProgressView",
            "style": "IPY_MODEL_415b06b77b424573874a7f2f6d274baa",
            "_dom_classes": [],
            "description": "",
            "_model_name": "FloatProgressModel",
            "bar_style": "success",
            "max": 1,
            "_view_module": "@jupyter-widgets/controls",
            "_model_module_version": "1.5.0",
            "value": 1,
            "_view_count": null,
            "_view_module_version": "1.5.0",
            "orientation": "horizontal",
            "min": 0,
            "description_tooltip": null,
            "_model_module": "@jupyter-widgets/controls",
            "layout": "IPY_MODEL_647133ce111c446887bca44fe9b7669f"
          }
        },
        "402a1c56f82e4f82b58a0f6661cd3a30": {
          "model_module": "@jupyter-widgets/controls",
          "model_name": "HTMLModel",
          "state": {
            "_view_name": "HTMLView",
            "style": "IPY_MODEL_4e7b6b6607054e56abdbf82de7fba49d",
            "_dom_classes": [],
            "description": "",
            "_model_name": "HTMLModel",
            "placeholder": "​",
            "_view_module": "@jupyter-widgets/controls",
            "_model_module_version": "1.5.0",
            "value": " 1654784/? [00:00&lt;00:00, 2317229.30it/s]",
            "_view_count": null,
            "_view_module_version": "1.5.0",
            "description_tooltip": null,
            "_model_module": "@jupyter-widgets/controls",
            "layout": "IPY_MODEL_7095b1e820f3409ab7690df277876359"
          }
        },
        "415b06b77b424573874a7f2f6d274baa": {
          "model_module": "@jupyter-widgets/controls",
          "model_name": "ProgressStyleModel",
          "state": {
            "_view_name": "StyleView",
            "_model_name": "ProgressStyleModel",
            "description_width": "initial",
            "_view_module": "@jupyter-widgets/base",
            "_model_module_version": "1.5.0",
            "_view_count": null,
            "_view_module_version": "1.2.0",
            "bar_color": null,
            "_model_module": "@jupyter-widgets/controls"
          }
        },
        "647133ce111c446887bca44fe9b7669f": {
          "model_module": "@jupyter-widgets/base",
          "model_name": "LayoutModel",
          "state": {
            "_view_name": "LayoutView",
            "grid_template_rows": null,
            "right": null,
            "justify_content": null,
            "_view_module": "@jupyter-widgets/base",
            "overflow": null,
            "_model_module_version": "1.2.0",
            "_view_count": null,
            "flex_flow": null,
            "width": null,
            "min_width": null,
            "border": null,
            "align_items": null,
            "bottom": null,
            "_model_module": "@jupyter-widgets/base",
            "top": null,
            "grid_column": null,
            "overflow_y": null,
            "overflow_x": null,
            "grid_auto_flow": null,
            "grid_area": null,
            "grid_template_columns": null,
            "flex": null,
            "_model_name": "LayoutModel",
            "justify_items": null,
            "grid_row": null,
            "max_height": null,
            "align_content": null,
            "visibility": null,
            "align_self": null,
            "height": null,
            "min_height": null,
            "padding": null,
            "grid_auto_rows": null,
            "grid_gap": null,
            "max_width": null,
            "order": null,
            "_view_module_version": "1.2.0",
            "grid_template_areas": null,
            "object_position": null,
            "object_fit": null,
            "grid_auto_columns": null,
            "margin": null,
            "display": null,
            "left": null
          }
        },
        "4e7b6b6607054e56abdbf82de7fba49d": {
          "model_module": "@jupyter-widgets/controls",
          "model_name": "DescriptionStyleModel",
          "state": {
            "_view_name": "StyleView",
            "_model_name": "DescriptionStyleModel",
            "description_width": "",
            "_view_module": "@jupyter-widgets/base",
            "_model_module_version": "1.5.0",
            "_view_count": null,
            "_view_module_version": "1.2.0",
            "_model_module": "@jupyter-widgets/controls"
          }
        },
        "7095b1e820f3409ab7690df277876359": {
          "model_module": "@jupyter-widgets/base",
          "model_name": "LayoutModel",
          "state": {
            "_view_name": "LayoutView",
            "grid_template_rows": null,
            "right": null,
            "justify_content": null,
            "_view_module": "@jupyter-widgets/base",
            "overflow": null,
            "_model_module_version": "1.2.0",
            "_view_count": null,
            "flex_flow": null,
            "width": null,
            "min_width": null,
            "border": null,
            "align_items": null,
            "bottom": null,
            "_model_module": "@jupyter-widgets/base",
            "top": null,
            "grid_column": null,
            "overflow_y": null,
            "overflow_x": null,
            "grid_auto_flow": null,
            "grid_area": null,
            "grid_template_columns": null,
            "flex": null,
            "_model_name": "LayoutModel",
            "justify_items": null,
            "grid_row": null,
            "max_height": null,
            "align_content": null,
            "visibility": null,
            "align_self": null,
            "height": null,
            "min_height": null,
            "padding": null,
            "grid_auto_rows": null,
            "grid_gap": null,
            "max_width": null,
            "order": null,
            "_view_module_version": "1.2.0",
            "grid_template_areas": null,
            "object_position": null,
            "object_fit": null,
            "grid_auto_columns": null,
            "margin": null,
            "display": null,
            "left": null
          }
        },
        "884dc4a63050440986aa0a2df76c9414": {
          "model_module": "@jupyter-widgets/controls",
          "model_name": "HBoxModel",
          "state": {
            "_view_name": "HBoxView",
            "_dom_classes": [],
            "_model_name": "HBoxModel",
            "_view_module": "@jupyter-widgets/controls",
            "_model_module_version": "1.5.0",
            "_view_count": null,
            "_view_module_version": "1.5.0",
            "box_style": "",
            "layout": "IPY_MODEL_ab61e81ba4dc474c80e60dd8fb576017",
            "_model_module": "@jupyter-widgets/controls",
            "children": [
              "IPY_MODEL_290f7a7694d8440b85ca3c7f41d726aa",
              "IPY_MODEL_47e9f99839574501aadaa2de7e4ff737"
            ]
          }
        },
        "ab61e81ba4dc474c80e60dd8fb576017": {
          "model_module": "@jupyter-widgets/base",
          "model_name": "LayoutModel",
          "state": {
            "_view_name": "LayoutView",
            "grid_template_rows": null,
            "right": null,
            "justify_content": null,
            "_view_module": "@jupyter-widgets/base",
            "overflow": null,
            "_model_module_version": "1.2.0",
            "_view_count": null,
            "flex_flow": null,
            "width": null,
            "min_width": null,
            "border": null,
            "align_items": null,
            "bottom": null,
            "_model_module": "@jupyter-widgets/base",
            "top": null,
            "grid_column": null,
            "overflow_y": null,
            "overflow_x": null,
            "grid_auto_flow": null,
            "grid_area": null,
            "grid_template_columns": null,
            "flex": null,
            "_model_name": "LayoutModel",
            "justify_items": null,
            "grid_row": null,
            "max_height": null,
            "align_content": null,
            "visibility": null,
            "align_self": null,
            "height": null,
            "min_height": null,
            "padding": null,
            "grid_auto_rows": null,
            "grid_gap": null,
            "max_width": null,
            "order": null,
            "_view_module_version": "1.2.0",
            "grid_template_areas": null,
            "object_position": null,
            "object_fit": null,
            "grid_auto_columns": null,
            "margin": null,
            "display": null,
            "left": null
          }
        },
        "290f7a7694d8440b85ca3c7f41d726aa": {
          "model_module": "@jupyter-widgets/controls",
          "model_name": "FloatProgressModel",
          "state": {
            "_view_name": "ProgressView",
            "style": "IPY_MODEL_ba86d5bca0ae4409a9d0c331ac92cdec",
            "_dom_classes": [],
            "description": "  0%",
            "_model_name": "FloatProgressModel",
            "bar_style": "info",
            "max": 1,
            "_view_module": "@jupyter-widgets/controls",
            "_model_module_version": "1.5.0",
            "value": 0,
            "_view_count": null,
            "_view_module_version": "1.5.0",
            "orientation": "horizontal",
            "min": 0,
            "description_tooltip": null,
            "_model_module": "@jupyter-widgets/controls",
            "layout": "IPY_MODEL_bb522724c2be45b2aa9efd52940be37d"
          }
        },
        "47e9f99839574501aadaa2de7e4ff737": {
          "model_module": "@jupyter-widgets/controls",
          "model_name": "HTMLModel",
          "state": {
            "_view_name": "HTMLView",
            "style": "IPY_MODEL_a348d43246fb44bc8841e777b0acbadd",
            "_dom_classes": [],
            "description": "",
            "_model_name": "HTMLModel",
            "placeholder": "​",
            "_view_module": "@jupyter-widgets/controls",
            "_model_module_version": "1.5.0",
            "value": " 0/4542 [00:00&lt;?, ?it/s]",
            "_view_count": null,
            "_view_module_version": "1.5.0",
            "description_tooltip": null,
            "_model_module": "@jupyter-widgets/controls",
            "layout": "IPY_MODEL_8e28a7b9abe24aa49214ee0562b793d1"
          }
        },
        "ba86d5bca0ae4409a9d0c331ac92cdec": {
          "model_module": "@jupyter-widgets/controls",
          "model_name": "ProgressStyleModel",
          "state": {
            "_view_name": "StyleView",
            "_model_name": "ProgressStyleModel",
            "description_width": "initial",
            "_view_module": "@jupyter-widgets/base",
            "_model_module_version": "1.5.0",
            "_view_count": null,
            "_view_module_version": "1.2.0",
            "bar_color": null,
            "_model_module": "@jupyter-widgets/controls"
          }
        },
        "bb522724c2be45b2aa9efd52940be37d": {
          "model_module": "@jupyter-widgets/base",
          "model_name": "LayoutModel",
          "state": {
            "_view_name": "LayoutView",
            "grid_template_rows": null,
            "right": null,
            "justify_content": null,
            "_view_module": "@jupyter-widgets/base",
            "overflow": null,
            "_model_module_version": "1.2.0",
            "_view_count": null,
            "flex_flow": null,
            "width": null,
            "min_width": null,
            "border": null,
            "align_items": null,
            "bottom": null,
            "_model_module": "@jupyter-widgets/base",
            "top": null,
            "grid_column": null,
            "overflow_y": null,
            "overflow_x": null,
            "grid_auto_flow": null,
            "grid_area": null,
            "grid_template_columns": null,
            "flex": null,
            "_model_name": "LayoutModel",
            "justify_items": null,
            "grid_row": null,
            "max_height": null,
            "align_content": null,
            "visibility": null,
            "align_self": null,
            "height": null,
            "min_height": null,
            "padding": null,
            "grid_auto_rows": null,
            "grid_gap": null,
            "max_width": null,
            "order": null,
            "_view_module_version": "1.2.0",
            "grid_template_areas": null,
            "object_position": null,
            "object_fit": null,
            "grid_auto_columns": null,
            "margin": null,
            "display": null,
            "left": null
          }
        },
        "a348d43246fb44bc8841e777b0acbadd": {
          "model_module": "@jupyter-widgets/controls",
          "model_name": "DescriptionStyleModel",
          "state": {
            "_view_name": "StyleView",
            "_model_name": "DescriptionStyleModel",
            "description_width": "",
            "_view_module": "@jupyter-widgets/base",
            "_model_module_version": "1.5.0",
            "_view_count": null,
            "_view_module_version": "1.2.0",
            "_model_module": "@jupyter-widgets/controls"
          }
        },
        "8e28a7b9abe24aa49214ee0562b793d1": {
          "model_module": "@jupyter-widgets/base",
          "model_name": "LayoutModel",
          "state": {
            "_view_name": "LayoutView",
            "grid_template_rows": null,
            "right": null,
            "justify_content": null,
            "_view_module": "@jupyter-widgets/base",
            "overflow": null,
            "_model_module_version": "1.2.0",
            "_view_count": null,
            "flex_flow": null,
            "width": null,
            "min_width": null,
            "border": null,
            "align_items": null,
            "bottom": null,
            "_model_module": "@jupyter-widgets/base",
            "top": null,
            "grid_column": null,
            "overflow_y": null,
            "overflow_x": null,
            "grid_auto_flow": null,
            "grid_area": null,
            "grid_template_columns": null,
            "flex": null,
            "_model_name": "LayoutModel",
            "justify_items": null,
            "grid_row": null,
            "max_height": null,
            "align_content": null,
            "visibility": null,
            "align_self": null,
            "height": null,
            "min_height": null,
            "padding": null,
            "grid_auto_rows": null,
            "grid_gap": null,
            "max_width": null,
            "order": null,
            "_view_module_version": "1.2.0",
            "grid_template_areas": null,
            "object_position": null,
            "object_fit": null,
            "grid_auto_columns": null,
            "margin": null,
            "display": null,
            "left": null
          }
        }
      }
    }
  },
  "cells": [
    {
      "cell_type": "markdown",
      "metadata": {
        "id": "view-in-github",
        "colab_type": "text"
      },
      "source": [
        "<a href=\"https://colab.research.google.com/github/noallynoclan/colab/blob/master/pytorch_tutorials_02_simple_nn.ipynb\" target=\"_parent\"><img src=\"https://colab.research.google.com/assets/colab-badge.svg\" alt=\"Open In Colab\"/></a>"
      ]
    },
    {
      "cell_type": "code",
      "metadata": {
        "id": "n7_2CgKFQW37",
        "colab": {
          "base_uri": "https://localhost:8080/"
        },
        "outputId": "8d227a98-a6f4-44b3-83f3-c30b3260da38"
      },
      "source": [
        "from time import time\r\n",
        "import torch\r\n",
        "import torch.nn as nn\r\n",
        "import torch.optim as optim\r\n",
        "import torch.nn.functional as F\r\n",
        "from torch.utils.data import DataLoader\r\n",
        "import torchvision.datasets as datasets\r\n",
        "import torchvision.transforms as transforms\r\n",
        "\r\n",
        "device = torch.device('cuda' if torch.cuda.is_available() else 'cpu')\r\n",
        "print(device)"
      ],
      "execution_count": null,
      "outputs": [
        {
          "output_type": "stream",
          "text": [
            "cuda\n"
          ],
          "name": "stdout"
        }
      ]
    },
    {
      "cell_type": "code",
      "metadata": {
        "id": "-_vcmAIYqyV1",
        "colab": {
          "base_uri": "https://localhost:8080/",
          "height": 403,
          "referenced_widgets": [
            "ad55fcf3b22a461b8210a70d3c0c5a02",
            "8d36c2ae4f2f4a4e83c4cf30013067df",
            "c77a4b584ef74b288774fee218354435",
            "3a57a9ec0f37485ca8eeb9ac4727974f",
            "b2a60d110a4842478fb446fc704c614c",
            "0da2ad6caccc4d6caf85d93f2c63ba53",
            "977f7dabdfb540f3959a0a0d18fc38e1",
            "8cf80c14ac984a5797708def00438ce5",
            "eab36d385b80401487491cb15470f641",
            "6efe4359e7ee4e32a9c7248bd5beb931",
            "3c395213dd4947d99b7ff1c3a066b730",
            "a81f2e1f14324bf0946487dd29095063",
            "2a64ecd614694129bba90f92cd0970ac",
            "2f83c35dd4b14cc6afef3e6574dd94c3",
            "17bd8ca480054b7aa399a2ed0866221e",
            "43e80bfea81b4b038cf1b22b6343edd1",
            "301d6be543e44f138d1e459cd7cda3cf",
            "d0e7ed80a8be4d4688cce394eb18f8d6",
            "c1eedb04658d49a3a7bf2b91c6f856be",
            "402a1c56f82e4f82b58a0f6661cd3a30",
            "415b06b77b424573874a7f2f6d274baa",
            "647133ce111c446887bca44fe9b7669f",
            "4e7b6b6607054e56abdbf82de7fba49d",
            "7095b1e820f3409ab7690df277876359",
            "884dc4a63050440986aa0a2df76c9414",
            "ab61e81ba4dc474c80e60dd8fb576017",
            "290f7a7694d8440b85ca3c7f41d726aa",
            "47e9f99839574501aadaa2de7e4ff737",
            "ba86d5bca0ae4409a9d0c331ac92cdec",
            "bb522724c2be45b2aa9efd52940be37d",
            "a348d43246fb44bc8841e777b0acbadd",
            "8e28a7b9abe24aa49214ee0562b793d1"
          ]
        },
        "outputId": "a9ddf417-9bc0-48d2-9eaa-06366d8960c4"
      },
      "source": [
        "train_dataset = datasets.MNIST(root='dataset/', train=True, transform=transforms.ToTensor(), download=True)\r\n",
        "train_loader = DataLoader(train_dataset, batch_size, shuffle=True)\r\n",
        "test_dataset = datasets.MNIST(root='dataset/', train=False, transform=transforms.ToTensor(), download=True)\r\n",
        "test_loader = DataLoader(test_dataset, batch_size, shuffle=True)"
      ],
      "execution_count": null,
      "outputs": [
        {
          "output_type": "stream",
          "text": [
            "Downloading http://yann.lecun.com/exdb/mnist/train-images-idx3-ubyte.gz to dataset/MNIST/raw/train-images-idx3-ubyte.gz\n"
          ],
          "name": "stdout"
        },
        {
          "output_type": "display_data",
          "data": {
            "application/vnd.jupyter.widget-view+json": {
              "model_id": "ad55fcf3b22a461b8210a70d3c0c5a02",
              "version_minor": 0,
              "version_major": 2
            },
            "text/plain": [
              "HBox(children=(FloatProgress(value=1.0, bar_style='info', max=1.0), HTML(value='')))"
            ]
          },
          "metadata": {
            "tags": []
          }
        },
        {
          "output_type": "stream",
          "text": [
            "Extracting dataset/MNIST/raw/train-images-idx3-ubyte.gz to dataset/MNIST/raw\n",
            "Downloading http://yann.lecun.com/exdb/mnist/train-labels-idx1-ubyte.gz to dataset/MNIST/raw/train-labels-idx1-ubyte.gz\n"
          ],
          "name": "stdout"
        },
        {
          "output_type": "display_data",
          "data": {
            "application/vnd.jupyter.widget-view+json": {
              "model_id": "eab36d385b80401487491cb15470f641",
              "version_minor": 0,
              "version_major": 2
            },
            "text/plain": [
              "HBox(children=(FloatProgress(value=1.0, bar_style='info', max=1.0), HTML(value='')))"
            ]
          },
          "metadata": {
            "tags": []
          }
        },
        {
          "output_type": "stream",
          "text": [
            "Extracting dataset/MNIST/raw/train-labels-idx1-ubyte.gz to dataset/MNIST/raw\n",
            "Downloading http://yann.lecun.com/exdb/mnist/t10k-images-idx3-ubyte.gz to dataset/MNIST/raw/t10k-images-idx3-ubyte.gz\n"
          ],
          "name": "stdout"
        },
        {
          "output_type": "display_data",
          "data": {
            "application/vnd.jupyter.widget-view+json": {
              "model_id": "301d6be543e44f138d1e459cd7cda3cf",
              "version_minor": 0,
              "version_major": 2
            },
            "text/plain": [
              "HBox(children=(FloatProgress(value=1.0, bar_style='info', max=1.0), HTML(value='')))"
            ]
          },
          "metadata": {
            "tags": []
          }
        },
        {
          "output_type": "stream",
          "text": [
            "Extracting dataset/MNIST/raw/t10k-images-idx3-ubyte.gz to dataset/MNIST/raw\n",
            "Downloading http://yann.lecun.com/exdb/mnist/t10k-labels-idx1-ubyte.gz to dataset/MNIST/raw/t10k-labels-idx1-ubyte.gz\n",
            "\n",
            "\n"
          ],
          "name": "stdout"
        },
        {
          "output_type": "display_data",
          "data": {
            "application/vnd.jupyter.widget-view+json": {
              "model_id": "884dc4a63050440986aa0a2df76c9414",
              "version_minor": 0,
              "version_major": 2
            },
            "text/plain": [
              "HBox(children=(FloatProgress(value=1.0, bar_style='info', max=1.0), HTML(value='')))"
            ]
          },
          "metadata": {
            "tags": []
          }
        },
        {
          "output_type": "stream",
          "text": [
            "Extracting dataset/MNIST/raw/t10k-labels-idx1-ubyte.gz to dataset/MNIST/raw\n",
            "Processing...\n",
            "Done!\n"
          ],
          "name": "stdout"
        },
        {
          "output_type": "stream",
          "text": [
            "/usr/local/lib/python3.6/dist-packages/torchvision/datasets/mnist.py:480: UserWarning: The given NumPy array is not writeable, and PyTorch does not support non-writeable tensors. This means you can write to the underlying (supposedly non-writeable) NumPy array using the tensor. You may want to copy the array to protect its data or make it writeable before converting it to a tensor. This type of warning will be suppressed for the rest of this program. (Triggered internally at  /pytorch/torch/csrc/utils/tensor_numpy.cpp:141.)\n",
            "  return torch.from_numpy(parsed.astype(m[2], copy=False)).view(*s)\n"
          ],
          "name": "stderr"
        }
      ]
    },
    {
      "cell_type": "code",
      "metadata": {
        "id": "Gbkji9cczeJx"
      },
      "source": [
        "def accuracy(model, data_loader):\r\n",
        "    num_correct = 0\r\n",
        "    num_samples = 0\r\n",
        "    model.eval()\r\n",
        "    with torch.no_grad():\r\n",
        "        for batch_idx, (data, targets) in enumerate(data_loader):\r\n",
        "            data = data.to(model.device)\r\n",
        "            targets = targets.to(model.device)\r\n",
        "            scores = model(data)\r\n",
        "            predictions = scores.argmax(1)\r\n",
        "            num_correct += (predictions == targets).sum()\r\n",
        "            num_samples += predictions.size(0)\r\n",
        "    acc = num_correct / num_samples\r\n",
        "    return acc\r\n",
        "\r\n",
        "def train(model, data_loader, num_epochs, learning_rate):\r\n",
        "    optimizer = optim.Adam(model.parameters(), lr=learning_rate)\r\n",
        "    for epoch in range(num_epochs):\r\n",
        "        model.train()\r\n",
        "        start_time = time()\r\n",
        "        for batch_idx, (data, targets) in enumerate(data_loader):\r\n",
        "            data = data.to(model.device)\r\n",
        "            targets = targets.to(model.device)\r\n",
        "            scores = model(data)\r\n",
        "            loss = model.loss(scores, targets)\r\n",
        "            optimizer.zero_grad()\r\n",
        "            loss.backward()\r\n",
        "            optimizer.step()\r\n",
        "        print(f'epoch {epoch}, {time() - start_time:.1f}s: {accuracy(model, data_loader):.1%}')"
      ],
      "execution_count": null,
      "outputs": []
    },
    {
      "cell_type": "code",
      "metadata": {
        "colab": {
          "base_uri": "https://localhost:8080/"
        },
        "id": "6clU7m5a5UoJ",
        "outputId": "2e8f4913-35cf-497d-f726-b8c1d64118d6"
      },
      "source": [
        "class NN(nn.Module):\r\n",
        "    def __init__(self, input_size, num_classes):\r\n",
        "        super(NN, self).__init__()\r\n",
        "        self.fc1 = nn.Linear(input_size, 64)\r\n",
        "        self.fc2 = nn.Linear(64, num_classes)\r\n",
        "        self.loss = nn.CrossEntropyLoss()\r\n",
        "        self.device = torch.device('cuda' if torch.cuda.is_available() else 'cpu')\r\n",
        "        self.to(self.device)\r\n",
        "\r\n",
        "    def forward(self, x): # [None, 1, 28, 28]\r\n",
        "        x = x.reshape(x.shape[0], -1) # [None, 784]\r\n",
        "        x = F.relu(self.fc1(x)) # [None, 64]\r\n",
        "        x = self.fc2(x) # [None, 10]\r\n",
        "        return x\r\n",
        "\r\n",
        "input_size = 784\r\n",
        "num_classes = 10\r\n",
        "learning_rate = 1e-3\r\n",
        "batch_size = 64\r\n",
        "num_epochs = 2\r\n",
        "\r\n",
        "model = NN(input_size, num_classes)\r\n",
        "train(model, train_loader, num_epochs, learning_rate)\r\n",
        "print(f'test: {accuracy(model, test_loader):.1%}')"
      ],
      "execution_count": null,
      "outputs": [
        {
          "output_type": "stream",
          "text": [
            "epoch 0, 5.6s: 93.4%\n",
            "epoch 1, 5.8s: 95.5%\n",
            "test: 95.2%\n"
          ],
          "name": "stdout"
        }
      ]
    },
    {
      "cell_type": "code",
      "metadata": {
        "id": "OHTDJfOZsy3F",
        "colab": {
          "base_uri": "https://localhost:8080/"
        },
        "outputId": "3f40fad2-470d-40f3-89f0-45435dfec79e"
      },
      "source": [
        "class CNN(nn.Module):\r\n",
        "    def __init__(self, in_channels, num_classes):\r\n",
        "        super(CNN, self).__init__()\r\n",
        "        # n_out = (n_in + 2 * padding - kernel) / stride + 1\r\n",
        "        self.conv1 = nn.Conv2d(in_channels, out_channels=8, kernel_size=(3, 3), stride=(1, 1), padding=(1, 1))\r\n",
        "        self.pool = nn.MaxPool2d(kernel_size=(2, 2), stride=(2, 2))\r\n",
        "        self.conv2 = nn.Conv2d(8, 16, kernel_size=(3, 3), stride=(1, 1), padding=(1, 1))\r\n",
        "        self.fc1 = nn.Linear(16 * 7 * 7, num_classes)\r\n",
        "        self.loss = nn.CrossEntropyLoss()\r\n",
        "        self.device = torch.device('cuda' if torch.cuda.is_available() else 'cpu')\r\n",
        "        self.to(self.device)\r\n",
        "\r\n",
        "    def forward(self, x): # [None, 1, 28, 28]\r\n",
        "        x = F.relu(self.conv1(x)) # [None, 8, 28, 28]\r\n",
        "        x = self.pool(x) # [None, 8, 14, 14]\r\n",
        "        x = F.relu(self.conv2(x)) # [None, 16, 14, 14]\r\n",
        "        x = self.pool(x) # [None, 16, 7, 7]\r\n",
        "        x = x.reshape(x.shape[0], -1)\r\n",
        "        x = self.fc1(x) # [None, 10]\r\n",
        "        return x\r\n",
        "\r\n",
        "in_channels = 1\r\n",
        "num_classes = 10\r\n",
        "learning_rate = 1e-3\r\n",
        "num_epochs = 2\r\n",
        "\r\n",
        "model = CNN(in_channels, num_classes)\r\n",
        "train(model, train_loader, num_epochs, learning_rate)\r\n",
        "print(f'test: {accuracy(model, test_loader):.1%}')"
      ],
      "execution_count": null,
      "outputs": [
        {
          "output_type": "stream",
          "text": [
            "epoch 0, 5.8s: 96.6%\n",
            "epoch 1, 6.2s: 97.6%\n",
            "test: 97.6%\n"
          ],
          "name": "stdout"
        }
      ]
    },
    {
      "cell_type": "code",
      "metadata": {
        "colab": {
          "base_uri": "https://localhost:8080/"
        },
        "id": "YZPcycTaYkRw",
        "outputId": "055af592-b9ea-4792-f601-b6eda36a83c7"
      },
      "source": [
        "class RNN(nn.Module):\r\n",
        "    def __init__(self, input_size, hidden_size, num_layers, num_classes):\r\n",
        "        super(RNN, self).__init__()\r\n",
        "        self.hidden_size = hidden_size \r\n",
        "        self.num_layers = num_layers\r\n",
        "        self.rnn = nn.RNN(input_size, hidden_size, num_layers, batch_first=True)\r\n",
        "        self.fc = nn.Linear(hidden_size * sequence_length, num_classes)\r\n",
        "        self.loss = nn.CrossEntropyLoss()\r\n",
        "        self.device = torch.device('cuda' if torch.cuda.is_available() else 'cpu')\r\n",
        "        self.to(self.device)\r\n",
        "\r\n",
        "    def forward(self, x): # [None, 1, 28, 28]\r\n",
        "        x = x.squeeze(1) # [None, 28, 28]\r\n",
        "        h0 = torch.zeros(self.num_layers, x.size(0), self.hidden_size).to(self.device) # [2, None, 256]\r\n",
        "        out, _ = self.rnn(x, h0) # [None, 28, 256]\r\n",
        "        out = out.reshape(out.shape[0], -1) # [None, 7168]\r\n",
        "        out = self.fc(out) # [None, 10]\r\n",
        "        return out\r\n",
        "\r\n",
        "input_size = 28\r\n",
        "sequence_length = 28\r\n",
        "num_layers = 2\r\n",
        "hidden_size = 256\r\n",
        "num_classes = 10\r\n",
        "learning_rate = 0.001\r\n",
        "batch_size = 64\r\n",
        "num_epochs = 2\r\n",
        "\r\n",
        "model = RNN(input_size, hidden_size, num_layers, num_classes)\r\n",
        "# x = torch.empty(64, 1, 28, 28)\r\n",
        "# model(x)\r\n",
        "train(model, train_loader, num_epochs, learning_rate)\r\n",
        "print(f'test: {accuracy(model, test_loader):.1%}')"
      ],
      "execution_count": null,
      "outputs": [
        {
          "output_type": "stream",
          "text": [
            "epoch 0, 8.8s: 95.6%\n",
            "epoch 1, 8.2s: 97.1%\n",
            "test: 97.1%\n"
          ],
          "name": "stdout"
        }
      ]
    },
    {
      "cell_type": "code",
      "metadata": {
        "colab": {
          "base_uri": "https://localhost:8080/"
        },
        "id": "tfgEZ2FfUXYa",
        "outputId": "827b526e-4905-472a-9668-48b250db4a91"
      },
      "source": [
        "class GRU(nn.Module):\r\n",
        "    def __init__(self, input_size, hidden_size, num_layers, num_classes):\r\n",
        "        super(GRU, self).__init__()\r\n",
        "        self.hidden_size = hidden_size \r\n",
        "        self.num_layers = num_layers\r\n",
        "        self.gru = nn.GRU(input_size, hidden_size, num_layers, batch_first=True)\r\n",
        "        self.fc = nn.Linear(hidden_size * sequence_length, num_classes)\r\n",
        "        self.loss = nn.CrossEntropyLoss()\r\n",
        "        self.device = torch.device('cuda' if torch.cuda.is_available() else 'cpu')\r\n",
        "        self.to(self.device)\r\n",
        "\r\n",
        "    def forward(self, x): # [None, 1, 28, 28]\r\n",
        "        x = x.squeeze(1) # [None, 28, 28]\r\n",
        "        h0 = torch.zeros(self.num_layers, x.size(0), self.hidden_size).to(self.device) # [2, None, 256]\r\n",
        "        out, _ = self.gru(x, h0) # [None, 28, 256]\r\n",
        "        out = out.reshape(out.shape[0], -1) # [None, 7168]\r\n",
        "        out = self.fc(out) # [None, 10]\r\n",
        "        return out\r\n",
        "\r\n",
        "input_size = 28\r\n",
        "sequence_length = 28\r\n",
        "num_layers = 2\r\n",
        "hidden_size = 256\r\n",
        "num_classes = 10\r\n",
        "learning_rate = 0.001\r\n",
        "batch_size = 64\r\n",
        "num_epochs = 2\r\n",
        "\r\n",
        "model = GRU(input_size, hidden_size, num_layers, num_classes)\r\n",
        "# x = torch.empty(64, 1, 28, 28)\r\n",
        "# model(x)\r\n",
        "train(model, train_loader, num_epochs, learning_rate)\r\n",
        "print(f'test: {accuracy(model, test_loader):.1%}')"
      ],
      "execution_count": null,
      "outputs": [
        {
          "output_type": "stream",
          "text": [
            "epoch 0, 133.2s: 97.9%\n",
            "epoch 1, 134.8s: 97.2%\n",
            "test: 97.2%\n"
          ],
          "name": "stdout"
        }
      ]
    },
    {
      "cell_type": "code",
      "metadata": {
        "colab": {
          "base_uri": "https://localhost:8080/"
        },
        "id": "Odm69vXL735R",
        "outputId": "9e065bd5-e284-4956-98df-66671fa95a20"
      },
      "source": [
        "class LSTM(nn.Module):\r\n",
        "    def __init__(self, input_size, hidden_size, num_layers, num_classes):\r\n",
        "        super(LSTM, self).__init__()\r\n",
        "        self.hidden_size = hidden_size \r\n",
        "        self.num_layers = num_layers\r\n",
        "        self.lstm = nn.LSTM(input_size, hidden_size, num_layers, batch_first=True)\r\n",
        "        self.fc = nn.Linear(hidden_size * sequence_length, num_classes)\r\n",
        "        self.loss = nn.CrossEntropyLoss()\r\n",
        "        self.device = torch.device('cuda' if torch.cuda.is_available() else 'cpu')\r\n",
        "        self.to(self.device)\r\n",
        "\r\n",
        "    def forward(self, x): # [None, 1, 28, 28]\r\n",
        "        x = x.squeeze(1) # [None, 28, 28]\r\n",
        "        h0 = torch.zeros(self.num_layers, x.size(0), self.hidden_size).to(self.device) # [2, None, 256]\r\n",
        "        c0 = torch.zeros(self.num_layers, x.size(0), self.hidden_size).to(self.device) # [2, None, 256]\r\n",
        "        out, _ = self.lstm(x, (h0, c0)) # [None, 28, 256]\r\n",
        "        out = out.reshape(out.shape[0], -1) # [None, 7168]\r\n",
        "        out = self.fc(out) # [None, 10]\r\n",
        "        return out\r\n",
        "\r\n",
        "input_size = 28\r\n",
        "sequence_length = 28\r\n",
        "num_layers = 2\r\n",
        "hidden_size = 256\r\n",
        "num_classes = 10\r\n",
        "learning_rate = 0.001\r\n",
        "batch_size = 64\r\n",
        "num_epochs = 2\r\n",
        "\r\n",
        "model = LSTM(input_size, hidden_size, num_layers, num_classes)\r\n",
        "# x = torch.empty(64, 1, 28, 28)\r\n",
        "# model(x)\r\n",
        "train(model, train_loader, num_epochs, learning_rate)\r\n",
        "print(f'test: {accuracy(model, test_loader):.1%}')"
      ],
      "execution_count": null,
      "outputs": [
        {
          "output_type": "stream",
          "text": [
            "epoch 0, 167.3s: 97.6%\n",
            "epoch 1, 163.7s: 98.7%\n",
            "test: 98.4%\n"
          ],
          "name": "stdout"
        }
      ]
    },
    {
      "cell_type": "code",
      "metadata": {
        "colab": {
          "base_uri": "https://localhost:8080/"
        },
        "id": "g4dDieKC-E3Y",
        "outputId": "e1aa4135-b4a3-4d5b-dad8-6d20ee055497"
      },
      "source": [
        "class LSTM(nn.Module):\r\n",
        "    def __init__(self, input_size, hidden_size, num_layers, num_classes):\r\n",
        "        super(LSTM, self).__init__()\r\n",
        "        self.hidden_size = hidden_size \r\n",
        "        self.num_layers = num_layers\r\n",
        "        self.lstm = nn.LSTM(input_size, hidden_size, num_layers, batch_first=True)\r\n",
        "        self.fc = nn.Linear(hidden_size, num_classes)\r\n",
        "        self.loss = nn.CrossEntropyLoss()\r\n",
        "        self.device = torch.device('cuda' if torch.cuda.is_available() else 'cpu')\r\n",
        "        self.to(self.device)\r\n",
        "\r\n",
        "    def forward(self, x): # [None, 1, 28, 28]\r\n",
        "        x = x.squeeze(1) # [None, 28, 28]\r\n",
        "        h0 = torch.zeros(self.num_layers, x.size(0), self.hidden_size).to(self.device) # [2, None, 256]\r\n",
        "        c0 = torch.zeros(self.num_layers, x.size(0), self.hidden_size).to(self.device) # [2, None, 256]\r\n",
        "        out, _ = self.lstm(x, (h0, c0)) # [None, 28, 256]\r\n",
        "        out = out[:, -1, :] # [None, 1, 256]\r\n",
        "        out = self.fc(out) # [None, 10]\r\n",
        "        return out\r\n",
        "\r\n",
        "input_size = 28\r\n",
        "sequence_length = 28\r\n",
        "num_layers = 2\r\n",
        "hidden_size = 256\r\n",
        "num_classes = 10\r\n",
        "learning_rate = 0.001\r\n",
        "batch_size = 64\r\n",
        "num_epochs = 2\r\n",
        "\r\n",
        "model = LSTM(input_size, hidden_size, num_layers, num_classes)\r\n",
        "# x = torch.empty(64, 1, 28, 28)\r\n",
        "# model(x)\r\n",
        "train(model, train_loader, num_epochs, learning_rate)\r\n",
        "print(f'test: {accuracy(model, test_loader):.1%}')"
      ],
      "execution_count": null,
      "outputs": [
        {
          "output_type": "stream",
          "text": [
            "epoch 0, 9.1s: 97.1%\n",
            "epoch 1, 9.3s: 97.7%\n",
            "test: 97.8%\n"
          ],
          "name": "stdout"
        }
      ]
    },
    {
      "cell_type": "code",
      "metadata": {
        "colab": {
          "base_uri": "https://localhost:8080/"
        },
        "id": "wUNE2iYF_yHZ",
        "outputId": "f3eed61c-3d7c-4236-8875-1d59406af438"
      },
      "source": [
        "class BLSTM(nn.Module):\r\n",
        "    def __init__(self, input_size, hidden_size, num_layers, num_classes):\r\n",
        "        super(BLSTM, self).__init__()\r\n",
        "        self.hidden_size = hidden_size \r\n",
        "        self.num_layers = num_layers\r\n",
        "        self.lstm = nn.LSTM(input_size, hidden_size, num_layers, batch_first=True, bidirectional=True)\r\n",
        "        self.fc = nn.Linear(hidden_size * 2, num_classes)\r\n",
        "        self.loss = nn.CrossEntropyLoss()\r\n",
        "        self.device = torch.device('cuda' if torch.cuda.is_available() else 'cpu')\r\n",
        "        self.to(self.device)\r\n",
        "\r\n",
        "    def forward(self, x): # [None, 1, 28, 28]\r\n",
        "        x = x.squeeze(1) # [None, 28, 28]\r\n",
        "        h0 = torch.zeros(self.num_layers * 2, x.size(0), self.hidden_size).to(self.device) # [2, None, 256]\r\n",
        "        c0 = torch.zeros(self.num_layers * 2, x.size(0), self.hidden_size).to(self.device) # [2, None, 256]\r\n",
        "        out, _ = self.lstm(x, (h0, c0)) # [None, 28, 256]\r\n",
        "        out = out[:, -1, :] # [None, 1, 256]\r\n",
        "        out = self.fc(out) # [None, 10]\r\n",
        "        return out\r\n",
        "\r\n",
        "\r\n",
        "input_size = 28\r\n",
        "sequence_length = 28\r\n",
        "num_layers = 2\r\n",
        "hidden_size = 256\r\n",
        "num_classes = 10\r\n",
        "learning_rate = 0.001\r\n",
        "batch_size = 64\r\n",
        "num_epochs = 2\r\n",
        "\r\n",
        "model = BLSTM(input_size, hidden_size, num_layers, num_classes)\r\n",
        "# x = torch.empty(64, 1, 28, 28)\r\n",
        "# model(x)\r\n",
        "train(model, train_loader, num_epochs, learning_rate)\r\n",
        "print(f'test: {accuracy(model, test_loader):.1%}')"
      ],
      "execution_count": null,
      "outputs": [
        {
          "output_type": "stream",
          "text": [
            "epoch 0, 12.9s: 95.3%\n",
            "epoch 1, 12.8s: 97.4%\n",
            "test: 97.0%\n"
          ],
          "name": "stdout"
        }
      ]
    },
    {
      "cell_type": "code",
      "metadata": {
        "colab": {
          "base_uri": "https://localhost:8080/"
        },
        "id": "j8-gLvWxEX50",
        "outputId": "9b909eeb-b6ab-4112-83e3-389fb890cc14"
      },
      "source": [
        "model."
      ],
      "execution_count": null,
      "outputs": [
        {
          "output_type": "execute_result",
          "data": {
            "text/plain": [
              "BLSTM(\n",
              "  (lstm): LSTM(28, 256, num_layers=2, batch_first=True, bidirectional=True)\n",
              "  (fc): Linear(in_features=512, out_features=10, bias=True)\n",
              "  (loss): CrossEntropyLoss()\n",
              ")"
            ]
          },
          "metadata": {
            "tags": []
          },
          "execution_count": 17
        }
      ]
    },
    {
      "cell_type": "code",
      "metadata": {
        "id": "_GWrdbLXE1ey"
      },
      "source": [
        ""
      ],
      "execution_count": null,
      "outputs": []
    }
  ]
}