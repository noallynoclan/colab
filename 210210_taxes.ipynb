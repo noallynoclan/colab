{
  "nbformat": 4,
  "nbformat_minor": 0,
  "metadata": {
    "colab": {
      "name": "210210_taxes.ipynb",
      "provenance": [],
      "authorship_tag": "ABX9TyN1c35qgUnuwITbQ5AQH40H",
      "include_colab_link": true
    },
    "kernelspec": {
      "name": "python3",
      "display_name": "Python 3"
    }
  },
  "cells": [
    {
      "cell_type": "markdown",
      "metadata": {
        "id": "view-in-github",
        "colab_type": "text"
      },
      "source": [
        "<a href=\"https://colab.research.google.com/github/noallynoclan/colab/blob/master/210210_taxes.ipynb\" target=\"_parent\"><img src=\"https://colab.research.google.com/assets/colab-badge.svg\" alt=\"Open In Colab\"/></a>"
      ]
    },
    {
      "cell_type": "code",
      "metadata": {
        "id": "uWeK5MxwsYsu"
      },
      "source": [
        "import numpy as np\r\n",
        "import pandas as pd\r\n",
        "from collections import deque\r\n",
        "\r\n",
        "def read_csv(filename):\r\n",
        "    columns = {\r\n",
        "        'Symbol': 'ticker', \r\n",
        "        'Trade Date': 'date',\r\n",
        "        'Purchase Price': 'price',\r\n",
        "        'Quantity': 'volume'\r\n",
        "        }\r\n",
        "    df = pd.read_csv(filename)[columns.keys()].rename(columns=columns)\r\n",
        "    df['date'] = pd.to_datetime(df['date'], format='%Y%m%d')\r\n",
        "    df = df.sort_values(['date', 'volume'], ascending=[True, False]).reset_index()\r\n",
        "    df['tax_year_ru'] = df['date'].dt.year\r\n",
        "    df['tax_year_uk'] = df['date'].apply(lambda x: x.year - (0 if x.month > 3 else 1))\r\n",
        "    return df\r\n",
        "\r\n",
        "def fifo(df):\r\n",
        "    d = {t: deque() for t in df['ticker'].unique()}\r\n",
        "    for i, row in df.iterrows():\r\n",
        "        date, ticker, volume, price = row[['date', 'ticker', 'volume', 'price']]\r\n",
        "        if volume > 0: \r\n",
        "            d[ticker].append([volume, price])\r\n",
        "            continue\r\n",
        "        fi = []\r\n",
        "        v = -volume\r\n",
        "        while v:\r\n",
        "            if d[ticker][0][0] > v:\r\n",
        "                fi.append([v, d[ticker][0][1]])\r\n",
        "                d[ticker][0][0] -= v\r\n",
        "                v = 0\r\n",
        "            elif d[ticker][0][0] <= v:\r\n",
        "                v -= d[ticker][0][0]\r\n",
        "                fi.append(d[ticker].popleft())\r\n",
        "        pprice = np.array(fi).prod(axis=1).sum() / -volume\r\n",
        "        df.loc[i, 'pprice'] = pprice\r\n",
        "    df['profit'] = (df['pprice'] - df['price']) * df['volume']\r\n",
        "    return df"
      ],
      "execution_count": 100,
      "outputs": []
    },
    {
      "cell_type": "markdown",
      "metadata": {
        "id": "rtwCCfDI9Wjh"
      },
      "source": [
        "# New Section"
      ]
    },
    {
      "cell_type": "code",
      "metadata": {
        "id": "tqdjdVersvPg",
        "colab": {
          "base_uri": "https://localhost:8080/"
        },
        "outputId": "d123ac7b-5508-48e5-9f59-f419f9d74621"
      },
      "source": [
        "df = read_csv('r.csv')\r\n",
        "df = fifo(df)\r\n",
        "df.groupby('tax_year_uk')['profit'].sum()"
      ],
      "execution_count": 98,
      "outputs": [
        {
          "output_type": "execute_result",
          "data": {
            "text/plain": [
              "tax_year_uk\n",
              "2019       38.44\n",
              "2020    42955.97\n",
              "Name: profit, dtype: float64"
            ]
          },
          "metadata": {
            "tags": []
          },
          "execution_count": 98
        }
      ]
    },
    {
      "cell_type": "code",
      "metadata": {
        "id": "qWx59x-Js4VK",
        "colab": {
          "base_uri": "https://localhost:8080/"
        },
        "outputId": "a840daf0-f728-49f9-f3df-ba0273093c2b"
      },
      "source": [
        "df = read_csv('a.csv')\r\n",
        "df = fifo(df)\r\n",
        "df.groupby('tax_year_ru')['profit'].sum()"
      ],
      "execution_count": 101,
      "outputs": [
        {
          "output_type": "execute_result",
          "data": {
            "text/plain": [
              "tax_year_ru\n",
              "2018         0.00\n",
              "2019     22665.32\n",
              "2020    135793.18\n",
              "2021     62903.02\n",
              "Name: profit, dtype: float64"
            ]
          },
          "metadata": {
            "tags": []
          },
          "execution_count": 101
        }
      ]
    },
    {
      "cell_type": "code",
      "metadata": {
        "colab": {
          "base_uri": "https://localhost:8080/"
        },
        "id": "bad-qJVb2X6s",
        "outputId": "656a3580-9391-4688-e5c1-db35bbc79cc8"
      },
      "source": [
        "50 + 5 + 28 + 43 + 30 + 24 + 20"
      ],
      "execution_count": 53,
      "outputs": [
        {
          "output_type": "execute_result",
          "data": {
            "text/plain": [
              "200"
            ]
          },
          "metadata": {
            "tags": []
          },
          "execution_count": 53
        }
      ]
    },
    {
      "cell_type": "code",
      "metadata": {
        "id": "a60M4uAP2cDD"
      },
      "source": [
        ""
      ],
      "execution_count": null,
      "outputs": []
    }
  ]
}