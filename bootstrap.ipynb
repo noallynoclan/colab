{
  "nbformat": 4,
  "nbformat_minor": 0,
  "metadata": {
    "colab": {
      "name": "bootstrap.ipynb",
      "provenance": [],
      "authorship_tag": "ABX9TyN+mDJLE9hZgU8IQLlK9naj",
      "include_colab_link": true
    },
    "kernelspec": {
      "name": "python3",
      "display_name": "Python 3"
    }
  },
  "cells": [
    {
      "cell_type": "markdown",
      "metadata": {
        "id": "view-in-github",
        "colab_type": "text"
      },
      "source": [
        "<a href=\"https://colab.research.google.com/github/noallynoclan/colab/blob/master/bootstrap.ipynb\" target=\"_parent\"><img src=\"https://colab.research.google.com/assets/colab-badge.svg\" alt=\"Open In Colab\"/></a>"
      ]
    },
    {
      "cell_type": "code",
      "metadata": {
        "id": "GExakAviPSYp",
        "colab_type": "code",
        "colab": {}
      },
      "source": [
        "import numpy as np\n",
        "import pandas as pd\n",
        "from scipy.stats import norm\n",
        "\n",
        "def ttest(delta, se, alpha, mc):\n",
        "    z = delta / se\n",
        "    pval = norm.sf(np.abs(z)) * 2,\n",
        "    ci_abs = delta + se * norm.ppf([alpha / 2, 1 - alpha / 2])\n",
        "    ci_rel = ci_abs / mc\n",
        "    return z, pval, ci_abs, ci_rel\n",
        "\n",
        "def mean_test(mt, mc, st, sc, nt, nc, conf):\n",
        "    se = np.sqrt(st ** 2 / nt + sc ** 2 / nc)\n",
        "    z, pval, ci_abs, ci_rel = ttest(mt - mc, se, 1 - conf, mc)\n",
        "    return z, pval, ci_abs, ci_rel"
      ],
      "execution_count": 0,
      "outputs": []
    },
    {
      "cell_type": "code",
      "metadata": {
        "id": "k8NutR12Pa8L",
        "colab_type": "code",
        "colab": {
          "base_uri": "https://localhost:8080/",
          "height": 85
        },
        "outputId": "319f06c9-8403-4a13-d7ff-b91ceac3a5e0"
      },
      "source": [
        "n_samples = 10000000\n",
        "\n",
        "df = pd.DataFrame({\n",
        "    'xc': np.random.normal(loc=100, scale=100, size=n_samples),\n",
        "    'xt': np.random.normal(loc=101, scale=100, size=n_samples)\n",
        "})\n",
        "\n",
        "mt, st, nt = df['xt'].agg(['mean', 'std', 'count'])\n",
        "mc, sc, nc = df['xc'].agg(['mean', 'std', 'count'])\n",
        "mean_test(mt, mc, st, sc, nt, nc, conf=0.9)"
      ],
      "execution_count": 230,
      "outputs": [
        {
          "output_type": "execute_result",
          "data": {
            "text/plain": [
              "(21.127504964199943,\n",
              " (4.444183788031526e-99,),\n",
              " array([0.87118291, 1.0182849 ]),\n",
              " array([0.00870835, 0.01017879]))"
            ]
          },
          "metadata": {
            "tags": []
          },
          "execution_count": 230
        }
      ]
    },
    {
      "cell_type": "code",
      "metadata": {
        "id": "Jf_oBfLQQGEV",
        "colab_type": "code",
        "colab": {
          "base_uri": "https://localhost:8080/",
          "height": 68
        },
        "outputId": "562122b6-4e88-42e0-8ed1-c0ce268c4501"
      },
      "source": [
        "def bootstrap(t, c, df, n_bt = 100, conf=0.9):\n",
        "    # n_bins = int(len(df) ** 0.7)\n",
        "    n_bins = 500\n",
        "    bins = np.arange(len(df)) % n_bins\n",
        "    np.random.shuffle(bins)\n",
        "    gdf = df.groupby(bins).sum()\n",
        "    bt = gdf.sample(n_bins * n_bt, replace=True)\n",
        "    bt = bt.groupby(np.arange(n_bins * n_bt) % n_bt).sum()\n",
        "    bt['abs'] = (bt[t] - bt[c]) / len(df)\n",
        "    bt['rel'] = bt[t] / bt[c] - 1\n",
        "    alpha = 1 - conf\n",
        "    return bt['abs'].quantile([alpha / 2, 1 - alpha / 2])\n",
        "\n",
        "bootstrap('xt', 'xc', df, 100)"
      ],
      "execution_count": 236,
      "outputs": [
        {
          "output_type": "execute_result",
          "data": {
            "text/plain": [
              "0.05    0.861569\n",
              "0.95    1.023290\n",
              "Name: abs, dtype: float64"
            ]
          },
          "metadata": {
            "tags": []
          },
          "execution_count": 236
        }
      ]
    },
    {
      "cell_type": "code",
      "metadata": {
        "id": "vMqT76h4bID7",
        "colab_type": "code",
        "colab": {
          "base_uri": "https://localhost:8080/",
          "height": 51
        },
        "outputId": "25bb03ae-bdad-4932-c4f6-d347f4c13774"
      },
      "source": [
        "np.arange(10 * 3) % 3"
      ],
      "execution_count": 139,
      "outputs": [
        {
          "output_type": "execute_result",
          "data": {
            "text/plain": [
              "array([0, 1, 2, 0, 1, 2, 0, 1, 2, 0, 1, 2, 0, 1, 2, 0, 1, 2, 0, 1, 2, 0,\n",
              "       1, 2, 0, 1, 2, 0, 1, 2])"
            ]
          },
          "metadata": {
            "tags": []
          },
          "execution_count": 139
        }
      ]
    },
    {
      "cell_type": "code",
      "metadata": {
        "id": "Zw6g43qHcZ2g",
        "colab_type": "code",
        "colab": {}
      },
      "source": [
        ""
      ],
      "execution_count": 0,
      "outputs": []
    }
  ]
}