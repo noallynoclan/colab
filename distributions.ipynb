{
  "nbformat": 4,
  "nbformat_minor": 0,
  "metadata": {
    "colab": {
      "name": "distributions.ipynb",
      "provenance": [],
      "collapsed_sections": [],
      "include_colab_link": true
    },
    "kernelspec": {
      "name": "python3",
      "display_name": "Python 3"
    }
  },
  "cells": [
    {
      "cell_type": "markdown",
      "metadata": {
        "id": "view-in-github",
        "colab_type": "text"
      },
      "source": [
        "<a href=\"https://colab.research.google.com/github/noallynoclan/colab/blob/master/distributions.ipynb\" target=\"_parent\"><img src=\"https://colab.research.google.com/assets/colab-badge.svg\" alt=\"Open In Colab\"/></a>"
      ]
    },
    {
      "cell_type": "markdown",
      "metadata": {
        "id": "B3S6UeOp1z1W",
        "colab_type": "text"
      },
      "source": [
        "[colab](https://colab.research.google.com/drive/163C85NuF09HQWujN3IP22zahZhSsYLNI)"
      ]
    },
    {
      "cell_type": "code",
      "metadata": {
        "id": "NvF1qSJUb8C2",
        "colab_type": "code",
        "colab": {}
      },
      "source": [
        "%matplotlib inline\n",
        "import matplotlib.pyplot as plt, numpy as np, pandas as pd, seaborn as sns\n",
        "from collections import namedtuple\n",
        "from scipy.stats import norm\n",
        "plt.style.use('fivethirtyeight')"
      ],
      "execution_count": 0,
      "outputs": []
    },
    {
      "cell_type": "markdown",
      "metadata": {
        "id": "mNbb9_5w2RMo",
        "colab_type": "text"
      },
      "source": [
        "||replacements|w/o replacements|\n",
        "|-|:-:|:-:|\n",
        "|**Combinations**<br>(order does not matter)|$$\\binom{k+n-1}{k}=\\frac{(k+n-1)!}{k!(n-1)!}$$|$$\\binom{n}{k}=\\frac{n!}{k!(n-k)!}$$|\n",
        "|**Permutations**<br>(order matters)|$$n^k$$|$$\\frac{n!}{(n-k)!}$$|"
      ]
    },
    {
      "cell_type": "markdown",
      "metadata": {
        "id": "nO-00awG4rz0",
        "colab_type": "text"
      },
      "source": [
        "||pars|&nbsp; &nbsp; &nbsp; &nbsp; &nbsp; &nbsp; &nbsp; &nbsp; &nbsp; &nbsp; &nbsp; &nbsp; PMF/PDF &nbsp; &nbsp; &nbsp; &nbsp; &nbsp; &nbsp; &nbsp; &nbsp; &nbsp; &nbsp; &nbsp; &nbsp;|mean|var|med|comments|\n",
        "|-|:-:|:-:|:-:|:-:|:-:|:-:|\n",
        "|**Bernoulli**|$$p$$|$$\\begin{cases} P(X=0)=q=(1-p) \\\\ P(X=1)=p \\end{cases}$$|$$p$$|$$p  (1-p)$$||boolean-valued outcome|\n",
        "|**Grometric**|$$p$$|$$P(X=k)=(1-p)^{k-1}p$$|$$\\frac{1}{p}$$|$$\\frac{1-p}{p^2}$$||# of first success|\n",
        "|**Binomial**|$$n, p$$|$$P(X=k)=\\binom{n}{k}p^k(1-p)^{n-k}$$|$$np$$|$$np(1-p)$$||# successes drawn with replacement|\n",
        "|**Poisson**|$$\\lambda$$|$$P(X=k)=\\frac{e^{-\\lambda}\\lambda^k}{k!}$$|$$\\lambda$$|$$\\lambda$$|| # emails/calls per time period|\n",
        "|**Exponential**|$$\\lambda$$|$$f(x \\mid \\lambda)=\\lambda e^{-\\lambda x}$$|$$\\frac{1}{\\lambda}$$|$$\\frac{1}{\\lambda^2}$$|$$\\frac{\\ln{2}}{\\lambda}$$|time between events|\n",
        "|**Normal**|$$\\mu, \\sigma^2$$|$$f(x \\mid \\mu, \\sigma^2)=\\frac{1}{\\sqrt{2\\pi\\sigma^2}}e^{-\\frac{(x-\\mu)^2}{2\\sigma^2}}$$|$$\\mu$$|$$\\sigma^2$$|$$\\mu$$|measurement errors\n"
      ]
    },
    {
      "cell_type": "markdown",
      "metadata": {
        "id": "4ECx4y4TBgm2",
        "colab_type": "text"
      },
      "source": [
        "||||comments|\n",
        "|-:|:-:|:-:|:-:|\n",
        "|**Law or Large Numbers**|$$\\bar{X}_n \\xrightarrow{\\text{a.s.}} \\mu$$||converges strongly<br>**almost surely**<br>**almost everywhere**<br>**with probability 1**|\n",
        "|**Central Limit Theorem**|$$\\bar{X}_n \\xrightarrow{\\text{d}} N\\Bigl(\\mu, \\frac{\\sigma^2}{n}\\Bigr)$$|$$\\sqrt{n}\\frac{\\bar{X}_n-\\mu}{\\sigma} \\xrightarrow{\\text{d}} N(0,1)$$|converges weakly<br>**in distribution**|"
      ]
    },
    {
      "cell_type": "markdown",
      "metadata": {
        "id": "qpi9g4YEBYWM",
        "colab_type": "text"
      },
      "source": [
        "||$$\\textbf{Pred NO}$$<br>$$\\text{TN}+\\text{FN}$$<br>$$P(\\bar{B})$$|$$\\textbf{Pred YES}$$<br>$$\\text{FP}+\\text{TP}$$<br>$$\\text{Evidence}=P(B)$$|$$\\text{ROC(th)}=\\frac{\\text{TPR(th)}}{\\text{FPR(th)}}$$|\n",
        "|:-:|:-:|:-:|:-:|\n",
        "|$$\\textbf{Actual NO}$$<BR>$$\\text{TN}+\\text{FP}$$<BR>$$P(\\bar{A})$$|$$\\textbf{TN}$$<br>$$\\text{Confidence}$$<BR>$$c=1-\\alpha$$|$$\\textbf{FP}$$<br>$$\\text{Type I}$$<br>$$\\alpha$$|$$\\text{Fall out (FPR)}=\\frac{\\text{FP}}{\\text{FP}+\\text{TN}}$$|\n",
        "|$$\\textbf{Actual YES}$$<BR>$$\\text{FN}+\\text{TP}$$<br>$$\\text{Prior}=P(A)$$|$$\\textbf{FN}$$<br>$$\\text{Type II}$$<br>$$\\beta$$|$$\\textbf{TP}$$<br>$$\\text{Power}$$<br>$$p=1-\\beta$$|$$\\text{Recall (Sensitivity, TPR)}=\\frac{\\text{TP}}{\\text{TP}+\\text{FN}}$$<BR>$$\\text{Likelihood}=P(B \\mid A)$$|\n",
        "|||$$\\text{Precision}=\\frac{\\text{TP}}{\\text{TP}+\\text{FP}}$$<br>$$P(A\\mid B)=\\frac{P(B \\mid A) \\cdot P(A)}{P(B)}$$<BR>$$\\text{Posterior}=\\frac{\\text{Likelihood} \\cdot \\text{Prior}}{\\text{Evidence}}$$|$$F_1=2\\cdot\\frac{\\text{Precision}\\cdot\\text{Recall}}{\\text{Precision}+\\text{Recall}}$$|"
      ]
    },
    {
      "cell_type": "markdown",
      "metadata": {
        "id": "jN8EpyyXArdb",
        "colab_type": "text"
      },
      "source": [
        "||means|proportions|comments\n",
        "|:-|:-:|:-:|:-:|\n",
        "|$$x$$|$$n \\times D(\\mu, \\sigma^2)$$|$$n \\times \\text{Bernouli}(p)$$|\n",
        "|$$\\mu$$|$$N\\Bigl(\\mu, \\frac{\\sigma^2}{n}\\Bigr)$$|$$\\frac{\\text{Binomial}(n, p)}{n}$$|\n",
        "|$$\\textbf{SE}$$|$$\\sqrt{\\frac{\\sigma^2_t}{n_t}+\\frac{\\sigma^2_c}{n_c}}$$|$$\\sqrt{\\hat{p}(1-\\hat{p})\\Bigl(\\frac{1}{n_t}+\\frac{1}{n_c}\\Bigr)}$$||\n",
        "|$$\\Delta$$|$$\\mu_t-\\mu_c$$|$$p_t-p_c$$||\n",
        "|$$z$$|$$\\frac{\\Delta}{\\text{SE}} \\sim N\\Bigl(\\frac{\\Delta}{\\text{SE}}, 1\\Bigr)$$|$$\\frac{\\Delta}{\\text{SE}} \\sim N\\Bigl(\\frac{\\Delta}{\\text{SE}}, 1\\Bigr)$$||\n",
        "|$$\\textbf{CI}$$|$$\\Delta \\pm z_{\\alpha/2}\\text{SE}$$|$$\\Delta \\pm z_{\\alpha/2} \\cdot \\text{SE}$$|`scipy.stats.norm.ppf`<br>Percent point function<br>Inverse CDF|\n",
        "|$$\\textbf{p_val}$$|$$2\\cdot P(N \\ge \\lvert z\\rvert)$$|$$2\\cdot P(N \\ge \\lvert z\\rvert)$$|`scipy.stats.norm.sf`<br>Survival function<br>1 – CDF|\n",
        "|$$\\textbf{MDE}$$|$$(z_{1-\\alpha/2} + z_{1-\\beta})\\cdot \\text{SE}$$|$$(z_{1-\\alpha/2} + z_{1-\\beta})\\cdot \\text{SE}$$|$$\\Delta$$|\n",
        "|$$n$$|$$\\frac{\\sigma^2_t(1-t)+\\sigma^2_ct}{t(1-t)}\\cdot \\Bigl(\\frac{z_{1-\\alpha/2} + z_{1-\\beta}}{p_t-p_c}\\Bigr)^2$$|$$\\frac{p(1-p)}{t(1-t)}\\cdot \\Bigl(\\frac{z_{1-\\alpha/2} + z_{1-\\beta}}{p_t-p_c}\\Bigr)^2$$|$$(z_{1-\\alpha/2} + z_{1-\\beta})\\cdot \\text{SE} \\le \\Delta$$|\n"
      ]
    },
    {
      "cell_type": "code",
      "metadata": {
        "id": "6NZF4oNR07VT",
        "colab_type": "code",
        "outputId": "3a1da393-7832-430f-be4c-d81f751a225e",
        "colab": {
          "base_uri": "https://localhost:8080/",
          "height": 759
        }
      },
      "source": [
        "def get_sizes(p_t, p_c, t, conf, power):\n",
        "    p = p_t * t + p_c * (1 - t)\n",
        "    n = p * (1 - p) / t / (1 - t)\n",
        "    n *= (norm.ppf([1 - (1 - conf) / 2, power]).sum() / (p_t - p_c)) ** 2\n",
        "    return np.ceil([n * t, n * (1 - t)]).astype(int)\n",
        "\n",
        "def generate_prop(p, n_samples, n_experiments):\n",
        "    x = np.random.binomial(n_samples, p, n_experiments)\n",
        "    return x / n_samples\n",
        "\n",
        "def ptt(p_t, p_c, n_t, n_c, conf, s=10_000):\n",
        "    p_t = generate_prop(p_t, n_t, s)\n",
        "    p_c = generate_prop(p_c, n_c, s)\n",
        "    p = (p_t * n_t + p_c * n_c) / (n_t + n_c)\n",
        "    se = np.sqrt(p * (1 - p) * (1 / n_t + 1 / n_c))\n",
        "    z = (p_t - p_c) / se\n",
        "    p_val = norm.sf(np.abs(z)) * 2\n",
        "    alpha = 1 - conf\n",
        "    df = pd.DataFrame({\n",
        "        'n_t': n_t, 'p_t': p_t, 'n_c': n_c, 'p_c': p_c, \n",
        "        'p': p, 'se': se, 'z': z, \n",
        "        'p_val': p_val, 'sig': p_val < alpha, 'test': '='\n",
        "    })\n",
        "    df.loc[p_t - p_c + se * norm.ppf(1 - alpha / 2) < 0, 'test'] = '<'\n",
        "    df.loc[p_t - p_c + se * norm.ppf(alpha / 2) > 0, 'test'] = '>'\n",
        "    display(df.head(2))\n",
        "    display(df.pivot_table('p_val', 'sig', 'test', 'count', 0))\n",
        "    ax = df['z'].hist(bins=100, alpha=0.5)\n",
        "    plt.vlines(norm.ppf(1 - alpha / 2), *ax.get_ylim(), ls='--', lw=2)\n",
        "    return (p_val > alpha).sum(), (p_val < alpha).sum()\n",
        "\n",
        "def run_tests(p_t, p_c, t, conf, power):\n",
        "    n_t, n_c = get_sizes(p_t, p_c, t, conf, power)\n",
        "    cm = np.array([ptt(p_c, p_c, n_t, n_c, conf), ptt(p_t, p_c, n_t, n_c, conf)])\n",
        "    return cm\n",
        "\n",
        "run_tests(p_t=0.11, p_c=0.1, t=0.5, conf=.9, power=.8)"
      ],
      "execution_count": 2,
      "outputs": [
        {
          "output_type": "display_data",
          "data": {
            "text/html": [
              "<div>\n",
              "<style scoped>\n",
              "    .dataframe tbody tr th:only-of-type {\n",
              "        vertical-align: middle;\n",
              "    }\n",
              "\n",
              "    .dataframe tbody tr th {\n",
              "        vertical-align: top;\n",
              "    }\n",
              "\n",
              "    .dataframe thead th {\n",
              "        text-align: right;\n",
              "    }\n",
              "</style>\n",
              "<table border=\"1\" class=\"dataframe\">\n",
              "  <thead>\n",
              "    <tr style=\"text-align: right;\">\n",
              "      <th></th>\n",
              "      <th>n_t</th>\n",
              "      <th>p_t</th>\n",
              "      <th>n_c</th>\n",
              "      <th>p_c</th>\n",
              "      <th>p</th>\n",
              "      <th>se</th>\n",
              "      <th>z</th>\n",
              "      <th>p_val</th>\n",
              "      <th>sig</th>\n",
              "      <th>test</th>\n",
              "    </tr>\n",
              "  </thead>\n",
              "  <tbody>\n",
              "    <tr>\n",
              "      <th>0</th>\n",
              "      <td>11621</td>\n",
              "      <td>0.100594</td>\n",
              "      <td>11621</td>\n",
              "      <td>0.098701</td>\n",
              "      <td>0.099647</td>\n",
              "      <td>0.003929</td>\n",
              "      <td>0.481778</td>\n",
              "      <td>0.629964</td>\n",
              "      <td>False</td>\n",
              "      <td>=</td>\n",
              "    </tr>\n",
              "    <tr>\n",
              "      <th>1</th>\n",
              "      <td>11621</td>\n",
              "      <td>0.105241</td>\n",
              "      <td>11621</td>\n",
              "      <td>0.099045</td>\n",
              "      <td>0.102143</td>\n",
              "      <td>0.003973</td>\n",
              "      <td>1.559511</td>\n",
              "      <td>0.118875</td>\n",
              "      <td>False</td>\n",
              "      <td>=</td>\n",
              "    </tr>\n",
              "  </tbody>\n",
              "</table>\n",
              "</div>"
            ],
            "text/plain": [
              "     n_t       p_t    n_c       p_c  ...         z     p_val    sig  test\n",
              "0  11621  0.100594  11621  0.098701  ...  0.481778  0.629964  False     =\n",
              "1  11621  0.105241  11621  0.099045  ...  1.559511  0.118875  False     =\n",
              "\n",
              "[2 rows x 10 columns]"
            ]
          },
          "metadata": {
            "tags": []
          }
        },
        {
          "output_type": "display_data",
          "data": {
            "text/html": [
              "<div>\n",
              "<style scoped>\n",
              "    .dataframe tbody tr th:only-of-type {\n",
              "        vertical-align: middle;\n",
              "    }\n",
              "\n",
              "    .dataframe tbody tr th {\n",
              "        vertical-align: top;\n",
              "    }\n",
              "\n",
              "    .dataframe thead th {\n",
              "        text-align: right;\n",
              "    }\n",
              "</style>\n",
              "<table border=\"1\" class=\"dataframe\">\n",
              "  <thead>\n",
              "    <tr style=\"text-align: right;\">\n",
              "      <th>test</th>\n",
              "      <th>&lt;</th>\n",
              "      <th>=</th>\n",
              "      <th>&gt;</th>\n",
              "    </tr>\n",
              "    <tr>\n",
              "      <th>sig</th>\n",
              "      <th></th>\n",
              "      <th></th>\n",
              "      <th></th>\n",
              "    </tr>\n",
              "  </thead>\n",
              "  <tbody>\n",
              "    <tr>\n",
              "      <th>False</th>\n",
              "      <td>0</td>\n",
              "      <td>9019</td>\n",
              "      <td>0</td>\n",
              "    </tr>\n",
              "    <tr>\n",
              "      <th>True</th>\n",
              "      <td>505</td>\n",
              "      <td>0</td>\n",
              "      <td>476</td>\n",
              "    </tr>\n",
              "  </tbody>\n",
              "</table>\n",
              "</div>"
            ],
            "text/plain": [
              "test     <     =    >\n",
              "sig                  \n",
              "False    0  9019    0\n",
              "True   505     0  476"
            ]
          },
          "metadata": {
            "tags": []
          }
        },
        {
          "output_type": "display_data",
          "data": {
            "text/html": [
              "<div>\n",
              "<style scoped>\n",
              "    .dataframe tbody tr th:only-of-type {\n",
              "        vertical-align: middle;\n",
              "    }\n",
              "\n",
              "    .dataframe tbody tr th {\n",
              "        vertical-align: top;\n",
              "    }\n",
              "\n",
              "    .dataframe thead th {\n",
              "        text-align: right;\n",
              "    }\n",
              "</style>\n",
              "<table border=\"1\" class=\"dataframe\">\n",
              "  <thead>\n",
              "    <tr style=\"text-align: right;\">\n",
              "      <th></th>\n",
              "      <th>n_t</th>\n",
              "      <th>p_t</th>\n",
              "      <th>n_c</th>\n",
              "      <th>p_c</th>\n",
              "      <th>p</th>\n",
              "      <th>se</th>\n",
              "      <th>z</th>\n",
              "      <th>p_val</th>\n",
              "      <th>sig</th>\n",
              "      <th>test</th>\n",
              "    </tr>\n",
              "  </thead>\n",
              "  <tbody>\n",
              "    <tr>\n",
              "      <th>0</th>\n",
              "      <td>11621</td>\n",
              "      <td>0.105671</td>\n",
              "      <td>11621</td>\n",
              "      <td>0.100680</td>\n",
              "      <td>0.103175</td>\n",
              "      <td>0.003991</td>\n",
              "      <td>1.250690</td>\n",
              "      <td>0.211048</td>\n",
              "      <td>False</td>\n",
              "      <td>=</td>\n",
              "    </tr>\n",
              "    <tr>\n",
              "      <th>1</th>\n",
              "      <td>11621</td>\n",
              "      <td>0.107822</td>\n",
              "      <td>11621</td>\n",
              "      <td>0.101024</td>\n",
              "      <td>0.104423</td>\n",
              "      <td>0.004012</td>\n",
              "      <td>1.694497</td>\n",
              "      <td>0.090171</td>\n",
              "      <td>True</td>\n",
              "      <td>&gt;</td>\n",
              "    </tr>\n",
              "  </tbody>\n",
              "</table>\n",
              "</div>"
            ],
            "text/plain": [
              "     n_t       p_t    n_c       p_c  ...         z     p_val    sig  test\n",
              "0  11621  0.105671  11621  0.100680  ...  1.250690  0.211048  False     =\n",
              "1  11621  0.107822  11621  0.101024  ...  1.694497  0.090171   True     >\n",
              "\n",
              "[2 rows x 10 columns]"
            ]
          },
          "metadata": {
            "tags": []
          }
        },
        {
          "output_type": "display_data",
          "data": {
            "text/html": [
              "<div>\n",
              "<style scoped>\n",
              "    .dataframe tbody tr th:only-of-type {\n",
              "        vertical-align: middle;\n",
              "    }\n",
              "\n",
              "    .dataframe tbody tr th {\n",
              "        vertical-align: top;\n",
              "    }\n",
              "\n",
              "    .dataframe thead th {\n",
              "        text-align: right;\n",
              "    }\n",
              "</style>\n",
              "<table border=\"1\" class=\"dataframe\">\n",
              "  <thead>\n",
              "    <tr style=\"text-align: right;\">\n",
              "      <th>test</th>\n",
              "      <th>&lt;</th>\n",
              "      <th>=</th>\n",
              "      <th>&gt;</th>\n",
              "    </tr>\n",
              "    <tr>\n",
              "      <th>sig</th>\n",
              "      <th></th>\n",
              "      <th></th>\n",
              "      <th></th>\n",
              "    </tr>\n",
              "  </thead>\n",
              "  <tbody>\n",
              "    <tr>\n",
              "      <th>False</th>\n",
              "      <td>0</td>\n",
              "      <td>1992</td>\n",
              "      <td>0</td>\n",
              "    </tr>\n",
              "    <tr>\n",
              "      <th>True</th>\n",
              "      <td>1</td>\n",
              "      <td>0</td>\n",
              "      <td>8007</td>\n",
              "    </tr>\n",
              "  </tbody>\n",
              "</table>\n",
              "</div>"
            ],
            "text/plain": [
              "test   <     =     >\n",
              "sig                 \n",
              "False  0  1992     0\n",
              "True   1     0  8007"
            ]
          },
          "metadata": {
            "tags": []
          }
        },
        {
          "output_type": "execute_result",
          "data": {
            "text/plain": [
              "array([[9019,  981],\n",
              "       [1992, 8008]])"
            ]
          },
          "metadata": {
            "tags": []
          },
          "execution_count": 2
        },
        {
          "output_type": "display_data",
          "data": {
            "image/png": "[encoded data removed]",
            "text/plain": [
              "<Figure size 432x288 with 1 Axes>"
            ]
          },
          "metadata": {
            "tags": []
          }
        }
      ]
    },
    {
      "cell_type": "code",
      "metadata": {
        "id": "8InDmfF-9N9u",
        "colab_type": "code",
        "colab": {
          "base_uri": "https://localhost:8080/",
          "height": 771
        },
        "outputId": "b111f35c-09d9-4c6e-c660-af7e25452a5a"
      },
      "source": [
        "def get_sizes(mu_t, mu_c, std_t, std_c, t, conf, power):\n",
        "    n = (std_t ** 2 * (1 - t) + std_c ** 2 * t) / t / (1 - t)\n",
        "    n *= (norm.ppf([1 - (1 - conf) / 2, power]).sum() / (mu_t - mu_c)) ** 2\n",
        "    return np.ceil([n * t, n * (1 - t)]).astype(int)\n",
        "\n",
        "def generate_mean(mu, std, n_samples, n_experiments):\n",
        "    x = np.random.normal(mu, std, (n_experiments, n_samples))\n",
        "    return x.mean(axis=1), x.std(axis=1)\n",
        "\n",
        "def mtt(mu_t, mu_c, std_t, std_c, n_t, n_c, conf, s=10_000):\n",
        "    mu_t, std_t = generate_mean(mu_t, std_t, n_t, s)\n",
        "    mu_c, std_c = generate_mean(mu_c, std_c, n_c, s)\n",
        "    se = np.sqrt(std_t ** 2 / n_t + std_c ** 2 / n_c)\n",
        "    z = (mu_t - mu_c) / se\n",
        "    p_val = norm.sf(np.abs(z)) * 2\n",
        "    alpha = 1 - conf\n",
        "    df = pd.DataFrame({\n",
        "        'n_t': n_t, 'mu_t': mu_t, 'std_t': std_t, 'n_c': n_c, 'mu_c': mu_c, 'std_c': std_c, \n",
        "        'se': se, 'z': z, \n",
        "        'p_val': p_val, 'sig': p_val < alpha, 'test': '='\n",
        "    })\n",
        "    df.loc[mu_t - mu_c + se * norm.ppf(1 - alpha / 2) < 0, 'test'] = '<'\n",
        "    df.loc[mu_t - mu_c + se * norm.ppf(alpha / 2) > 0, 'test'] = '>'\n",
        "    display(df.head(2))\n",
        "    display(df.pivot_table('p_val', 'sig', 'test', 'count', 0))\n",
        "    ax = df['z'].hist(bins=100, alpha=0.5)\n",
        "    plt.vlines(norm.ppf(1 - alpha / 2), *ax.get_ylim(), ls='--', lw=2)\n",
        "    return (p_val > alpha).sum(), (p_val < alpha).sum()\n",
        "\n",
        "def run_tests(mu_t, mu_c, std_t, std_c, t, conf, power):\n",
        "    n_t, n_c = get_sizes(mu_t, mu_c, std_t, std_c, t, conf, power)\n",
        "    print(n_t, n_c)\n",
        "    cm = np.array([mtt(mu_c, mu_c, std_c, std_c, n_t, n_c, conf), \n",
        "                   mtt(mu_t, mu_c, std_t, std_c, n_t, n_c, conf)])\n",
        "    return cm\n",
        "\n",
        "run_tests(mu_t=101, mu_c=100, std_t=20, std_c=20, t=0.2, conf=.9, power=.8)"
      ],
      "execution_count": 3,
      "outputs": [
        {
          "output_type": "stream",
          "text": [
            "3092 12366\n"
          ],
          "name": "stdout"
        },
        {
          "output_type": "display_data",
          "data": {
            "text/html": [
              "<div>\n",
              "<style scoped>\n",
              "    .dataframe tbody tr th:only-of-type {\n",
              "        vertical-align: middle;\n",
              "    }\n",
              "\n",
              "    .dataframe tbody tr th {\n",
              "        vertical-align: top;\n",
              "    }\n",
              "\n",
              "    .dataframe thead th {\n",
              "        text-align: right;\n",
              "    }\n",
              "</style>\n",
              "<table border=\"1\" class=\"dataframe\">\n",
              "  <thead>\n",
              "    <tr style=\"text-align: right;\">\n",
              "      <th></th>\n",
              "      <th>n_t</th>\n",
              "      <th>mu_t</th>\n",
              "      <th>std_t</th>\n",
              "      <th>n_c</th>\n",
              "      <th>mu_c</th>\n",
              "      <th>std_c</th>\n",
              "      <th>se</th>\n",
              "      <th>z</th>\n",
              "      <th>p_val</th>\n",
              "      <th>sig</th>\n",
              "      <th>test</th>\n",
              "    </tr>\n",
              "  </thead>\n",
              "  <tbody>\n",
              "    <tr>\n",
              "      <th>0</th>\n",
              "      <td>3092</td>\n",
              "      <td>100.123115</td>\n",
              "      <td>20.049124</td>\n",
              "      <td>12366</td>\n",
              "      <td>99.996939</td>\n",
              "      <td>20.134279</td>\n",
              "      <td>0.403466</td>\n",
              "      <td>0.312731</td>\n",
              "      <td>0.754485</td>\n",
              "      <td>False</td>\n",
              "      <td>=</td>\n",
              "    </tr>\n",
              "    <tr>\n",
              "      <th>1</th>\n",
              "      <td>3092</td>\n",
              "      <td>99.860223</td>\n",
              "      <td>20.126828</td>\n",
              "      <td>12366</td>\n",
              "      <td>100.010078</td>\n",
              "      <td>19.983445</td>\n",
              "      <td>0.404110</td>\n",
              "      <td>-0.370828</td>\n",
              "      <td>0.710766</td>\n",
              "      <td>False</td>\n",
              "      <td>=</td>\n",
              "    </tr>\n",
              "  </tbody>\n",
              "</table>\n",
              "</div>"
            ],
            "text/plain": [
              "    n_t        mu_t      std_t    n_c  ...         z     p_val    sig  test\n",
              "0  3092  100.123115  20.049124  12366  ...  0.312731  0.754485  False     =\n",
              "1  3092   99.860223  20.126828  12366  ... -0.370828  0.710766  False     =\n",
              "\n",
              "[2 rows x 11 columns]"
            ]
          },
          "metadata": {
            "tags": []
          }
        },
        {
          "output_type": "display_data",
          "data": {
            "text/html": [
              "<div>\n",
              "<style scoped>\n",
              "    .dataframe tbody tr th:only-of-type {\n",
              "        vertical-align: middle;\n",
              "    }\n",
              "\n",
              "    .dataframe tbody tr th {\n",
              "        vertical-align: top;\n",
              "    }\n",
              "\n",
              "    .dataframe thead th {\n",
              "        text-align: right;\n",
              "    }\n",
              "</style>\n",
              "<table border=\"1\" class=\"dataframe\">\n",
              "  <thead>\n",
              "    <tr style=\"text-align: right;\">\n",
              "      <th>test</th>\n",
              "      <th>&lt;</th>\n",
              "      <th>=</th>\n",
              "      <th>&gt;</th>\n",
              "    </tr>\n",
              "    <tr>\n",
              "      <th>sig</th>\n",
              "      <th></th>\n",
              "      <th></th>\n",
              "      <th></th>\n",
              "    </tr>\n",
              "  </thead>\n",
              "  <tbody>\n",
              "    <tr>\n",
              "      <th>False</th>\n",
              "      <td>0</td>\n",
              "      <td>9006</td>\n",
              "      <td>0</td>\n",
              "    </tr>\n",
              "    <tr>\n",
              "      <th>True</th>\n",
              "      <td>505</td>\n",
              "      <td>0</td>\n",
              "      <td>489</td>\n",
              "    </tr>\n",
              "  </tbody>\n",
              "</table>\n",
              "</div>"
            ],
            "text/plain": [
              "test     <     =    >\n",
              "sig                  \n",
              "False    0  9006    0\n",
              "True   505     0  489"
            ]
          },
          "metadata": {
            "tags": []
          }
        },
        {
          "output_type": "display_data",
          "data": {
            "text/html": [
              "<div>\n",
              "<style scoped>\n",
              "    .dataframe tbody tr th:only-of-type {\n",
              "        vertical-align: middle;\n",
              "    }\n",
              "\n",
              "    .dataframe tbody tr th {\n",
              "        vertical-align: top;\n",
              "    }\n",
              "\n",
              "    .dataframe thead th {\n",
              "        text-align: right;\n",
              "    }\n",
              "</style>\n",
              "<table border=\"1\" class=\"dataframe\">\n",
              "  <thead>\n",
              "    <tr style=\"text-align: right;\">\n",
              "      <th></th>\n",
              "      <th>n_t</th>\n",
              "      <th>mu_t</th>\n",
              "      <th>std_t</th>\n",
              "      <th>n_c</th>\n",
              "      <th>mu_c</th>\n",
              "      <th>std_c</th>\n",
              "      <th>se</th>\n",
              "      <th>z</th>\n",
              "      <th>p_val</th>\n",
              "      <th>sig</th>\n",
              "      <th>test</th>\n",
              "    </tr>\n",
              "  </thead>\n",
              "  <tbody>\n",
              "    <tr>\n",
              "      <th>0</th>\n",
              "      <td>3092</td>\n",
              "      <td>101.086143</td>\n",
              "      <td>20.290924</td>\n",
              "      <td>12366</td>\n",
              "      <td>100.114629</td>\n",
              "      <td>19.867151</td>\n",
              "      <td>0.406295</td>\n",
              "      <td>2.391156</td>\n",
              "      <td>0.016795</td>\n",
              "      <td>True</td>\n",
              "      <td>&gt;</td>\n",
              "    </tr>\n",
              "    <tr>\n",
              "      <th>1</th>\n",
              "      <td>3092</td>\n",
              "      <td>101.189625</td>\n",
              "      <td>20.139779</td>\n",
              "      <td>12366</td>\n",
              "      <td>100.146931</td>\n",
              "      <td>20.001665</td>\n",
              "      <td>0.404392</td>\n",
              "      <td>2.578423</td>\n",
              "      <td>0.009925</td>\n",
              "      <td>True</td>\n",
              "      <td>&gt;</td>\n",
              "    </tr>\n",
              "  </tbody>\n",
              "</table>\n",
              "</div>"
            ],
            "text/plain": [
              "    n_t        mu_t      std_t    n_c  ...         z     p_val   sig  test\n",
              "0  3092  101.086143  20.290924  12366  ...  2.391156  0.016795  True     >\n",
              "1  3092  101.189625  20.139779  12366  ...  2.578423  0.009925  True     >\n",
              "\n",
              "[2 rows x 11 columns]"
            ]
          },
          "metadata": {
            "tags": []
          }
        },
        {
          "output_type": "display_data",
          "data": {
            "text/html": [
              "<div>\n",
              "<style scoped>\n",
              "    .dataframe tbody tr th:only-of-type {\n",
              "        vertical-align: middle;\n",
              "    }\n",
              "\n",
              "    .dataframe tbody tr th {\n",
              "        vertical-align: top;\n",
              "    }\n",
              "\n",
              "    .dataframe thead th {\n",
              "        text-align: right;\n",
              "    }\n",
              "</style>\n",
              "<table border=\"1\" class=\"dataframe\">\n",
              "  <thead>\n",
              "    <tr style=\"text-align: right;\">\n",
              "      <th>test</th>\n",
              "      <th>=</th>\n",
              "      <th>&gt;</th>\n",
              "    </tr>\n",
              "    <tr>\n",
              "      <th>sig</th>\n",
              "      <th></th>\n",
              "      <th></th>\n",
              "    </tr>\n",
              "  </thead>\n",
              "  <tbody>\n",
              "    <tr>\n",
              "      <th>False</th>\n",
              "      <td>2011</td>\n",
              "      <td>0</td>\n",
              "    </tr>\n",
              "    <tr>\n",
              "      <th>True</th>\n",
              "      <td>0</td>\n",
              "      <td>7989</td>\n",
              "    </tr>\n",
              "  </tbody>\n",
              "</table>\n",
              "</div>"
            ],
            "text/plain": [
              "test      =     >\n",
              "sig              \n",
              "False  2011     0\n",
              "True      0  7989"
            ]
          },
          "metadata": {
            "tags": []
          }
        },
        {
          "output_type": "execute_result",
          "data": {
            "text/plain": [
              "array([[9006,  994],\n",
              "       [2011, 7989]])"
            ]
          },
          "metadata": {
            "tags": []
          },
          "execution_count": 3
        },
        {
          "output_type": "display_data",
          "data": {
            "image/png": "[encoded data removed]",
            "text/plain": [
              "<Figure size 432x288 with 1 Axes>"
            ]
          },
          "metadata": {
            "tags": []
          }
        }
      ]
    },
    {
      "cell_type": "code",
      "metadata": {
        "id": "HaiUlHnuS-oC",
        "colab_type": "code",
        "colab": {}
      },
      "source": [
        ""
      ],
      "execution_count": 0,
      "outputs": []
    }
  ]
}