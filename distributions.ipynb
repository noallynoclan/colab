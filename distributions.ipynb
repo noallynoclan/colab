{
  "nbformat": 4,
  "nbformat_minor": 0,
  "metadata": {
    "colab": {
      "name": "distributions.ipynb",
      "provenance": [],
      "collapsed_sections": [],
      "include_colab_link": true
    },
    "kernelspec": {
      "name": "python3",
      "display_name": "Python 3"
    }
  },
  "cells": [
    {
      "cell_type": "markdown",
      "metadata": {
        "id": "view-in-github",
        "colab_type": "text"
      },
      "source": [
        "<a href=\"https://colab.research.google.com/github/noallynoclan/colab/blob/master/distributions.ipynb\" target=\"_parent\"><img src=\"https://colab.research.google.com/assets/colab-badge.svg\" alt=\"Open In Colab\"/></a>"
      ]
    },
    {
      "cell_type": "markdown",
      "metadata": {
        "id": "B3S6UeOp1z1W",
        "colab_type": "text"
      },
      "source": [
        "[colab](https://colab.research.google.com/drive/163C85NuF09HQWujN3IP22zahZhSsYLNI)"
      ]
    },
    {
      "cell_type": "markdown",
      "metadata": {
        "id": "mNbb9_5w2RMo",
        "colab_type": "text"
      },
      "source": [
        "||replacements|w/o replacements|\n",
        "|-|:-:|:-:|\n",
        "|Combinations<br>(order does not matter)|$$\\binom{k+n-1}{k}=\\frac{(k+n-1)!}{k!(n-1)!}$$|$$\\binom{n}{k}=\\frac{n!}{k!(n-k)!}$$|\n",
        "|Permutations<br>(order matters)|$$n^k$$|$$\\frac{n!}{(n-k)!}$$|"
      ]
    },
    {
      "cell_type": "markdown",
      "metadata": {
        "id": "nO-00awG4rz0",
        "colab_type": "text"
      },
      "source": [
        "||pars|&nbsp; &nbsp; &nbsp; &nbsp; pmf/pdf &nbsp; &nbsp; &nbsp; &nbsp;|mean|var|usage|\n",
        "|-|:-:|:-:|:-:|:-:|:-:|\n",
        "|Brnoulli|$$p$$|$$\\begin{cases} P(X=0)=q=(1-p) \\\\ P(X=1)=p \\end{cases}$$|$$p$$|$$p  (1-p)$$|boolean-valued outcome|\n",
        "|Grometric|$$p$$|$$P(X=k)=(1-p)^{k-1}p$$|$$\\frac{1}{p}$$|$$\\frac{1-p}{p^2}$$|# of first success|\n",
        "|Binomial|$$n, p$$|$$P(X=k)=\\binom{n}{k}p^k(1-p)^{n-k}$$|$$np$$|$$np(1-p$$|# successes drawn with replacement|\n"
      ]
    },
    {
      "cell_type": "markdown",
      "metadata": {
        "id": "kCiK9YdHVwT6",
        "colab_type": "text"
      },
      "source": [
        "$$\n",
        "\\begin{array}{c|c}\n",
        "& \\text{parameters} & \\text{pmf/pdf} & \\text{mean} & \\text{variance} & \\text{usage}\\\\\n",
        "\\hline\n",
        "\\text{Bernoulli} & p & \\begin{cases} P(X=0)=q=(1-p) \\\\ P(X=1) \\end{cases} & p & p(1-p) & \\text{boolean-valued outcome}\\\\\n",
        "\\text{Geometric} & p & P(X=k)=(1-p)^{k-1}p & \\frac{1}{p} & \\frac{1-p}{p^2} & \\text{# of first success}\\\\\n",
        "\\text{Binomial} & n, p & P(X=k)=\\binom{n}{k}p^k(1-p)^{n-k} & np & np(1-p) & \\text{# successes drawn with replacement}\\\\\n",
        "\\text{Poisson} & \\lambda & P(X=k)=\\frac{e^{-\\lambda}\\lambda^k}{k!} & \\lambda & \\lambda & \\text{# emails/calls per time period}\\\\\n",
        "\\text{Exponential} & \\lambda & f(x|\\lambda)=\\lambda e^{-\\lambda x} & \\frac{1}{\\lambda} & \\frac{1}{\\lambda^2} & \\text{time between events}\\\\\n",
        "\\text{Normal} & \\mu, \\sigma^2 & f(x|\\mu,\\sigma^2)=\\frac{1}{\\sqrt{2\\pi\\sigma^2}}e^{-\\frac{(x-\\mu)^2}{2\\sigma^2}} & \\mu & \\sigma^2 & \\text{measurement errors}\n",
        "\\end{array} \n",
        "$$"
      ]
    },
    {
      "cell_type": "markdown",
      "metadata": {
        "id": "U4ttA7z3cGTu",
        "colab_type": "text"
      },
      "source": [
        "$$\n",
        "\\begin{array}{c|c}\n",
        " & \\text{Predicted NO} & \\text{Predicted YES} & \\\\\n",
        "\\hline\n",
        "\\text{Actual NO} & \\text{TN}\\sim1-\\alpha & \\text{FP (Type I)}\\sim\\alpha & \\text{Specificity}=\\frac{\\text{TN}}{\\text{TN}+\\text{FP}}=\\text{TNR} \\\\\n",
        "\\text{Actual YES} & \\text{FN (Type II)}\\sim\\beta & \\text{TP}\\sim1-\\beta & \\text{Recall}=\\frac{\\text{TP}}{\\text{TP}+\\text{FN}}=\\text{Sensitivity}=\\text{TPR} \\\\\n",
        "\\hline\n",
        " &   & \\text{Precision}=\\frac{\\text{TP}}{\\text{TP}+\\text{FP}} & F_1=2\\cdot\\frac{\\text{Precision}\\cdot\\text{Recall}}{\\text{Precision}+\\text{Recall}}\n",
        "\\end{array}\n",
        "$$\n",
        "$$\\text{ROC}=\\frac{\\text{TPR}}{\\text{FPR}}=\\frac{\\text{Sensitivity}}{1-\\text{Specificity}}$$"
      ]
    },
    {
      "cell_type": "markdown",
      "metadata": {
        "id": "13N7ZFc0yWXQ",
        "colab_type": "text"
      },
      "source": [
        "$$\\begin{align}\n",
        "\\text{Bayes Theorem:}\\quad & \\text{Posterior}=P(A|B)=\\frac{P(B|A) \\cdot P(A)}{P(B)}=\\frac{P(B|A) \\cdot P(A)}{P(B|A) \\cdot P(A) + P(B|\\bar{A}) \\cdot P(\\bar{A})}=\\frac{\\text{Likelihood} \\cdot \\text{Prior}}{\\text{Evidence}}\\\\\n",
        "\\text{Law of Large Numbers:}\\quad & \\bar{X}_n \\xrightarrow{\\text{a.s.}} \\mu\\\\\n",
        "\\text{Central Limit Theorem:}\\quad & \\bar{X}_n \\xrightarrow{\\text{d}} N\\Bigl(\\mu, \\frac{\\sigma^2}{n}\\Bigr);\\quad\\sqrt{n}\\frac{\\bar{X}_n-\\mu}{\\sigma} \\xrightarrow{\\text{d}} N(0,1)\\\\\n",
        "\\end{align}$$"
      ]
    },
    {
      "cell_type": "code",
      "metadata": {
        "id": "kKCHl8E0953D",
        "colab_type": "code",
        "colab": {}
      },
      "source": [
        ""
      ],
      "execution_count": 0,
      "outputs": []
    }
  ]
}