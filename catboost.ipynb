{
  "nbformat": 4,
  "nbformat_minor": 0,
  "metadata": {
    "colab": {
      "name": "catboost.ipynb",
      "provenance": [],
      "authorship_tag": "ABX9TyMm8ks7narYHMCB+UQHJu57",
      "include_colab_link": true
    },
    "kernelspec": {
      "name": "python3",
      "display_name": "Python 3"
    }
  },
  "cells": [
    {
      "cell_type": "markdown",
      "metadata": {
        "id": "view-in-github",
        "colab_type": "text"
      },
      "source": [
        "<a href=\"https://colab.research.google.com/github/noallynoclan/colab/blob/master/catboost.ipynb\" target=\"_parent\"><img src=\"https://colab.research.google.com/assets/colab-badge.svg\" alt=\"Open In Colab\"/></a>"
      ]
    },
    {
      "cell_type": "code",
      "metadata": {
        "id": "pWYdXDY2Vxba",
        "colab_type": "code",
        "outputId": "617f79f7-ee4b-46e5-bab1-3da2ffd0add5",
        "colab": {
          "base_uri": "https://localhost:8080/",
          "height": 34
        }
      },
      "source": [
        "! pip install catboost -q"
      ],
      "execution_count": 2,
      "outputs": [
        {
          "output_type": "stream",
          "text": [
            "\u001b[K     |████████████████████████████████| 63.9MB 86kB/s \n",
            "\u001b[?25h"
          ],
          "name": "stdout"
        }
      ]
    },
    {
      "cell_type": "code",
      "metadata": {
        "id": "IIqZd6d4WcZq",
        "colab_type": "code",
        "outputId": "bc6aa4ef-92d7-4c0a-8b6b-3368ab96b58e",
        "colab": {
          "base_uri": "https://localhost:8080/",
          "height": 445
        }
      },
      "source": [
        "import numpy as np\n",
        "import pandas as pd\n",
        "from catboost import CatBoostClassifier\n",
        "\n",
        "df = pd.DataFrame({\n",
        "    'x1': ['A', 'A', 'B', 'B'],\n",
        "    'x2': [1, 2, np.NaN, 2],\n",
        "    'y': [1, 0, 0, 1]\n",
        "})\n",
        "print(df)\n",
        "\n",
        "FEATURES = ['x1', 'x2']\n",
        "CAT_FEATURES = ['x1']\n",
        "TARGET = 'y'\n",
        "\n",
        "cat_features = [i for i, f in enumerate(FEATURES) if f in CAT_FEATURES]\n",
        "model = CatBoostClassifier(iterations=1000, learning_rate=1, depth=3)\n",
        "model.fit(df[FEATURES], df[TARGET], cat_features, verbose=100)\n",
        "\n",
        "df['y_pred'] = model.predict_proba(df[FEATURES])[:, 0]\n",
        "df"
      ],
      "execution_count": 3,
      "outputs": [
        {
          "output_type": "stream",
          "text": [
            "  x1   x2  y\n",
            "0  A  1.0  1\n",
            "1  A  2.0  0\n",
            "2  B  NaN  0\n",
            "3  B  2.0  1\n",
            "0:\tlearn: 0.4869191\ttotal: 48ms\tremaining: 47.9s\n",
            "100:\tlearn: 0.0030810\ttotal: 58.8ms\tremaining: 524ms\n",
            "200:\tlearn: 0.0019454\ttotal: 68.3ms\tremaining: 272ms\n",
            "300:\tlearn: 0.0019454\ttotal: 77.2ms\tremaining: 179ms\n",
            "400:\tlearn: 0.0019454\ttotal: 86.6ms\tremaining: 129ms\n",
            "500:\tlearn: 0.0019454\ttotal: 97.2ms\tremaining: 96.8ms\n",
            "600:\tlearn: 0.0019454\ttotal: 106ms\tremaining: 70.6ms\n",
            "700:\tlearn: 0.0019454\ttotal: 116ms\tremaining: 49.3ms\n",
            "800:\tlearn: 0.0019454\ttotal: 125ms\tremaining: 31ms\n",
            "900:\tlearn: 0.0019454\ttotal: 134ms\tremaining: 14.7ms\n",
            "999:\tlearn: 0.0019454\ttotal: 143ms\tremaining: 0us\n"
          ],
          "name": "stdout"
        },
        {
          "output_type": "execute_result",
          "data": {
            "text/html": [
              "<div>\n",
              "<style scoped>\n",
              "    .dataframe tbody tr th:only-of-type {\n",
              "        vertical-align: middle;\n",
              "    }\n",
              "\n",
              "    .dataframe tbody tr th {\n",
              "        vertical-align: top;\n",
              "    }\n",
              "\n",
              "    .dataframe thead th {\n",
              "        text-align: right;\n",
              "    }\n",
              "</style>\n",
              "<table border=\"1\" class=\"dataframe\">\n",
              "  <thead>\n",
              "    <tr style=\"text-align: right;\">\n",
              "      <th></th>\n",
              "      <th>x1</th>\n",
              "      <th>x2</th>\n",
              "      <th>y</th>\n",
              "      <th>y_pred</th>\n",
              "    </tr>\n",
              "  </thead>\n",
              "  <tbody>\n",
              "    <tr>\n",
              "      <th>0</th>\n",
              "      <td>A</td>\n",
              "      <td>1.0</td>\n",
              "      <td>1</td>\n",
              "      <td>0.001949</td>\n",
              "    </tr>\n",
              "    <tr>\n",
              "      <th>1</th>\n",
              "      <td>A</td>\n",
              "      <td>2.0</td>\n",
              "      <td>0</td>\n",
              "      <td>0.998050</td>\n",
              "    </tr>\n",
              "    <tr>\n",
              "      <th>2</th>\n",
              "      <td>B</td>\n",
              "      <td>NaN</td>\n",
              "      <td>0</td>\n",
              "      <td>0.998064</td>\n",
              "    </tr>\n",
              "    <tr>\n",
              "      <th>3</th>\n",
              "      <td>B</td>\n",
              "      <td>2.0</td>\n",
              "      <td>1</td>\n",
              "      <td>0.001939</td>\n",
              "    </tr>\n",
              "  </tbody>\n",
              "</table>\n",
              "</div>"
            ],
            "text/plain": [
              "  x1   x2  y    y_pred\n",
              "0  A  1.0  1  0.001949\n",
              "1  A  2.0  0  0.998050\n",
              "2  B  NaN  0  0.998064\n",
              "3  B  2.0  1  0.001939"
            ]
          },
          "metadata": {
            "tags": []
          },
          "execution_count": 3
        }
      ]
    },
    {
      "cell_type": "code",
      "metadata": {
        "id": "sPcaDUZOVuyD",
        "colab_type": "code",
        "colab": {}
      },
      "source": [
        ""
      ],
      "execution_count": 0,
      "outputs": []
    }
  ]
}