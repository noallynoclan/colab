{
  "nbformat": 4,
  "nbformat_minor": 0,
  "metadata": {
    "colab": {
      "name": "pytorch_tutorials_01_math.ipynb",
      "provenance": [],
      "authorship_tag": "ABX9TyM2Q546v+DNCK4F9JJpQPtl",
      "include_colab_link": true
    },
    "kernelspec": {
      "name": "python3",
      "display_name": "Python 3"
    }
  },
  "cells": [
    {
      "cell_type": "markdown",
      "metadata": {
        "id": "view-in-github",
        "colab_type": "text"
      },
      "source": [
        "<a href=\"https://colab.research.google.com/github/noallynoclan/colab/blob/master/pytorch_tutorials_01_math.ipynb\" target=\"_parent\"><img src=\"https://colab.research.google.com/assets/colab-badge.svg\" alt=\"Open In Colab\"/></a>"
      ]
    },
    {
      "cell_type": "code",
      "metadata": {
        "id": "4CdP-Mfj1KlI"
      },
      "source": [
        "import numpy as np\r\n",
        "import torch\r\n",
        "from pprint import pprint"
      ],
      "execution_count": 44,
      "outputs": []
    },
    {
      "cell_type": "code",
      "metadata": {
        "colab": {
          "base_uri": "https://localhost:8080/"
        },
        "id": "Nfl2_Ure1e2w",
        "outputId": "a8263cba-9d43-4900-d999-59776ff72091"
      },
      "source": [
        "device = 'cuda' if torch.cuda.is_available() else 'cpu'\r\n",
        "\r\n",
        "my_tensor = torch.tensor([[1, 2, 3], [4, 5, 6]], dtype=torch.float32, \r\n",
        "                         device=device, requires_grad=True)\r\n",
        "print(my_tensor)\r\n",
        "print(my_tensor.dtype)\r\n",
        "print(my_tensor.shape)"
      ],
      "execution_count": 17,
      "outputs": [
        {
          "output_type": "stream",
          "text": [
            "tensor([[1., 2., 3.],\n",
            "        [4., 5., 6.]], requires_grad=True)\n",
            "torch.float32\n",
            "torch.Size([2, 3])\n"
          ],
          "name": "stdout"
        }
      ]
    },
    {
      "cell_type": "code",
      "metadata": {
        "colab": {
          "base_uri": "https://localhost:8080/"
        },
        "id": "bgpX0OKb1k1_",
        "outputId": "82043af6-7a09-4360-f455-350eee418c12"
      },
      "source": [
        "x = torch.empty(size=(3, 3))\r\n",
        "print(x)\r\n",
        "x = torch.zeros(3, 3)\r\n",
        "print(x)\r\n",
        "x = torch.rand(3, 3) # uniform\r\n",
        "print(x)\r\n",
        "x = torch.arange(0, 5, 1)\r\n",
        "print(x)\r\n",
        "x = torch.linspace(0.1, 1, 10)\r\n",
        "print(x)\r\n",
        "x = torch.empty(size=(1, 5)).normal_(mean=0, std=1)\r\n",
        "print(x)\r\n",
        "x = torch.empty(size=(1, 5)).uniform_(0, 1)\r\n",
        "print(x)\r\n",
        "x = torch.arange(5)\r\n",
        "print(x.bool())\r\n",
        "print(x.short())\r\n",
        "print(x.long())\r\n",
        "print(x.half())"
      ],
      "execution_count": 43,
      "outputs": [
        {
          "output_type": "stream",
          "text": [
            "tensor([[2.3975e-35, 0.0000e+00, 1.5975e-43],\n",
            "        [1.3873e-43, 1.4574e-43, 6.4460e-44],\n",
            "        [1.4153e-43, 1.5274e-43, 1.5695e-43]])\n",
            "tensor([[0., 0., 0.],\n",
            "        [0., 0., 0.],\n",
            "        [0., 0., 0.]])\n",
            "tensor([[0.9728, 0.7616, 0.8912],\n",
            "        [0.4153, 0.5059, 0.6987],\n",
            "        [0.1141, 0.9971, 0.2818]])\n",
            "tensor([0, 1, 2, 3, 4])\n",
            "tensor([0.1000, 0.2000, 0.3000, 0.4000, 0.5000, 0.6000, 0.7000, 0.8000, 0.9000,\n",
            "        1.0000])\n",
            "tensor([[0.5049, 1.7506, 0.2998, 1.0119, 0.6218]])\n",
            "tensor([[0.6645, 0.5118, 0.9764, 0.0969, 0.5047]])\n",
            "tensor([False,  True,  True,  True,  True])\n",
            "tensor([0, 1, 2, 3, 4], dtype=torch.int16)\n",
            "tensor([0, 1, 2, 3, 4])\n",
            "tensor([0., 1., 2., 3., 4.], dtype=torch.float16)\n"
          ],
          "name": "stdout"
        }
      ]
    },
    {
      "cell_type": "code",
      "metadata": {
        "id": "ucx-Z_h629QV"
      },
      "source": [
        "np_array = np.zeros((5, 5))\r\n",
        "tensor = torch.from_numpy(np_array)\r\n",
        "np_array_back = tensor.numpy()"
      ],
      "execution_count": 47,
      "outputs": []
    },
    {
      "cell_type": "code",
      "metadata": {
        "colab": {
          "base_uri": "https://localhost:8080/"
        },
        "id": "WMCBCZfi7cg-",
        "outputId": "bb49c32a-d973-41fe-faeb-fa42ce02ec0b"
      },
      "source": [
        "x = torch.tensor([1, 2, 3])\r\n",
        "y = torch.tensor([9, 8, 7])\r\n",
        "z1 = torch.empty(3)\r\n",
        "torch.add(x, y, out=z1)\r\n",
        "print(z1)\r\n",
        "z2 = torch.add(x, y)\r\n",
        "print(z2)\r\n",
        "z = x + y\r\n",
        "print(z)\r\n",
        "z = torch.true_divide(x, y)\r\n",
        "print(z)\r\n",
        "t = torch.zeros(3)\r\n",
        "t.add_(x)\r\n",
        "print(t)\r\n",
        "t += x \r\n",
        "print(t)\r\n",
        "z = x.pow(2)\r\n",
        "print(z)\r\n",
        "z = x ** 2\r\n",
        "print(z)\r\n",
        "z = x > 0\r\n",
        "print(z)\r\n",
        "x1 = torch.rand((2, 5))\r\n",
        "x2 = torch.rand((5, 3))\r\n",
        "x3 = torch.mm(x1, x2)\r\n",
        "print(x3)\r\n",
        "x3 = x1.mm(x2)\r\n",
        "print(x3)\r\n",
        "x3 = x1 @ x2\r\n",
        "print(x3)\r\n",
        "matrix_exp = torch.rand(2, 2)\r\n",
        "print(matrix_exp)\r\n",
        "print(matrix_exp.matrix_power(3))"
      ],
      "execution_count": 70,
      "outputs": [
        {
          "output_type": "stream",
          "text": [
            "tensor([10., 10., 10.])\n",
            "tensor([10, 10, 10])\n",
            "tensor([10, 10, 10])\n",
            "tensor([0.1111, 0.2500, 0.4286])\n",
            "tensor([1., 2., 3.])\n",
            "tensor([2., 4., 6.])\n",
            "tensor([1, 4, 9])\n",
            "tensor([1, 4, 9])\n",
            "tensor([True, True, True])\n",
            "tensor([[1.1617, 1.1882, 2.0347],\n",
            "        [0.9010, 1.4881, 0.9598]])\n",
            "tensor([[1.1617, 1.1882, 2.0347],\n",
            "        [0.9010, 1.4881, 0.9598]])\n",
            "tensor([[1.1617, 1.1882, 2.0347],\n",
            "        [0.9010, 1.4881, 0.9598]])\n",
            "tensor([[0.6574, 0.3006],\n",
            "        [0.8776, 0.4123]])\n",
            "tensor([[0.7398, 0.3418],\n",
            "        [0.9978, 0.4610]])\n"
          ],
          "name": "stdout"
        }
      ]
    },
    {
      "cell_type": "code",
      "metadata": {
        "colab": {
          "base_uri": "https://localhost:8080/"
        },
        "id": "oOw0EAAT7elF",
        "outputId": "78e533ac-45a4-4b56-a4fc-45de97b63eec"
      },
      "source": [
        "batch = 4\r\n",
        "n = 2\r\n",
        "m = 3\r\n",
        "p = 4\r\n",
        "tensor1 = torch.rand((batch, n, m))\r\n",
        "tensor2 = torch.rand((batch, m, p))\r\n",
        "out_bmm = torch.bmm(tensor1, tensor2)\r\n",
        "print(out_bmm)"
      ],
      "execution_count": 74,
      "outputs": [
        {
          "output_type": "stream",
          "text": [
            "tensor([[[0.9140, 0.2981, 0.8823, 0.9114],\n",
            "         [0.2826, 0.0965, 0.2009, 0.2939]],\n",
            "\n",
            "        [[0.1572, 0.0411, 0.2134, 0.1308],\n",
            "         [0.9829, 0.2178, 1.1708, 0.6199]],\n",
            "\n",
            "        [[0.9505, 1.2537, 0.8303, 1.1831],\n",
            "         [1.4023, 1.2313, 0.2331, 1.1223]],\n",
            "\n",
            "        [[0.6953, 0.2808, 0.4020, 0.9245],\n",
            "         [0.1739, 0.6117, 0.5824, 0.6487]]])\n"
          ],
          "name": "stdout"
        }
      ]
    },
    {
      "cell_type": "code",
      "metadata": {
        "colab": {
          "base_uri": "https://localhost:8080/"
        },
        "id": "QOejxlsw9M-g",
        "outputId": "6d3f4e4b-df14-41a4-8514-758f8ffda0ef"
      },
      "source": [
        "x1 = torch.rand((5, 5))\r\n",
        "x2 = torch.rand((1, 5))\r\n",
        "z = x1 - x2\r\n",
        "print(z)"
      ],
      "execution_count": 75,
      "outputs": [
        {
          "output_type": "stream",
          "text": [
            "tensor([[ 0.0749, -0.1287,  0.0557,  0.0449, -0.0778],\n",
            "        [ 0.1528, -0.3274, -0.1720,  0.0186,  0.4571],\n",
            "        [-0.2495, -0.5509, -0.5167, -0.5077, -0.4197],\n",
            "        [-0.1385,  0.2540, -0.6358, -0.4702,  0.2433],\n",
            "        [ 0.2158, -0.3369, -0.0462, -0.5296, -0.4331]])\n"
          ],
          "name": "stdout"
        }
      ]
    },
    {
      "cell_type": "code",
      "metadata": {
        "colab": {
          "base_uri": "https://localhost:8080/"
        },
        "id": "aZ2EtIwtJOrl",
        "outputId": "618eb19f-c08e-4a83-90d8-0ea2e8d5e1c8"
      },
      "source": [
        "torch.sum(z, dim=0)"
      ],
      "execution_count": 77,
      "outputs": [
        {
          "output_type": "execute_result",
          "data": {
            "text/plain": [
              "tensor([ 0.0556, -1.0899, -1.3150, -1.4440, -0.2302])"
            ]
          },
          "metadata": {
            "tags": []
          },
          "execution_count": 77
        }
      ]
    },
    {
      "cell_type": "code",
      "metadata": {
        "colab": {
          "base_uri": "https://localhost:8080/"
        },
        "id": "wQ41m9SeJjSE",
        "outputId": "79389fb2-6edd-4d7b-d79e-6f6d755432f0"
      },
      "source": [
        "values, indices = torch.max(z, dim=1)\r\n",
        "print(values, indices)\r\n",
        "indices = torch.argmax(z, dim=1)\r\n",
        "print(indices)"
      ],
      "execution_count": 81,
      "outputs": [
        {
          "output_type": "stream",
          "text": [
            "tensor([ 0.0749,  0.4571, -0.2495,  0.2540,  0.2158]) tensor([0, 4, 0, 1, 0])\n",
            "tensor([0, 4, 0, 1, 0])\n"
          ],
          "name": "stdout"
        }
      ]
    },
    {
      "cell_type": "code",
      "metadata": {
        "colab": {
          "base_uri": "https://localhost:8080/"
        },
        "id": "YxsrU6vDJsiE",
        "outputId": "34d3f681-ec71-4d07-fc5f-4a54270de51e"
      },
      "source": [
        "z = torch.tensor([[1, 2], [3, 4]])\r\n",
        "print(z)\r\n",
        "z.clamp_(min=2, max=3)\r\n",
        "print(z)"
      ],
      "execution_count": 88,
      "outputs": [
        {
          "output_type": "stream",
          "text": [
            "tensor([[1, 2],\n",
            "        [3, 4]])\n",
            "tensor([[2, 2],\n",
            "        [3, 3]])\n"
          ],
          "name": "stdout"
        }
      ]
    },
    {
      "cell_type": "code",
      "metadata": {
        "colab": {
          "base_uri": "https://localhost:8080/"
        },
        "id": "vWhcp3mmKWg9",
        "outputId": "466f59c8-c4c4-411b-ac1a-71dbf46e6c36"
      },
      "source": [
        "batch_size = 10\r\n",
        "features = 25\r\n",
        "x = torch.rand((batch_size, features))\r\n",
        "x[0]"
      ],
      "execution_count": 89,
      "outputs": [
        {
          "output_type": "execute_result",
          "data": {
            "text/plain": [
              "tensor([0.6484, 0.8172, 0.8313, 0.5613, 0.1993, 0.1976, 0.7421, 0.6054, 0.0252,\n",
              "        0.4054, 0.7335, 0.4869, 0.6675, 0.4550, 0.9368, 0.5102, 0.3673, 0.1955,\n",
              "        0.5202, 0.5679, 0.2698, 0.3099, 0.1142, 0.6142, 0.4619])"
            ]
          },
          "metadata": {
            "tags": []
          },
          "execution_count": 89
        }
      ]
    },
    {
      "cell_type": "code",
      "metadata": {
        "id": "_G6rsOjiK9tU"
      },
      "source": [
        "x = torch.arange(9)"
      ],
      "execution_count": 90,
      "outputs": []
    },
    {
      "cell_type": "code",
      "metadata": {
        "colab": {
          "base_uri": "https://localhost:8080/"
        },
        "id": "hE4Ot0bDMowl",
        "outputId": "9cfd4093-af6c-4c1a-cd74-b186b3192d5c"
      },
      "source": [
        "x.view(3, 3)\r\n",
        "x"
      ],
      "execution_count": 91,
      "outputs": [
        {
          "output_type": "execute_result",
          "data": {
            "text/plain": [
              "tensor([0, 1, 2, 3, 4, 5, 6, 7, 8])"
            ]
          },
          "metadata": {
            "tags": []
          },
          "execution_count": 91
        }
      ]
    },
    {
      "cell_type": "code",
      "metadata": {
        "colab": {
          "base_uri": "https://localhost:8080/"
        },
        "id": "kCPWeJkgMqfm",
        "outputId": "d910aadb-d351-4c21-9d2b-df85441d87e5"
      },
      "source": [
        "x1 = torch.rand((2, 5))\r\n",
        "x2 = torch.rand((2, 5))\r\n",
        "z = torch.cat((x1, x2), dim=0)\r\n",
        "print(z.shape)\r\n",
        "print(z.view(-1))"
      ],
      "execution_count": 93,
      "outputs": [
        {
          "output_type": "stream",
          "text": [
            "torch.Size([4, 5])\n",
            "tensor([0.8397, 0.0414, 0.4633, 0.6976, 0.4498, 0.0232, 0.4982, 0.1982, 0.8591,\n",
            "        0.3675, 0.9605, 0.3100, 0.1045, 0.7899, 0.6537, 0.2669, 0.8546, 0.5912,\n",
            "        0.7422, 0.0264])\n"
          ],
          "name": "stdout"
        }
      ]
    },
    {
      "cell_type": "code",
      "metadata": {
        "id": "II7Fu4A8PhJh"
      },
      "source": [
        ""
      ],
      "execution_count": null,
      "outputs": []
    }
  ]
}