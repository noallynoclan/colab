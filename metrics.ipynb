{
  "nbformat": 4,
  "nbformat_minor": 0,
  "metadata": {
    "colab": {
      "name": "metrics.ipynb",
      "provenance": [],
      "collapsed_sections": [],
      "include_colab_link": true
    },
    "kernelspec": {
      "name": "python3",
      "display_name": "Python 3"
    }
  },
  "cells": [
    {
      "cell_type": "markdown",
      "metadata": {
        "id": "view-in-github",
        "colab_type": "text"
      },
      "source": [
        "<a href=\"https://colab.research.google.com/github/noallynoclan/colab/blob/master/metrics.ipynb\" target=\"_parent\"><img src=\"https://colab.research.google.com/assets/colab-badge.svg\" alt=\"Open In Colab\"/></a>"
      ]
    },
    {
      "cell_type": "markdown",
      "metadata": {
        "id": "TvedQLL9I1L0",
        "colab_type": "text"
      },
      "source": [
        "* **Vanity Metrics**\n",
        "  * DAU, MAU, Downloads, Sessions\n",
        "* **Actionable Metrics**\n",
        "  * **Users**: Repeat users, Churn, Retention\n",
        "  * **Conversions, Funnel**: Sign ups, Leads, Purchases, Upload or Post smth\n",
        "  * **Revenue**: Amount of each sale, Amount for a given group of people\n",
        "* **Segment Users**\n",
        "  * Cohorts\n",
        "  * How users found you\n",
        "  * Paid vs Free\n",
        "  * New vs Repeat\n",
        "*  **Feature Metrics**\n",
        "   * Total number of times people are using the feature\n",
        "   * The number of unique users who are using the feature\n",
        "   * The percentage of your total active users who are using the feature\n",
        "   * The average number of times per day users are using the feature"
      ]
    },
    {
      "cell_type": "code",
      "metadata": {
        "id": "IoTjduxtwoBW",
        "colab_type": "code",
        "colab": {}
      },
      "source": [
        ""
      ],
      "execution_count": 0,
      "outputs": []
    }
  ]
}