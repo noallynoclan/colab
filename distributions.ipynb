{
  "nbformat": 4,
  "nbformat_minor": 0,
  "metadata": {
    "colab": {
      "name": "distributions.ipynb",
      "provenance": [],
      "collapsed_sections": [],
      "include_colab_link": true
    },
    "kernelspec": {
      "name": "python3",
      "display_name": "Python 3"
    }
  },
  "cells": [
    {
      "cell_type": "markdown",
      "metadata": {
        "id": "view-in-github",
        "colab_type": "text"
      },
      "source": [
        "<a href=\"https://colab.research.google.com/github/noallynoclan/colab/blob/master/distributions.ipynb\" target=\"_parent\"><img src=\"https://colab.research.google.com/assets/colab-badge.svg\" alt=\"Open In Colab\"/></a>"
      ]
    },
    {
      "cell_type": "markdown",
      "metadata": {
        "id": "B3S6UeOp1z1W",
        "colab_type": "text"
      },
      "source": [
        "[colab](https://colab.research.google.com/drive/163C85NuF09HQWujN3IP22zahZhSsYLNI)"
      ]
    },
    {
      "cell_type": "markdown",
      "metadata": {
        "id": "mNbb9_5w2RMo",
        "colab_type": "text"
      },
      "source": [
        "||replacements|w/o replacements|\n",
        "|-|:-:|:-:|\n",
        "|**Combinations**<br>(order does not matter)|$$\\binom{k+n-1}{k}=\\frac{(k+n-1)!}{k!(n-1)!}$$|$$\\binom{n}{k}=\\frac{n!}{k!(n-k)!}$$|\n",
        "|**Permutations**<br>(order matters)|$$n^k$$|$$\\frac{n!}{(n-k)!}$$|"
      ]
    },
    {
      "cell_type": "markdown",
      "metadata": {
        "id": "nO-00awG4rz0",
        "colab_type": "text"
      },
      "source": [
        "||pars|&nbsp; &nbsp; &nbsp; &nbsp; &nbsp; &nbsp; &nbsp; &nbsp; &nbsp; &nbsp; &nbsp; &nbsp; PMF/PDF &nbsp; &nbsp; &nbsp; &nbsp; &nbsp; &nbsp; &nbsp; &nbsp; &nbsp; &nbsp; &nbsp; &nbsp;|mean|var|med|comments|\n",
        "|-|:-:|:-:|:-:|:-:|:-:|:-:|\n",
        "|**Bernoulli**|$$p$$|$$\\begin{cases} P(X=0)=q=(1-p) \\\\ P(X=1)=p \\end{cases}$$|$$p$$|$$p  (1-p)$$||boolean-valued outcome|\n",
        "|**Grometric**|$$p$$|$$P(X=k)=(1-p)^{k-1}p$$|$$\\frac{1}{p}$$|$$\\frac{1-p}{p^2}$$||# of first success|\n",
        "|**Binomial**|$$n, p$$|$$P(X=k)=\\binom{n}{k}p^k(1-p)^{n-k}$$|$$np$$|$$np(1-p)$$||# successes drawn with replacement|\n",
        "|**Poisson**|$$\\lambda$$|$$P(X=k)=\\frac{e^{-\\lambda}\\lambda^k}{k!}$$|$$\\lambda$$|$$\\lambda$$|| # emails/calls per time period|\n",
        "|**Exponential**|$$\\lambda$$|$$f(x \\mid \\lambda)=\\lambda e^{-\\lambda x}$$|$$\\frac{1}{\\lambda}$$|$$\\frac{1}{\\lambda^2}$$|$$\\frac{\\ln{2}}{\\lambda}$$|time between events|\n",
        "|**Normal**|$$\\mu, \\sigma^2$$|$$f(x \\mid \\mu, \\sigma^2)=\\frac{1}{\\sqrt{2\\pi\\sigma^2}}e^{-\\frac{(x-\\mu)^2}{2\\sigma^2}}$$|$$\\mu$$|$$\\sigma^2$$|$$\\mu$$|measurement errors\n"
      ]
    },
    {
      "cell_type": "markdown",
      "metadata": {
        "id": "4ECx4y4TBgm2",
        "colab_type": "text"
      },
      "source": [
        "||||comments|\n",
        "|-:|:-:|:-:|:-:|\n",
        "|**Law or Large Numbers**|$$\\bar{X}_n \\xrightarrow{\\text{a.s.}} \\mu$$||converges strongly<br>**almost surely**<br>**almost everywhere**<br>**with probability 1**|\n",
        "|**Central Limit Theorem**|$$\\bar{X}_n \\xrightarrow{\\text{d}} N\\Bigl(\\mu, \\frac{\\sigma^2}{n}\\Bigr)$$|$$\\sqrt{n}\\frac{\\bar{X}_n-\\mu}{\\sigma} \\xrightarrow{\\text{d}} N(0,1)$$|converges weakly<br>**in distribution**|"
      ]
    },
    {
      "cell_type": "markdown",
      "metadata": {
        "id": "qpi9g4YEBYWM",
        "colab_type": "text"
      },
      "source": [
        "||$$\\textbf{Pred NO}$$<br>$$\\text{TN}+\\text{FN}$$<br>$$P(\\bar{B})$$|$$\\textbf{Pred YES}$$<br>$$\\text{FP}+\\text{TP}$$<br>$$\\text{Evidence}=P(B)$$|$$\\text{ROC(th)}=\\frac{\\text{TPR(th)}}{\\text{FPR(th)}}$$|\n",
        "|:-:|:-:|:-:|:-:|\n",
        "|$$\\textbf{Actual NO}$$<BR>$$\\text{TN}+\\text{FP}$$<BR>$$P(\\bar{A})$$|$$\\textbf{TN}$$<br>$$\\text{Confidence}$$<BR>$$c=1-\\alpha$$|$$\\textbf{FP}$$<br>$$\\text{Type I}$$<br>$$\\alpha$$|$$\\text{Fall out (FPR)}=\\frac{\\text{FP}}{\\text{FP}+\\text{TN}}$$|\n",
        "|$$\\textbf{Actual YES}$$<BR>$$\\text{FN}+\\text{TP}$$<br>$$\\text{Prior}=P(A)$$|$$\\textbf{FN}$$<br>$$\\text{Type II}$$<br>$$\\beta$$|$$\\textbf{TP}$$<br>$$\\text{Power}$$<br>$$p=1-\\beta$$|$$\\text{Recall (Sensitivity, TPR)}=\\frac{\\text{TP}}{\\text{TP}+\\text{FN}}$$<BR>$$\\text{Likelihood}=P(B \\mid A)$$|\n",
        "||$$\\text{Accuracy}=\\frac{\\text{TP}+\\text{TN}}{\\text{FP}+\\text{FN}}$$|$$\\text{Precision}=\\frac{\\text{TP}}{\\text{TP}+\\text{FP}}$$<br>$$P(A\\mid B)=\\frac{P(B \\mid A) \\cdot P(A)}{P(B)}$$<BR>$$\\text{Posterior}=\\frac{\\text{Likelihood} \\cdot \\text{Prior}}{\\text{Evidence}}$$|$$F_1=2\\cdot\\frac{\\text{Precision}\\cdot\\text{Recall}}{\\text{Precision}+\\text{Recall}}$$|"
      ]
    },
    {
      "cell_type": "markdown",
      "metadata": {
        "id": "jN8EpyyXArdb",
        "colab_type": "text"
      },
      "source": [
        "||means|proportions|comments\n",
        "|:-|:-:|:-:|:-:|\n",
        "|$$x$$|$$n \\times D(\\mu, \\sigma^2)$$|$$n \\times \\text{Bernouli}(p)$$||\n",
        "|$$\\mu$$|$$N\\Bigl(\\mu, \\frac{\\sigma^2}{n}\\Bigr)$$|$$\\frac{\\text{Binomial}(n, p)}{n}$$||\n",
        "|$$\\textbf{SE}$$|$$\\sqrt{\\frac{\\sigma^2_t}{n_t}+\\frac{\\sigma^2_c}{n_c}}$$|$$\\sqrt{\\hat{p}(1-\\hat{p})\\Bigl(\\frac{1}{n_t}+\\frac{1}{n_c}\\Bigr)}$$||\n",
        "|$$\\Delta$$|$$\\mu_t-\\mu_c$$|$$p_t-p_c$$||\n",
        "|$$z$$|$$\\frac{\\Delta}{\\text{SE}} $$|$$\\frac{\\Delta}{\\text{SE}} $$|$$\\sim N\\Bigl(\\frac{\\Delta}{\\text{SE}}, 1\\Bigr)$$|\n",
        "|$$\\textbf{CI}$$|$$\\Delta \\pm z_{\\alpha/2}\\cdot \\text{SE}$$|$$\\Delta \\pm z_{\\alpha/2} \\cdot \\text{SE}$$|`scipy.stats.norm.ppf`<br>Percent point function<br>Inverse CDF|\n",
        "|$$\\textbf{p_val}$$|$$2\\cdot P(N \\ge \\lvert z\\rvert)$$|$$2\\cdot P(N \\ge \\lvert z\\rvert)$$|`scipy.stats.norm.sf`<br>Survival function<br>1 – CDF|\n",
        "|$$\\textbf{MDE}$$|$$(z_{1-\\alpha/2} + z_{1-\\beta})\\cdot \\text{SE}$$|$$(z_{1-\\alpha/2} + z_{1-\\beta})\\cdot \\text{SE}$$|$$\\Delta$$|\n",
        "|$$n$$|$$\\frac{\\sigma^2_t(1-t)+\\sigma^2_ct}{t(1-t)}\\cdot \\Bigl(\\frac{z_{1-\\alpha/2} + z_{1-\\beta}}{\\Delta}\\Bigr)^2$$|$$\\frac{\\hat{p}(1-\\hat{p})}{t(1-t)}\\cdot \\Bigl(\\frac{z_{1-\\alpha/2} + z_{1-\\beta}}{\\Delta}\\Bigr)^2$$|$$(z_{1-\\alpha/2} + z_{1-\\beta})\\cdot \\text{SE} \\le \\Delta$$|\n"
      ]
    },
    {
      "cell_type": "code",
      "metadata": {
        "id": "6NZF4oNR07VT",
        "colab_type": "code",
        "outputId": "47bb5361-4ce3-41c4-eaff-0c7d6cb249a3",
        "colab": {
          "base_uri": "https://localhost:8080/",
          "height": 630
        }
      },
      "source": [
        "%matplotlib inline\n",
        "import matplotlib.pyplot as plt, numpy as np, pandas as pd\n",
        "from IPython.display import display\n",
        "from scipy.stats import norm\n",
        "\n",
        "plt.style.use('fivethirtyeight')\n",
        "\n",
        "\n",
        "def n_prop(pt, pc, t, conf, power):\n",
        "    p = pt * t + pc * (1 - t)\n",
        "    n = p * (1 - p) / t / (1 - t) * (norm.ppf([1 - (1 - conf) / 2, power]).sum() / (pt - pc)) ** 2\n",
        "    return np.ceil([n * t, n * (1 - t)]).astype(int)\n",
        "\n",
        "\n",
        "def gen_prop(p, n_samples, n_exp):\n",
        "    return np.random.binomial(n_samples, p, n_exp) / n_samples\n",
        "\n",
        "\n",
        "def disp(nt, nc, mt, mc, st, sc, se, z, pval, conf):\n",
        "    df = pd.DataFrame({'nt': nt, 'nc': nc, 'mt': mt, 'mc': mc, 'st': st, 'sc': sc,\n",
        "                       'se': se, 'z': z, 'pval': pval, 'ci': '='})\n",
        "    df.loc[mt - mc + se * norm.ppf(1 - (1 - conf) / 2) < 0, 'ci'] = '<'\n",
        "    df.loc[mt - mc + se * norm.ppf((1 - conf) / 2) > 0, 'ci'] = '>'\n",
        "    display(df.head(1))\n",
        "    display(df.pivot_table('pval', pd.Series(pval < 1 - conf).rename('sig'), 'ci', 'count', 0).reset_index())\n",
        "\n",
        "\n",
        "def ttest(delta, se, conf):\n",
        "    z = delta / se\n",
        "    pval = norm.sf(np.abs(z)) * 2\n",
        "    ax = pd.Series(z).hist(bins=100, alpha=0.5)\n",
        "    plt.vlines(norm.ppf(1 - (1 - conf) / 2), *ax.get_ylim(), ls='--', lw=2)\n",
        "    return z, pval\n",
        "\n",
        "\n",
        "def prop_test(pt, pc, nt, nc, conf, n_exp):\n",
        "    pt, pc = gen_prop(pt, nt, n_exp), gen_prop(pc, nc, n_exp)\n",
        "    p = (pt * nt + pc * nc) / (nt + nc)\n",
        "    se = np.sqrt(p * (1 - p) * (1 / nt + 1 / nc))\n",
        "    z, pval = ttest(pt - pc, se, conf)\n",
        "    disp(nt, nc, pt, pc, pt * (1 - pt), pc * (1 - pc), se, z, pval, conf)\n",
        "    return (pval > 1 - conf).sum(), (pval < 1 - conf).sum()\n",
        "\n",
        "\n",
        "def run_prop_tests(pt, pc, t, conf=0.9, power=0.8, n_exp=100_000):\n",
        "    nt, nc = n_prop(pt, pc, t, conf, power)\n",
        "    print(np.array([prop_test(pc, pc, nt, nc, conf, n_exp),\n",
        "                    prop_test(pt, pc, nt, nc, conf, n_exp)]))\n",
        "\n",
        "\n",
        "run_prop_tests(pt=0.11, pc=0.1, t=0.2)"
      ],
      "execution_count": 0,
      "outputs": [
        {
          "output_type": "display_data",
          "data": {
            "text/html": [
              "<div>\n",
              "<style scoped>\n",
              "    .dataframe tbody tr th:only-of-type {\n",
              "        vertical-align: middle;\n",
              "    }\n",
              "\n",
              "    .dataframe tbody tr th {\n",
              "        vertical-align: top;\n",
              "    }\n",
              "\n",
              "    .dataframe thead th {\n",
              "        text-align: right;\n",
              "    }\n",
              "</style>\n",
              "<table border=\"1\" class=\"dataframe\">\n",
              "  <thead>\n",
              "    <tr style=\"text-align: right;\">\n",
              "      <th></th>\n",
              "      <th>nt</th>\n",
              "      <th>nc</th>\n",
              "      <th>mt</th>\n",
              "      <th>mc</th>\n",
              "      <th>st</th>\n",
              "      <th>sc</th>\n",
              "      <th>se</th>\n",
              "      <th>z</th>\n",
              "      <th>pval</th>\n",
              "      <th>ci</th>\n",
              "    </tr>\n",
              "  </thead>\n",
              "  <tbody>\n",
              "    <tr>\n",
              "      <th>0</th>\n",
              "      <td>7079</td>\n",
              "      <td>28315</td>\n",
              "      <td>0.101709</td>\n",
              "      <td>0.102278</td>\n",
              "      <td>0.091365</td>\n",
              "      <td>0.091817</td>\n",
              "      <td>0.004025</td>\n",
              "      <td>-0.141298</td>\n",
              "      <td>0.887634</td>\n",
              "      <td>=</td>\n",
              "    </tr>\n",
              "  </tbody>\n",
              "</table>\n",
              "</div>"
            ],
            "text/plain": [
              "     nt     nc        mt        mc  ...        se         z      pval  ci\n",
              "0  7079  28315  0.101709  0.102278  ...  0.004025 -0.141298  0.887634   =\n",
              "\n",
              "[1 rows x 10 columns]"
            ]
          },
          "metadata": {
            "tags": []
          }
        },
        {
          "output_type": "display_data",
          "data": {
            "text/html": [
              "<div>\n",
              "<style scoped>\n",
              "    .dataframe tbody tr th:only-of-type {\n",
              "        vertical-align: middle;\n",
              "    }\n",
              "\n",
              "    .dataframe tbody tr th {\n",
              "        vertical-align: top;\n",
              "    }\n",
              "\n",
              "    .dataframe thead th {\n",
              "        text-align: right;\n",
              "    }\n",
              "</style>\n",
              "<table border=\"1\" class=\"dataframe\">\n",
              "  <thead>\n",
              "    <tr style=\"text-align: right;\">\n",
              "      <th>ci</th>\n",
              "      <th>sig</th>\n",
              "      <th>&lt;</th>\n",
              "      <th>=</th>\n",
              "      <th>&gt;</th>\n",
              "    </tr>\n",
              "  </thead>\n",
              "  <tbody>\n",
              "    <tr>\n",
              "      <th>0</th>\n",
              "      <td>False</td>\n",
              "      <td>0</td>\n",
              "      <td>89911</td>\n",
              "      <td>0</td>\n",
              "    </tr>\n",
              "    <tr>\n",
              "      <th>1</th>\n",
              "      <td>True</td>\n",
              "      <td>5019</td>\n",
              "      <td>0</td>\n",
              "      <td>5070</td>\n",
              "    </tr>\n",
              "  </tbody>\n",
              "</table>\n",
              "</div>"
            ],
            "text/plain": [
              "ci    sig     <      =     >\n",
              "0   False     0  89911     0\n",
              "1    True  5019      0  5070"
            ]
          },
          "metadata": {
            "tags": []
          }
        },
        {
          "output_type": "display_data",
          "data": {
            "text/html": [
              "<div>\n",
              "<style scoped>\n",
              "    .dataframe tbody tr th:only-of-type {\n",
              "        vertical-align: middle;\n",
              "    }\n",
              "\n",
              "    .dataframe tbody tr th {\n",
              "        vertical-align: top;\n",
              "    }\n",
              "\n",
              "    .dataframe thead th {\n",
              "        text-align: right;\n",
              "    }\n",
              "</style>\n",
              "<table border=\"1\" class=\"dataframe\">\n",
              "  <thead>\n",
              "    <tr style=\"text-align: right;\">\n",
              "      <th></th>\n",
              "      <th>nt</th>\n",
              "      <th>nc</th>\n",
              "      <th>mt</th>\n",
              "      <th>mc</th>\n",
              "      <th>st</th>\n",
              "      <th>sc</th>\n",
              "      <th>se</th>\n",
              "      <th>z</th>\n",
              "      <th>pval</th>\n",
              "      <th>ci</th>\n",
              "    </tr>\n",
              "  </thead>\n",
              "  <tbody>\n",
              "    <tr>\n",
              "      <th>0</th>\n",
              "      <td>7079</td>\n",
              "      <td>28315</td>\n",
              "      <td>0.109903</td>\n",
              "      <td>0.095391</td>\n",
              "      <td>0.097824</td>\n",
              "      <td>0.086292</td>\n",
              "      <td>0.003956</td>\n",
              "      <td>3.66812</td>\n",
              "      <td>0.000244</td>\n",
              "      <td>&gt;</td>\n",
              "    </tr>\n",
              "  </tbody>\n",
              "</table>\n",
              "</div>"
            ],
            "text/plain": [
              "     nt     nc        mt        mc  ...        se        z      pval  ci\n",
              "0  7079  28315  0.109903  0.095391  ...  0.003956  3.66812  0.000244   >\n",
              "\n",
              "[1 rows x 10 columns]"
            ]
          },
          "metadata": {
            "tags": []
          }
        },
        {
          "output_type": "display_data",
          "data": {
            "text/html": [
              "<div>\n",
              "<style scoped>\n",
              "    .dataframe tbody tr th:only-of-type {\n",
              "        vertical-align: middle;\n",
              "    }\n",
              "\n",
              "    .dataframe tbody tr th {\n",
              "        vertical-align: top;\n",
              "    }\n",
              "\n",
              "    .dataframe thead th {\n",
              "        text-align: right;\n",
              "    }\n",
              "</style>\n",
              "<table border=\"1\" class=\"dataframe\">\n",
              "  <thead>\n",
              "    <tr style=\"text-align: right;\">\n",
              "      <th>ci</th>\n",
              "      <th>sig</th>\n",
              "      <th>=</th>\n",
              "      <th>&gt;</th>\n",
              "    </tr>\n",
              "  </thead>\n",
              "  <tbody>\n",
              "    <tr>\n",
              "      <th>0</th>\n",
              "      <td>False</td>\n",
              "      <td>20531</td>\n",
              "      <td>0</td>\n",
              "    </tr>\n",
              "    <tr>\n",
              "      <th>1</th>\n",
              "      <td>True</td>\n",
              "      <td>0</td>\n",
              "      <td>79469</td>\n",
              "    </tr>\n",
              "  </tbody>\n",
              "</table>\n",
              "</div>"
            ],
            "text/plain": [
              "ci    sig      =      >\n",
              "0   False  20531      0\n",
              "1    True      0  79469"
            ]
          },
          "metadata": {
            "tags": []
          }
        },
        {
          "output_type": "stream",
          "text": [
            "[[89911 10089]\n",
            " [20531 79469]]\n"
          ],
          "name": "stdout"
        },
        {
          "output_type": "display_data",
          "data": {
            "image/png": "[encoded data removed]",
            "text/plain": [
              "<Figure size 432x288 with 1 Axes>"
            ]
          },
          "metadata": {
            "tags": []
          }
        }
      ]
    },
    {
      "cell_type": "code",
      "metadata": {
        "id": "8InDmfF-9N9u",
        "colab_type": "code",
        "outputId": "b0dea200-0d30-4ec6-cdd8-4aa9972e63e4",
        "colab": {
          "base_uri": "https://localhost:8080/",
          "height": 630
        }
      },
      "source": [
        "def n_mean(mt, mc, st, sc, t, conf, power):\n",
        "    n = (st ** 2 * (1 - t) + sc ** 2 * t) / t / (1 - t) * (norm.ppf([1 - (1 - conf) / 2, power]).sum() / (mt - mc)) ** 2\n",
        "    return np.ceil([n * t, n * (1 - t)]).astype(int)\n",
        "\n",
        "\n",
        "def gen_mean(mu, std, n_samples, n_exp):\n",
        "    x = np.random.normal(mu, std, (n_exp, n_samples))\n",
        "    return x.mean(axis=1), x.std(axis=1)\n",
        "\n",
        "\n",
        "def mean_test(mt, mc, st, sc, nt, nc, conf, n_exp):\n",
        "    (mt, st), (mc, sc) = gen_mean(mt, st, nt, n_exp), gen_mean(mc, sc, nc, n_exp)\n",
        "    se = np.sqrt(st ** 2 / nt + sc ** 2 / nc)\n",
        "    z, pval = ttest(mt - mc, se, conf)\n",
        "    disp(nt, nc, mt, mc, st, sc, se, z, pval, conf)\n",
        "    return (pval > 1 - conf).sum(), (pval < 1 - conf).sum()\n",
        "\n",
        "\n",
        "def run_mean_tests(mt, mc, st, sc, t, conf=0.9, power=0.8, n_exp=10_000):\n",
        "    nt, nc = n_mean(mt, mc, st, sc, t, conf, power)\n",
        "    print(np.array([mean_test(mc, mc, sc, sc, nt, nc, conf, n_exp),\n",
        "                    mean_test(mt, mc, st, sc, nt, nc, conf, n_exp)]))\n",
        "\n",
        "\n",
        "run_mean_tests(mt=101, mc=100, st=20, sc=5, t=0.4)"
      ],
      "execution_count": 0,
      "outputs": [
        {
          "output_type": "display_data",
          "data": {
            "text/html": [
              "<div>\n",
              "<style scoped>\n",
              "    .dataframe tbody tr th:only-of-type {\n",
              "        vertical-align: middle;\n",
              "    }\n",
              "\n",
              "    .dataframe tbody tr th {\n",
              "        vertical-align: top;\n",
              "    }\n",
              "\n",
              "    .dataframe thead th {\n",
              "        text-align: right;\n",
              "    }\n",
              "</style>\n",
              "<table border=\"1\" class=\"dataframe\">\n",
              "  <thead>\n",
              "    <tr style=\"text-align: right;\">\n",
              "      <th></th>\n",
              "      <th>nt</th>\n",
              "      <th>nc</th>\n",
              "      <th>mt</th>\n",
              "      <th>mc</th>\n",
              "      <th>st</th>\n",
              "      <th>sc</th>\n",
              "      <th>se</th>\n",
              "      <th>z</th>\n",
              "      <th>pval</th>\n",
              "      <th>ci</th>\n",
              "    </tr>\n",
              "  </thead>\n",
              "  <tbody>\n",
              "    <tr>\n",
              "      <th>0</th>\n",
              "      <td>2577</td>\n",
              "      <td>3865</td>\n",
              "      <td>100.184431</td>\n",
              "      <td>100.127009</td>\n",
              "      <td>5.01607</td>\n",
              "      <td>4.982428</td>\n",
              "      <td>0.127227</td>\n",
              "      <td>0.45133</td>\n",
              "      <td>0.651751</td>\n",
              "      <td>=</td>\n",
              "    </tr>\n",
              "  </tbody>\n",
              "</table>\n",
              "</div>"
            ],
            "text/plain": [
              "     nt    nc          mt          mc  ...        se        z      pval  ci\n",
              "0  2577  3865  100.184431  100.127009  ...  0.127227  0.45133  0.651751   =\n",
              "\n",
              "[1 rows x 10 columns]"
            ]
          },
          "metadata": {
            "tags": []
          }
        },
        {
          "output_type": "display_data",
          "data": {
            "text/html": [
              "<div>\n",
              "<style scoped>\n",
              "    .dataframe tbody tr th:only-of-type {\n",
              "        vertical-align: middle;\n",
              "    }\n",
              "\n",
              "    .dataframe tbody tr th {\n",
              "        vertical-align: top;\n",
              "    }\n",
              "\n",
              "    .dataframe thead th {\n",
              "        text-align: right;\n",
              "    }\n",
              "</style>\n",
              "<table border=\"1\" class=\"dataframe\">\n",
              "  <thead>\n",
              "    <tr style=\"text-align: right;\">\n",
              "      <th>ci</th>\n",
              "      <th>sig</th>\n",
              "      <th>&lt;</th>\n",
              "      <th>=</th>\n",
              "      <th>&gt;</th>\n",
              "    </tr>\n",
              "  </thead>\n",
              "  <tbody>\n",
              "    <tr>\n",
              "      <th>0</th>\n",
              "      <td>False</td>\n",
              "      <td>0</td>\n",
              "      <td>8934</td>\n",
              "      <td>0</td>\n",
              "    </tr>\n",
              "    <tr>\n",
              "      <th>1</th>\n",
              "      <td>True</td>\n",
              "      <td>543</td>\n",
              "      <td>0</td>\n",
              "      <td>523</td>\n",
              "    </tr>\n",
              "  </tbody>\n",
              "</table>\n",
              "</div>"
            ],
            "text/plain": [
              "ci    sig    <     =    >\n",
              "0   False    0  8934    0\n",
              "1    True  543     0  523"
            ]
          },
          "metadata": {
            "tags": []
          }
        },
        {
          "output_type": "display_data",
          "data": {
            "text/html": [
              "<div>\n",
              "<style scoped>\n",
              "    .dataframe tbody tr th:only-of-type {\n",
              "        vertical-align: middle;\n",
              "    }\n",
              "\n",
              "    .dataframe tbody tr th {\n",
              "        vertical-align: top;\n",
              "    }\n",
              "\n",
              "    .dataframe thead th {\n",
              "        text-align: right;\n",
              "    }\n",
              "</style>\n",
              "<table border=\"1\" class=\"dataframe\">\n",
              "  <thead>\n",
              "    <tr style=\"text-align: right;\">\n",
              "      <th></th>\n",
              "      <th>nt</th>\n",
              "      <th>nc</th>\n",
              "      <th>mt</th>\n",
              "      <th>mc</th>\n",
              "      <th>st</th>\n",
              "      <th>sc</th>\n",
              "      <th>se</th>\n",
              "      <th>z</th>\n",
              "      <th>pval</th>\n",
              "      <th>ci</th>\n",
              "    </tr>\n",
              "  </thead>\n",
              "  <tbody>\n",
              "    <tr>\n",
              "      <th>0</th>\n",
              "      <td>2577</td>\n",
              "      <td>3865</td>\n",
              "      <td>100.932683</td>\n",
              "      <td>99.967313</td>\n",
              "      <td>20.031632</td>\n",
              "      <td>4.969864</td>\n",
              "      <td>0.402618</td>\n",
              "      <td>2.397733</td>\n",
              "      <td>0.016497</td>\n",
              "      <td>&gt;</td>\n",
              "    </tr>\n",
              "  </tbody>\n",
              "</table>\n",
              "</div>"
            ],
            "text/plain": [
              "     nt    nc          mt         mc  ...        se         z      pval  ci\n",
              "0  2577  3865  100.932683  99.967313  ...  0.402618  2.397733  0.016497   >\n",
              "\n",
              "[1 rows x 10 columns]"
            ]
          },
          "metadata": {
            "tags": []
          }
        },
        {
          "output_type": "display_data",
          "data": {
            "text/html": [
              "<div>\n",
              "<style scoped>\n",
              "    .dataframe tbody tr th:only-of-type {\n",
              "        vertical-align: middle;\n",
              "    }\n",
              "\n",
              "    .dataframe tbody tr th {\n",
              "        vertical-align: top;\n",
              "    }\n",
              "\n",
              "    .dataframe thead th {\n",
              "        text-align: right;\n",
              "    }\n",
              "</style>\n",
              "<table border=\"1\" class=\"dataframe\">\n",
              "  <thead>\n",
              "    <tr style=\"text-align: right;\">\n",
              "      <th>ci</th>\n",
              "      <th>sig</th>\n",
              "      <th>=</th>\n",
              "      <th>&gt;</th>\n",
              "    </tr>\n",
              "  </thead>\n",
              "  <tbody>\n",
              "    <tr>\n",
              "      <th>0</th>\n",
              "      <td>False</td>\n",
              "      <td>1994</td>\n",
              "      <td>0</td>\n",
              "    </tr>\n",
              "    <tr>\n",
              "      <th>1</th>\n",
              "      <td>True</td>\n",
              "      <td>0</td>\n",
              "      <td>8006</td>\n",
              "    </tr>\n",
              "  </tbody>\n",
              "</table>\n",
              "</div>"
            ],
            "text/plain": [
              "ci    sig     =     >\n",
              "0   False  1994     0\n",
              "1    True     0  8006"
            ]
          },
          "metadata": {
            "tags": []
          }
        },
        {
          "output_type": "stream",
          "text": [
            "[[8934 1066]\n",
            " [1994 8006]]\n"
          ],
          "name": "stdout"
        },
        {
          "output_type": "display_data",
          "data": {
            "image/png": "[encoded data removed]",
            "text/plain": [
              "<Figure size 432x288 with 1 Axes>"
            ]
          },
          "metadata": {
            "tags": []
          }
        }
      ]
    },
    {
      "cell_type": "code",
      "metadata": {
        "id": "HaiUlHnuS-oC",
        "colab_type": "code",
        "colab": {}
      },
      "source": [
        ""
      ],
      "execution_count": 0,
      "outputs": []
    }
  ]
}