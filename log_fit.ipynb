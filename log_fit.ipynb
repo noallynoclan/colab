{
  "nbformat": 4,
  "nbformat_minor": 0,
  "metadata": {
    "colab": {
      "name": "log_fit",
      "provenance": [],
      "authorship_tag": "ABX9TyO/rzsgcQhS5crlWwP8qr8E",
      "include_colab_link": true
    },
    "kernelspec": {
      "name": "python3",
      "display_name": "Python 3"
    }
  },
  "cells": [
    {
      "cell_type": "markdown",
      "metadata": {
        "id": "view-in-github",
        "colab_type": "text"
      },
      "source": [
        "<a href=\"https://colab.research.google.com/github/noallynoclan/colab/blob/master/log_fit.ipynb\" target=\"_parent\"><img src=\"https://colab.research.google.com/assets/colab-badge.svg\" alt=\"Open In Colab\"/></a>"
      ]
    },
    {
      "cell_type": "code",
      "metadata": {
        "id": "lfsZoge7hOj7"
      },
      "source": [
        "import numpy as np\n",
        "import pandas as pd\n",
        "import scipy.optimize as opt"
      ],
      "execution_count": 25,
      "outputs": []
    },
    {
      "cell_type": "code",
      "metadata": {
        "colab": {
          "base_uri": "https://localhost:8080/",
          "height": 204
        },
        "id": "x6sUYjpphUL1",
        "outputId": "3374aea2-fc09-45b6-f3e1-bd790d7f9ae7"
      },
      "source": [
        "df = pd.DataFrame({\n",
        "    'x': range(1, 41),\n",
        "    'y': [\n",
        "        1260858982,\n",
        "        1364517281,\n",
        "        1456812756,\n",
        "        1514700326,\n",
        "        1563428833,\n",
        "        157630297,\n",
        "        1609517222,\n",
        "        1655944591,\n",
        "        1714515045,\n",
        "        1740553596,\n",
        "        1761058784,\n",
        "        1779052832,\n",
        "        1927391436,\n",
        "        1974934197,\n",
        "        2037735754,\n",
        "        2062364274,\n",
        "        2071371402,\n",
        "        2081348179,\n",
        "        2088436303,\n",
        "        2102540906,\n",
        "        212272083,\n",
        "        2164033221,\n",
        "        2186423433,\n",
        "        2208766356,\n",
        "        2285070971,\n",
        "        2308176395,\n",
        "        2311279765,\n",
        "        2318006023,\n",
        "        2302029701,\n",
        "        2327492184,\n",
        "        2318253674,\n",
        "        2316188549,\n",
        "        2563653923,\n",
        "        2675614766,\n",
        "        2880559783,\n",
        "        3094477853,\n",
        "        339238771,\n",
        "        3854361596,\n",
        "        4485190462,\n",
        "        481250005,\n",
        "    ]\n",
        "})\n",
        "df.head()"
      ],
      "execution_count": 9,
      "outputs": [
        {
          "output_type": "execute_result",
          "data": {
            "text/html": [
              "<div>\n",
              "<style scoped>\n",
              "    .dataframe tbody tr th:only-of-type {\n",
              "        vertical-align: middle;\n",
              "    }\n",
              "\n",
              "    .dataframe tbody tr th {\n",
              "        vertical-align: top;\n",
              "    }\n",
              "\n",
              "    .dataframe thead th {\n",
              "        text-align: right;\n",
              "    }\n",
              "</style>\n",
              "<table border=\"1\" class=\"dataframe\">\n",
              "  <thead>\n",
              "    <tr style=\"text-align: right;\">\n",
              "      <th></th>\n",
              "      <th>x</th>\n",
              "      <th>y</th>\n",
              "    </tr>\n",
              "  </thead>\n",
              "  <tbody>\n",
              "    <tr>\n",
              "      <th>0</th>\n",
              "      <td>1</td>\n",
              "      <td>1260858982</td>\n",
              "    </tr>\n",
              "    <tr>\n",
              "      <th>1</th>\n",
              "      <td>2</td>\n",
              "      <td>1364517281</td>\n",
              "    </tr>\n",
              "    <tr>\n",
              "      <th>2</th>\n",
              "      <td>3</td>\n",
              "      <td>1456812756</td>\n",
              "    </tr>\n",
              "    <tr>\n",
              "      <th>3</th>\n",
              "      <td>4</td>\n",
              "      <td>1514700326</td>\n",
              "    </tr>\n",
              "    <tr>\n",
              "      <th>4</th>\n",
              "      <td>5</td>\n",
              "      <td>1563428833</td>\n",
              "    </tr>\n",
              "  </tbody>\n",
              "</table>\n",
              "</div>"
            ],
            "text/plain": [
              "   x           y\n",
              "0  1  1260858982\n",
              "1  2  1364517281\n",
              "2  3  1456812756\n",
              "3  4  1514700326\n",
              "4  5  1563428833"
            ]
          },
          "metadata": {
            "tags": []
          },
          "execution_count": 9
        }
      ]
    },
    {
      "cell_type": "code",
      "metadata": {
        "colab": {
          "base_uri": "https://localhost:8080/"
        },
        "id": "LUEeYd1Khe-t",
        "outputId": "3679e33a-186b-489d-b1fd-ad7e602bc448"
      },
      "source": [
        "def predict(x, pars):\n",
        "    a, b = pars\n",
        "    return a * np.log(x + b)\n",
        "\n",
        "def loss_func(y_true, y_pred):\n",
        "    se = (y_true - y_pred) ** 2\n",
        "    mse = np.mean(se)\n",
        "    return mse\n",
        "\n",
        "def fit(x, y, bounds, scale=1e9):\n",
        "    def loss(pars):\n",
        "        y_pred = predict(x, pars)\n",
        "        return loss_func(y, y_pred)\n",
        "    \n",
        "    pars = opt.dual_annealing(loss, bounds).x\n",
        "    print(pars)\n",
        "    print(loss(pars))\n",
        "    return pars\n",
        "\n",
        "pars = fit(df['x'], df['y'] / 1e9, bounds=[[0, 10], [1, 10]])\n",
        "df['y_pred'] = predict(df['x'], pars) * 1e9"
      ],
      "execution_count": 46,
      "outputs": [
        {
          "output_type": "stream",
          "text": [
            "[0.65076248 4.14356699]\n",
            "0.5222646404132629\n"
          ],
          "name": "stdout"
        }
      ]
    },
    {
      "cell_type": "code",
      "metadata": {
        "colab": {
          "base_uri": "https://localhost:8080/",
          "height": 293
        },
        "id": "3WlXsRX9h81w",
        "outputId": "b30a802e-ce06-4c58-c610-251974397058"
      },
      "source": [
        "df[['y', 'y_pred']].plot()"
      ],
      "execution_count": 47,
      "outputs": [
        {
          "output_type": "execute_result",
          "data": {
            "text/plain": [
              "<matplotlib.axes._subplots.AxesSubplot at 0x7faf3c2f2198>"
            ]
          },
          "metadata": {
            "tags": []
          },
          "execution_count": 47
        },
        {
          "output_type": "display_data",
          "data": {
            "image/png": "[encoded data removed]",
            "text/plain": [
              "<Figure size 432x288 with 1 Axes>"
            ]
          },
          "metadata": {
            "tags": [],
            "needs_background": "light"
          }
        }
      ]
    },
    {
      "cell_type": "code",
      "metadata": {
        "id": "nxYqJ4Q-jclX"
      },
      "source": [
        ""
      ],
      "execution_count": null,
      "outputs": []
    }
  ]
}