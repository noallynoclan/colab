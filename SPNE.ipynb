{
  "nbformat": 4,
  "nbformat_minor": 0,
  "metadata": {
    "colab": {
      "name": "SPNE.ipynb",
      "provenance": [],
      "authorship_tag": "ABX9TyMfKkoCe5pBr9Cw06SJoL0K",
      "include_colab_link": true
    },
    "kernelspec": {
      "name": "python3",
      "display_name": "Python 3"
    }
  },
  "cells": [
    {
      "cell_type": "markdown",
      "metadata": {
        "id": "view-in-github",
        "colab_type": "text"
      },
      "source": [
        "<a href=\"https://colab.research.google.com/github/noallynoclan/colab/blob/master/SPNE.ipynb\" target=\"_parent\"><img src=\"https://colab.research.google.com/assets/colab-badge.svg\" alt=\"Open In Colab\"/></a>"
      ]
    },
    {
      "cell_type": "code",
      "metadata": {
        "id": "VfUqOVZOjxlL"
      },
      "source": [
        "from pprint import pprint"
      ],
      "execution_count": 1,
      "outputs": []
    },
    {
      "cell_type": "code",
      "metadata": {
        "id": "99nhfBt0jMXN"
      },
      "source": [
        "g3 = {'r1': (2, 3, -3), 'r2': (3, -1, -2)}\r\n",
        "g2 = {'t1': (1, -2, 1),'t2': g3, 't3': (-4, 5, -5)}\r\n",
        "g1 = {'s1': g2, 's2': (0, -2, 3)}"
      ],
      "execution_count": 4,
      "outputs": []
    },
    {
      "cell_type": "code",
      "metadata": {
        "colab": {
          "base_uri": "https://localhost:8080/"
        },
        "id": "ZUMjokZTj0nN",
        "outputId": "69faa30d-8d1b-4923-cd8e-31871dfb35f6"
      },
      "source": [
        "def find_best(game, i=0):\r\n",
        "    if type(game) is dict:\r\n",
        "        strategies = {strategy: find_best(subgame, i + 1) for strategy, subgame in game.items()}\r\n",
        "        best = max(strategies.keys(), key=lambda k: strategies[k][i])\r\n",
        "        print(f'player {i} preffers {best} among {strategies}' )\r\n",
        "        return strategies[best]\r\n",
        "    else:\r\n",
        "        return game\r\n",
        "\r\n",
        "find_best(g1)"
      ],
      "execution_count": 45,
      "outputs": [
        {
          "output_type": "stream",
          "text": [
            "player 2 preffers r2 among {'r1': (2, 3, -3), 'r2': (3, -1, -2)}\n",
            "player 1 preffers t3 among {'t1': (1, -2, 1), 't2': (3, -1, -2), 't3': (-4, 5, -5)}\n",
            "player 0 preffers s2 among {'s1': (-4, 5, -5), 's2': (0, -2, 3)}\n"
          ],
          "name": "stdout"
        },
        {
          "output_type": "execute_result",
          "data": {
            "text/plain": [
              "(0, -2, 3)"
            ]
          },
          "metadata": {
            "tags": []
          },
          "execution_count": 45
        }
      ]
    },
    {
      "cell_type": "code",
      "metadata": {
        "colab": {
          "base_uri": "https://localhost:8080/"
        },
        "id": "ITsxs1IokL-_",
        "outputId": "e6594e64-eeb0-4a93-b089-3d3ad61ba066"
      },
      "source": [
        "find_best(g3, 2)"
      ],
      "execution_count": 21,
      "outputs": [
        {
          "output_type": "execute_result",
          "data": {
            "text/plain": [
              "(3, -1, -2)"
            ]
          },
          "metadata": {
            "tags": []
          },
          "execution_count": 21
        }
      ]
    },
    {
      "cell_type": "code",
      "metadata": {
        "colab": {
          "base_uri": "https://localhost:8080/"
        },
        "id": "iTdKLol8mHCR",
        "outputId": "889bdc7f-1d4b-404f-c5d0-e518fe8f782c"
      },
      "source": [
        "find_best(g2, 1)"
      ],
      "execution_count": 22,
      "outputs": [
        {
          "output_type": "execute_result",
          "data": {
            "text/plain": [
              "(-4, 5, -5)"
            ]
          },
          "metadata": {
            "tags": []
          },
          "execution_count": 22
        }
      ]
    },
    {
      "cell_type": "code",
      "metadata": {
        "id": "V86SxPXKmND_"
      },
      "source": [
        ""
      ],
      "execution_count": null,
      "outputs": []
    }
  ]
}