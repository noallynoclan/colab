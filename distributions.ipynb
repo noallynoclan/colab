{
  "nbformat": 4,
  "nbformat_minor": 0,
  "metadata": {
    "colab": {
      "name": "distributions.ipynb",
      "provenance": [],
      "collapsed_sections": [],
      "include_colab_link": true
    },
    "kernelspec": {
      "name": "python3",
      "display_name": "Python 3"
    }
  },
  "cells": [
    {
      "cell_type": "markdown",
      "metadata": {
        "id": "view-in-github",
        "colab_type": "text"
      },
      "source": [
        "<a href=\"https://colab.research.google.com/github/noallynoclan/colab/blob/master/distributions.ipynb\" target=\"_parent\"><img src=\"https://colab.research.google.com/assets/colab-badge.svg\" alt=\"Open In Colab\"/></a>"
      ]
    },
    {
      "cell_type": "markdown",
      "metadata": {
        "id": "B3S6UeOp1z1W",
        "colab_type": "text"
      },
      "source": [
        "[colab](https://colab.research.google.com/drive/163C85NuF09HQWujN3IP22zahZhSsYLNI)"
      ]
    },
    {
      "cell_type": "markdown",
      "metadata": {
        "id": "mNbb9_5w2RMo",
        "colab_type": "text"
      },
      "source": [
        "||replacements|w/o replacements|\n",
        "|-|:-:|:-:|\n",
        "|**Combinations**<br>(order does not matter)|$$\\binom{k+n-1}{k}=\\frac{(k+n-1)!}{k!(n-1)!}$$|$$\\binom{n}{k}=\\frac{n!}{k!(n-k)!}$$|\n",
        "|**Permutations**<br>(order matters)|$$n^k$$|$$\\frac{n!}{(n-k)!}$$|"
      ]
    },
    {
      "cell_type": "markdown",
      "metadata": {
        "id": "nO-00awG4rz0",
        "colab_type": "text"
      },
      "source": [
        "||pars|&nbsp; &nbsp; &nbsp; &nbsp; &nbsp; &nbsp; &nbsp; &nbsp; &nbsp; &nbsp; &nbsp; &nbsp; pmf/pdf &nbsp; &nbsp; &nbsp; &nbsp; &nbsp; &nbsp; &nbsp; &nbsp; &nbsp; &nbsp; &nbsp; &nbsp;|mean|var|med|usage|\n",
        "|-|:-:|:-:|:-:|:-:|:-:|:-:|\n",
        "|**Bernoulli**|$$p$$|$$\\begin{cases} P(X=0)=q=(1-p) \\\\ P(X=1)=p \\end{cases}$$|$$p$$|$$p  (1-p)$$||boolean-valued outcome|\n",
        "|**Grometric**|$$p$$|$$P(X=k)=(1-p)^{k-1}p$$|$$\\frac{1}{p}$$|$$\\frac{1-p}{p^2}$$||# of first success|\n",
        "|**Binomial**|$$n, p$$|$$P(X=k)=\\binom{n}{k}p^k(1-p)^{n-k}$$|$$np$$|$$np(1-p)$$||# successes drawn with replacement|\n",
        "|**Poisson**|$$\\lambda$$|$$P(X=k)=\\frac{e^{-\\lambda}\\lambda^k}{k!}$$|$$\\lambda$$|$$\\lambda$$|| # emails/calls per time period|\n",
        "|**Exponential**|$$\\lambda$$|$$f(x \\mid \\lambda)=\\lambda e^{-\\lambda x}$$|$$\\frac{1}{\\lambda}$$|$$\\frac{1}{\\lambda^2}$$|$$\\frac{\\ln{2}}{\\lambda}$$|time between events|\n",
        "|**Normal**|$$\\mu, \\sigma^2$$|$$f(x \\mu,\\sigma^2)=\\frac{1}{\\sqrt{2\\pi\\sigma^2}}e^{-\\frac{(x-\\mu)^2}{2\\sigma^2}}$$|$$\\mu$$|$$\\sigma^2$$|$$\\mu$$|measurement errors\n"
      ]
    },
    {
      "cell_type": "markdown",
      "metadata": {
        "id": "4ECx4y4TBgm2",
        "colab_type": "text"
      },
      "source": [
        "||||\n",
        "|-:|:-:|:-:|\n",
        "|Law or Large Numbers|$$\\bar{X}_n \\xrightarrow{\\text{a.s.}} \\mu$$\n",
        "|Central Limit Theorem|$$\\bar{X}_n \\xrightarrow{\\text{d}} N\\Bigl(\\mu, \\frac{\\sigma^2}{n}\\Bigr)$$|$$\\sqrt{n}\\frac{\\bar{X}_n-\\mu}{\\sigma} \\xrightarrow{\\text{d}} N(0,1)$$"
      ]
    },
    {
      "cell_type": "markdown",
      "metadata": {
        "id": "qpi9g4YEBYWM",
        "colab_type": "text"
      },
      "source": [
        "||Pred NO<br>$$\\text{TN}+\\text{FN}$$<br>$$P(\\bar{B})$$|Pred YES<br>$$\\text{FP}+\\text{TP}$$<br>$$\\text{Prior}=P(B)$$|$$\\text{ROC(th)}=\\frac{\\text{TPR(th)}}{\\text{FPR(th)}}$$|\n",
        "|:-:|:-:|:-:|:-:|\n",
        "|**Actual NO**<BR>$$\\text{TN}+\\text{FP}$$<BR>$$P(\\bar{A})$$|TN<br>(Confidence)|FP<br>(Type I)|$$\\text{Fall out (FPR)}=\\frac{\\text{FP}}{\\text{FP}+\\text{TN}}$$|\n",
        "|**Actual YES**<BR>$$\\text{FN}+\\text{TP}$$<br>$$\\text{Evidence}=P(A)$$|FN<br>(Type II)|TP<br>(Power)|$$\\text{Recall (Sensitivity, TPR)}=\\frac{\\text{TP}}{\\text{TP}+\\text{FN}}$$<BR>$$\\text{Likelihood}=P(B \\mid A)$$|\n",
        "|||$$\\text{Precision}=\\frac{\\text{TP}}{\\text{TP}+\\text{FP}}$$<BR>$$\\text{Posterior}=\\frac{\\text{Likelihood} \\cdot \\text{Prior}}{\\text{Evidence}}$$<br>$$P(A\\mid B)=\\frac{P(B \\mid A) \\cdot P(A)}{P(B)}$$|$$F_1=2\\cdot\\frac{\\text{Precision}\\cdot\\text{Recall}}{\\text{Precision}+\\text{Recall}}$$|"
      ]
    },
    {
      "cell_type": "code",
      "metadata": {
        "id": "aWzg7xavEzNw",
        "colab_type": "code",
        "colab": {
          "base_uri": "https://localhost:8080/",
          "height": 51
        },
        "outputId": "57c75e80-5eb6-4562-adaf-c7c5f9cb25df"
      },
      "source": [
        "confusion_matrix([0, 1, 0, 1], [1, 1, 1, 0])"
      ],
      "execution_count": 4,
      "outputs": [
        {
          "output_type": "execute_result",
          "data": {
            "text/plain": [
              "array([[0, 2],\n",
              "       [1, 1]])"
            ]
          },
          "metadata": {
            "tags": []
          },
          "execution_count": 4
        }
      ]
    },
    {
      "cell_type": "code",
      "metadata": {
        "id": "1HcK-k_ZE36L",
        "colab_type": "code",
        "colab": {}
      },
      "source": [
        ""
      ],
      "execution_count": 0,
      "outputs": []
    }
  ]
}