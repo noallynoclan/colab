{
  "nbformat": 4,
  "nbformat_minor": 0,
  "metadata": {
    "colab": {
      "name": "game_theory_voting_schemes.ipynb",
      "provenance": [],
      "authorship_tag": "ABX9TyPnm3PrLGxYNpqlFuHyNkc/",
      "include_colab_link": true
    },
    "kernelspec": {
      "name": "python3",
      "display_name": "Python 3"
    }
  },
  "cells": [
    {
      "cell_type": "markdown",
      "metadata": {
        "id": "view-in-github",
        "colab_type": "text"
      },
      "source": [
        "<a href=\"https://colab.research.google.com/github/noallynoclan/colab/blob/master/game_theory_voting_schemes.ipynb\" target=\"_parent\"><img src=\"https://colab.research.google.com/assets/colab-badge.svg\" alt=\"Open In Colab\"/></a>"
      ]
    },
    {
      "cell_type": "code",
      "metadata": {
        "id": "YDbUEbHzHLW3",
        "colab_type": "code",
        "colab": {}
      },
      "source": [
        ""
      ],
      "execution_count": null,
      "outputs": []
    },
    {
      "cell_type": "markdown",
      "metadata": {
        "id": "HcsF-NE0KeET",
        "colab_type": "text"
      },
      "source": [
        "## Formal Model\n",
        "* Set of agents: $N=\\{1, 2, ..., n\\}$\n",
        "* Set of outcomes: $O$\n",
        "* Linear orders of outcomes: $L_{NS}$\n",
        "* Social choice function: $L_{NS}^n \\mapsto O$\n",
        "* Social welfare function: $L_{NS}^n \\mapsto L_{NS}$"
      ]
    },
    {
      "cell_type": "markdown",
      "metadata": {
        "id": "4Fcv4f7dM08C",
        "colab_type": "text"
      },
      "source": [
        "# Voting Schemes\n",
        "* Plurality - pick the outcome which is most-preferred by the most people\n",
        "    * with elimination - eliminate looser\n",
        "* Cumulative voting - distribute X votes earch\n",
        "* Approval voting - vote as many outcomes as you \"like\"\n",
        "* Condorcet winner - one who win everyone in pairs"
      ]
    },
    {
      "cell_type": "markdown",
      "metadata": {
        "id": "I09WcT2gJ4xf",
        "colab_type": "text"
      },
      "source": [
        "### Pareto Efficiency\n",
        "* When all agents agree on the ordering of two outcomes, the social welfare function must select that ordering.\n",
        "\n",
        "### Independence of Irrelevant Alternatives\n",
        "* The selected ordering between two outcomes should depend only on the relative orderings they are given by the agents.\n",
        "\n",
        "### Monotonic\n",
        "* An outcome $o$ must remain the winner whenever the support for it is increased in a preference profile under which $o$ was already winning."
      ]
    },
    {
      "cell_type": "code",
      "metadata": {
        "id": "tllAuOeXLajG",
        "colab_type": "code",
        "colab": {
          "base_uri": "https://localhost:8080/",
          "height": 119
        },
        "outputId": "4c83cd3b-a40e-4fa1-e532-92f43b582530"
      },
      "source": [
        "def plurality(sc): # PE but not monotonic\n",
        "    candidates = {c:0 for c in sorted(list(sc)[0])}\n",
        "    for c in candidates.keys():\n",
        "        for k, v in sc.items():\n",
        "            candidates[c] += (k[0] == c) * v\n",
        "    candidates = dict(sorted(candidates.items(), key=lambda x: x[1], reverse=True))\n",
        "    return candidates\n",
        "\n",
        "def borda(sc):\n",
        "    candidates = {c:0 for c in sorted(list(sc)[0])}\n",
        "    for c in candidates.keys():\n",
        "        for k, v in sc.items():\n",
        "            candidates[c] += (len(k) - k.index(c)) * v\n",
        "    candidates = dict(sorted(candidates.items(), key=lambda x: x[1], reverse=True))\n",
        "    return candidates\n",
        "\n",
        "def condorcet(sc): # pareto domination\n",
        "    candidates = sorted(list(sc)[0])\n",
        "    for A in candidates:\n",
        "        for B in [c for c in candidates if c != A]:\n",
        "            p = sum([v for k, v in sc.items() if k.index(A) < k.index(B)]) / sum(sc.values())\n",
        "            if p < 0.5:\n",
        "                break\n",
        "        else:\n",
        "            return A\n",
        "    return 'NONE'\n",
        "        \n",
        "def pairwise_elimination(sc, order):\n",
        "    A = order[0]\n",
        "    for B in order[1:]:\n",
        "        p = sum([v for k, v in sc.items() if k.index(A) < k.index(B)]) / sum(sc.values())\n",
        "        if p == 0.5:\n",
        "            return 'TIE'\n",
        "        elif p < 0.5:\n",
        "            A = B\n",
        "    return A\n",
        "\n",
        "def run_all(sc):\n",
        "    print('plurality:', plurality(sc))\n",
        "    print('borda:', borda(sc))\n",
        "    print('condorcet:', condorcet(sc))\n",
        "\n",
        "sc1 = {\n",
        "    ('A', 'B', 'C'): 499,\n",
        "    ('B', 'C', 'A'): 3,\n",
        "    ('C', 'B', 'A'): 498\n",
        "}\n",
        "\n",
        "sc2 = {\n",
        "    ('A', 'B', 'C'): 35,\n",
        "    ('B', 'A', 'C'): 33,\n",
        "    ('C', 'B', 'A'): 32\n",
        "}\n",
        "\n",
        "sc3 = {\n",
        "    ('B', 'C', 'A', 'D'): 1,\n",
        "    ('B', 'D', 'C', 'A'): 1,\n",
        "    ('D', 'C', 'A', 'B'): 1,\n",
        "    ('A', 'D', 'B', 'C'): 1,\n",
        "    ('A', 'D', 'C', 'B'): 1\n",
        "}\n",
        "\n",
        "\n",
        "run_all(sc3)\n",
        "# pairwise_elimination(sc2, ['A', 'B', 'C'])\n",
        "# pairwise_elimination(sc2, ['A', 'B', 'C'])\n",
        "pairwise_elimination(sc3, ['A', 'B', 'C', 'D'])\n",
        "pairwise_elimination(sc3, ['D', 'C', 'A', 'B'])\n",
        "# pairwise_elimination(sc3, ['A', 'B', 'C', 'D'])\n",
        "# pairwise_elimination(sc3, ['D', 'C', 'B', 'A'])\n",
        "run_all(sc3)"
      ],
      "execution_count": 83,
      "outputs": [
        {
          "output_type": "stream",
          "text": [
            "plurality: {'A': 2, 'B': 2, 'D': 1, 'C': 0}\n",
            "borda: {'D': 14, 'A': 13, 'B': 12, 'C': 11}\n",
            "condorcet: NONE\n",
            "plurality: {'A': 2, 'B': 2, 'D': 1, 'C': 0}\n",
            "borda: {'D': 14, 'A': 13, 'B': 12, 'C': 11}\n",
            "condorcet: NONE\n"
          ],
          "name": "stdout"
        }
      ]
    },
    {
      "cell_type": "code",
      "metadata": {
        "id": "osG1CZQaU-zn",
        "colab_type": "code",
        "colab": {
          "base_uri": "https://localhost:8080/",
          "height": 86
        },
        "outputId": "e7ca5914-e0d2-4c3d-b11c-f031dc5e1bc6"
      },
      "source": [
        "sc4 = {\n",
        "    ('A', 'B', 'D', 'C'): 400,\n",
        "    tuple('DCBA'): 300,\n",
        "    tuple('BDCA'): 200,\n",
        "    tuple('CABD'): 100,\n",
        "    tuple('CDAB'): 2\n",
        "}\n",
        "run_all(sc4)\n",
        "pairwise_elimination(sc4, ['D', 'B', 'A', 'C'])"
      ],
      "execution_count": 79,
      "outputs": [
        {
          "output_type": "stream",
          "text": [
            "plurality: {'A': 400, 'D': 300, 'B': 200, 'C': 102}\n",
            "borda: {'B': 2802, 'D': 2706, 'A': 2404, 'C': 2108}\n",
            "condorcet: NONE\n"
          ],
          "name": "stdout"
        },
        {
          "output_type": "execute_result",
          "data": {
            "application/vnd.google.colaboratory.intrinsic+json": {
              "type": "string"
            },
            "text/plain": [
              "'C'"
            ]
          },
          "metadata": {
            "tags": []
          },
          "execution_count": 79
        }
      ]
    },
    {
      "cell_type": "code",
      "metadata": {
        "id": "ZPyPCSdEWsoz",
        "colab_type": "code",
        "colab": {
          "base_uri": "https://localhost:8080/",
          "height": 68
        },
        "outputId": "72dee376-8d5d-4530-f398-a882f38e6925"
      },
      "source": [
        "sc4 = {\n",
        "    tuple('AD'): 500,\n",
        "    tuple('DA'): 300,\n",
        "    tuple('DA'): 200,\n",
        "    tuple('DA'): 2\n",
        "}\n",
        "run_all(sc4)"
      ],
      "execution_count": 78,
      "outputs": [
        {
          "output_type": "stream",
          "text": [
            "plurality: {'A': 500, 'D': 302, 'B': 200}\n",
            "borda: {'B': 2202, 'A': 2004, 'D': 1806}\n",
            "condorcet: NONE\n"
          ],
          "name": "stdout"
        }
      ]
    },
    {
      "cell_type": "code",
      "metadata": {
        "id": "woocsUblVCir",
        "colab_type": "code",
        "colab": {}
      },
      "source": [
        ""
      ],
      "execution_count": null,
      "outputs": []
    }
  ]
}