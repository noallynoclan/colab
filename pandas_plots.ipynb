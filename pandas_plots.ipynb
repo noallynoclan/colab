{
  "nbformat": 4,
  "nbformat_minor": 0,
  "metadata": {
    "colab": {
      "name": "pandas_plots.ipynb",
      "provenance": [],
      "authorship_tag": "ABX9TyMOmxYo43JCFtyYELzNndEo",
      "include_colab_link": true
    },
    "kernelspec": {
      "name": "python3",
      "display_name": "Python 3"
    }
  },
  "cells": [
    {
      "cell_type": "markdown",
      "metadata": {
        "id": "view-in-github",
        "colab_type": "text"
      },
      "source": [
        "<a href=\"https://colab.research.google.com/github/noallynoclan/colab/blob/master/pandas_plots.ipynb\" target=\"_parent\"><img src=\"https://colab.research.google.com/assets/colab-badge.svg\" alt=\"Open In Colab\"/></a>"
      ]
    },
    {
      "cell_type": "code",
      "metadata": {
        "id": "YhGhH3EAKmgH"
      },
      "source": [
        "import matplotlib.pyplot as plt\n",
        "import numpy as np\n",
        "import pandas as pd\n",
        "from matplotlib import colors\n",
        "# list of named colors - https://matplotlib.org/3.1.0/gallery/color/named_colors.html\n",
        "# list of colormaps - https://matplotlib.org/3.1.1/gallery/color/colormap_reference.html"
      ],
      "execution_count": 1,
      "outputs": []
    },
    {
      "cell_type": "markdown",
      "metadata": {
        "id": "oyBl2Xk1PLy7"
      },
      "source": [
        "# Bar"
      ]
    },
    {
      "cell_type": "code",
      "metadata": {
        "id": "7NrkvBXdKpdR",
        "outputId": "82992076-e941-4689-f314-82ee58811717",
        "colab": {
          "base_uri": "https://localhost:8080/",
          "height": 309
        }
      },
      "source": [
        "# simple table\n",
        "np.random.seed(42)\n",
        "df = pd.DataFrame({\n",
        "    'region': ['APAC', 'EMEA', 'LATAM', 'NA'] * 3,\n",
        "    'vertical': ['Ecomm', 'Retail', 'Services'] * 4,\n",
        "    'rev_2019': 1e3 * np.random.randint(30, 60, 12),\n",
        "    'rev_2020': 1e3 * np.random.randint(30, 70, 12)\n",
        "}).sort_values(['region', 'vertical'])\n",
        "df\n",
        "\n",
        "df['share'] = df['rev_2019'] / df['rev_2019'].sum()\n",
        "df['yoy_growth'] = df['rev_2020'] / df['rev_2019'] - 1\n",
        "fmt = {'rev_2019': '${:,.0f}', 'rev_2020': '${:,.0f}', 'share': '{:.1%}', 'yoy_growth': '{:+.1%}'}\n",
        "print('YoY growth')\n",
        "display(df.style.format(fmt).bar(subset=['share', 'yoy_growth'], color=['orangered', 'dodgerblue'], align='zero'))"
      ],
      "execution_count": 2,
      "outputs": [
        {
          "output_type": "stream",
          "text": [
            "YoY growth\n"
          ],
          "name": "stdout"
        },
        {
          "output_type": "display_data",
          "data": {
            "text/html": [
              "<style  type=\"text/css\" >\n",
              "#T_f5f86dde_1081_11eb_8746_0242ac1c0002row0_col4,#T_f5f86dde_1081_11eb_8746_0242ac1c0002row2_col4{\n",
              "            width:  10em;\n",
              "             height:  80%;\n",
              "            background:  linear-gradient(90deg, transparent 50.0%, dodgerblue 50.0%, dodgerblue 81.0%, transparent 81.0%);\n",
              "        }#T_f5f86dde_1081_11eb_8746_0242ac1c0002row0_col5{\n",
              "            width:  10em;\n",
              "             height:  80%;\n",
              "            background:  linear-gradient(90deg, transparent 50.0%, dodgerblue 50.0%, dodgerblue 57.7%, transparent 57.7%);\n",
              "        }#T_f5f86dde_1081_11eb_8746_0242ac1c0002row1_col4{\n",
              "            width:  10em;\n",
              "             height:  80%;\n",
              "            background:  linear-gradient(90deg, transparent 50.0%, dodgerblue 50.0%, dodgerblue 84.5%, transparent 84.5%);\n",
              "        }#T_f5f86dde_1081_11eb_8746_0242ac1c0002row1_col5,#T_f5f86dde_1081_11eb_8746_0242ac1c0002row6_col4,#T_f5f86dde_1081_11eb_8746_0242ac1c0002row8_col4{\n",
              "            width:  10em;\n",
              "             height:  80%;\n",
              "            background:  linear-gradient(90deg, transparent 50.0%, dodgerblue 50.0%, dodgerblue 100.0%, transparent 100.0%);\n",
              "        }#T_f5f86dde_1081_11eb_8746_0242ac1c0002row2_col5{\n",
              "            width:  10em;\n",
              "             height:  80%;\n",
              "            background:  linear-gradient(90deg, transparent 40.4%, orangered 40.4%, orangered 50.0%, transparent 50.0%);\n",
              "        }#T_f5f86dde_1081_11eb_8746_0242ac1c0002row3_col4{\n",
              "            width:  10em;\n",
              "             height:  80%;\n",
              "            background:  linear-gradient(90deg, transparent 50.0%, dodgerblue 50.0%, dodgerblue 97.4%, transparent 97.4%);\n",
              "        }#T_f5f86dde_1081_11eb_8746_0242ac1c0002row3_col5{\n",
              "            width:  10em;\n",
              "             height:  80%;\n",
              "            background:  linear-gradient(90deg, transparent 47.5%, orangered 47.5%, orangered 50.0%, transparent 50.0%);\n",
              "        }#T_f5f86dde_1081_11eb_8746_0242ac1c0002row4_col4{\n",
              "            width:  10em;\n",
              "             height:  80%;\n",
              "            background:  linear-gradient(90deg, transparent 50.0%, dodgerblue 50.0%, dodgerblue 92.2%, transparent 92.2%);\n",
              "        }#T_f5f86dde_1081_11eb_8746_0242ac1c0002row4_col5{\n",
              "            width:  10em;\n",
              "             height:  80%;\n",
              "            background:  linear-gradient(90deg, transparent 37.3%, orangered 37.3%, orangered 50.0%, transparent 50.0%);\n",
              "        }#T_f5f86dde_1081_11eb_8746_0242ac1c0002row5_col4{\n",
              "            width:  10em;\n",
              "             height:  80%;\n",
              "            background:  linear-gradient(90deg, transparent 50.0%, dodgerblue 50.0%, dodgerblue 81.9%, transparent 81.9%);\n",
              "        }#T_f5f86dde_1081_11eb_8746_0242ac1c0002row5_col5{\n",
              "            width:  10em;\n",
              "             height:  80%;\n",
              "            background:  linear-gradient(90deg, transparent 50.0%, dodgerblue 50.0%, dodgerblue 79.8%, transparent 79.8%);\n",
              "        }#T_f5f86dde_1081_11eb_8746_0242ac1c0002row6_col5{\n",
              "            width:  10em;\n",
              "             height:  80%;\n",
              "            background:  linear-gradient(90deg, transparent 19.1%, orangered 19.1%, orangered 50.0%, transparent 50.0%);\n",
              "        }#T_f5f86dde_1081_11eb_8746_0242ac1c0002row7_col4{\n",
              "            width:  10em;\n",
              "             height:  80%;\n",
              "            background:  linear-gradient(90deg, transparent 50.0%, dodgerblue 50.0%, dodgerblue 91.4%, transparent 91.4%);\n",
              "        }#T_f5f86dde_1081_11eb_8746_0242ac1c0002row7_col5{\n",
              "            width:  10em;\n",
              "             height:  80%;\n",
              "            background:  linear-gradient(90deg, transparent 50.0%, dodgerblue 50.0%, dodgerblue 65.8%, transparent 65.8%);\n",
              "        }#T_f5f86dde_1081_11eb_8746_0242ac1c0002row8_col5{\n",
              "            width:  10em;\n",
              "             height:  80%;\n",
              "            background:  linear-gradient(90deg, transparent 44.1%, orangered 44.1%, orangered 50.0%, transparent 50.0%);\n",
              "        }#T_f5f86dde_1081_11eb_8746_0242ac1c0002row9_col4{\n",
              "            width:  10em;\n",
              "             height:  80%;\n",
              "            background:  linear-gradient(90deg, transparent 50.0%, dodgerblue 50.0%, dodgerblue 87.9%, transparent 87.9%);\n",
              "        }#T_f5f86dde_1081_11eb_8746_0242ac1c0002row9_col5{\n",
              "            width:  10em;\n",
              "             height:  80%;\n",
              "            background:  linear-gradient(90deg, transparent 50.0%, dodgerblue 50.0%, dodgerblue 82.9%, transparent 82.9%);\n",
              "        }#T_f5f86dde_1081_11eb_8746_0242ac1c0002row10_col4{\n",
              "            width:  10em;\n",
              "             height:  80%;\n",
              "            background:  linear-gradient(90deg, transparent 50.0%, dodgerblue 50.0%, dodgerblue 93.1%, transparent 93.1%);\n",
              "        }#T_f5f86dde_1081_11eb_8746_0242ac1c0002row10_col5{\n",
              "            width:  10em;\n",
              "             height:  80%;\n",
              "            background:  linear-gradient(90deg, transparent 50.0%, dodgerblue 50.0%, dodgerblue 51.4%, transparent 51.4%);\n",
              "        }#T_f5f86dde_1081_11eb_8746_0242ac1c0002row11_col4{\n",
              "            width:  10em;\n",
              "             height:  80%;\n",
              "            background:  linear-gradient(90deg, transparent 50.0%, dodgerblue 50.0%, dodgerblue 94.8%, transparent 94.8%);\n",
              "        }#T_f5f86dde_1081_11eb_8746_0242ac1c0002row11_col5{\n",
              "            width:  10em;\n",
              "             height:  80%;\n",
              "            background:  linear-gradient(90deg, transparent 50.0%, dodgerblue 50.0%, dodgerblue 69.9%, transparent 69.9%);\n",
              "        }</style><table id=\"T_f5f86dde_1081_11eb_8746_0242ac1c0002\" ><thead>    <tr>        <th class=\"blank level0\" ></th>        <th class=\"col_heading level0 col0\" >region</th>        <th class=\"col_heading level0 col1\" >vertical</th>        <th class=\"col_heading level0 col2\" >rev_2019</th>        <th class=\"col_heading level0 col3\" >rev_2020</th>        <th class=\"col_heading level0 col4\" >share</th>        <th class=\"col_heading level0 col5\" >yoy_growth</th>    </tr></thead><tbody>\n",
              "                <tr>\n",
              "                        <th id=\"T_f5f86dde_1081_11eb_8746_0242ac1c0002level0_row0\" class=\"row_heading level0 row0\" >0</th>\n",
              "                        <td id=\"T_f5f86dde_1081_11eb_8746_0242ac1c0002row0_col0\" class=\"data row0 col0\" >APAC</td>\n",
              "                        <td id=\"T_f5f86dde_1081_11eb_8746_0242ac1c0002row0_col1\" class=\"data row0 col1\" >Ecomm</td>\n",
              "                        <td id=\"T_f5f86dde_1081_11eb_8746_0242ac1c0002row0_col2\" class=\"data row0 col2\" >$36,000</td>\n",
              "                        <td id=\"T_f5f86dde_1081_11eb_8746_0242ac1c0002row0_col3\" class=\"data row0 col3\" >$40,000</td>\n",
              "                        <td id=\"T_f5f86dde_1081_11eb_8746_0242ac1c0002row0_col4\" class=\"data row0 col4\" >6.4%</td>\n",
              "                        <td id=\"T_f5f86dde_1081_11eb_8746_0242ac1c0002row0_col5\" class=\"data row0 col5\" >+11.1%</td>\n",
              "            </tr>\n",
              "            <tr>\n",
              "                        <th id=\"T_f5f86dde_1081_11eb_8746_0242ac1c0002level0_row1\" class=\"row_heading level0 row1\" >4</th>\n",
              "                        <td id=\"T_f5f86dde_1081_11eb_8746_0242ac1c0002row1_col0\" class=\"data row1 col0\" >APAC</td>\n",
              "                        <td id=\"T_f5f86dde_1081_11eb_8746_0242ac1c0002row1_col1\" class=\"data row1 col1\" >Retail</td>\n",
              "                        <td id=\"T_f5f86dde_1081_11eb_8746_0242ac1c0002row1_col2\" class=\"data row1 col2\" >$40,000</td>\n",
              "                        <td id=\"T_f5f86dde_1081_11eb_8746_0242ac1c0002row1_col3\" class=\"data row1 col3\" >$69,000</td>\n",
              "                        <td id=\"T_f5f86dde_1081_11eb_8746_0242ac1c0002row1_col4\" class=\"data row1 col4\" >7.1%</td>\n",
              "                        <td id=\"T_f5f86dde_1081_11eb_8746_0242ac1c0002row1_col5\" class=\"data row1 col5\" >+72.5%</td>\n",
              "            </tr>\n",
              "            <tr>\n",
              "                        <th id=\"T_f5f86dde_1081_11eb_8746_0242ac1c0002level0_row2\" class=\"row_heading level0 row2\" >8</th>\n",
              "                        <td id=\"T_f5f86dde_1081_11eb_8746_0242ac1c0002row2_col0\" class=\"data row2 col0\" >APAC</td>\n",
              "                        <td id=\"T_f5f86dde_1081_11eb_8746_0242ac1c0002row2_col1\" class=\"data row2 col1\" >Services</td>\n",
              "                        <td id=\"T_f5f86dde_1081_11eb_8746_0242ac1c0002row2_col2\" class=\"data row2 col2\" >$36,000</td>\n",
              "                        <td id=\"T_f5f86dde_1081_11eb_8746_0242ac1c0002row2_col3\" class=\"data row2 col3\" >$31,000</td>\n",
              "                        <td id=\"T_f5f86dde_1081_11eb_8746_0242ac1c0002row2_col4\" class=\"data row2 col4\" >6.4%</td>\n",
              "                        <td id=\"T_f5f86dde_1081_11eb_8746_0242ac1c0002row2_col5\" class=\"data row2 col5\" >-13.9%</td>\n",
              "            </tr>\n",
              "            <tr>\n",
              "                        <th id=\"T_f5f86dde_1081_11eb_8746_0242ac1c0002level0_row3\" class=\"row_heading level0 row3\" >9</th>\n",
              "                        <td id=\"T_f5f86dde_1081_11eb_8746_0242ac1c0002row3_col0\" class=\"data row3 col0\" >EMEA</td>\n",
              "                        <td id=\"T_f5f86dde_1081_11eb_8746_0242ac1c0002row3_col1\" class=\"data row3 col1\" >Ecomm</td>\n",
              "                        <td id=\"T_f5f86dde_1081_11eb_8746_0242ac1c0002row3_col2\" class=\"data row3 col2\" >$55,000</td>\n",
              "                        <td id=\"T_f5f86dde_1081_11eb_8746_0242ac1c0002row3_col3\" class=\"data row3 col3\" >$53,000</td>\n",
              "                        <td id=\"T_f5f86dde_1081_11eb_8746_0242ac1c0002row3_col4\" class=\"data row3 col4\" >9.8%</td>\n",
              "                        <td id=\"T_f5f86dde_1081_11eb_8746_0242ac1c0002row3_col5\" class=\"data row3 col5\" >-3.6%</td>\n",
              "            </tr>\n",
              "            <tr>\n",
              "                        <th id=\"T_f5f86dde_1081_11eb_8746_0242ac1c0002level0_row4\" class=\"row_heading level0 row4\" >1</th>\n",
              "                        <td id=\"T_f5f86dde_1081_11eb_8746_0242ac1c0002row4_col0\" class=\"data row4 col0\" >EMEA</td>\n",
              "                        <td id=\"T_f5f86dde_1081_11eb_8746_0242ac1c0002row4_col1\" class=\"data row4 col1\" >Retail</td>\n",
              "                        <td id=\"T_f5f86dde_1081_11eb_8746_0242ac1c0002row4_col2\" class=\"data row4 col2\" >$49,000</td>\n",
              "                        <td id=\"T_f5f86dde_1081_11eb_8746_0242ac1c0002row4_col3\" class=\"data row4 col3\" >$40,000</td>\n",
              "                        <td id=\"T_f5f86dde_1081_11eb_8746_0242ac1c0002row4_col4\" class=\"data row4 col4\" >8.7%</td>\n",
              "                        <td id=\"T_f5f86dde_1081_11eb_8746_0242ac1c0002row4_col5\" class=\"data row4 col5\" >-18.4%</td>\n",
              "            </tr>\n",
              "            <tr>\n",
              "                        <th id=\"T_f5f86dde_1081_11eb_8746_0242ac1c0002level0_row5\" class=\"row_heading level0 row5\" >5</th>\n",
              "                        <td id=\"T_f5f86dde_1081_11eb_8746_0242ac1c0002row5_col0\" class=\"data row5 col0\" >EMEA</td>\n",
              "                        <td id=\"T_f5f86dde_1081_11eb_8746_0242ac1c0002row5_col1\" class=\"data row5 col1\" >Services</td>\n",
              "                        <td id=\"T_f5f86dde_1081_11eb_8746_0242ac1c0002row5_col2\" class=\"data row5 col2\" >$37,000</td>\n",
              "                        <td id=\"T_f5f86dde_1081_11eb_8746_0242ac1c0002row5_col3\" class=\"data row5 col3\" >$53,000</td>\n",
              "                        <td id=\"T_f5f86dde_1081_11eb_8746_0242ac1c0002row5_col4\" class=\"data row5 col4\" >6.6%</td>\n",
              "                        <td id=\"T_f5f86dde_1081_11eb_8746_0242ac1c0002row5_col5\" class=\"data row5 col5\" >+43.2%</td>\n",
              "            </tr>\n",
              "            <tr>\n",
              "                        <th id=\"T_f5f86dde_1081_11eb_8746_0242ac1c0002level0_row6\" class=\"row_heading level0 row6\" >6</th>\n",
              "                        <td id=\"T_f5f86dde_1081_11eb_8746_0242ac1c0002row6_col0\" class=\"data row6 col0\" >LATAM</td>\n",
              "                        <td id=\"T_f5f86dde_1081_11eb_8746_0242ac1c0002row6_col1\" class=\"data row6 col1\" >Ecomm</td>\n",
              "                        <td id=\"T_f5f86dde_1081_11eb_8746_0242ac1c0002row6_col2\" class=\"data row6 col2\" >$58,000</td>\n",
              "                        <td id=\"T_f5f86dde_1081_11eb_8746_0242ac1c0002row6_col3\" class=\"data row6 col3\" >$32,000</td>\n",
              "                        <td id=\"T_f5f86dde_1081_11eb_8746_0242ac1c0002row6_col4\" class=\"data row6 col4\" >10.3%</td>\n",
              "                        <td id=\"T_f5f86dde_1081_11eb_8746_0242ac1c0002row6_col5\" class=\"data row6 col5\" >-44.8%</td>\n",
              "            </tr>\n",
              "            <tr>\n",
              "                        <th id=\"T_f5f86dde_1081_11eb_8746_0242ac1c0002level0_row7\" class=\"row_heading level0 row7\" >10</th>\n",
              "                        <td id=\"T_f5f86dde_1081_11eb_8746_0242ac1c0002row7_col0\" class=\"data row7 col0\" >LATAM</td>\n",
              "                        <td id=\"T_f5f86dde_1081_11eb_8746_0242ac1c0002row7_col1\" class=\"data row7 col1\" >Retail</td>\n",
              "                        <td id=\"T_f5f86dde_1081_11eb_8746_0242ac1c0002row7_col2\" class=\"data row7 col2\" >$48,000</td>\n",
              "                        <td id=\"T_f5f86dde_1081_11eb_8746_0242ac1c0002row7_col3\" class=\"data row7 col3\" >$59,000</td>\n",
              "                        <td id=\"T_f5f86dde_1081_11eb_8746_0242ac1c0002row7_col4\" class=\"data row7 col4\" >8.5%</td>\n",
              "                        <td id=\"T_f5f86dde_1081_11eb_8746_0242ac1c0002row7_col5\" class=\"data row7 col5\" >+22.9%</td>\n",
              "            </tr>\n",
              "            <tr>\n",
              "                        <th id=\"T_f5f86dde_1081_11eb_8746_0242ac1c0002level0_row8\" class=\"row_heading level0 row8\" >2</th>\n",
              "                        <td id=\"T_f5f86dde_1081_11eb_8746_0242ac1c0002row8_col0\" class=\"data row8 col0\" >LATAM</td>\n",
              "                        <td id=\"T_f5f86dde_1081_11eb_8746_0242ac1c0002row8_col1\" class=\"data row8 col1\" >Services</td>\n",
              "                        <td id=\"T_f5f86dde_1081_11eb_8746_0242ac1c0002row8_col2\" class=\"data row8 col2\" >$58,000</td>\n",
              "                        <td id=\"T_f5f86dde_1081_11eb_8746_0242ac1c0002row8_col3\" class=\"data row8 col3\" >$53,000</td>\n",
              "                        <td id=\"T_f5f86dde_1081_11eb_8746_0242ac1c0002row8_col4\" class=\"data row8 col4\" >10.3%</td>\n",
              "                        <td id=\"T_f5f86dde_1081_11eb_8746_0242ac1c0002row8_col5\" class=\"data row8 col5\" >-8.6%</td>\n",
              "            </tr>\n",
              "            <tr>\n",
              "                        <th id=\"T_f5f86dde_1081_11eb_8746_0242ac1c0002level0_row9\" class=\"row_heading level0 row9\" >3</th>\n",
              "                        <td id=\"T_f5f86dde_1081_11eb_8746_0242ac1c0002row9_col0\" class=\"data row9 col0\" >NA</td>\n",
              "                        <td id=\"T_f5f86dde_1081_11eb_8746_0242ac1c0002row9_col1\" class=\"data row9 col1\" >Ecomm</td>\n",
              "                        <td id=\"T_f5f86dde_1081_11eb_8746_0242ac1c0002row9_col2\" class=\"data row9 col2\" >$44,000</td>\n",
              "                        <td id=\"T_f5f86dde_1081_11eb_8746_0242ac1c0002row9_col3\" class=\"data row9 col3\" >$65,000</td>\n",
              "                        <td id=\"T_f5f86dde_1081_11eb_8746_0242ac1c0002row9_col4\" class=\"data row9 col4\" >7.8%</td>\n",
              "                        <td id=\"T_f5f86dde_1081_11eb_8746_0242ac1c0002row9_col5\" class=\"data row9 col5\" >+47.7%</td>\n",
              "            </tr>\n",
              "            <tr>\n",
              "                        <th id=\"T_f5f86dde_1081_11eb_8746_0242ac1c0002level0_row10\" class=\"row_heading level0 row10\" >7</th>\n",
              "                        <td id=\"T_f5f86dde_1081_11eb_8746_0242ac1c0002row10_col0\" class=\"data row10 col0\" >NA</td>\n",
              "                        <td id=\"T_f5f86dde_1081_11eb_8746_0242ac1c0002row10_col1\" class=\"data row10 col1\" >Retail</td>\n",
              "                        <td id=\"T_f5f86dde_1081_11eb_8746_0242ac1c0002row10_col2\" class=\"data row10 col2\" >$50,000</td>\n",
              "                        <td id=\"T_f5f86dde_1081_11eb_8746_0242ac1c0002row10_col3\" class=\"data row10 col3\" >$51,000</td>\n",
              "                        <td id=\"T_f5f86dde_1081_11eb_8746_0242ac1c0002row10_col4\" class=\"data row10 col4\" >8.9%</td>\n",
              "                        <td id=\"T_f5f86dde_1081_11eb_8746_0242ac1c0002row10_col5\" class=\"data row10 col5\" >+2.0%</td>\n",
              "            </tr>\n",
              "            <tr>\n",
              "                        <th id=\"T_f5f86dde_1081_11eb_8746_0242ac1c0002level0_row11\" class=\"row_heading level0 row11\" >11</th>\n",
              "                        <td id=\"T_f5f86dde_1081_11eb_8746_0242ac1c0002row11_col0\" class=\"data row11 col0\" >NA</td>\n",
              "                        <td id=\"T_f5f86dde_1081_11eb_8746_0242ac1c0002row11_col1\" class=\"data row11 col1\" >Services</td>\n",
              "                        <td id=\"T_f5f86dde_1081_11eb_8746_0242ac1c0002row11_col2\" class=\"data row11 col2\" >$52,000</td>\n",
              "                        <td id=\"T_f5f86dde_1081_11eb_8746_0242ac1c0002row11_col3\" class=\"data row11 col3\" >$67,000</td>\n",
              "                        <td id=\"T_f5f86dde_1081_11eb_8746_0242ac1c0002row11_col4\" class=\"data row11 col4\" >9.2%</td>\n",
              "                        <td id=\"T_f5f86dde_1081_11eb_8746_0242ac1c0002row11_col5\" class=\"data row11 col5\" >+28.8%</td>\n",
              "            </tr>\n",
              "    </tbody></table>"
            ],
            "text/plain": [
              "<pandas.io.formats.style.Styler at 0x7f1ce7ab90b8>"
            ]
          },
          "metadata": {
            "tags": []
          }
        }
      ]
    },
    {
      "cell_type": "code",
      "metadata": {
        "id": "D8vossRcejnN",
        "outputId": "e1695b5c-2b21-4632-b42e-0656021a298f",
        "colab": {
          "base_uri": "https://localhost:8080/",
          "height": 183
        }
      },
      "source": [
        "# pivot with margins\n",
        "pt = df.pivot_table(['rev_2019', 'rev_2020'], 'region', aggfunc='sum', margins=True)\n",
        "pt['share'] = pt['rev_2019'] / pt.loc['All', 'rev_2019'].sum()\n",
        "pt['yoy_growth'] = pt['rev_2020'] / pt['rev_2019'] - 1\n",
        "print('YoY growth')\n",
        "display(pt.style.format(fmt).bar(subset=['share', 'yoy_growth'], color=['orangered', 'dodgerblue'], align='zero'))"
      ],
      "execution_count": 3,
      "outputs": [
        {
          "output_type": "stream",
          "text": [
            "YoY growth\n"
          ],
          "name": "stdout"
        },
        {
          "output_type": "display_data",
          "data": {
            "text/html": [
              "<style  type=\"text/css\" >\n",
              "#T_f5ffc638_1081_11eb_8746_0242ac1c0002row0_col2{\n",
              "            width:  10em;\n",
              "             height:  80%;\n",
              "            background:  linear-gradient(90deg, transparent 50.0%, dodgerblue 50.0%, dodgerblue 59.9%, transparent 59.9%);\n",
              "        }#T_f5ffc638_1081_11eb_8746_0242ac1c0002row0_col3{\n",
              "            width:  10em;\n",
              "             height:  80%;\n",
              "            background:  linear-gradient(90deg, transparent 50.0%, dodgerblue 50.0%, dodgerblue 99.3%, transparent 99.3%);\n",
              "        }#T_f5ffc638_1081_11eb_8746_0242ac1c0002row1_col2{\n",
              "            width:  10em;\n",
              "             height:  80%;\n",
              "            background:  linear-gradient(90deg, transparent 50.0%, dodgerblue 50.0%, dodgerblue 62.5%, transparent 62.5%);\n",
              "        }#T_f5ffc638_1081_11eb_8746_0242ac1c0002row1_col3{\n",
              "            width:  10em;\n",
              "             height:  80%;\n",
              "            background:  linear-gradient(90deg, transparent 50.0%, dodgerblue 50.0%, dodgerblue 57.0%, transparent 57.0%);\n",
              "        }#T_f5ffc638_1081_11eb_8746_0242ac1c0002row2_col2{\n",
              "            width:  10em;\n",
              "             height:  80%;\n",
              "            background:  linear-gradient(90deg, transparent 50.0%, dodgerblue 50.0%, dodgerblue 64.6%, transparent 64.6%);\n",
              "        }#T_f5ffc638_1081_11eb_8746_0242ac1c0002row2_col3{\n",
              "            width:  10em;\n",
              "             height:  80%;\n",
              "            background:  linear-gradient(90deg, transparent 25.9%, orangered 25.9%, orangered 50.0%, transparent 50.0%);\n",
              "        }#T_f5ffc638_1081_11eb_8746_0242ac1c0002row3_col2{\n",
              "            width:  10em;\n",
              "             height:  80%;\n",
              "            background:  linear-gradient(90deg, transparent 50.0%, dodgerblue 50.0%, dodgerblue 63.0%, transparent 63.0%);\n",
              "        }#T_f5ffc638_1081_11eb_8746_0242ac1c0002row3_col3,#T_f5ffc638_1081_11eb_8746_0242ac1c0002row4_col2{\n",
              "            width:  10em;\n",
              "             height:  80%;\n",
              "            background:  linear-gradient(90deg, transparent 50.0%, dodgerblue 50.0%, dodgerblue 100.0%, transparent 100.0%);\n",
              "        }#T_f5ffc638_1081_11eb_8746_0242ac1c0002row4_col3{\n",
              "            width:  10em;\n",
              "             height:  80%;\n",
              "            background:  linear-gradient(90deg, transparent 50.0%, dodgerblue 50.0%, dodgerblue 67.5%, transparent 67.5%);\n",
              "        }</style><table id=\"T_f5ffc638_1081_11eb_8746_0242ac1c0002\" ><thead>    <tr>        <th class=\"blank level0\" ></th>        <th class=\"col_heading level0 col0\" >rev_2019</th>        <th class=\"col_heading level0 col1\" >rev_2020</th>        <th class=\"col_heading level0 col2\" >share</th>        <th class=\"col_heading level0 col3\" >yoy_growth</th>    </tr>    <tr>        <th class=\"index_name level0\" >region</th>        <th class=\"blank\" ></th>        <th class=\"blank\" ></th>        <th class=\"blank\" ></th>        <th class=\"blank\" ></th>    </tr></thead><tbody>\n",
              "                <tr>\n",
              "                        <th id=\"T_f5ffc638_1081_11eb_8746_0242ac1c0002level0_row0\" class=\"row_heading level0 row0\" >APAC</th>\n",
              "                        <td id=\"T_f5ffc638_1081_11eb_8746_0242ac1c0002row0_col0\" class=\"data row0 col0\" >$112,000</td>\n",
              "                        <td id=\"T_f5ffc638_1081_11eb_8746_0242ac1c0002row0_col1\" class=\"data row0 col1\" >$140,000</td>\n",
              "                        <td id=\"T_f5ffc638_1081_11eb_8746_0242ac1c0002row0_col2\" class=\"data row0 col2\" >19.9%</td>\n",
              "                        <td id=\"T_f5ffc638_1081_11eb_8746_0242ac1c0002row0_col3\" class=\"data row0 col3\" >+25.0%</td>\n",
              "            </tr>\n",
              "            <tr>\n",
              "                        <th id=\"T_f5ffc638_1081_11eb_8746_0242ac1c0002level0_row1\" class=\"row_heading level0 row1\" >EMEA</th>\n",
              "                        <td id=\"T_f5ffc638_1081_11eb_8746_0242ac1c0002row1_col0\" class=\"data row1 col0\" >$141,000</td>\n",
              "                        <td id=\"T_f5ffc638_1081_11eb_8746_0242ac1c0002row1_col1\" class=\"data row1 col1\" >$146,000</td>\n",
              "                        <td id=\"T_f5ffc638_1081_11eb_8746_0242ac1c0002row1_col2\" class=\"data row1 col2\" >25.0%</td>\n",
              "                        <td id=\"T_f5ffc638_1081_11eb_8746_0242ac1c0002row1_col3\" class=\"data row1 col3\" >+3.5%</td>\n",
              "            </tr>\n",
              "            <tr>\n",
              "                        <th id=\"T_f5ffc638_1081_11eb_8746_0242ac1c0002level0_row2\" class=\"row_heading level0 row2\" >LATAM</th>\n",
              "                        <td id=\"T_f5ffc638_1081_11eb_8746_0242ac1c0002row2_col0\" class=\"data row2 col0\" >$164,000</td>\n",
              "                        <td id=\"T_f5ffc638_1081_11eb_8746_0242ac1c0002row2_col1\" class=\"data row2 col1\" >$144,000</td>\n",
              "                        <td id=\"T_f5ffc638_1081_11eb_8746_0242ac1c0002row2_col2\" class=\"data row2 col2\" >29.1%</td>\n",
              "                        <td id=\"T_f5ffc638_1081_11eb_8746_0242ac1c0002row2_col3\" class=\"data row2 col3\" >-12.2%</td>\n",
              "            </tr>\n",
              "            <tr>\n",
              "                        <th id=\"T_f5ffc638_1081_11eb_8746_0242ac1c0002level0_row3\" class=\"row_heading level0 row3\" >NA</th>\n",
              "                        <td id=\"T_f5ffc638_1081_11eb_8746_0242ac1c0002row3_col0\" class=\"data row3 col0\" >$146,000</td>\n",
              "                        <td id=\"T_f5ffc638_1081_11eb_8746_0242ac1c0002row3_col1\" class=\"data row3 col1\" >$183,000</td>\n",
              "                        <td id=\"T_f5ffc638_1081_11eb_8746_0242ac1c0002row3_col2\" class=\"data row3 col2\" >25.9%</td>\n",
              "                        <td id=\"T_f5ffc638_1081_11eb_8746_0242ac1c0002row3_col3\" class=\"data row3 col3\" >+25.3%</td>\n",
              "            </tr>\n",
              "            <tr>\n",
              "                        <th id=\"T_f5ffc638_1081_11eb_8746_0242ac1c0002level0_row4\" class=\"row_heading level0 row4\" >All</th>\n",
              "                        <td id=\"T_f5ffc638_1081_11eb_8746_0242ac1c0002row4_col0\" class=\"data row4 col0\" >$563,000</td>\n",
              "                        <td id=\"T_f5ffc638_1081_11eb_8746_0242ac1c0002row4_col1\" class=\"data row4 col1\" >$613,000</td>\n",
              "                        <td id=\"T_f5ffc638_1081_11eb_8746_0242ac1c0002row4_col2\" class=\"data row4 col2\" >100.0%</td>\n",
              "                        <td id=\"T_f5ffc638_1081_11eb_8746_0242ac1c0002row4_col3\" class=\"data row4 col3\" >+8.9%</td>\n",
              "            </tr>\n",
              "    </tbody></table>"
            ],
            "text/plain": [
              "<pandas.io.formats.style.Styler at 0x7f1ce652b9b0>"
            ]
          },
          "metadata": {
            "tags": []
          }
        }
      ]
    },
    {
      "cell_type": "markdown",
      "metadata": {
        "id": "OVQskzn0POoX"
      },
      "source": [
        "# Background Gardient"
      ]
    },
    {
      "cell_type": "code",
      "metadata": {
        "id": "oYcpF-FCLa_T",
        "outputId": "55f545d6-16ab-4283-9a8c-0dc159d87c38",
        "colab": {
          "base_uri": "https://localhost:8080/",
          "height": 162
        }
      },
      "source": [
        "# simple gradient\n",
        "\n",
        "def bg(s, df=None, low=None, high=None, cmap='Wistia'):\n",
        "    from matplotlib import colors\n",
        "    s = s if df is None else df[s.name].values\n",
        "    low = low if low is not None else df.min().min() if df is not None else s.min()\n",
        "    high = high if high is not None else df.max().max() if df is not None else s.max()\n",
        "    normed = colors.Normalize(low, high)(s)#.replace(0, 1)\n",
        "    c = [colors.rgb2hex(x) for x in plt.cm.get_cmap(cmap)(normed)]\n",
        "    return ['background-color: %s' % color for color in c]\n",
        "\n",
        "pt = df.pivot_table('rev_2020', 'region', 'vertical', aggfunc='sum')\n",
        "print('Revenue by region and vertical')\n",
        "display(pt.style.format('${:,.0f}').apply(bg))"
      ],
      "execution_count": 4,
      "outputs": [
        {
          "output_type": "stream",
          "text": [
            "Revenue by region and vertical\n"
          ],
          "name": "stdout"
        },
        {
          "output_type": "display_data",
          "data": {
            "text/html": [
              "<style  type=\"text/css\" >\n",
              "#T_f60666c8_1081_11eb_8746_0242ac1c0002row0_col0{\n",
              "            background-color:  #fee91d;\n",
              "        }#T_f60666c8_1081_11eb_8746_0242ac1c0002row0_col1,#T_f60666c8_1081_11eb_8746_0242ac1c0002row3_col0,#T_f60666c8_1081_11eb_8746_0242ac1c0002row3_col2{\n",
              "            background-color:  #fc7f00;\n",
              "        }#T_f60666c8_1081_11eb_8746_0242ac1c0002row0_col2,#T_f60666c8_1081_11eb_8746_0242ac1c0002row1_col1,#T_f60666c8_1081_11eb_8746_0242ac1c0002row2_col0{\n",
              "            background-color:  #e4ff7a;\n",
              "        }#T_f60666c8_1081_11eb_8746_0242ac1c0002row1_col0{\n",
              "            background-color:  #ffad00;\n",
              "        }#T_f60666c8_1081_11eb_8746_0242ac1c0002row1_col2,#T_f60666c8_1081_11eb_8746_0242ac1c0002row2_col2{\n",
              "            background-color:  #ffb000;\n",
              "        }#T_f60666c8_1081_11eb_8746_0242ac1c0002row2_col1{\n",
              "            background-color:  #ffab00;\n",
              "        }#T_f60666c8_1081_11eb_8746_0242ac1c0002row3_col1{\n",
              "            background-color:  #ffd20c;\n",
              "        }</style><table id=\"T_f60666c8_1081_11eb_8746_0242ac1c0002\" ><thead>    <tr>        <th class=\"index_name level0\" >vertical</th>        <th class=\"col_heading level0 col0\" >Ecomm</th>        <th class=\"col_heading level0 col1\" >Retail</th>        <th class=\"col_heading level0 col2\" >Services</th>    </tr>    <tr>        <th class=\"index_name level0\" >region</th>        <th class=\"blank\" ></th>        <th class=\"blank\" ></th>        <th class=\"blank\" ></th>    </tr></thead><tbody>\n",
              "                <tr>\n",
              "                        <th id=\"T_f60666c8_1081_11eb_8746_0242ac1c0002level0_row0\" class=\"row_heading level0 row0\" >APAC</th>\n",
              "                        <td id=\"T_f60666c8_1081_11eb_8746_0242ac1c0002row0_col0\" class=\"data row0 col0\" >$40,000</td>\n",
              "                        <td id=\"T_f60666c8_1081_11eb_8746_0242ac1c0002row0_col1\" class=\"data row0 col1\" >$69,000</td>\n",
              "                        <td id=\"T_f60666c8_1081_11eb_8746_0242ac1c0002row0_col2\" class=\"data row0 col2\" >$31,000</td>\n",
              "            </tr>\n",
              "            <tr>\n",
              "                        <th id=\"T_f60666c8_1081_11eb_8746_0242ac1c0002level0_row1\" class=\"row_heading level0 row1\" >EMEA</th>\n",
              "                        <td id=\"T_f60666c8_1081_11eb_8746_0242ac1c0002row1_col0\" class=\"data row1 col0\" >$53,000</td>\n",
              "                        <td id=\"T_f60666c8_1081_11eb_8746_0242ac1c0002row1_col1\" class=\"data row1 col1\" >$40,000</td>\n",
              "                        <td id=\"T_f60666c8_1081_11eb_8746_0242ac1c0002row1_col2\" class=\"data row1 col2\" >$53,000</td>\n",
              "            </tr>\n",
              "            <tr>\n",
              "                        <th id=\"T_f60666c8_1081_11eb_8746_0242ac1c0002level0_row2\" class=\"row_heading level0 row2\" >LATAM</th>\n",
              "                        <td id=\"T_f60666c8_1081_11eb_8746_0242ac1c0002row2_col0\" class=\"data row2 col0\" >$32,000</td>\n",
              "                        <td id=\"T_f60666c8_1081_11eb_8746_0242ac1c0002row2_col1\" class=\"data row2 col1\" >$59,000</td>\n",
              "                        <td id=\"T_f60666c8_1081_11eb_8746_0242ac1c0002row2_col2\" class=\"data row2 col2\" >$53,000</td>\n",
              "            </tr>\n",
              "            <tr>\n",
              "                        <th id=\"T_f60666c8_1081_11eb_8746_0242ac1c0002level0_row3\" class=\"row_heading level0 row3\" >NA</th>\n",
              "                        <td id=\"T_f60666c8_1081_11eb_8746_0242ac1c0002row3_col0\" class=\"data row3 col0\" >$65,000</td>\n",
              "                        <td id=\"T_f60666c8_1081_11eb_8746_0242ac1c0002row3_col1\" class=\"data row3 col1\" >$51,000</td>\n",
              "                        <td id=\"T_f60666c8_1081_11eb_8746_0242ac1c0002row3_col2\" class=\"data row3 col2\" >$67,000</td>\n",
              "            </tr>\n",
              "    </tbody></table>"
            ],
            "text/plain": [
              "<pandas.io.formats.style.Styler at 0x7f1ce64f9fd0>"
            ]
          },
          "metadata": {
            "tags": []
          }
        }
      ]
    },
    {
      "cell_type": "code",
      "metadata": {
        "id": "MKbaambYUBNh",
        "outputId": "fe4a2229-55bf-453e-c541-1088e203afc4",
        "colab": {
          "base_uri": "https://localhost:8080/",
          "height": 183
        }
      },
      "source": [
        "# gradient with margins \n",
        "pt = df.pivot_table('rev_2020', 'region', 'vertical', aggfunc='sum', margins=True) / df['rev_2020'].sum()\n",
        "print('Revenue share by region and vertical')\n",
        "display(pt.style.format('{:.1%}').apply(bg, low=0, high=0.2))"
      ],
      "execution_count": 5,
      "outputs": [
        {
          "output_type": "stream",
          "text": [
            "Revenue share by region and vertical\n"
          ],
          "name": "stdout"
        },
        {
          "output_type": "display_data",
          "data": {
            "text/html": [
              "<style  type=\"text/css\" >\n",
              "#T_f6107226_1081_11eb_8746_0242ac1c0002row0_col0,#T_f6107226_1081_11eb_8746_0242ac1c0002row1_col1{\n",
              "            background-color:  #ffdb12;\n",
              "        }#T_f6107226_1081_11eb_8746_0242ac1c0002row0_col1{\n",
              "            background-color:  #ffb500;\n",
              "        }#T_f6107226_1081_11eb_8746_0242ac1c0002row0_col2{\n",
              "            background-color:  #ffe81a;\n",
              "        }#T_f6107226_1081_11eb_8746_0242ac1c0002row0_col3,#T_f6107226_1081_11eb_8746_0242ac1c0002row1_col3,#T_f6107226_1081_11eb_8746_0242ac1c0002row2_col3,#T_f6107226_1081_11eb_8746_0242ac1c0002row3_col3,#T_f6107226_1081_11eb_8746_0242ac1c0002row4_col0,#T_f6107226_1081_11eb_8746_0242ac1c0002row4_col1,#T_f6107226_1081_11eb_8746_0242ac1c0002row4_col2,#T_f6107226_1081_11eb_8746_0242ac1c0002row4_col3{\n",
              "            background-color:  #fc7f00;\n",
              "        }#T_f6107226_1081_11eb_8746_0242ac1c0002row1_col0,#T_f6107226_1081_11eb_8746_0242ac1c0002row1_col2,#T_f6107226_1081_11eb_8746_0242ac1c0002row2_col2{\n",
              "            background-color:  #ffc907;\n",
              "        }#T_f6107226_1081_11eb_8746_0242ac1c0002row2_col0{\n",
              "            background-color:  #ffe619;\n",
              "        }#T_f6107226_1081_11eb_8746_0242ac1c0002row2_col1{\n",
              "            background-color:  #ffc002;\n",
              "        }#T_f6107226_1081_11eb_8746_0242ac1c0002row3_col0{\n",
              "            background-color:  #ffba00;\n",
              "        }#T_f6107226_1081_11eb_8746_0242ac1c0002row3_col1{\n",
              "            background-color:  #ffcc09;\n",
              "        }#T_f6107226_1081_11eb_8746_0242ac1c0002row3_col2{\n",
              "            background-color:  #ffb800;\n",
              "        }</style><table id=\"T_f6107226_1081_11eb_8746_0242ac1c0002\" ><thead>    <tr>        <th class=\"index_name level0\" >vertical</th>        <th class=\"col_heading level0 col0\" >Ecomm</th>        <th class=\"col_heading level0 col1\" >Retail</th>        <th class=\"col_heading level0 col2\" >Services</th>        <th class=\"col_heading level0 col3\" >All</th>    </tr>    <tr>        <th class=\"index_name level0\" >region</th>        <th class=\"blank\" ></th>        <th class=\"blank\" ></th>        <th class=\"blank\" ></th>        <th class=\"blank\" ></th>    </tr></thead><tbody>\n",
              "                <tr>\n",
              "                        <th id=\"T_f6107226_1081_11eb_8746_0242ac1c0002level0_row0\" class=\"row_heading level0 row0\" >APAC</th>\n",
              "                        <td id=\"T_f6107226_1081_11eb_8746_0242ac1c0002row0_col0\" class=\"data row0 col0\" >6.5%</td>\n",
              "                        <td id=\"T_f6107226_1081_11eb_8746_0242ac1c0002row0_col1\" class=\"data row0 col1\" >11.3%</td>\n",
              "                        <td id=\"T_f6107226_1081_11eb_8746_0242ac1c0002row0_col2\" class=\"data row0 col2\" >5.1%</td>\n",
              "                        <td id=\"T_f6107226_1081_11eb_8746_0242ac1c0002row0_col3\" class=\"data row0 col3\" >22.8%</td>\n",
              "            </tr>\n",
              "            <tr>\n",
              "                        <th id=\"T_f6107226_1081_11eb_8746_0242ac1c0002level0_row1\" class=\"row_heading level0 row1\" >EMEA</th>\n",
              "                        <td id=\"T_f6107226_1081_11eb_8746_0242ac1c0002row1_col0\" class=\"data row1 col0\" >8.6%</td>\n",
              "                        <td id=\"T_f6107226_1081_11eb_8746_0242ac1c0002row1_col1\" class=\"data row1 col1\" >6.5%</td>\n",
              "                        <td id=\"T_f6107226_1081_11eb_8746_0242ac1c0002row1_col2\" class=\"data row1 col2\" >8.6%</td>\n",
              "                        <td id=\"T_f6107226_1081_11eb_8746_0242ac1c0002row1_col3\" class=\"data row1 col3\" >23.8%</td>\n",
              "            </tr>\n",
              "            <tr>\n",
              "                        <th id=\"T_f6107226_1081_11eb_8746_0242ac1c0002level0_row2\" class=\"row_heading level0 row2\" >LATAM</th>\n",
              "                        <td id=\"T_f6107226_1081_11eb_8746_0242ac1c0002row2_col0\" class=\"data row2 col0\" >5.2%</td>\n",
              "                        <td id=\"T_f6107226_1081_11eb_8746_0242ac1c0002row2_col1\" class=\"data row2 col1\" >9.6%</td>\n",
              "                        <td id=\"T_f6107226_1081_11eb_8746_0242ac1c0002row2_col2\" class=\"data row2 col2\" >8.6%</td>\n",
              "                        <td id=\"T_f6107226_1081_11eb_8746_0242ac1c0002row2_col3\" class=\"data row2 col3\" >23.5%</td>\n",
              "            </tr>\n",
              "            <tr>\n",
              "                        <th id=\"T_f6107226_1081_11eb_8746_0242ac1c0002level0_row3\" class=\"row_heading level0 row3\" >NA</th>\n",
              "                        <td id=\"T_f6107226_1081_11eb_8746_0242ac1c0002row3_col0\" class=\"data row3 col0\" >10.6%</td>\n",
              "                        <td id=\"T_f6107226_1081_11eb_8746_0242ac1c0002row3_col1\" class=\"data row3 col1\" >8.3%</td>\n",
              "                        <td id=\"T_f6107226_1081_11eb_8746_0242ac1c0002row3_col2\" class=\"data row3 col2\" >10.9%</td>\n",
              "                        <td id=\"T_f6107226_1081_11eb_8746_0242ac1c0002row3_col3\" class=\"data row3 col3\" >29.9%</td>\n",
              "            </tr>\n",
              "            <tr>\n",
              "                        <th id=\"T_f6107226_1081_11eb_8746_0242ac1c0002level0_row4\" class=\"row_heading level0 row4\" >All</th>\n",
              "                        <td id=\"T_f6107226_1081_11eb_8746_0242ac1c0002row4_col0\" class=\"data row4 col0\" >31.0%</td>\n",
              "                        <td id=\"T_f6107226_1081_11eb_8746_0242ac1c0002row4_col1\" class=\"data row4 col1\" >35.7%</td>\n",
              "                        <td id=\"T_f6107226_1081_11eb_8746_0242ac1c0002row4_col2\" class=\"data row4 col2\" >33.3%</td>\n",
              "                        <td id=\"T_f6107226_1081_11eb_8746_0242ac1c0002row4_col3\" class=\"data row4 col3\" >100.0%</td>\n",
              "            </tr>\n",
              "    </tbody></table>"
            ],
            "text/plain": [
              "<pandas.io.formats.style.Styler at 0x7f1ce7ae8198>"
            ]
          },
          "metadata": {
            "tags": []
          }
        }
      ]
    },
    {
      "cell_type": "code",
      "metadata": {
        "id": "Om3mbezWWJIA",
        "outputId": "5a89efea-cf3d-47d4-9010-29d7306ba574",
        "colab": {
          "base_uri": "https://localhost:8080/",
          "height": 183
        }
      },
      "source": [
        "# custom colormap\n",
        "cmap = colors.LinearSegmentedColormap.from_list(\"orlg\", [\"orangered\", \"white\", \"limegreen\"])\n",
        "pt = df.pivot_table(['rev_2019', 'rev_2020'], 'region', 'vertical', aggfunc='sum', margins=True) \n",
        "diff = pt['rev_2020'] / pt['rev_2019'] - 1\n",
        "print('YoY growth by region and vertical')\n",
        "display(diff.style.format('{:+.1%}').apply(bg, low=-1, high=1, cmap=cmap))"
      ],
      "execution_count": 6,
      "outputs": [
        {
          "output_type": "stream",
          "text": [
            "YoY growth by region and vertical\n"
          ],
          "name": "stdout"
        },
        {
          "output_type": "display_data",
          "data": {
            "text/html": [
              "<style  type=\"text/css\" >\n",
              "#T_f61a7f1e_1081_11eb_8746_0242ac1c0002row0_col0,#T_f61a7f1e_1081_11eb_8746_0242ac1c0002row4_col2{\n",
              "            background-color:  #e8f9e8;\n",
              "        }#T_f61a7f1e_1081_11eb_8746_0242ac1c0002row0_col1{\n",
              "            background-color:  #6adb6a;\n",
              "        }#T_f61a7f1e_1081_11eb_8746_0242ac1c0002row0_col2{\n",
              "            background-color:  #ffe5dc;\n",
              "        }#T_f61a7f1e_1081_11eb_8746_0242ac1c0002row0_col3,#T_f61a7f1e_1081_11eb_8746_0242ac1c0002row3_col3{\n",
              "            background-color:  #cbf2cb;\n",
              "        }#T_f61a7f1e_1081_11eb_8746_0242ac1c0002row1_col0{\n",
              "            background-color:  #fff8f6;\n",
              "        }#T_f61a7f1e_1081_11eb_8746_0242ac1c0002row1_col1{\n",
              "            background-color:  #ffddd0;\n",
              "        }#T_f61a7f1e_1081_11eb_8746_0242ac1c0002row1_col2{\n",
              "            background-color:  #a6e9a6;\n",
              "        }#T_f61a7f1e_1081_11eb_8746_0242ac1c0002row1_col3{\n",
              "            background-color:  #f8fdf8;\n",
              "        }#T_f61a7f1e_1081_11eb_8746_0242ac1c0002row2_col0{\n",
              "            background-color:  #ffab8c;\n",
              "        }#T_f61a7f1e_1081_11eb_8746_0242ac1c0002row2_col1{\n",
              "            background-color:  #d0f3d0;\n",
              "        }#T_f61a7f1e_1081_11eb_8746_0242ac1c0002row2_col2{\n",
              "            background-color:  #ffeee8;\n",
              "        }#T_f61a7f1e_1081_11eb_8746_0242ac1c0002row2_col3{\n",
              "            background-color:  #ffe8e0;\n",
              "        }#T_f61a7f1e_1081_11eb_8746_0242ac1c0002row3_col0{\n",
              "            background-color:  #9ce79c;\n",
              "        }#T_f61a7f1e_1081_11eb_8746_0242ac1c0002row3_col1{\n",
              "            background-color:  #fbfefb;\n",
              "        }#T_f61a7f1e_1081_11eb_8746_0242ac1c0002row3_col2{\n",
              "            background-color:  #c4f1c4;\n",
              "        }#T_f61a7f1e_1081_11eb_8746_0242ac1c0002row4_col0{\n",
              "            background-color:  #fffdfc;\n",
              "        }#T_f61a7f1e_1081_11eb_8746_0242ac1c0002row4_col1{\n",
              "            background-color:  #dcf7dc;\n",
              "        }#T_f61a7f1e_1081_11eb_8746_0242ac1c0002row4_col3{\n",
              "            background-color:  #edfaed;\n",
              "        }</style><table id=\"T_f61a7f1e_1081_11eb_8746_0242ac1c0002\" ><thead>    <tr>        <th class=\"index_name level0\" >vertical</th>        <th class=\"col_heading level0 col0\" >Ecomm</th>        <th class=\"col_heading level0 col1\" >Retail</th>        <th class=\"col_heading level0 col2\" >Services</th>        <th class=\"col_heading level0 col3\" >All</th>    </tr>    <tr>        <th class=\"index_name level0\" >region</th>        <th class=\"blank\" ></th>        <th class=\"blank\" ></th>        <th class=\"blank\" ></th>        <th class=\"blank\" ></th>    </tr></thead><tbody>\n",
              "                <tr>\n",
              "                        <th id=\"T_f61a7f1e_1081_11eb_8746_0242ac1c0002level0_row0\" class=\"row_heading level0 row0\" >APAC</th>\n",
              "                        <td id=\"T_f61a7f1e_1081_11eb_8746_0242ac1c0002row0_col0\" class=\"data row0 col0\" >+11.1%</td>\n",
              "                        <td id=\"T_f61a7f1e_1081_11eb_8746_0242ac1c0002row0_col1\" class=\"data row0 col1\" >+72.5%</td>\n",
              "                        <td id=\"T_f61a7f1e_1081_11eb_8746_0242ac1c0002row0_col2\" class=\"data row0 col2\" >-13.9%</td>\n",
              "                        <td id=\"T_f61a7f1e_1081_11eb_8746_0242ac1c0002row0_col3\" class=\"data row0 col3\" >+25.0%</td>\n",
              "            </tr>\n",
              "            <tr>\n",
              "                        <th id=\"T_f61a7f1e_1081_11eb_8746_0242ac1c0002level0_row1\" class=\"row_heading level0 row1\" >EMEA</th>\n",
              "                        <td id=\"T_f61a7f1e_1081_11eb_8746_0242ac1c0002row1_col0\" class=\"data row1 col0\" >-3.6%</td>\n",
              "                        <td id=\"T_f61a7f1e_1081_11eb_8746_0242ac1c0002row1_col1\" class=\"data row1 col1\" >-18.4%</td>\n",
              "                        <td id=\"T_f61a7f1e_1081_11eb_8746_0242ac1c0002row1_col2\" class=\"data row1 col2\" >+43.2%</td>\n",
              "                        <td id=\"T_f61a7f1e_1081_11eb_8746_0242ac1c0002row1_col3\" class=\"data row1 col3\" >+3.5%</td>\n",
              "            </tr>\n",
              "            <tr>\n",
              "                        <th id=\"T_f61a7f1e_1081_11eb_8746_0242ac1c0002level0_row2\" class=\"row_heading level0 row2\" >LATAM</th>\n",
              "                        <td id=\"T_f61a7f1e_1081_11eb_8746_0242ac1c0002row2_col0\" class=\"data row2 col0\" >-44.8%</td>\n",
              "                        <td id=\"T_f61a7f1e_1081_11eb_8746_0242ac1c0002row2_col1\" class=\"data row2 col1\" >+22.9%</td>\n",
              "                        <td id=\"T_f61a7f1e_1081_11eb_8746_0242ac1c0002row2_col2\" class=\"data row2 col2\" >-8.6%</td>\n",
              "                        <td id=\"T_f61a7f1e_1081_11eb_8746_0242ac1c0002row2_col3\" class=\"data row2 col3\" >-12.2%</td>\n",
              "            </tr>\n",
              "            <tr>\n",
              "                        <th id=\"T_f61a7f1e_1081_11eb_8746_0242ac1c0002level0_row3\" class=\"row_heading level0 row3\" >NA</th>\n",
              "                        <td id=\"T_f61a7f1e_1081_11eb_8746_0242ac1c0002row3_col0\" class=\"data row3 col0\" >+47.7%</td>\n",
              "                        <td id=\"T_f61a7f1e_1081_11eb_8746_0242ac1c0002row3_col1\" class=\"data row3 col1\" >+2.0%</td>\n",
              "                        <td id=\"T_f61a7f1e_1081_11eb_8746_0242ac1c0002row3_col2\" class=\"data row3 col2\" >+28.8%</td>\n",
              "                        <td id=\"T_f61a7f1e_1081_11eb_8746_0242ac1c0002row3_col3\" class=\"data row3 col3\" >+25.3%</td>\n",
              "            </tr>\n",
              "            <tr>\n",
              "                        <th id=\"T_f61a7f1e_1081_11eb_8746_0242ac1c0002level0_row4\" class=\"row_heading level0 row4\" >All</th>\n",
              "                        <td id=\"T_f61a7f1e_1081_11eb_8746_0242ac1c0002row4_col0\" class=\"data row4 col0\" >-1.6%</td>\n",
              "                        <td id=\"T_f61a7f1e_1081_11eb_8746_0242ac1c0002row4_col1\" class=\"data row4 col1\" >+17.1%</td>\n",
              "                        <td id=\"T_f61a7f1e_1081_11eb_8746_0242ac1c0002row4_col2\" class=\"data row4 col2\" >+11.5%</td>\n",
              "                        <td id=\"T_f61a7f1e_1081_11eb_8746_0242ac1c0002row4_col3\" class=\"data row4 col3\" >+8.9%</td>\n",
              "            </tr>\n",
              "    </tbody></table>"
            ],
            "text/plain": [
              "<pandas.io.formats.style.Styler at 0x7f1ce7af80b8>"
            ]
          },
          "metadata": {
            "tags": []
          }
        }
      ]
    },
    {
      "cell_type": "code",
      "metadata": {
        "id": "YIlWM1lgnytq"
      },
      "source": [
        ""
      ],
      "execution_count": 6,
      "outputs": []
    }
  ]
}