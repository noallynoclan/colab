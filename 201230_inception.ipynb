{
  "nbformat": 4,
  "nbformat_minor": 0,
  "metadata": {
    "colab": {
      "name": "201230_inception.ipynb",
      "provenance": [],
      "authorship_tag": "ABX9TyO9GVUuNV0WiGVhtDUZcTwg",
      "include_colab_link": true
    },
    "kernelspec": {
      "name": "python3",
      "display_name": "Python 3"
    },
    "widgets": {
      "application/vnd.jupyter.widget-state+json": {
        "ec28c4f6cf7743c8a726a9eb1a67f245": {
          "model_module": "@jupyter-widgets/controls",
          "model_name": "HBoxModel",
          "state": {
            "_view_name": "HBoxView",
            "_dom_classes": [],
            "_model_name": "HBoxModel",
            "_view_module": "@jupyter-widgets/controls",
            "_model_module_version": "1.5.0",
            "_view_count": null,
            "_view_module_version": "1.5.0",
            "box_style": "",
            "layout": "IPY_MODEL_4f17e2a716ef402b9ac4ea5aba9a1d16",
            "_model_module": "@jupyter-widgets/controls",
            "children": [
              "IPY_MODEL_f2b97e036e624d738cd1e5b95cdc8046",
              "IPY_MODEL_6def68ea559449318fe4002ecf51bcee"
            ]
          }
        },
        "4f17e2a716ef402b9ac4ea5aba9a1d16": {
          "model_module": "@jupyter-widgets/base",
          "model_name": "LayoutModel",
          "state": {
            "_view_name": "LayoutView",
            "grid_template_rows": null,
            "right": null,
            "justify_content": null,
            "_view_module": "@jupyter-widgets/base",
            "overflow": null,
            "_model_module_version": "1.2.0",
            "_view_count": null,
            "flex_flow": null,
            "width": null,
            "min_width": null,
            "border": null,
            "align_items": null,
            "bottom": null,
            "_model_module": "@jupyter-widgets/base",
            "top": null,
            "grid_column": null,
            "overflow_y": null,
            "overflow_x": null,
            "grid_auto_flow": null,
            "grid_area": null,
            "grid_template_columns": null,
            "flex": null,
            "_model_name": "LayoutModel",
            "justify_items": null,
            "grid_row": null,
            "max_height": null,
            "align_content": null,
            "visibility": null,
            "align_self": null,
            "height": null,
            "min_height": null,
            "padding": null,
            "grid_auto_rows": null,
            "grid_gap": null,
            "max_width": null,
            "order": null,
            "_view_module_version": "1.2.0",
            "grid_template_areas": null,
            "object_position": null,
            "object_fit": null,
            "grid_auto_columns": null,
            "margin": null,
            "display": null,
            "left": null
          }
        },
        "f2b97e036e624d738cd1e5b95cdc8046": {
          "model_module": "@jupyter-widgets/controls",
          "model_name": "FloatProgressModel",
          "state": {
            "_view_name": "ProgressView",
            "style": "IPY_MODEL_76da9bdb0f8b41f3b49255b3d7dcc9d2",
            "_dom_classes": [],
            "description": "",
            "_model_name": "FloatProgressModel",
            "bar_style": "success",
            "max": 1,
            "_view_module": "@jupyter-widgets/controls",
            "_model_module_version": "1.5.0",
            "value": 1,
            "_view_count": null,
            "_view_module_version": "1.5.0",
            "orientation": "horizontal",
            "min": 0,
            "description_tooltip": null,
            "_model_module": "@jupyter-widgets/controls",
            "layout": "IPY_MODEL_aaff3db0f1e243a494213aa5f39c7f17"
          }
        },
        "6def68ea559449318fe4002ecf51bcee": {
          "model_module": "@jupyter-widgets/controls",
          "model_name": "HTMLModel",
          "state": {
            "_view_name": "HTMLView",
            "style": "IPY_MODEL_d6ff48b4c9ce45c8ba40beb99f7e4810",
            "_dom_classes": [],
            "description": "",
            "_model_name": "HTMLModel",
            "placeholder": "​",
            "_view_module": "@jupyter-widgets/controls",
            "_model_module_version": "1.5.0",
            "value": " 9920512/? [00:01&lt;00:00, 7249241.04it/s]",
            "_view_count": null,
            "_view_module_version": "1.5.0",
            "description_tooltip": null,
            "_model_module": "@jupyter-widgets/controls",
            "layout": "IPY_MODEL_46f5f48566424de880429d7d4581c225"
          }
        },
        "76da9bdb0f8b41f3b49255b3d7dcc9d2": {
          "model_module": "@jupyter-widgets/controls",
          "model_name": "ProgressStyleModel",
          "state": {
            "_view_name": "StyleView",
            "_model_name": "ProgressStyleModel",
            "description_width": "initial",
            "_view_module": "@jupyter-widgets/base",
            "_model_module_version": "1.5.0",
            "_view_count": null,
            "_view_module_version": "1.2.0",
            "bar_color": null,
            "_model_module": "@jupyter-widgets/controls"
          }
        },
        "aaff3db0f1e243a494213aa5f39c7f17": {
          "model_module": "@jupyter-widgets/base",
          "model_name": "LayoutModel",
          "state": {
            "_view_name": "LayoutView",
            "grid_template_rows": null,
            "right": null,
            "justify_content": null,
            "_view_module": "@jupyter-widgets/base",
            "overflow": null,
            "_model_module_version": "1.2.0",
            "_view_count": null,
            "flex_flow": null,
            "width": null,
            "min_width": null,
            "border": null,
            "align_items": null,
            "bottom": null,
            "_model_module": "@jupyter-widgets/base",
            "top": null,
            "grid_column": null,
            "overflow_y": null,
            "overflow_x": null,
            "grid_auto_flow": null,
            "grid_area": null,
            "grid_template_columns": null,
            "flex": null,
            "_model_name": "LayoutModel",
            "justify_items": null,
            "grid_row": null,
            "max_height": null,
            "align_content": null,
            "visibility": null,
            "align_self": null,
            "height": null,
            "min_height": null,
            "padding": null,
            "grid_auto_rows": null,
            "grid_gap": null,
            "max_width": null,
            "order": null,
            "_view_module_version": "1.2.0",
            "grid_template_areas": null,
            "object_position": null,
            "object_fit": null,
            "grid_auto_columns": null,
            "margin": null,
            "display": null,
            "left": null
          }
        },
        "d6ff48b4c9ce45c8ba40beb99f7e4810": {
          "model_module": "@jupyter-widgets/controls",
          "model_name": "DescriptionStyleModel",
          "state": {
            "_view_name": "StyleView",
            "_model_name": "DescriptionStyleModel",
            "description_width": "",
            "_view_module": "@jupyter-widgets/base",
            "_model_module_version": "1.5.0",
            "_view_count": null,
            "_view_module_version": "1.2.0",
            "_model_module": "@jupyter-widgets/controls"
          }
        },
        "46f5f48566424de880429d7d4581c225": {
          "model_module": "@jupyter-widgets/base",
          "model_name": "LayoutModel",
          "state": {
            "_view_name": "LayoutView",
            "grid_template_rows": null,
            "right": null,
            "justify_content": null,
            "_view_module": "@jupyter-widgets/base",
            "overflow": null,
            "_model_module_version": "1.2.0",
            "_view_count": null,
            "flex_flow": null,
            "width": null,
            "min_width": null,
            "border": null,
            "align_items": null,
            "bottom": null,
            "_model_module": "@jupyter-widgets/base",
            "top": null,
            "grid_column": null,
            "overflow_y": null,
            "overflow_x": null,
            "grid_auto_flow": null,
            "grid_area": null,
            "grid_template_columns": null,
            "flex": null,
            "_model_name": "LayoutModel",
            "justify_items": null,
            "grid_row": null,
            "max_height": null,
            "align_content": null,
            "visibility": null,
            "align_self": null,
            "height": null,
            "min_height": null,
            "padding": null,
            "grid_auto_rows": null,
            "grid_gap": null,
            "max_width": null,
            "order": null,
            "_view_module_version": "1.2.0",
            "grid_template_areas": null,
            "object_position": null,
            "object_fit": null,
            "grid_auto_columns": null,
            "margin": null,
            "display": null,
            "left": null
          }
        },
        "edb874f6377c402293eb259442e16320": {
          "model_module": "@jupyter-widgets/controls",
          "model_name": "HBoxModel",
          "state": {
            "_view_name": "HBoxView",
            "_dom_classes": [],
            "_model_name": "HBoxModel",
            "_view_module": "@jupyter-widgets/controls",
            "_model_module_version": "1.5.0",
            "_view_count": null,
            "_view_module_version": "1.5.0",
            "box_style": "",
            "layout": "IPY_MODEL_07b8a0ea062f46bc9f6028949041bac5",
            "_model_module": "@jupyter-widgets/controls",
            "children": [
              "IPY_MODEL_ff5fc68411154f5cb89502f274f3151b",
              "IPY_MODEL_060a673406f148d18bc817b157e6b630"
            ]
          }
        },
        "07b8a0ea062f46bc9f6028949041bac5": {
          "model_module": "@jupyter-widgets/base",
          "model_name": "LayoutModel",
          "state": {
            "_view_name": "LayoutView",
            "grid_template_rows": null,
            "right": null,
            "justify_content": null,
            "_view_module": "@jupyter-widgets/base",
            "overflow": null,
            "_model_module_version": "1.2.0",
            "_view_count": null,
            "flex_flow": null,
            "width": null,
            "min_width": null,
            "border": null,
            "align_items": null,
            "bottom": null,
            "_model_module": "@jupyter-widgets/base",
            "top": null,
            "grid_column": null,
            "overflow_y": null,
            "overflow_x": null,
            "grid_auto_flow": null,
            "grid_area": null,
            "grid_template_columns": null,
            "flex": null,
            "_model_name": "LayoutModel",
            "justify_items": null,
            "grid_row": null,
            "max_height": null,
            "align_content": null,
            "visibility": null,
            "align_self": null,
            "height": null,
            "min_height": null,
            "padding": null,
            "grid_auto_rows": null,
            "grid_gap": null,
            "max_width": null,
            "order": null,
            "_view_module_version": "1.2.0",
            "grid_template_areas": null,
            "object_position": null,
            "object_fit": null,
            "grid_auto_columns": null,
            "margin": null,
            "display": null,
            "left": null
          }
        },
        "ff5fc68411154f5cb89502f274f3151b": {
          "model_module": "@jupyter-widgets/controls",
          "model_name": "FloatProgressModel",
          "state": {
            "_view_name": "ProgressView",
            "style": "IPY_MODEL_78afc1d4802d4805b959e31a6817e127",
            "_dom_classes": [],
            "description": "  0%",
            "_model_name": "FloatProgressModel",
            "bar_style": "info",
            "max": 1,
            "_view_module": "@jupyter-widgets/controls",
            "_model_module_version": "1.5.0",
            "value": 0,
            "_view_count": null,
            "_view_module_version": "1.5.0",
            "orientation": "horizontal",
            "min": 0,
            "description_tooltip": null,
            "_model_module": "@jupyter-widgets/controls",
            "layout": "IPY_MODEL_6d9769fe151e49e4a2fcdaccff895ca6"
          }
        },
        "060a673406f148d18bc817b157e6b630": {
          "model_module": "@jupyter-widgets/controls",
          "model_name": "HTMLModel",
          "state": {
            "_view_name": "HTMLView",
            "style": "IPY_MODEL_5f660a4523d24200a23cf622efc30523",
            "_dom_classes": [],
            "description": "",
            "_model_name": "HTMLModel",
            "placeholder": "​",
            "_view_module": "@jupyter-widgets/controls",
            "_model_module_version": "1.5.0",
            "value": " 0/28881 [00:00&lt;?, ?it/s]",
            "_view_count": null,
            "_view_module_version": "1.5.0",
            "description_tooltip": null,
            "_model_module": "@jupyter-widgets/controls",
            "layout": "IPY_MODEL_566752b9533d4a48a30d515235b9a030"
          }
        },
        "78afc1d4802d4805b959e31a6817e127": {
          "model_module": "@jupyter-widgets/controls",
          "model_name": "ProgressStyleModel",
          "state": {
            "_view_name": "StyleView",
            "_model_name": "ProgressStyleModel",
            "description_width": "initial",
            "_view_module": "@jupyter-widgets/base",
            "_model_module_version": "1.5.0",
            "_view_count": null,
            "_view_module_version": "1.2.0",
            "bar_color": null,
            "_model_module": "@jupyter-widgets/controls"
          }
        },
        "6d9769fe151e49e4a2fcdaccff895ca6": {
          "model_module": "@jupyter-widgets/base",
          "model_name": "LayoutModel",
          "state": {
            "_view_name": "LayoutView",
            "grid_template_rows": null,
            "right": null,
            "justify_content": null,
            "_view_module": "@jupyter-widgets/base",
            "overflow": null,
            "_model_module_version": "1.2.0",
            "_view_count": null,
            "flex_flow": null,
            "width": null,
            "min_width": null,
            "border": null,
            "align_items": null,
            "bottom": null,
            "_model_module": "@jupyter-widgets/base",
            "top": null,
            "grid_column": null,
            "overflow_y": null,
            "overflow_x": null,
            "grid_auto_flow": null,
            "grid_area": null,
            "grid_template_columns": null,
            "flex": null,
            "_model_name": "LayoutModel",
            "justify_items": null,
            "grid_row": null,
            "max_height": null,
            "align_content": null,
            "visibility": null,
            "align_self": null,
            "height": null,
            "min_height": null,
            "padding": null,
            "grid_auto_rows": null,
            "grid_gap": null,
            "max_width": null,
            "order": null,
            "_view_module_version": "1.2.0",
            "grid_template_areas": null,
            "object_position": null,
            "object_fit": null,
            "grid_auto_columns": null,
            "margin": null,
            "display": null,
            "left": null
          }
        },
        "5f660a4523d24200a23cf622efc30523": {
          "model_module": "@jupyter-widgets/controls",
          "model_name": "DescriptionStyleModel",
          "state": {
            "_view_name": "StyleView",
            "_model_name": "DescriptionStyleModel",
            "description_width": "",
            "_view_module": "@jupyter-widgets/base",
            "_model_module_version": "1.5.0",
            "_view_count": null,
            "_view_module_version": "1.2.0",
            "_model_module": "@jupyter-widgets/controls"
          }
        },
        "566752b9533d4a48a30d515235b9a030": {
          "model_module": "@jupyter-widgets/base",
          "model_name": "LayoutModel",
          "state": {
            "_view_name": "LayoutView",
            "grid_template_rows": null,
            "right": null,
            "justify_content": null,
            "_view_module": "@jupyter-widgets/base",
            "overflow": null,
            "_model_module_version": "1.2.0",
            "_view_count": null,
            "flex_flow": null,
            "width": null,
            "min_width": null,
            "border": null,
            "align_items": null,
            "bottom": null,
            "_model_module": "@jupyter-widgets/base",
            "top": null,
            "grid_column": null,
            "overflow_y": null,
            "overflow_x": null,
            "grid_auto_flow": null,
            "grid_area": null,
            "grid_template_columns": null,
            "flex": null,
            "_model_name": "LayoutModel",
            "justify_items": null,
            "grid_row": null,
            "max_height": null,
            "align_content": null,
            "visibility": null,
            "align_self": null,
            "height": null,
            "min_height": null,
            "padding": null,
            "grid_auto_rows": null,
            "grid_gap": null,
            "max_width": null,
            "order": null,
            "_view_module_version": "1.2.0",
            "grid_template_areas": null,
            "object_position": null,
            "object_fit": null,
            "grid_auto_columns": null,
            "margin": null,
            "display": null,
            "left": null
          }
        },
        "d76d3d0da39b41f495bf98a318752ac9": {
          "model_module": "@jupyter-widgets/controls",
          "model_name": "HBoxModel",
          "state": {
            "_view_name": "HBoxView",
            "_dom_classes": [],
            "_model_name": "HBoxModel",
            "_view_module": "@jupyter-widgets/controls",
            "_model_module_version": "1.5.0",
            "_view_count": null,
            "_view_module_version": "1.5.0",
            "box_style": "",
            "layout": "IPY_MODEL_d1306ef3af564e3e96c753b962fd4285",
            "_model_module": "@jupyter-widgets/controls",
            "children": [
              "IPY_MODEL_0e8ed0b1b5504dc3a5f946b863e31156",
              "IPY_MODEL_ce053db8cd4d40cfa29e0174a884f365"
            ]
          }
        },
        "d1306ef3af564e3e96c753b962fd4285": {
          "model_module": "@jupyter-widgets/base",
          "model_name": "LayoutModel",
          "state": {
            "_view_name": "LayoutView",
            "grid_template_rows": null,
            "right": null,
            "justify_content": null,
            "_view_module": "@jupyter-widgets/base",
            "overflow": null,
            "_model_module_version": "1.2.0",
            "_view_count": null,
            "flex_flow": null,
            "width": null,
            "min_width": null,
            "border": null,
            "align_items": null,
            "bottom": null,
            "_model_module": "@jupyter-widgets/base",
            "top": null,
            "grid_column": null,
            "overflow_y": null,
            "overflow_x": null,
            "grid_auto_flow": null,
            "grid_area": null,
            "grid_template_columns": null,
            "flex": null,
            "_model_name": "LayoutModel",
            "justify_items": null,
            "grid_row": null,
            "max_height": null,
            "align_content": null,
            "visibility": null,
            "align_self": null,
            "height": null,
            "min_height": null,
            "padding": null,
            "grid_auto_rows": null,
            "grid_gap": null,
            "max_width": null,
            "order": null,
            "_view_module_version": "1.2.0",
            "grid_template_areas": null,
            "object_position": null,
            "object_fit": null,
            "grid_auto_columns": null,
            "margin": null,
            "display": null,
            "left": null
          }
        },
        "0e8ed0b1b5504dc3a5f946b863e31156": {
          "model_module": "@jupyter-widgets/controls",
          "model_name": "FloatProgressModel",
          "state": {
            "_view_name": "ProgressView",
            "style": "IPY_MODEL_c3c098f151e344f3a0233683c308169d",
            "_dom_classes": [],
            "description": "",
            "_model_name": "FloatProgressModel",
            "bar_style": "info",
            "max": 1,
            "_view_module": "@jupyter-widgets/controls",
            "_model_module_version": "1.5.0",
            "value": 1,
            "_view_count": null,
            "_view_module_version": "1.5.0",
            "orientation": "horizontal",
            "min": 0,
            "description_tooltip": null,
            "_model_module": "@jupyter-widgets/controls",
            "layout": "IPY_MODEL_5711de5232334644bfe70dba5d45d587"
          }
        },
        "ce053db8cd4d40cfa29e0174a884f365": {
          "model_module": "@jupyter-widgets/controls",
          "model_name": "HTMLModel",
          "state": {
            "_view_name": "HTMLView",
            "style": "IPY_MODEL_1b6d954b064d4cd9bb50640609ace84e",
            "_dom_classes": [],
            "description": "",
            "_model_name": "HTMLModel",
            "placeholder": "​",
            "_view_module": "@jupyter-widgets/controls",
            "_model_module_version": "1.5.0",
            "value": " 1654784/? [00:18&lt;00:00, 549007.15it/s]",
            "_view_count": null,
            "_view_module_version": "1.5.0",
            "description_tooltip": null,
            "_model_module": "@jupyter-widgets/controls",
            "layout": "IPY_MODEL_2b7bf14a9eb34fab956df52afbe91f35"
          }
        },
        "c3c098f151e344f3a0233683c308169d": {
          "model_module": "@jupyter-widgets/controls",
          "model_name": "ProgressStyleModel",
          "state": {
            "_view_name": "StyleView",
            "_model_name": "ProgressStyleModel",
            "description_width": "initial",
            "_view_module": "@jupyter-widgets/base",
            "_model_module_version": "1.5.0",
            "_view_count": null,
            "_view_module_version": "1.2.0",
            "bar_color": null,
            "_model_module": "@jupyter-widgets/controls"
          }
        },
        "5711de5232334644bfe70dba5d45d587": {
          "model_module": "@jupyter-widgets/base",
          "model_name": "LayoutModel",
          "state": {
            "_view_name": "LayoutView",
            "grid_template_rows": null,
            "right": null,
            "justify_content": null,
            "_view_module": "@jupyter-widgets/base",
            "overflow": null,
            "_model_module_version": "1.2.0",
            "_view_count": null,
            "flex_flow": null,
            "width": null,
            "min_width": null,
            "border": null,
            "align_items": null,
            "bottom": null,
            "_model_module": "@jupyter-widgets/base",
            "top": null,
            "grid_column": null,
            "overflow_y": null,
            "overflow_x": null,
            "grid_auto_flow": null,
            "grid_area": null,
            "grid_template_columns": null,
            "flex": null,
            "_model_name": "LayoutModel",
            "justify_items": null,
            "grid_row": null,
            "max_height": null,
            "align_content": null,
            "visibility": null,
            "align_self": null,
            "height": null,
            "min_height": null,
            "padding": null,
            "grid_auto_rows": null,
            "grid_gap": null,
            "max_width": null,
            "order": null,
            "_view_module_version": "1.2.0",
            "grid_template_areas": null,
            "object_position": null,
            "object_fit": null,
            "grid_auto_columns": null,
            "margin": null,
            "display": null,
            "left": null
          }
        },
        "1b6d954b064d4cd9bb50640609ace84e": {
          "model_module": "@jupyter-widgets/controls",
          "model_name": "DescriptionStyleModel",
          "state": {
            "_view_name": "StyleView",
            "_model_name": "DescriptionStyleModel",
            "description_width": "",
            "_view_module": "@jupyter-widgets/base",
            "_model_module_version": "1.5.0",
            "_view_count": null,
            "_view_module_version": "1.2.0",
            "_model_module": "@jupyter-widgets/controls"
          }
        },
        "2b7bf14a9eb34fab956df52afbe91f35": {
          "model_module": "@jupyter-widgets/base",
          "model_name": "LayoutModel",
          "state": {
            "_view_name": "LayoutView",
            "grid_template_rows": null,
            "right": null,
            "justify_content": null,
            "_view_module": "@jupyter-widgets/base",
            "overflow": null,
            "_model_module_version": "1.2.0",
            "_view_count": null,
            "flex_flow": null,
            "width": null,
            "min_width": null,
            "border": null,
            "align_items": null,
            "bottom": null,
            "_model_module": "@jupyter-widgets/base",
            "top": null,
            "grid_column": null,
            "overflow_y": null,
            "overflow_x": null,
            "grid_auto_flow": null,
            "grid_area": null,
            "grid_template_columns": null,
            "flex": null,
            "_model_name": "LayoutModel",
            "justify_items": null,
            "grid_row": null,
            "max_height": null,
            "align_content": null,
            "visibility": null,
            "align_self": null,
            "height": null,
            "min_height": null,
            "padding": null,
            "grid_auto_rows": null,
            "grid_gap": null,
            "max_width": null,
            "order": null,
            "_view_module_version": "1.2.0",
            "grid_template_areas": null,
            "object_position": null,
            "object_fit": null,
            "grid_auto_columns": null,
            "margin": null,
            "display": null,
            "left": null
          }
        },
        "e433cebdeffe4cd29cb62e16051f3c4c": {
          "model_module": "@jupyter-widgets/controls",
          "model_name": "HBoxModel",
          "state": {
            "_view_name": "HBoxView",
            "_dom_classes": [],
            "_model_name": "HBoxModel",
            "_view_module": "@jupyter-widgets/controls",
            "_model_module_version": "1.5.0",
            "_view_count": null,
            "_view_module_version": "1.5.0",
            "box_style": "",
            "layout": "IPY_MODEL_0d5807683335407189e59cf3f0c5ccdc",
            "_model_module": "@jupyter-widgets/controls",
            "children": [
              "IPY_MODEL_db452cdb49a449369c1290d70d15b41e",
              "IPY_MODEL_4d45af66f3bd41bf974d4dcd1478e6b3"
            ]
          }
        },
        "0d5807683335407189e59cf3f0c5ccdc": {
          "model_module": "@jupyter-widgets/base",
          "model_name": "LayoutModel",
          "state": {
            "_view_name": "LayoutView",
            "grid_template_rows": null,
            "right": null,
            "justify_content": null,
            "_view_module": "@jupyter-widgets/base",
            "overflow": null,
            "_model_module_version": "1.2.0",
            "_view_count": null,
            "flex_flow": null,
            "width": null,
            "min_width": null,
            "border": null,
            "align_items": null,
            "bottom": null,
            "_model_module": "@jupyter-widgets/base",
            "top": null,
            "grid_column": null,
            "overflow_y": null,
            "overflow_x": null,
            "grid_auto_flow": null,
            "grid_area": null,
            "grid_template_columns": null,
            "flex": null,
            "_model_name": "LayoutModel",
            "justify_items": null,
            "grid_row": null,
            "max_height": null,
            "align_content": null,
            "visibility": null,
            "align_self": null,
            "height": null,
            "min_height": null,
            "padding": null,
            "grid_auto_rows": null,
            "grid_gap": null,
            "max_width": null,
            "order": null,
            "_view_module_version": "1.2.0",
            "grid_template_areas": null,
            "object_position": null,
            "object_fit": null,
            "grid_auto_columns": null,
            "margin": null,
            "display": null,
            "left": null
          }
        },
        "db452cdb49a449369c1290d70d15b41e": {
          "model_module": "@jupyter-widgets/controls",
          "model_name": "FloatProgressModel",
          "state": {
            "_view_name": "ProgressView",
            "style": "IPY_MODEL_e6aa89de433847138a68845c0026dfff",
            "_dom_classes": [],
            "description": "  0%",
            "_model_name": "FloatProgressModel",
            "bar_style": "info",
            "max": 1,
            "_view_module": "@jupyter-widgets/controls",
            "_model_module_version": "1.5.0",
            "value": 0,
            "_view_count": null,
            "_view_module_version": "1.5.0",
            "orientation": "horizontal",
            "min": 0,
            "description_tooltip": null,
            "_model_module": "@jupyter-widgets/controls",
            "layout": "IPY_MODEL_342b5562ffd54cc381575a78b91383bb"
          }
        },
        "4d45af66f3bd41bf974d4dcd1478e6b3": {
          "model_module": "@jupyter-widgets/controls",
          "model_name": "HTMLModel",
          "state": {
            "_view_name": "HTMLView",
            "style": "IPY_MODEL_6fa452bde7bf4f0eaa6ef557ad164408",
            "_dom_classes": [],
            "description": "",
            "_model_name": "HTMLModel",
            "placeholder": "​",
            "_view_module": "@jupyter-widgets/controls",
            "_model_module_version": "1.5.0",
            "value": " 0/4542 [00:00&lt;?, ?it/s]",
            "_view_count": null,
            "_view_module_version": "1.5.0",
            "description_tooltip": null,
            "_model_module": "@jupyter-widgets/controls",
            "layout": "IPY_MODEL_00a420067e7343f9a75157e2a1d5c405"
          }
        },
        "e6aa89de433847138a68845c0026dfff": {
          "model_module": "@jupyter-widgets/controls",
          "model_name": "ProgressStyleModel",
          "state": {
            "_view_name": "StyleView",
            "_model_name": "ProgressStyleModel",
            "description_width": "initial",
            "_view_module": "@jupyter-widgets/base",
            "_model_module_version": "1.5.0",
            "_view_count": null,
            "_view_module_version": "1.2.0",
            "bar_color": null,
            "_model_module": "@jupyter-widgets/controls"
          }
        },
        "342b5562ffd54cc381575a78b91383bb": {
          "model_module": "@jupyter-widgets/base",
          "model_name": "LayoutModel",
          "state": {
            "_view_name": "LayoutView",
            "grid_template_rows": null,
            "right": null,
            "justify_content": null,
            "_view_module": "@jupyter-widgets/base",
            "overflow": null,
            "_model_module_version": "1.2.0",
            "_view_count": null,
            "flex_flow": null,
            "width": null,
            "min_width": null,
            "border": null,
            "align_items": null,
            "bottom": null,
            "_model_module": "@jupyter-widgets/base",
            "top": null,
            "grid_column": null,
            "overflow_y": null,
            "overflow_x": null,
            "grid_auto_flow": null,
            "grid_area": null,
            "grid_template_columns": null,
            "flex": null,
            "_model_name": "LayoutModel",
            "justify_items": null,
            "grid_row": null,
            "max_height": null,
            "align_content": null,
            "visibility": null,
            "align_self": null,
            "height": null,
            "min_height": null,
            "padding": null,
            "grid_auto_rows": null,
            "grid_gap": null,
            "max_width": null,
            "order": null,
            "_view_module_version": "1.2.0",
            "grid_template_areas": null,
            "object_position": null,
            "object_fit": null,
            "grid_auto_columns": null,
            "margin": null,
            "display": null,
            "left": null
          }
        },
        "6fa452bde7bf4f0eaa6ef557ad164408": {
          "model_module": "@jupyter-widgets/controls",
          "model_name": "DescriptionStyleModel",
          "state": {
            "_view_name": "StyleView",
            "_model_name": "DescriptionStyleModel",
            "description_width": "",
            "_view_module": "@jupyter-widgets/base",
            "_model_module_version": "1.5.0",
            "_view_count": null,
            "_view_module_version": "1.2.0",
            "_model_module": "@jupyter-widgets/controls"
          }
        },
        "00a420067e7343f9a75157e2a1d5c405": {
          "model_module": "@jupyter-widgets/base",
          "model_name": "LayoutModel",
          "state": {
            "_view_name": "LayoutView",
            "grid_template_rows": null,
            "right": null,
            "justify_content": null,
            "_view_module": "@jupyter-widgets/base",
            "overflow": null,
            "_model_module_version": "1.2.0",
            "_view_count": null,
            "flex_flow": null,
            "width": null,
            "min_width": null,
            "border": null,
            "align_items": null,
            "bottom": null,
            "_model_module": "@jupyter-widgets/base",
            "top": null,
            "grid_column": null,
            "overflow_y": null,
            "overflow_x": null,
            "grid_auto_flow": null,
            "grid_area": null,
            "grid_template_columns": null,
            "flex": null,
            "_model_name": "LayoutModel",
            "justify_items": null,
            "grid_row": null,
            "max_height": null,
            "align_content": null,
            "visibility": null,
            "align_self": null,
            "height": null,
            "min_height": null,
            "padding": null,
            "grid_auto_rows": null,
            "grid_gap": null,
            "max_width": null,
            "order": null,
            "_view_module_version": "1.2.0",
            "grid_template_areas": null,
            "object_position": null,
            "object_fit": null,
            "grid_auto_columns": null,
            "margin": null,
            "display": null,
            "left": null
          }
        },
        "e51a3735467142d3a3d6ff28993c086a": {
          "model_module": "@jupyter-widgets/controls",
          "model_name": "VBoxModel",
          "state": {
            "_view_name": "VBoxView",
            "_dom_classes": [],
            "_model_name": "VBoxModel",
            "_view_module": "@jupyter-widgets/controls",
            "_model_module_version": "1.5.0",
            "_view_count": null,
            "_view_module_version": "1.5.0",
            "box_style": "",
            "layout": "IPY_MODEL_4d8b9b2e2545436181800f62f1527eed",
            "_model_module": "@jupyter-widgets/controls",
            "children": [
              "IPY_MODEL_3bf03f1bbd67408693cd6d44f1c594f2",
              "IPY_MODEL_0130de16a00f46149eeb0ee1448526d8"
            ]
          }
        },
        "4d8b9b2e2545436181800f62f1527eed": {
          "model_module": "@jupyter-widgets/base",
          "model_name": "LayoutModel",
          "state": {
            "_view_name": "LayoutView",
            "grid_template_rows": null,
            "right": null,
            "justify_content": null,
            "_view_module": "@jupyter-widgets/base",
            "overflow": null,
            "_model_module_version": "1.2.0",
            "_view_count": null,
            "flex_flow": null,
            "width": null,
            "min_width": null,
            "border": null,
            "align_items": null,
            "bottom": null,
            "_model_module": "@jupyter-widgets/base",
            "top": null,
            "grid_column": null,
            "overflow_y": null,
            "overflow_x": null,
            "grid_auto_flow": null,
            "grid_area": null,
            "grid_template_columns": null,
            "flex": null,
            "_model_name": "LayoutModel",
            "justify_items": null,
            "grid_row": null,
            "max_height": null,
            "align_content": null,
            "visibility": null,
            "align_self": null,
            "height": null,
            "min_height": null,
            "padding": null,
            "grid_auto_rows": null,
            "grid_gap": null,
            "max_width": null,
            "order": null,
            "_view_module_version": "1.2.0",
            "grid_template_areas": null,
            "object_position": null,
            "object_fit": null,
            "grid_auto_columns": null,
            "margin": null,
            "display": null,
            "left": null
          }
        },
        "3bf03f1bbd67408693cd6d44f1c594f2": {
          "model_module": "@jupyter-widgets/controls",
          "model_name": "LabelModel",
          "state": {
            "_view_name": "LabelView",
            "style": "IPY_MODEL_cf7288f768c24c2995cce98825a1e00e",
            "_dom_classes": [],
            "description": "",
            "_model_name": "LabelModel",
            "placeholder": "​",
            "_view_module": "@jupyter-widgets/controls",
            "_model_module_version": "1.5.0",
            "value": " 0.02MB of 0.02MB uploaded (0.00MB deduped)\r",
            "_view_count": null,
            "_view_module_version": "1.5.0",
            "description_tooltip": null,
            "_model_module": "@jupyter-widgets/controls",
            "layout": "IPY_MODEL_96ee2feaaa814bbc842fd531304ca107"
          }
        },
        "0130de16a00f46149eeb0ee1448526d8": {
          "model_module": "@jupyter-widgets/controls",
          "model_name": "FloatProgressModel",
          "state": {
            "_view_name": "ProgressView",
            "style": "IPY_MODEL_6cc0d783678c427e86912c4310e62be7",
            "_dom_classes": [],
            "description": "",
            "_model_name": "FloatProgressModel",
            "bar_style": "",
            "max": 1,
            "_view_module": "@jupyter-widgets/controls",
            "_model_module_version": "1.5.0",
            "value": 1,
            "_view_count": null,
            "_view_module_version": "1.5.0",
            "orientation": "horizontal",
            "min": 0,
            "description_tooltip": null,
            "_model_module": "@jupyter-widgets/controls",
            "layout": "IPY_MODEL_3d00aa7564144205bcf9482a994a6d61"
          }
        },
        "cf7288f768c24c2995cce98825a1e00e": {
          "model_module": "@jupyter-widgets/controls",
          "model_name": "DescriptionStyleModel",
          "state": {
            "_view_name": "StyleView",
            "_model_name": "DescriptionStyleModel",
            "description_width": "",
            "_view_module": "@jupyter-widgets/base",
            "_model_module_version": "1.5.0",
            "_view_count": null,
            "_view_module_version": "1.2.0",
            "_model_module": "@jupyter-widgets/controls"
          }
        },
        "96ee2feaaa814bbc842fd531304ca107": {
          "model_module": "@jupyter-widgets/base",
          "model_name": "LayoutModel",
          "state": {
            "_view_name": "LayoutView",
            "grid_template_rows": null,
            "right": null,
            "justify_content": null,
            "_view_module": "@jupyter-widgets/base",
            "overflow": null,
            "_model_module_version": "1.2.0",
            "_view_count": null,
            "flex_flow": null,
            "width": null,
            "min_width": null,
            "border": null,
            "align_items": null,
            "bottom": null,
            "_model_module": "@jupyter-widgets/base",
            "top": null,
            "grid_column": null,
            "overflow_y": null,
            "overflow_x": null,
            "grid_auto_flow": null,
            "grid_area": null,
            "grid_template_columns": null,
            "flex": null,
            "_model_name": "LayoutModel",
            "justify_items": null,
            "grid_row": null,
            "max_height": null,
            "align_content": null,
            "visibility": null,
            "align_self": null,
            "height": null,
            "min_height": null,
            "padding": null,
            "grid_auto_rows": null,
            "grid_gap": null,
            "max_width": null,
            "order": null,
            "_view_module_version": "1.2.0",
            "grid_template_areas": null,
            "object_position": null,
            "object_fit": null,
            "grid_auto_columns": null,
            "margin": null,
            "display": null,
            "left": null
          }
        },
        "6cc0d783678c427e86912c4310e62be7": {
          "model_module": "@jupyter-widgets/controls",
          "model_name": "ProgressStyleModel",
          "state": {
            "_view_name": "StyleView",
            "_model_name": "ProgressStyleModel",
            "description_width": "",
            "_view_module": "@jupyter-widgets/base",
            "_model_module_version": "1.5.0",
            "_view_count": null,
            "_view_module_version": "1.2.0",
            "bar_color": null,
            "_model_module": "@jupyter-widgets/controls"
          }
        },
        "3d00aa7564144205bcf9482a994a6d61": {
          "model_module": "@jupyter-widgets/base",
          "model_name": "LayoutModel",
          "state": {
            "_view_name": "LayoutView",
            "grid_template_rows": null,
            "right": null,
            "justify_content": null,
            "_view_module": "@jupyter-widgets/base",
            "overflow": null,
            "_model_module_version": "1.2.0",
            "_view_count": null,
            "flex_flow": null,
            "width": null,
            "min_width": null,
            "border": null,
            "align_items": null,
            "bottom": null,
            "_model_module": "@jupyter-widgets/base",
            "top": null,
            "grid_column": null,
            "overflow_y": null,
            "overflow_x": null,
            "grid_auto_flow": null,
            "grid_area": null,
            "grid_template_columns": null,
            "flex": null,
            "_model_name": "LayoutModel",
            "justify_items": null,
            "grid_row": null,
            "max_height": null,
            "align_content": null,
            "visibility": null,
            "align_self": null,
            "height": null,
            "min_height": null,
            "padding": null,
            "grid_auto_rows": null,
            "grid_gap": null,
            "max_width": null,
            "order": null,
            "_view_module_version": "1.2.0",
            "grid_template_areas": null,
            "object_position": null,
            "object_fit": null,
            "grid_auto_columns": null,
            "margin": null,
            "display": null,
            "left": null
          }
        }
      }
    }
  },
  "cells": [
    {
      "cell_type": "markdown",
      "metadata": {
        "id": "view-in-github",
        "colab_type": "text"
      },
      "source": [
        "<a href=\"https://colab.research.google.com/github/noallynoclan/colab/blob/master/201230_inception.ipynb\" target=\"_parent\"><img src=\"https://colab.research.google.com/assets/colab-badge.svg\" alt=\"Open In Colab\"/></a>"
      ]
    },
    {
      "cell_type": "code",
      "metadata": {
        "colab": {
          "base_uri": "https://localhost:8080/",
          "height": 35
        },
        "id": "KHbAG3wO8_oa",
        "outputId": "4672b594-8370-4036-9a9a-aa65d5611f68"
      },
      "source": [
        "! pip install torchsummary -q\r\n",
        "\r\n",
        "import numpy as np\r\n",
        "import torch\r\n",
        "import torch.nn as nn\r\n",
        "import torch.optim as optim\r\n",
        "import torch.nn.functional as F\r\n",
        "import torchvision.datasets as datasets\r\n",
        "import torchvision.transforms as transforms\r\n",
        "from datetime import datetime\r\n",
        "from matplotlib import pyplot as plt\r\n",
        "from time import time\r\n",
        "from torch.utils.data import DataLoader\r\n",
        "from torchsummary import summary\r\n",
        "\r\n",
        "torch.__version__"
      ],
      "execution_count": 18,
      "outputs": [
        {
          "output_type": "execute_result",
          "data": {
            "application/vnd.google.colaboratory.intrinsic+json": {
              "type": "string"
            },
            "text/plain": [
              "'1.7.0+cu101'"
            ]
          },
          "metadata": {
            "tags": []
          },
          "execution_count": 18
        }
      ]
    },
    {
      "cell_type": "code",
      "metadata": {
        "colab": {
          "base_uri": "https://localhost:8080/"
        },
        "id": "cb76mhsr9Q28",
        "outputId": "296b6263-0b9c-4c1a-dff9-66f7e4fb0cb8"
      },
      "source": [
        "device = torch.device('cuda' if torch.cuda.is_available() else 'cpu')\r\n",
        "print(device)"
      ],
      "execution_count": 3,
      "outputs": [
        {
          "output_type": "stream",
          "text": [
            "cpu\n"
          ],
          "name": "stdout"
        }
      ]
    },
    {
      "cell_type": "code",
      "metadata": {
        "colab": {
          "base_uri": "https://localhost:8080/",
          "height": 188
        },
        "id": "SD5evNF09WXU",
        "outputId": "9a031c9f-849b-416e-bf2c-19939015ed6b"
      },
      "source": [
        "! pip install wandb -qqq\r\n",
        "import wandb\r\n",
        "wandb.login()\r\n",
        "\r\n",
        "PROJECT = 'INCEPTION_{}'.format(datetime.now().strftime('%y%m%d'))\r\n",
        "PROJECT"
      ],
      "execution_count": 4,
      "outputs": [
        {
          "output_type": "stream",
          "text": [
            "\u001b[K     |████████████████████████████████| 1.8MB 9.1MB/s \n",
            "\u001b[K     |████████████████████████████████| 163kB 15.1MB/s \n",
            "\u001b[K     |████████████████████████████████| 102kB 10.9MB/s \n",
            "\u001b[K     |████████████████████████████████| 81kB 8.3MB/s \n",
            "\u001b[K     |████████████████████████████████| 133kB 22.8MB/s \n",
            "\u001b[K     |████████████████████████████████| 71kB 9.0MB/s \n",
            "\u001b[?25h  Building wheel for subprocess32 (setup.py) ... \u001b[?25l\u001b[?25hdone\n"
          ],
          "name": "stdout"
        },
        {
          "output_type": "display_data",
          "data": {
            "application/javascript": [
              "\n",
              "        window._wandbApiKey = new Promise((resolve, reject) => {\n",
              "            function loadScript(url) {\n",
              "            return new Promise(function(resolve, reject) {\n",
              "                let newScript = document.createElement(\"script\");\n",
              "                newScript.onerror = reject;\n",
              "                newScript.onload = resolve;\n",
              "                document.body.appendChild(newScript);\n",
              "                newScript.src = url;\n",
              "            });\n",
              "            }\n",
              "            loadScript(\"https://cdn.jsdelivr.net/npm/postmate/build/postmate.min.js\").then(() => {\n",
              "            const iframe = document.createElement('iframe')\n",
              "            iframe.style.cssText = \"width:0;height:0;border:none\"\n",
              "            document.body.appendChild(iframe)\n",
              "            const handshake = new Postmate({\n",
              "                container: iframe,\n",
              "                url: 'https://wandb.ai/authorize'\n",
              "            });\n",
              "            const timeout = setTimeout(() => reject(\"Couldn't auto authenticate\"), 5000)\n",
              "            handshake.then(function(child) {\n",
              "                child.on('authorize', data => {\n",
              "                    clearTimeout(timeout)\n",
              "                    resolve(data)\n",
              "                });\n",
              "            });\n",
              "            })\n",
              "        });\n",
              "    "
            ],
            "text/plain": [
              "<IPython.core.display.Javascript object>"
            ]
          },
          "metadata": {
            "tags": []
          }
        },
        {
          "output_type": "stream",
          "text": [
            "\u001b[34m\u001b[1mwandb\u001b[0m: Appending key for api.wandb.ai to your netrc file: /root/.netrc\n"
          ],
          "name": "stderr"
        },
        {
          "output_type": "execute_result",
          "data": {
            "application/vnd.google.colaboratory.intrinsic+json": {
              "type": "string"
            },
            "text/plain": [
              "'INCEPTION_201230'"
            ]
          },
          "metadata": {
            "tags": []
          },
          "execution_count": 4
        }
      ]
    },
    {
      "cell_type": "code",
      "metadata": {
        "colab": {
          "base_uri": "https://localhost:8080/",
          "height": 386,
          "referenced_widgets": [
            "ec28c4f6cf7743c8a726a9eb1a67f245",
            "4f17e2a716ef402b9ac4ea5aba9a1d16",
            "f2b97e036e624d738cd1e5b95cdc8046",
            "6def68ea559449318fe4002ecf51bcee",
            "76da9bdb0f8b41f3b49255b3d7dcc9d2",
            "aaff3db0f1e243a494213aa5f39c7f17",
            "d6ff48b4c9ce45c8ba40beb99f7e4810",
            "46f5f48566424de880429d7d4581c225",
            "edb874f6377c402293eb259442e16320",
            "07b8a0ea062f46bc9f6028949041bac5",
            "ff5fc68411154f5cb89502f274f3151b",
            "060a673406f148d18bc817b157e6b630",
            "78afc1d4802d4805b959e31a6817e127",
            "6d9769fe151e49e4a2fcdaccff895ca6",
            "5f660a4523d24200a23cf622efc30523",
            "566752b9533d4a48a30d515235b9a030",
            "d76d3d0da39b41f495bf98a318752ac9",
            "d1306ef3af564e3e96c753b962fd4285",
            "0e8ed0b1b5504dc3a5f946b863e31156",
            "ce053db8cd4d40cfa29e0174a884f365",
            "c3c098f151e344f3a0233683c308169d",
            "5711de5232334644bfe70dba5d45d587",
            "1b6d954b064d4cd9bb50640609ace84e",
            "2b7bf14a9eb34fab956df52afbe91f35",
            "e433cebdeffe4cd29cb62e16051f3c4c",
            "0d5807683335407189e59cf3f0c5ccdc",
            "db452cdb49a449369c1290d70d15b41e",
            "4d45af66f3bd41bf974d4dcd1478e6b3",
            "e6aa89de433847138a68845c0026dfff",
            "342b5562ffd54cc381575a78b91383bb",
            "6fa452bde7bf4f0eaa6ef557ad164408",
            "00a420067e7343f9a75157e2a1d5c405"
          ]
        },
        "id": "HElw_IbQJp8L",
        "outputId": "4d3a05e1-2e4c-425c-cf1e-cfdebed271b1"
      },
      "source": [
        "batch_size = 64\r\n",
        "\r\n",
        "train_dataset = datasets.MNIST(root='data/', train=True, transform=transforms.ToTensor(), download=True)\r\n",
        "train_loader = DataLoader(train_dataset, batch_size, shuffle=True)\r\n",
        "test_dataset = datasets.MNIST(root='data/', train=False, transform=transforms.ToTensor(), download=True)\r\n",
        "test_loader = DataLoader(test_dataset, batch_size, shuffle=True)"
      ],
      "execution_count": 134,
      "outputs": [
        {
          "output_type": "stream",
          "text": [
            "Downloading http://yann.lecun.com/exdb/mnist/train-images-idx3-ubyte.gz to data/MNIST/raw/train-images-idx3-ubyte.gz\n"
          ],
          "name": "stdout"
        },
        {
          "output_type": "display_data",
          "data": {
            "application/vnd.jupyter.widget-view+json": {
              "model_id": "ec28c4f6cf7743c8a726a9eb1a67f245",
              "version_minor": 0,
              "version_major": 2
            },
            "text/plain": [
              "HBox(children=(FloatProgress(value=1.0, bar_style='info', max=1.0), HTML(value='')))"
            ]
          },
          "metadata": {
            "tags": []
          }
        },
        {
          "output_type": "stream",
          "text": [
            "Extracting data/MNIST/raw/train-images-idx3-ubyte.gz to data/MNIST/raw\n",
            "Downloading http://yann.lecun.com/exdb/mnist/train-labels-idx1-ubyte.gz to data/MNIST/raw/train-labels-idx1-ubyte.gz\n",
            "\n"
          ],
          "name": "stdout"
        },
        {
          "output_type": "display_data",
          "data": {
            "application/vnd.jupyter.widget-view+json": {
              "model_id": "edb874f6377c402293eb259442e16320",
              "version_minor": 0,
              "version_major": 2
            },
            "text/plain": [
              "HBox(children=(FloatProgress(value=1.0, bar_style='info', max=1.0), HTML(value='')))"
            ]
          },
          "metadata": {
            "tags": []
          }
        },
        {
          "output_type": "stream",
          "text": [
            "Extracting data/MNIST/raw/train-labels-idx1-ubyte.gz to data/MNIST/raw\n",
            "Downloading http://yann.lecun.com/exdb/mnist/t10k-images-idx3-ubyte.gz to data/MNIST/raw/t10k-images-idx3-ubyte.gz\n"
          ],
          "name": "stdout"
        },
        {
          "output_type": "display_data",
          "data": {
            "application/vnd.jupyter.widget-view+json": {
              "model_id": "d76d3d0da39b41f495bf98a318752ac9",
              "version_minor": 0,
              "version_major": 2
            },
            "text/plain": [
              "HBox(children=(FloatProgress(value=1.0, bar_style='info', max=1.0), HTML(value='')))"
            ]
          },
          "metadata": {
            "tags": []
          }
        },
        {
          "output_type": "stream",
          "text": [
            "Extracting data/MNIST/raw/t10k-images-idx3-ubyte.gz to data/MNIST/raw\n",
            "Downloading http://yann.lecun.com/exdb/mnist/t10k-labels-idx1-ubyte.gz to data/MNIST/raw/t10k-labels-idx1-ubyte.gz\n"
          ],
          "name": "stdout"
        },
        {
          "output_type": "display_data",
          "data": {
            "application/vnd.jupyter.widget-view+json": {
              "model_id": "e433cebdeffe4cd29cb62e16051f3c4c",
              "version_minor": 0,
              "version_major": 2
            },
            "text/plain": [
              "HBox(children=(FloatProgress(value=1.0, bar_style='info', max=1.0), HTML(value='')))"
            ]
          },
          "metadata": {
            "tags": []
          }
        },
        {
          "output_type": "stream",
          "text": [
            "Extracting data/MNIST/raw/t10k-labels-idx1-ubyte.gz to data/MNIST/raw\n",
            "Processing...\n",
            "Done!\n"
          ],
          "name": "stdout"
        },
        {
          "output_type": "stream",
          "text": [
            "/usr/local/lib/python3.6/dist-packages/torchvision/datasets/mnist.py:480: UserWarning: The given NumPy array is not writeable, and PyTorch does not support non-writeable tensors. This means you can write to the underlying (supposedly non-writeable) NumPy array using the tensor. You may want to copy the array to protect its data or make it writeable before converting it to a tensor. This type of warning will be suppressed for the rest of this program. (Triggered internally at  /pytorch/torch/csrc/utils/tensor_numpy.cpp:141.)\n",
            "  return torch.from_numpy(parsed.astype(m[2], copy=False)).view(*s)\n"
          ],
          "name": "stderr"
        }
      ]
    },
    {
      "cell_type": "code",
      "metadata": {
        "id": "aSsJV69lJv-o"
      },
      "source": [
        "def accuracy(model, data_loader):\r\n",
        "    num_correct = 0\r\n",
        "    num_samples = 0\r\n",
        "    model.eval()\r\n",
        "    with torch.no_grad():\r\n",
        "        for batch_idx, (x, y) in enumerate(data_loader):\r\n",
        "            x, y = x.to(device), y.to(device)\r\n",
        "            y_pred = model(x).argmax(1)\r\n",
        "            num_correct += (y == y_pred).sum()\r\n",
        "            num_samples += y.size(0)\r\n",
        "    acc = num_correct / num_samples\r\n",
        "    return acc\r\n",
        "\r\n",
        "def train(run_name, model, data_loader, num_epochs=2, learning_rate=1e-3):\r\n",
        "    name = '{}_{}'.format(run_name, datetime.now().strftime('%H%M%S'))\r\n",
        "    wandb.init(project=PROJECT, name=name)\r\n",
        "    optimizer = optim.Adam(model.parameters(), lr=learning_rate)\r\n",
        "    loss_fun = nn.CrossEntropyLoss()\r\n",
        "    \r\n",
        "    for epoch in range(num_epochs):\r\n",
        "        model.train()\r\n",
        "        start_time = time()\r\n",
        "        for batch_idx, (x, y) in enumerate(data_loader):\r\n",
        "            x, y = x.to(device), y.to(device)\r\n",
        "            scores = model(x)\r\n",
        "            loss = loss_fun(scores, y)\r\n",
        "            optimizer.zero_grad()\r\n",
        "            loss.backward()\r\n",
        "            optimizer.step()\r\n",
        "            wandb.log({'loss': loss})\r\n",
        "        print(f'epoch {epoch}, {time() - start_time:.1f}s: {accuracy(model, data_loader):.1%}')"
      ],
      "execution_count": 136,
      "outputs": []
    },
    {
      "cell_type": "code",
      "metadata": {
        "id": "E8W3IbDF9YHl"
      },
      "source": [
        "class ConvBlock(nn.Module):\r\n",
        "    def __init__(self, in_channels, out_channels, **kwargs):\r\n",
        "        super(ConvBlock, self).__init__()\r\n",
        "        self.conv = nn.Conv2d(in_channels, out_channels, **kwargs)\r\n",
        "        self.batchnorm = nn.BatchNorm2d(out_channels)\r\n",
        "        self.relu = nn.ReLU()\r\n",
        "        \r\n",
        "    def forward(self, x): # [N, in_channels, *size]\r\n",
        "        x = self.conv(x) # [N, out_channels, *size]\r\n",
        "        x = self.batchnorm(x) # [N, ]\r\n",
        "        return self.relu(x)\r\n",
        "    \r\n",
        "class InceptionBlock(nn.Module):\r\n",
        "    def __init__(self, in_channels, out_1x1, red_3x3, out_3x3, red_5x5, out_5x5, out_1x1_pool):\r\n",
        "        super(InceptionBlock, self).__init__()\r\n",
        "        self.branch1 = ConvBlock(in_channels, out_1x1, kernel_size=1)\r\n",
        "        self.branch2 = nn.Sequential(\r\n",
        "            ConvBlock(in_channels, red_3x3, kernel_size=1),\r\n",
        "            ConvBlock(red_3x3, out_3x3, kernel_size=3, padding=1)\r\n",
        "        )\r\n",
        "        self.branch3 = nn.Sequential(\r\n",
        "            ConvBlock(in_channels, red_5x5, kernel_size=1),\r\n",
        "            ConvBlock(red_5x5, out_5x5, kernel_size=5, padding=2),\r\n",
        "        )\r\n",
        "        self.branch4 = nn.Sequential(\r\n",
        "            nn.MaxPool2d(kernel_size=3, stride=1, padding=1),\r\n",
        "            ConvBlock(in_channels, out_1x1_pool, kernel_size=1)\r\n",
        "        )\r\n",
        "        \r\n",
        "    def forward(self, x):\r\n",
        "        return torch.cat([self.branch1(x), self.branch2(x), self.branch3(x), self.branch4(x)], 1)\r\n",
        "    \r\n",
        "class GoogLeNet(nn.Module):\r\n",
        "    def __init__(self, in_channels=3, num_classes=10000):\r\n",
        "        super(GoogLeNet, self).__init__()\r\n",
        "        self.conv1 = ConvBlock(in_channels, 64, kernel_size=7, stride=2, padding=3)\r\n",
        "        self.maxpool1 = nn.MaxPool2d(kernel_size=3, stride=2, padding=1)\r\n",
        "        self.conv2 = ConvBlock(64, 192, kernel_size=3, padding=1)\r\n",
        "        self.maxpool2 = nn.MaxPool2d(kernel_size=3, stride=2, padding=1)\r\n",
        "        self.inception3a = InceptionBlock(192, 64, 96, 128, 16, 32, 32)\r\n",
        "        self.inception3b = InceptionBlock(256, 128, 128, 192, 32, 96, 64)\r\n",
        "        self.maxpool3 = nn.MaxPool2d(kernel_size=3, stride=2, padding=1)\r\n",
        "        self.inception4a = InceptionBlock(480, 192, 96, 208, 16, 48, 64)\r\n",
        "        self.inception4b = InceptionBlock(512, 160, 112, 224, 24, 64, 64)\r\n",
        "        self.inception4c = InceptionBlock(512, 128, 128, 256, 24, 64, 64)\r\n",
        "        self.inception4d = InceptionBlock(512, 112, 144, 288, 32, 64, 64)\r\n",
        "        self.inception4e = InceptionBlock(528, 256, 160, 320, 32, 128, 128)\r\n",
        "        self.maxpool4 = nn.MaxPool2d(kernel_size=3, stride=2, padding=1)\r\n",
        "        self.inception5a = InceptionBlock(832, 256, 160, 320, 32, 128, 128)\r\n",
        "        self.inception5b = InceptionBlock(832, 384, 192, 384, 48, 128, 128)\r\n",
        "        self.avgpool = nn.AvgPool2d(kernel_size=7)\r\n",
        "        self.dropout = nn.Dropout(p=0.4)\r\n",
        "        self.fc1 = nn.Linear(1024, num_classes)\r\n",
        "        self.to(device)\r\n",
        "        \r\n",
        "    def forward(self, x):\r\n",
        "        x = self.conv1(x)\r\n",
        "        x = self.maxpool1(x)\r\n",
        "        x = self.conv2(x)\r\n",
        "        x = self.maxpool2(x)\r\n",
        "        x = self.inception3a(x)\r\n",
        "        x = self.inception3b(x)\r\n",
        "        x = self.maxpool3(x)\r\n",
        "        x = self.inception4a(x)\r\n",
        "        x = self.inception4b(x)\r\n",
        "        x = self.inception4c(x)\r\n",
        "        x = self.inception4d(x)\r\n",
        "        x = self.inception4e(x)\r\n",
        "        x = self.maxpool4(x)\r\n",
        "        x = self.inception5a(x)\r\n",
        "        x = self.inception5b(x)\r\n",
        "        x = self.avgpool(x)\r\n",
        "        x = x.reshape(x.shape[0], -1)\r\n",
        "        x = self.dropout(x)\r\n",
        "        x = self.fc1(x)\r\n",
        "        return x"
      ],
      "execution_count": 5,
      "outputs": []
    },
    {
      "cell_type": "code",
      "metadata": {
        "colab": {
          "base_uri": "https://localhost:8080/",
          "height": 1000,
          "referenced_widgets": [
            "e51a3735467142d3a3d6ff28993c086a",
            "4d8b9b2e2545436181800f62f1527eed",
            "3bf03f1bbd67408693cd6d44f1c594f2",
            "0130de16a00f46149eeb0ee1448526d8",
            "cf7288f768c24c2995cce98825a1e00e",
            "96ee2feaaa814bbc842fd531304ca107",
            "6cc0d783678c427e86912c4310e62be7",
            "3d00aa7564144205bcf9482a994a6d61"
          ]
        },
        "id": "USEQfAtW9fl5",
        "outputId": "998b9399-ab35-460f-85e9-368b5efda7f5"
      },
      "source": [
        "class ConvBlock(nn.Module):\r\n",
        "    def __init__(self, in_channels, out_channels, kernel_size=3, stride=1, padding=0):\r\n",
        "        super(ConvBlock, self).__init__()\r\n",
        "        self.in_channels = in_channels\r\n",
        "        self.out_channels = out_channels\r\n",
        "        self.kernel_size = kernel_size\r\n",
        "        self.stride = stride\r\n",
        "        self.padding = padding\r\n",
        "        self.conv = nn.Conv2d(in_channels, out_channels, kernel_size, stride, padding)\r\n",
        "        self.batchnorm = nn.BatchNorm2d(out_channels)\r\n",
        "        self.relu = nn.ReLU()\r\n",
        "        \r\n",
        "    def forward(self, x):\r\n",
        "        return self.relu(self.batchnorm(self.conv(x)))\r\n",
        "\r\n",
        "    def get_shape(self, in_shape):\r\n",
        "        batches, in_channels, *size = in_shape\r\n",
        "        size = (np.array(size) + 2 * self.padding - self.kernel_size) // self.stride + 1\r\n",
        "        num_params = self.out_channels * (self.in_channels * self.kernel_size ** 2 + 3)\r\n",
        "        return [batches, self.out_channels, *size], num_params\r\n",
        "\r\n",
        "class InceptionBlock(nn.Module):\r\n",
        "    def __init__(self, in_channels, out_channels):\r\n",
        "        super(InceptionBlock, self).__init__()\r\n",
        "        self.in_channels = in_channels \r\n",
        "        self.out_channels = out_channels\r\n",
        "        self.branch1 = ConvBlock(in_channels, out_channels // 4, kernel_size=1) \r\n",
        "        self.branch2 = nn.Sequential(\r\n",
        "            ConvBlock(in_channels, out_channels // 2, kernel_size=1), \r\n",
        "            ConvBlock(out_channels // 2, out_channels // 2, kernel_size=3, padding=1) \r\n",
        "        )\r\n",
        "        self.branch3 = nn.Sequential(\r\n",
        "            ConvBlock(in_channels, out_channels // 16, kernel_size=1), \r\n",
        "            ConvBlock(out_channels // 16, out_channels // 8, kernel_size=5, padding=2), \r\n",
        "        )\r\n",
        "        self.branch4 = nn.Sequential(\r\n",
        "            nn.MaxPool2d(kernel_size=3, stride=1, padding=1),\r\n",
        "            ConvBlock(in_channels, out_channels // 8, kernel_size=1)\r\n",
        "        )\r\n",
        "        \r\n",
        "    def forward(self, x):\r\n",
        "        return torch.cat([self.branch1(x), self.branch2(x), self.branch3(x), self.branch4(x)], 1)\r\n",
        "\r\n",
        "    def get_shape(self, in_shape):\r\n",
        "        batches, in_channels, *size = in_shape\r\n",
        "        num_params = [\r\n",
        "            self.out_channels // 4 * (self.in_channels * 1 ** 2 + 3),\r\n",
        "            sum([\r\n",
        "                self.out_channels // 2 * (self.in_channels * 1 ** 2 + 3),\r\n",
        "                self.out_channels // 2 * (self.out_channels // 2 * 3 ** 2 + 3)\r\n",
        "            ]),\r\n",
        "            sum([\r\n",
        "                self.out_channels // 16 * (self.in_channels * 1 ** 2 + 3),\r\n",
        "                self.out_channels // 8 * (self.out_channels // 16 * 5 ** 2 + 3)\r\n",
        "            ]),\r\n",
        "            self.out_channels // 8 * (self.in_channels * 1 ** 2 + 3)\r\n",
        "        ]\r\n",
        "        return [batches, self.out_channels, *size], sum(num_params)\r\n",
        "\r\n",
        "class Inception(nn.Module):\r\n",
        "    def __init__(self, in_channels=3, num_classes=10):\r\n",
        "        super(Inception, self).__init__()\r\n",
        "        self.cnv_1 = ConvBlock(in_channels, 64, kernel_size=5, stride=1, padding=2)\r\n",
        "        self.pool = nn.MaxPool2d(kernel_size=3, stride=2, padding=1)\r\n",
        "        self.inc_1 = InceptionBlock(64, 32)\r\n",
        "        self.inc_2 = InceptionBlock(32, 32)\r\n",
        "        self.inc_3 = InceptionBlock(32, 64)\r\n",
        "        self.inc_4 = InceptionBlock(64, 64)\r\n",
        "        self.inc_5 = InceptionBlock(64, 128)\r\n",
        "        self.avgp = nn.AvgPool2d(kernel_size=4)\r\n",
        "        self.dout = nn.Dropout(p=0.4)\r\n",
        "        self.fc = nn.Linear(128, num_classes)\r\n",
        "        self.to(device)\r\n",
        "\r\n",
        "    def forward(self, x):\r\n",
        "        x = self.cnv_1(x)\r\n",
        "        x = self.pool(x)\r\n",
        "        x = self.inc_1(x)\r\n",
        "        x = self.inc_2(x)\r\n",
        "        x = self.pool(x)\r\n",
        "        x = self.inc_3(x)\r\n",
        "        x = self.inc_4(x)\r\n",
        "        x = self.pool(x)\r\n",
        "        x = self.inc_5(x)\r\n",
        "        x = self.avgp(x)\r\n",
        "        x = x.reshape(x.shape[0], -1)\r\n",
        "        x = self.dout(x)\r\n",
        "        x = self.fc(x)\r\n",
        "        return x\r\n",
        "\r\n",
        "model =  Inception(1, 10)\r\n",
        "summary(model, (1, 28, 28))\r\n",
        "train('TinyInception', model, train_loader)\r\n",
        "print(f'test: {accuracy(model, test_loader):.1%}')"
      ],
      "execution_count": null,
      "outputs": [
        {
          "output_type": "stream",
          "text": [
            "----------------------------------------------------------------\n",
            "        Layer (type)               Output Shape         Param #\n",
            "================================================================\n",
            "            Conv2d-1           [-1, 64, 28, 28]           1,664\n",
            "       BatchNorm2d-2           [-1, 64, 28, 28]             128\n",
            "              ReLU-3           [-1, 64, 28, 28]               0\n",
            "         ConvBlock-4           [-1, 64, 28, 28]               0\n",
            "         MaxPool2d-5           [-1, 64, 14, 14]               0\n",
            "            Conv2d-6            [-1, 8, 14, 14]             520\n",
            "       BatchNorm2d-7            [-1, 8, 14, 14]              16\n",
            "              ReLU-8            [-1, 8, 14, 14]               0\n",
            "         ConvBlock-9            [-1, 8, 14, 14]               0\n",
            "           Conv2d-10           [-1, 16, 14, 14]           1,040\n",
            "      BatchNorm2d-11           [-1, 16, 14, 14]              32\n",
            "             ReLU-12           [-1, 16, 14, 14]               0\n",
            "        ConvBlock-13           [-1, 16, 14, 14]               0\n",
            "           Conv2d-14           [-1, 16, 14, 14]           2,320\n",
            "      BatchNorm2d-15           [-1, 16, 14, 14]              32\n",
            "             ReLU-16           [-1, 16, 14, 14]               0\n",
            "        ConvBlock-17           [-1, 16, 14, 14]               0\n",
            "           Conv2d-18            [-1, 2, 14, 14]             130\n",
            "      BatchNorm2d-19            [-1, 2, 14, 14]               4\n",
            "             ReLU-20            [-1, 2, 14, 14]               0\n",
            "        ConvBlock-21            [-1, 2, 14, 14]               0\n",
            "           Conv2d-22            [-1, 4, 14, 14]             204\n",
            "      BatchNorm2d-23            [-1, 4, 14, 14]               8\n",
            "             ReLU-24            [-1, 4, 14, 14]               0\n",
            "        ConvBlock-25            [-1, 4, 14, 14]               0\n",
            "        MaxPool2d-26           [-1, 64, 14, 14]               0\n",
            "           Conv2d-27            [-1, 4, 14, 14]             260\n",
            "      BatchNorm2d-28            [-1, 4, 14, 14]               8\n",
            "             ReLU-29            [-1, 4, 14, 14]               0\n",
            "        ConvBlock-30            [-1, 4, 14, 14]               0\n",
            "   InceptionBlock-31           [-1, 32, 14, 14]               0\n",
            "           Conv2d-32            [-1, 8, 14, 14]             264\n",
            "      BatchNorm2d-33            [-1, 8, 14, 14]              16\n",
            "             ReLU-34            [-1, 8, 14, 14]               0\n",
            "        ConvBlock-35            [-1, 8, 14, 14]               0\n",
            "           Conv2d-36           [-1, 16, 14, 14]             528\n",
            "      BatchNorm2d-37           [-1, 16, 14, 14]              32\n",
            "             ReLU-38           [-1, 16, 14, 14]               0\n",
            "        ConvBlock-39           [-1, 16, 14, 14]               0\n",
            "           Conv2d-40           [-1, 16, 14, 14]           2,320\n",
            "      BatchNorm2d-41           [-1, 16, 14, 14]              32\n",
            "             ReLU-42           [-1, 16, 14, 14]               0\n",
            "        ConvBlock-43           [-1, 16, 14, 14]               0\n",
            "           Conv2d-44            [-1, 2, 14, 14]              66\n",
            "      BatchNorm2d-45            [-1, 2, 14, 14]               4\n",
            "             ReLU-46            [-1, 2, 14, 14]               0\n",
            "        ConvBlock-47            [-1, 2, 14, 14]               0\n",
            "           Conv2d-48            [-1, 4, 14, 14]             204\n",
            "      BatchNorm2d-49            [-1, 4, 14, 14]               8\n",
            "             ReLU-50            [-1, 4, 14, 14]               0\n",
            "        ConvBlock-51            [-1, 4, 14, 14]               0\n",
            "        MaxPool2d-52           [-1, 32, 14, 14]               0\n",
            "           Conv2d-53            [-1, 4, 14, 14]             132\n",
            "      BatchNorm2d-54            [-1, 4, 14, 14]               8\n",
            "             ReLU-55            [-1, 4, 14, 14]               0\n",
            "        ConvBlock-56            [-1, 4, 14, 14]               0\n",
            "   InceptionBlock-57           [-1, 32, 14, 14]               0\n",
            "        MaxPool2d-58             [-1, 32, 7, 7]               0\n",
            "           Conv2d-59             [-1, 16, 7, 7]             528\n",
            "      BatchNorm2d-60             [-1, 16, 7, 7]              32\n",
            "             ReLU-61             [-1, 16, 7, 7]               0\n",
            "        ConvBlock-62             [-1, 16, 7, 7]               0\n",
            "           Conv2d-63             [-1, 32, 7, 7]           1,056\n",
            "      BatchNorm2d-64             [-1, 32, 7, 7]              64\n",
            "             ReLU-65             [-1, 32, 7, 7]               0\n",
            "        ConvBlock-66             [-1, 32, 7, 7]               0\n",
            "           Conv2d-67             [-1, 32, 7, 7]           9,248\n",
            "      BatchNorm2d-68             [-1, 32, 7, 7]              64\n",
            "             ReLU-69             [-1, 32, 7, 7]               0\n",
            "        ConvBlock-70             [-1, 32, 7, 7]               0\n",
            "           Conv2d-71              [-1, 4, 7, 7]             132\n",
            "      BatchNorm2d-72              [-1, 4, 7, 7]               8\n",
            "             ReLU-73              [-1, 4, 7, 7]               0\n",
            "        ConvBlock-74              [-1, 4, 7, 7]               0\n",
            "           Conv2d-75              [-1, 8, 7, 7]             808\n",
            "      BatchNorm2d-76              [-1, 8, 7, 7]              16\n",
            "             ReLU-77              [-1, 8, 7, 7]               0\n",
            "        ConvBlock-78              [-1, 8, 7, 7]               0\n",
            "        MaxPool2d-79             [-1, 32, 7, 7]               0\n",
            "           Conv2d-80              [-1, 8, 7, 7]             264\n",
            "      BatchNorm2d-81              [-1, 8, 7, 7]              16\n",
            "             ReLU-82              [-1, 8, 7, 7]               0\n",
            "        ConvBlock-83              [-1, 8, 7, 7]               0\n",
            "   InceptionBlock-84             [-1, 64, 7, 7]               0\n",
            "           Conv2d-85             [-1, 16, 7, 7]           1,040\n",
            "      BatchNorm2d-86             [-1, 16, 7, 7]              32\n",
            "             ReLU-87             [-1, 16, 7, 7]               0\n",
            "        ConvBlock-88             [-1, 16, 7, 7]               0\n",
            "           Conv2d-89             [-1, 32, 7, 7]           2,080\n",
            "      BatchNorm2d-90             [-1, 32, 7, 7]              64\n",
            "             ReLU-91             [-1, 32, 7, 7]               0\n",
            "        ConvBlock-92             [-1, 32, 7, 7]               0\n",
            "           Conv2d-93             [-1, 32, 7, 7]           9,248\n",
            "      BatchNorm2d-94             [-1, 32, 7, 7]              64\n",
            "             ReLU-95             [-1, 32, 7, 7]               0\n",
            "        ConvBlock-96             [-1, 32, 7, 7]               0\n",
            "           Conv2d-97              [-1, 4, 7, 7]             260\n",
            "      BatchNorm2d-98              [-1, 4, 7, 7]               8\n",
            "             ReLU-99              [-1, 4, 7, 7]               0\n",
            "       ConvBlock-100              [-1, 4, 7, 7]               0\n",
            "          Conv2d-101              [-1, 8, 7, 7]             808\n",
            "     BatchNorm2d-102              [-1, 8, 7, 7]              16\n",
            "            ReLU-103              [-1, 8, 7, 7]               0\n",
            "       ConvBlock-104              [-1, 8, 7, 7]               0\n",
            "       MaxPool2d-105             [-1, 64, 7, 7]               0\n",
            "          Conv2d-106              [-1, 8, 7, 7]             520\n",
            "     BatchNorm2d-107              [-1, 8, 7, 7]              16\n",
            "            ReLU-108              [-1, 8, 7, 7]               0\n",
            "       ConvBlock-109              [-1, 8, 7, 7]               0\n",
            "  InceptionBlock-110             [-1, 64, 7, 7]               0\n",
            "       MaxPool2d-111             [-1, 64, 4, 4]               0\n",
            "          Conv2d-112             [-1, 32, 4, 4]           2,080\n",
            "     BatchNorm2d-113             [-1, 32, 4, 4]              64\n",
            "            ReLU-114             [-1, 32, 4, 4]               0\n",
            "       ConvBlock-115             [-1, 32, 4, 4]               0\n",
            "          Conv2d-116             [-1, 64, 4, 4]           4,160\n",
            "     BatchNorm2d-117             [-1, 64, 4, 4]             128\n",
            "            ReLU-118             [-1, 64, 4, 4]               0\n",
            "       ConvBlock-119             [-1, 64, 4, 4]               0\n",
            "          Conv2d-120             [-1, 64, 4, 4]          36,928\n",
            "     BatchNorm2d-121             [-1, 64, 4, 4]             128\n",
            "            ReLU-122             [-1, 64, 4, 4]               0\n",
            "       ConvBlock-123             [-1, 64, 4, 4]               0\n",
            "          Conv2d-124              [-1, 8, 4, 4]             520\n",
            "     BatchNorm2d-125              [-1, 8, 4, 4]              16\n",
            "            ReLU-126              [-1, 8, 4, 4]               0\n",
            "       ConvBlock-127              [-1, 8, 4, 4]               0\n",
            "          Conv2d-128             [-1, 16, 4, 4]           3,216\n",
            "     BatchNorm2d-129             [-1, 16, 4, 4]              32\n",
            "            ReLU-130             [-1, 16, 4, 4]               0\n",
            "       ConvBlock-131             [-1, 16, 4, 4]               0\n",
            "       MaxPool2d-132             [-1, 64, 4, 4]               0\n",
            "          Conv2d-133             [-1, 16, 4, 4]           1,040\n",
            "     BatchNorm2d-134             [-1, 16, 4, 4]              32\n",
            "            ReLU-135             [-1, 16, 4, 4]               0\n",
            "       ConvBlock-136             [-1, 16, 4, 4]               0\n",
            "  InceptionBlock-137            [-1, 128, 4, 4]               0\n",
            "       AvgPool2d-138            [-1, 128, 1, 1]               0\n",
            "         Dropout-139                  [-1, 128]               0\n",
            "          Linear-140                   [-1, 10]           1,290\n",
            "================================================================\n",
            "Total params: 86,006\n",
            "Trainable params: 86,006\n",
            "Non-trainable params: 0\n",
            "----------------------------------------------------------------\n",
            "Input size (MB): 0.00\n",
            "Forward/backward pass size (MB): 2.99\n",
            "Params size (MB): 0.33\n",
            "Estimated Total Size (MB): 3.32\n",
            "----------------------------------------------------------------\n"
          ],
          "name": "stdout"
        },
        {
          "output_type": "display_data",
          "data": {
            "text/html": [
              "Finishing last run (ID:3s3qeujz) before initializing another..."
            ],
            "text/plain": [
              "<IPython.core.display.HTML object>"
            ]
          },
          "metadata": {
            "tags": []
          }
        },
        {
          "output_type": "display_data",
          "data": {
            "text/html": [
              "<br/>Waiting for W&B process to finish, PID 2911<br/>Program ended successfully."
            ],
            "text/plain": [
              "<IPython.core.display.HTML object>"
            ]
          },
          "metadata": {
            "tags": []
          }
        },
        {
          "output_type": "display_data",
          "data": {
            "application/vnd.jupyter.widget-view+json": {
              "model_id": "e51a3735467142d3a3d6ff28993c086a",
              "version_minor": 0,
              "version_major": 2
            },
            "text/plain": [
              "VBox(children=(Label(value=' 0.00MB of 0.00MB uploaded (0.00MB deduped)\\r'), FloatProgress(value=1.0, max=1.0)…"
            ]
          },
          "metadata": {
            "tags": []
          }
        },
        {
          "output_type": "display_data",
          "data": {
            "text/html": [
              "Find user logs for this run at: <code>/content/wandb/run-20201231_002541-3s3qeujz/logs/debug.log</code>"
            ],
            "text/plain": [
              "<IPython.core.display.HTML object>"
            ]
          },
          "metadata": {
            "tags": []
          }
        },
        {
          "output_type": "display_data",
          "data": {
            "text/html": [
              "Find internal logs for this run at: <code>/content/wandb/run-20201231_002541-3s3qeujz/logs/debug-internal.log</code>"
            ],
            "text/plain": [
              "<IPython.core.display.HTML object>"
            ]
          },
          "metadata": {
            "tags": []
          }
        },
        {
          "output_type": "display_data",
          "data": {
            "text/html": [
              "<h3>Run summary:</h3><br/><style>\n",
              "    table.wandb td:nth-child(1) { padding: 0 10px; text-align: right }\n",
              "    </style><table class=\"wandb\">\n",
              "<tr><td>loss</td><td>3.20358</td></tr><tr><td>_step</td><td>495</td></tr><tr><td>_runtime</td><td>148</td></tr><tr><td>_timestamp</td><td>1609374493</td></tr></table>"
            ],
            "text/plain": [
              "<IPython.core.display.HTML object>"
            ]
          },
          "metadata": {
            "tags": []
          }
        },
        {
          "output_type": "display_data",
          "data": {
            "text/html": [
              "<h3>Run history:</h3><br/><style>\n",
              "    table.wandb td:nth-child(1) { padding: 0 10px; text-align: right }\n",
              "    </style><table class=\"wandb\">\n",
              "<tr><td>loss</td><td>█▇▆▅▅▅▄▃▄▄▅▄▄▄▃▄▄▄▄▄▂▃▃▃▂▂▃▄▂▃▃▃▃▃▃▃▃▂▁▃</td></tr><tr><td>_step</td><td>▁▁▁▂▂▂▂▂▂▃▃▃▃▃▄▄▄▄▄▄▅▅▅▅▅▅▆▆▆▆▆▇▇▇▇▇▇███</td></tr><tr><td>_runtime</td><td>▁▁▁▁▂▂▂▂▂▃▃▃▃▃▃▄▄▄▄▄▅▅▅▅▅▅▆▆▆▆▆▇▇▇▇▇▇███</td></tr><tr><td>_timestamp</td><td>▁▁▁▁▂▂▂▂▂▃▃▃▃▃▃▄▄▄▄▄▅▅▅▅▅▅▆▆▆▆▆▇▇▇▇▇▇███</td></tr></table><br/>"
            ],
            "text/plain": [
              "<IPython.core.display.HTML object>"
            ]
          },
          "metadata": {
            "tags": []
          }
        },
        {
          "output_type": "display_data",
          "data": {
            "text/html": [
              "Synced 5 W&B file(s), 0 media file(s), 0 artifact file(s) and 0 other file(s)"
            ],
            "text/plain": [
              "<IPython.core.display.HTML object>"
            ]
          },
          "metadata": {
            "tags": []
          }
        },
        {
          "output_type": "display_data",
          "data": {
            "text/html": [
              "\n",
              "                    <br/>Synced <strong style=\"color:#cdcd00\">TinyInception_002541</strong>: <a href=\"https://wandb.ai/wegoplaces/INCEPTION_201230/runs/3s3qeujz\" target=\"_blank\">https://wandb.ai/wegoplaces/INCEPTION_201230/runs/3s3qeujz</a><br/>\n",
              "                "
            ],
            "text/plain": [
              "<IPython.core.display.HTML object>"
            ]
          },
          "metadata": {
            "tags": []
          }
        },
        {
          "output_type": "display_data",
          "data": {
            "text/html": [
              "...Successfully finished last run (ID:3s3qeujz). Initializing new run:<br/><br/>"
            ],
            "text/plain": [
              "<IPython.core.display.HTML object>"
            ]
          },
          "metadata": {
            "tags": []
          }
        },
        {
          "output_type": "display_data",
          "data": {
            "text/html": [
              "\n",
              "                Tracking run with wandb version 0.10.12<br/>\n",
              "                Syncing run <strong style=\"color:#cdcd00\">TinyInception_002923</strong> to <a href=\"https://wandb.ai\" target=\"_blank\">Weights & Biases</a> <a href=\"https://docs.wandb.com/integrations/jupyter.html\" target=\"_blank\">(Documentation)</a>.<br/>\n",
              "                Project page: <a href=\"https://wandb.ai/wegoplaces/INCEPTION_201230\" target=\"_blank\">https://wandb.ai/wegoplaces/INCEPTION_201230</a><br/>\n",
              "                Run page: <a href=\"https://wandb.ai/wegoplaces/INCEPTION_201230/runs/35y3egpi\" target=\"_blank\">https://wandb.ai/wegoplaces/INCEPTION_201230/runs/35y3egpi</a><br/>\n",
              "                Run data is saved locally in <code>/content/wandb/run-20201231_002923-35y3egpi</code><br/><br/>\n",
              "            "
            ],
            "text/plain": [
              "<IPython.core.display.HTML object>"
            ]
          },
          "metadata": {
            "tags": []
          }
        }
      ]
    },
    {
      "cell_type": "code",
      "metadata": {
        "colab": {
          "base_uri": "https://localhost:8080/"
        },
        "id": "VA1QV816R9BY",
        "outputId": "67a2e354-20e2-4b4a-8854-7320c947bf28"
      },
      "source": [
        "x = torch.randn(3, 3, 28, 28)\r\n",
        "sum([x.numel() for x in m.parameters()])"
      ],
      "execution_count": 91,
      "outputs": [
        {
          "output_type": "execute_result",
          "data": {
            "text/plain": [
              "10496"
            ]
          },
          "metadata": {
            "tags": []
          },
          "execution_count": 91
        }
      ]
    },
    {
      "cell_type": "code",
      "metadata": {
        "colab": {
          "base_uri": "https://localhost:8080/"
        },
        "id": "xc0PFGQyR-lF",
        "outputId": "96692207-55cb-4fdc-ca35-2700c6971634"
      },
      "source": [
        "sum([96, 9504, 848, 48])"
      ],
      "execution_count": 92,
      "outputs": [
        {
          "output_type": "execute_result",
          "data": {
            "text/plain": [
              "10496"
            ]
          },
          "metadata": {
            "tags": []
          },
          "execution_count": 92
        }
      ]
    },
    {
      "cell_type": "code",
      "metadata": {
        "colab": {
          "base_uri": "https://localhost:8080/"
        },
        "id": "BDp0h_pYBsRI",
        "outputId": "e20cae8a-edb5-4a60-9724-08d99012c80c"
      },
      "source": [
        "class ConvBlock(nn.Module):\r\n",
        "    def __init__(self, in_channels, out_channels, **kwargs):\r\n",
        "        super(ConvBlock, self).__init__()\r\n",
        "        self.relu = nn.ReLU()\r\n",
        "        self.conv = nn.Conv2d(in_channels, out_channels, **kwargs)\r\n",
        "        self.batchnorm = nn.BatchNorm2d(out_channels)\r\n",
        "        \r\n",
        "    def forward(self, x):\r\n",
        "        return self.relu(self.batchnorm(self.conv(x)))\r\n",
        "    \r\n",
        "class InceptionBlock(nn.Module):\r\n",
        "    def __init__(self, in_channels, out_1x1, red_3x3, out_3x3, red_5x5, out_5x5, out_1x1_pool):\r\n",
        "        super(InceptionBlock, self).__init__()\r\n",
        "        self.branch1 = ConvBlock(in_channels, out_1x1, kernel_size=1)\r\n",
        "        self.branch2 = nn.Sequential(\r\n",
        "            ConvBlock(in_channels, red_3x3, kernel_size=1),\r\n",
        "            ConvBlock(red_3x3, out_3x3, kernel_size=3, padding=1)\r\n",
        "        )\r\n",
        "        self.branch3 = nn.Sequential(\r\n",
        "            ConvBlock(in_channels, red_5x5, kernel_size=1),\r\n",
        "            ConvBlock(red_5x5, out_5x5, kernel_size=5, padding=2),\r\n",
        "        )\r\n",
        "        self.branch4 = nn.Sequential(\r\n",
        "            nn.MaxPool2d(kernel_size=3, stride=1, padding=1),\r\n",
        "            ConvBlock(in_channels, out_1x1_pool, kernel_size=1)\r\n",
        "        )\r\n",
        "        \r\n",
        "    def forward(self, x):\r\n",
        "        return torch.cat([self.branch1(x), self.branch2(x), self.branch3(x), self.branch4(x)], 1)\r\n",
        "    \r\n",
        "class GoogLeNet(nn.Module):\r\n",
        "    def __init__(self, in_channels=3, num_classes=10000):\r\n",
        "        super(GoogLeNet, self).__init__()\r\n",
        "        self.conv1 = ConvBlock(in_channels, 64, kernel_size=7, stride=2, padding=3)\r\n",
        "        self.maxpool1 = nn.MaxPool2d(kernel_size=3, stride=2, padding=1)\r\n",
        "        self.conv2 = ConvBlock(64, 192, kernel_size=3, padding=1)\r\n",
        "        self.maxpool2 = nn.MaxPool2d(kernel_size=3, stride=2, padding=1)\r\n",
        "        self.inception3a = InceptionBlock(192, 64, 96, 128, 16, 32, 32)\r\n",
        "        self.inception3b = InceptionBlock(256, 128, 128, 192, 32, 96, 64)\r\n",
        "        self.maxpool3 = nn.MaxPool2d(kernel_size=3, stride=2, padding=1)\r\n",
        "        self.inception4a = InceptionBlock(480, 192, 96, 208, 16, 48, 64)\r\n",
        "        self.inception4b = InceptionBlock(512, 160, 112, 224, 24, 64, 64)\r\n",
        "        self.inception4c = InceptionBlock(512, 128, 128, 256, 24, 64, 64)\r\n",
        "        self.inception4d = InceptionBlock(512, 112, 144, 288, 32, 64, 64)\r\n",
        "        self.inception4e = InceptionBlock(528, 256, 160, 320, 32, 128, 128)\r\n",
        "        self.maxpool4 = nn.MaxPool2d(kernel_size=3, stride=2, padding=1)\r\n",
        "        self.inception5a = InceptionBlock(832, 256, 160, 320, 32, 128, 128)\r\n",
        "        self.inception5b = InceptionBlock(832, 384, 192, 384, 48, 128, 128)\r\n",
        "        self.avgpool = nn.AvgPool2d(kernel_size=7)\r\n",
        "        self.dropout = nn.Dropout(p=0.4)\r\n",
        "        self.fc1 = nn.Linear(1024, num_classes)\r\n",
        "        self.to(device)\r\n",
        "        \r\n",
        "    def forward(self, x):\r\n",
        "        x = self.conv1(x)\r\n",
        "        x = self.maxpool1(x)\r\n",
        "        x = self.conv2(x)\r\n",
        "        x = self.maxpool2(x)\r\n",
        "        x = self.inception3a(x)\r\n",
        "        x = self.inception3b(x)\r\n",
        "        x = self.maxpool3(x)\r\n",
        "        x = self.inception4a(x)\r\n",
        "        x = self.inception4b(x)\r\n",
        "        x = self.inception4c(x)\r\n",
        "        x = self.inception4d(x)\r\n",
        "        x = self.inception4e(x)\r\n",
        "        x = self.maxpool4(x)\r\n",
        "        x = self.inception5a(x)\r\n",
        "        x = self.inception5b(x)\r\n",
        "        x = self.avgpool(x)\r\n",
        "        x = x.reshape(x.shape[0], -1)\r\n",
        "        x = self.dropout(x)\r\n",
        "        x = self.fc1(x)\r\n",
        "        return x\r\n",
        "        \r\n",
        "if __name__ == '__main__':\r\n",
        "    x = torch.randn(3, 3, 224, 224).to(device)\r\n",
        "    model = GoogLeNet()\r\n",
        "    print(model(x).shape)\r\n",
        "    summary(model, (3, 224, 224))"
      ],
      "execution_count": 122,
      "outputs": [
        {
          "output_type": "stream",
          "text": [
            "torch.Size([3, 10000])\n",
            "----------------------------------------------------------------\n",
            "        Layer (type)               Output Shape         Param #\n",
            "================================================================\n",
            "            Conv2d-1         [-1, 64, 112, 112]           9,472\n",
            "       BatchNorm2d-2         [-1, 64, 112, 112]             128\n",
            "              ReLU-3         [-1, 64, 112, 112]               0\n",
            "         ConvBlock-4         [-1, 64, 112, 112]               0\n",
            "         MaxPool2d-5           [-1, 64, 56, 56]               0\n",
            "            Conv2d-6          [-1, 192, 56, 56]         110,784\n",
            "       BatchNorm2d-7          [-1, 192, 56, 56]             384\n",
            "              ReLU-8          [-1, 192, 56, 56]               0\n",
            "         ConvBlock-9          [-1, 192, 56, 56]               0\n",
            "        MaxPool2d-10          [-1, 192, 28, 28]               0\n",
            "           Conv2d-11           [-1, 64, 28, 28]          12,352\n",
            "      BatchNorm2d-12           [-1, 64, 28, 28]             128\n",
            "             ReLU-13           [-1, 64, 28, 28]               0\n",
            "        ConvBlock-14           [-1, 64, 28, 28]               0\n",
            "           Conv2d-15           [-1, 96, 28, 28]          18,528\n",
            "      BatchNorm2d-16           [-1, 96, 28, 28]             192\n",
            "             ReLU-17           [-1, 96, 28, 28]               0\n",
            "        ConvBlock-18           [-1, 96, 28, 28]               0\n",
            "           Conv2d-19          [-1, 128, 28, 28]         110,720\n",
            "      BatchNorm2d-20          [-1, 128, 28, 28]             256\n",
            "             ReLU-21          [-1, 128, 28, 28]               0\n",
            "        ConvBlock-22          [-1, 128, 28, 28]               0\n",
            "           Conv2d-23           [-1, 16, 28, 28]           3,088\n",
            "      BatchNorm2d-24           [-1, 16, 28, 28]              32\n",
            "             ReLU-25           [-1, 16, 28, 28]               0\n",
            "        ConvBlock-26           [-1, 16, 28, 28]               0\n",
            "           Conv2d-27           [-1, 32, 28, 28]          12,832\n",
            "      BatchNorm2d-28           [-1, 32, 28, 28]              64\n",
            "             ReLU-29           [-1, 32, 28, 28]               0\n",
            "        ConvBlock-30           [-1, 32, 28, 28]               0\n",
            "        MaxPool2d-31          [-1, 192, 28, 28]               0\n",
            "           Conv2d-32           [-1, 32, 28, 28]           6,176\n",
            "      BatchNorm2d-33           [-1, 32, 28, 28]              64\n",
            "             ReLU-34           [-1, 32, 28, 28]               0\n",
            "        ConvBlock-35           [-1, 32, 28, 28]               0\n",
            "   InceptionBlock-36          [-1, 256, 28, 28]               0\n",
            "           Conv2d-37          [-1, 128, 28, 28]          32,896\n",
            "      BatchNorm2d-38          [-1, 128, 28, 28]             256\n",
            "             ReLU-39          [-1, 128, 28, 28]               0\n",
            "        ConvBlock-40          [-1, 128, 28, 28]               0\n",
            "           Conv2d-41          [-1, 128, 28, 28]          32,896\n",
            "      BatchNorm2d-42          [-1, 128, 28, 28]             256\n",
            "             ReLU-43          [-1, 128, 28, 28]               0\n",
            "        ConvBlock-44          [-1, 128, 28, 28]               0\n",
            "           Conv2d-45          [-1, 192, 28, 28]         221,376\n",
            "      BatchNorm2d-46          [-1, 192, 28, 28]             384\n",
            "             ReLU-47          [-1, 192, 28, 28]               0\n",
            "        ConvBlock-48          [-1, 192, 28, 28]               0\n",
            "           Conv2d-49           [-1, 32, 28, 28]           8,224\n",
            "      BatchNorm2d-50           [-1, 32, 28, 28]              64\n",
            "             ReLU-51           [-1, 32, 28, 28]               0\n",
            "        ConvBlock-52           [-1, 32, 28, 28]               0\n",
            "           Conv2d-53           [-1, 96, 28, 28]          76,896\n",
            "      BatchNorm2d-54           [-1, 96, 28, 28]             192\n",
            "             ReLU-55           [-1, 96, 28, 28]               0\n",
            "        ConvBlock-56           [-1, 96, 28, 28]               0\n",
            "        MaxPool2d-57          [-1, 256, 28, 28]               0\n",
            "           Conv2d-58           [-1, 64, 28, 28]          16,448\n",
            "      BatchNorm2d-59           [-1, 64, 28, 28]             128\n",
            "             ReLU-60           [-1, 64, 28, 28]               0\n",
            "        ConvBlock-61           [-1, 64, 28, 28]               0\n",
            "   InceptionBlock-62          [-1, 480, 28, 28]               0\n",
            "        MaxPool2d-63          [-1, 480, 14, 14]               0\n",
            "           Conv2d-64          [-1, 192, 14, 14]          92,352\n",
            "      BatchNorm2d-65          [-1, 192, 14, 14]             384\n",
            "             ReLU-66          [-1, 192, 14, 14]               0\n",
            "        ConvBlock-67          [-1, 192, 14, 14]               0\n",
            "           Conv2d-68           [-1, 96, 14, 14]          46,176\n",
            "      BatchNorm2d-69           [-1, 96, 14, 14]             192\n",
            "             ReLU-70           [-1, 96, 14, 14]               0\n",
            "        ConvBlock-71           [-1, 96, 14, 14]               0\n",
            "           Conv2d-72          [-1, 208, 14, 14]         179,920\n",
            "      BatchNorm2d-73          [-1, 208, 14, 14]             416\n",
            "             ReLU-74          [-1, 208, 14, 14]               0\n",
            "        ConvBlock-75          [-1, 208, 14, 14]               0\n",
            "           Conv2d-76           [-1, 16, 14, 14]           7,696\n",
            "      BatchNorm2d-77           [-1, 16, 14, 14]              32\n",
            "             ReLU-78           [-1, 16, 14, 14]               0\n",
            "        ConvBlock-79           [-1, 16, 14, 14]               0\n",
            "           Conv2d-80           [-1, 48, 14, 14]          19,248\n",
            "      BatchNorm2d-81           [-1, 48, 14, 14]              96\n",
            "             ReLU-82           [-1, 48, 14, 14]               0\n",
            "        ConvBlock-83           [-1, 48, 14, 14]               0\n",
            "        MaxPool2d-84          [-1, 480, 14, 14]               0\n",
            "           Conv2d-85           [-1, 64, 14, 14]          30,784\n",
            "      BatchNorm2d-86           [-1, 64, 14, 14]             128\n",
            "             ReLU-87           [-1, 64, 14, 14]               0\n",
            "        ConvBlock-88           [-1, 64, 14, 14]               0\n",
            "   InceptionBlock-89          [-1, 512, 14, 14]               0\n",
            "           Conv2d-90          [-1, 160, 14, 14]          82,080\n",
            "      BatchNorm2d-91          [-1, 160, 14, 14]             320\n",
            "             ReLU-92          [-1, 160, 14, 14]               0\n",
            "        ConvBlock-93          [-1, 160, 14, 14]               0\n",
            "           Conv2d-94          [-1, 112, 14, 14]          57,456\n",
            "      BatchNorm2d-95          [-1, 112, 14, 14]             224\n",
            "             ReLU-96          [-1, 112, 14, 14]               0\n",
            "        ConvBlock-97          [-1, 112, 14, 14]               0\n",
            "           Conv2d-98          [-1, 224, 14, 14]         226,016\n",
            "      BatchNorm2d-99          [-1, 224, 14, 14]             448\n",
            "            ReLU-100          [-1, 224, 14, 14]               0\n",
            "       ConvBlock-101          [-1, 224, 14, 14]               0\n",
            "          Conv2d-102           [-1, 24, 14, 14]          12,312\n",
            "     BatchNorm2d-103           [-1, 24, 14, 14]              48\n",
            "            ReLU-104           [-1, 24, 14, 14]               0\n",
            "       ConvBlock-105           [-1, 24, 14, 14]               0\n",
            "          Conv2d-106           [-1, 64, 14, 14]          38,464\n",
            "     BatchNorm2d-107           [-1, 64, 14, 14]             128\n",
            "            ReLU-108           [-1, 64, 14, 14]               0\n",
            "       ConvBlock-109           [-1, 64, 14, 14]               0\n",
            "       MaxPool2d-110          [-1, 512, 14, 14]               0\n",
            "          Conv2d-111           [-1, 64, 14, 14]          32,832\n",
            "     BatchNorm2d-112           [-1, 64, 14, 14]             128\n",
            "            ReLU-113           [-1, 64, 14, 14]               0\n",
            "       ConvBlock-114           [-1, 64, 14, 14]               0\n",
            "  InceptionBlock-115          [-1, 512, 14, 14]               0\n",
            "          Conv2d-116          [-1, 128, 14, 14]          65,664\n",
            "     BatchNorm2d-117          [-1, 128, 14, 14]             256\n",
            "            ReLU-118          [-1, 128, 14, 14]               0\n",
            "       ConvBlock-119          [-1, 128, 14, 14]               0\n",
            "          Conv2d-120          [-1, 128, 14, 14]          65,664\n",
            "     BatchNorm2d-121          [-1, 128, 14, 14]             256\n",
            "            ReLU-122          [-1, 128, 14, 14]               0\n",
            "       ConvBlock-123          [-1, 128, 14, 14]               0\n",
            "          Conv2d-124          [-1, 256, 14, 14]         295,168\n",
            "     BatchNorm2d-125          [-1, 256, 14, 14]             512\n",
            "            ReLU-126          [-1, 256, 14, 14]               0\n",
            "       ConvBlock-127          [-1, 256, 14, 14]               0\n",
            "          Conv2d-128           [-1, 24, 14, 14]          12,312\n",
            "     BatchNorm2d-129           [-1, 24, 14, 14]              48\n",
            "            ReLU-130           [-1, 24, 14, 14]               0\n",
            "       ConvBlock-131           [-1, 24, 14, 14]               0\n",
            "          Conv2d-132           [-1, 64, 14, 14]          38,464\n",
            "     BatchNorm2d-133           [-1, 64, 14, 14]             128\n",
            "            ReLU-134           [-1, 64, 14, 14]               0\n",
            "       ConvBlock-135           [-1, 64, 14, 14]               0\n",
            "       MaxPool2d-136          [-1, 512, 14, 14]               0\n",
            "          Conv2d-137           [-1, 64, 14, 14]          32,832\n",
            "     BatchNorm2d-138           [-1, 64, 14, 14]             128\n",
            "            ReLU-139           [-1, 64, 14, 14]               0\n",
            "       ConvBlock-140           [-1, 64, 14, 14]               0\n",
            "  InceptionBlock-141          [-1, 512, 14, 14]               0\n",
            "          Conv2d-142          [-1, 112, 14, 14]          57,456\n",
            "     BatchNorm2d-143          [-1, 112, 14, 14]             224\n",
            "            ReLU-144          [-1, 112, 14, 14]               0\n",
            "       ConvBlock-145          [-1, 112, 14, 14]               0\n",
            "          Conv2d-146          [-1, 144, 14, 14]          73,872\n",
            "     BatchNorm2d-147          [-1, 144, 14, 14]             288\n",
            "            ReLU-148          [-1, 144, 14, 14]               0\n",
            "       ConvBlock-149          [-1, 144, 14, 14]               0\n",
            "          Conv2d-150          [-1, 288, 14, 14]         373,536\n",
            "     BatchNorm2d-151          [-1, 288, 14, 14]             576\n",
            "            ReLU-152          [-1, 288, 14, 14]               0\n",
            "       ConvBlock-153          [-1, 288, 14, 14]               0\n",
            "          Conv2d-154           [-1, 32, 14, 14]          16,416\n",
            "     BatchNorm2d-155           [-1, 32, 14, 14]              64\n",
            "            ReLU-156           [-1, 32, 14, 14]               0\n",
            "       ConvBlock-157           [-1, 32, 14, 14]               0\n",
            "          Conv2d-158           [-1, 64, 14, 14]          51,264\n",
            "     BatchNorm2d-159           [-1, 64, 14, 14]             128\n",
            "            ReLU-160           [-1, 64, 14, 14]               0\n",
            "       ConvBlock-161           [-1, 64, 14, 14]               0\n",
            "       MaxPool2d-162          [-1, 512, 14, 14]               0\n",
            "          Conv2d-163           [-1, 64, 14, 14]          32,832\n",
            "     BatchNorm2d-164           [-1, 64, 14, 14]             128\n",
            "            ReLU-165           [-1, 64, 14, 14]               0\n",
            "       ConvBlock-166           [-1, 64, 14, 14]               0\n",
            "  InceptionBlock-167          [-1, 528, 14, 14]               0\n",
            "          Conv2d-168          [-1, 256, 14, 14]         135,424\n",
            "     BatchNorm2d-169          [-1, 256, 14, 14]             512\n",
            "            ReLU-170          [-1, 256, 14, 14]               0\n",
            "       ConvBlock-171          [-1, 256, 14, 14]               0\n",
            "          Conv2d-172          [-1, 160, 14, 14]          84,640\n",
            "     BatchNorm2d-173          [-1, 160, 14, 14]             320\n",
            "            ReLU-174          [-1, 160, 14, 14]               0\n",
            "       ConvBlock-175          [-1, 160, 14, 14]               0\n",
            "          Conv2d-176          [-1, 320, 14, 14]         461,120\n",
            "     BatchNorm2d-177          [-1, 320, 14, 14]             640\n",
            "            ReLU-178          [-1, 320, 14, 14]               0\n",
            "       ConvBlock-179          [-1, 320, 14, 14]               0\n",
            "          Conv2d-180           [-1, 32, 14, 14]          16,928\n",
            "     BatchNorm2d-181           [-1, 32, 14, 14]              64\n",
            "            ReLU-182           [-1, 32, 14, 14]               0\n",
            "       ConvBlock-183           [-1, 32, 14, 14]               0\n",
            "          Conv2d-184          [-1, 128, 14, 14]         102,528\n",
            "     BatchNorm2d-185          [-1, 128, 14, 14]             256\n",
            "            ReLU-186          [-1, 128, 14, 14]               0\n",
            "       ConvBlock-187          [-1, 128, 14, 14]               0\n",
            "       MaxPool2d-188          [-1, 528, 14, 14]               0\n",
            "          Conv2d-189          [-1, 128, 14, 14]          67,712\n",
            "     BatchNorm2d-190          [-1, 128, 14, 14]             256\n",
            "            ReLU-191          [-1, 128, 14, 14]               0\n",
            "       ConvBlock-192          [-1, 128, 14, 14]               0\n",
            "  InceptionBlock-193          [-1, 832, 14, 14]               0\n",
            "       MaxPool2d-194            [-1, 832, 7, 7]               0\n",
            "          Conv2d-195            [-1, 256, 7, 7]         213,248\n",
            "     BatchNorm2d-196            [-1, 256, 7, 7]             512\n",
            "            ReLU-197            [-1, 256, 7, 7]               0\n",
            "       ConvBlock-198            [-1, 256, 7, 7]               0\n",
            "          Conv2d-199            [-1, 160, 7, 7]         133,280\n",
            "     BatchNorm2d-200            [-1, 160, 7, 7]             320\n",
            "            ReLU-201            [-1, 160, 7, 7]               0\n",
            "       ConvBlock-202            [-1, 160, 7, 7]               0\n",
            "          Conv2d-203            [-1, 320, 7, 7]         461,120\n",
            "     BatchNorm2d-204            [-1, 320, 7, 7]             640\n",
            "            ReLU-205            [-1, 320, 7, 7]               0\n",
            "       ConvBlock-206            [-1, 320, 7, 7]               0\n",
            "          Conv2d-207             [-1, 32, 7, 7]          26,656\n",
            "     BatchNorm2d-208             [-1, 32, 7, 7]              64\n",
            "            ReLU-209             [-1, 32, 7, 7]               0\n",
            "       ConvBlock-210             [-1, 32, 7, 7]               0\n",
            "          Conv2d-211            [-1, 128, 7, 7]         102,528\n",
            "     BatchNorm2d-212            [-1, 128, 7, 7]             256\n",
            "            ReLU-213            [-1, 128, 7, 7]               0\n",
            "       ConvBlock-214            [-1, 128, 7, 7]               0\n",
            "       MaxPool2d-215            [-1, 832, 7, 7]               0\n",
            "          Conv2d-216            [-1, 128, 7, 7]         106,624\n",
            "     BatchNorm2d-217            [-1, 128, 7, 7]             256\n",
            "            ReLU-218            [-1, 128, 7, 7]               0\n",
            "       ConvBlock-219            [-1, 128, 7, 7]               0\n",
            "  InceptionBlock-220            [-1, 832, 7, 7]               0\n",
            "          Conv2d-221            [-1, 384, 7, 7]         319,872\n",
            "     BatchNorm2d-222            [-1, 384, 7, 7]             768\n",
            "            ReLU-223            [-1, 384, 7, 7]               0\n",
            "       ConvBlock-224            [-1, 384, 7, 7]               0\n",
            "          Conv2d-225            [-1, 192, 7, 7]         159,936\n",
            "     BatchNorm2d-226            [-1, 192, 7, 7]             384\n",
            "            ReLU-227            [-1, 192, 7, 7]               0\n",
            "       ConvBlock-228            [-1, 192, 7, 7]               0\n",
            "          Conv2d-229            [-1, 384, 7, 7]         663,936\n",
            "     BatchNorm2d-230            [-1, 384, 7, 7]             768\n",
            "            ReLU-231            [-1, 384, 7, 7]               0\n",
            "       ConvBlock-232            [-1, 384, 7, 7]               0\n",
            "          Conv2d-233             [-1, 48, 7, 7]          39,984\n",
            "     BatchNorm2d-234             [-1, 48, 7, 7]              96\n",
            "            ReLU-235             [-1, 48, 7, 7]               0\n",
            "       ConvBlock-236             [-1, 48, 7, 7]               0\n",
            "          Conv2d-237            [-1, 128, 7, 7]         153,728\n",
            "     BatchNorm2d-238            [-1, 128, 7, 7]             256\n",
            "            ReLU-239            [-1, 128, 7, 7]               0\n",
            "       ConvBlock-240            [-1, 128, 7, 7]               0\n",
            "       MaxPool2d-241            [-1, 832, 7, 7]               0\n",
            "          Conv2d-242            [-1, 128, 7, 7]         106,624\n",
            "     BatchNorm2d-243            [-1, 128, 7, 7]             256\n",
            "            ReLU-244            [-1, 128, 7, 7]               0\n",
            "       ConvBlock-245            [-1, 128, 7, 7]               0\n",
            "  InceptionBlock-246           [-1, 1024, 7, 7]               0\n",
            "       AvgPool2d-247           [-1, 1024, 1, 1]               0\n",
            "         Dropout-248                 [-1, 1024]               0\n",
            "          Linear-249                [-1, 10000]      10,250,000\n",
            "================================================================\n",
            "Total params: 16,233,824\n",
            "Trainable params: 16,233,824\n",
            "Non-trainable params: 0\n",
            "----------------------------------------------------------------\n",
            "Input size (MB): 0.57\n",
            "Forward/backward pass size (MB): 112.66\n",
            "Params size (MB): 61.93\n",
            "Estimated Total Size (MB): 175.16\n",
            "----------------------------------------------------------------\n"
          ],
          "name": "stdout"
        }
      ]
    },
    {
      "cell_type": "code",
      "metadata": {
        "id": "EbkK7RgWGkOZ"
      },
      "source": [
        ""
      ],
      "execution_count": null,
      "outputs": []
    }
  ]
}